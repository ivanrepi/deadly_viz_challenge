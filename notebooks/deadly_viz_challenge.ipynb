{
 "cells": [
  {
   "cell_type": "markdown",
   "source": [
    "# Deadly Visualizations!!!\n",
    "\n",
    "![Image](../images/viz_types_portada.png)"
   ],
   "metadata": {}
  },
  {
   "cell_type": "markdown",
   "source": [
    "## Setup\n",
    "\n",
    "First we need to create a basic setup which includes:\n",
    "\n",
    "- Importing the libraries.\n",
    "\n",
    "- Reading the dataset file (source [Instituto Nacional de Estadística](https://www.ine.es/ss/Satellite?L=es_ES&c=Page&cid=1259942408928&p=1259942408928&pagename=ProductosYServicios%2FPYSLayout)).\n",
    "\n",
    "- Create a couple of columns and tables for the analysis.\n",
    "\n",
    "__NOTE:__ some functions were already created in order to help you go through the challenge. However, feel free to perform any code you might need."
   ],
   "metadata": {}
  },
  {
   "cell_type": "code",
   "execution_count": 2,
   "source": [
    "# some imports\n",
    "\n",
    "import sys\n",
    "sys.path.insert(0, \"../modules\")\n",
    "import pandas as pd\n",
    "import cufflinks as cf\n",
    "import plotly.express as px\n",
    "import re\n",
    "import module as mod # functions are include in module.py.\n",
    "cf.go_offline()"
   ],
   "outputs": [
    {
     "output_type": "display_data",
     "data": {
      "text/html": [
       "        <script type=\"text/javascript\">\n",
       "        window.PlotlyConfig = {MathJaxConfig: 'local'};\n",
       "        if (window.MathJax) {MathJax.Hub.Config({SVG: {font: \"STIX-Web\"}});}\n",
       "        if (typeof require !== 'undefined') {\n",
       "        require.undef(\"plotly\");\n",
       "        requirejs.config({\n",
       "            paths: {\n",
       "                'plotly': ['https://cdn.plot.ly/plotly-2.8.3.min']\n",
       "            }\n",
       "        });\n",
       "        require(['plotly'], function(Plotly) {\n",
       "            window._Plotly = Plotly;\n",
       "        });\n",
       "        }\n",
       "        </script>\n",
       "        "
      ]
     },
     "metadata": {}
    }
   ],
   "metadata": {}
  },
  {
   "cell_type": "code",
   "execution_count": 3,
   "source": [
    "# read dataset\n",
    "\n",
    "deaths = pd.read_csv('../data/7947.csv', sep=';', thousands='.')\n",
    "\n",
    "deaths.info()"
   ],
   "outputs": [
    {
     "output_type": "stream",
     "name": "stdout",
     "text": [
      "<class 'pandas.core.frame.DataFrame'>\n",
      "RangeIndex: 301158 entries, 0 to 301157\n",
      "Data columns (total 5 columns):\n",
      " #   Column           Non-Null Count   Dtype \n",
      "---  ------           --------------   ----- \n",
      " 0   Causa de muerte  301158 non-null  object\n",
      " 1   Sexo             301158 non-null  object\n",
      " 2   Edad             301158 non-null  object\n",
      " 3   Periodo          301158 non-null  int64 \n",
      " 4   Total            301158 non-null  int64 \n",
      "dtypes: int64(2), object(3)\n",
      "memory usage: 11.5+ MB\n"
     ]
    }
   ],
   "metadata": {}
  },
  {
   "cell_type": "code",
   "execution_count": 9,
   "source": [
    "# add some columns...you'll need them later\n",
    "\n",
    "deaths['cause_code'] = deaths['Causa de muerte'].apply(mod.cause_code)\n",
    "deaths['cause_group'] = deaths['Causa de muerte'].apply(mod.cause_types)\n",
    "deaths['cause_name'] = deaths['Causa de muerte'].apply(mod.cause_name)\n",
    "\n",
    "deaths.info()"
   ],
   "outputs": [
    {
     "output_type": "stream",
     "name": "stdout",
     "text": [
      "<class 'pandas.core.frame.DataFrame'>\n",
      "RangeIndex: 301158 entries, 0 to 301157\n",
      "Data columns (total 8 columns):\n",
      " #   Column           Non-Null Count   Dtype \n",
      "---  ------           --------------   ----- \n",
      " 0   Causa de muerte  301158 non-null  object\n",
      " 1   Sexo             301158 non-null  object\n",
      " 2   Edad             301158 non-null  object\n",
      " 3   Periodo          301158 non-null  int64 \n",
      " 4   Total            301158 non-null  int64 \n",
      " 5   cause_code       301158 non-null  object\n",
      " 6   cause_group      301158 non-null  object\n",
      " 7   cause_name       301158 non-null  object\n",
      "dtypes: int64(2), object(6)\n",
      "memory usage: 18.4+ MB\n"
     ]
    }
   ],
   "metadata": {}
  },
  {
   "cell_type": "code",
   "execution_count": 10,
   "source": [
    "# lets check the categorical variables\n",
    "\n",
    "var_list = ['Sexo', 'Edad', 'Periodo', 'cause_code', 'cause_name', 'cause_group']\n",
    "\n",
    "categories = mod.cat_var(deaths, var_list)\n",
    "categories"
   ],
   "outputs": [
    {
     "output_type": "execute_result",
     "data": {
      "text/html": [
       "<div>\n",
       "<style scoped>\n",
       "    .dataframe tbody tr th:only-of-type {\n",
       "        vertical-align: middle;\n",
       "    }\n",
       "\n",
       "    .dataframe tbody tr th {\n",
       "        vertical-align: top;\n",
       "    }\n",
       "\n",
       "    .dataframe thead th {\n",
       "        text-align: right;\n",
       "    }\n",
       "</style>\n",
       "<table border=\"1\" class=\"dataframe\">\n",
       "  <thead>\n",
       "    <tr style=\"text-align: right;\">\n",
       "      <th></th>\n",
       "      <th>categorical_variable</th>\n",
       "      <th>number_of_possible_values</th>\n",
       "      <th>values</th>\n",
       "    </tr>\n",
       "  </thead>\n",
       "  <tbody>\n",
       "    <tr>\n",
       "      <th>0</th>\n",
       "      <td>cause_code</td>\n",
       "      <td>117</td>\n",
       "      <td>[001-102, 001-008, 001, 002, 003, 004, 005, 00...</td>\n",
       "    </tr>\n",
       "    <tr>\n",
       "      <th>1</th>\n",
       "      <td>cause_name</td>\n",
       "      <td>117</td>\n",
       "      <td>[I-XXII.Todas las causas, I.Enfermedades infec...</td>\n",
       "    </tr>\n",
       "    <tr>\n",
       "      <th>2</th>\n",
       "      <td>Periodo</td>\n",
       "      <td>39</td>\n",
       "      <td>[2018, 2017, 2016, 2015, 2014, 2013, 2012, 201...</td>\n",
       "    </tr>\n",
       "    <tr>\n",
       "      <th>3</th>\n",
       "      <td>Edad</td>\n",
       "      <td>22</td>\n",
       "      <td>[Todas las edades, Menos de 1 año, De 1 a 4 añ...</td>\n",
       "    </tr>\n",
       "    <tr>\n",
       "      <th>4</th>\n",
       "      <td>Sexo</td>\n",
       "      <td>3</td>\n",
       "      <td>[Total, Hombres, Mujeres]</td>\n",
       "    </tr>\n",
       "    <tr>\n",
       "      <th>5</th>\n",
       "      <td>cause_group</td>\n",
       "      <td>2</td>\n",
       "      <td>[Multiple causes, Single cause]</td>\n",
       "    </tr>\n",
       "  </tbody>\n",
       "</table>\n",
       "</div>"
      ],
      "text/plain": [
       "  categorical_variable  number_of_possible_values  \\\n",
       "0           cause_code                        117   \n",
       "1           cause_name                        117   \n",
       "2              Periodo                         39   \n",
       "3                 Edad                         22   \n",
       "4                 Sexo                          3   \n",
       "5          cause_group                          2   \n",
       "\n",
       "                                              values  \n",
       "0  [001-102, 001-008, 001, 002, 003, 004, 005, 00...  \n",
       "1  [I-XXII.Todas las causas, I.Enfermedades infec...  \n",
       "2  [2018, 2017, 2016, 2015, 2014, 2013, 2012, 201...  \n",
       "3  [Todas las edades, Menos de 1 año, De 1 a 4 añ...  \n",
       "4                          [Total, Hombres, Mujeres]  \n",
       "5                    [Multiple causes, Single cause]  "
      ]
     },
     "metadata": {},
     "execution_count": 10
    }
   ],
   "metadata": {}
  },
  {
   "cell_type": "code",
   "execution_count": 42,
   "source": [
    "# we need also to create a causes table for the analysis\n",
    "\n",
    "causes_table = deaths[['cause_code', 'cause_name']].drop_duplicates().sort_values(by='cause_code').reset_index(drop=True)\n",
    "\n",
    "causes_table"
   ],
   "outputs": [
    {
     "output_type": "execute_result",
     "data": {
      "text/html": [
       "<div>\n",
       "<style scoped>\n",
       "    .dataframe tbody tr th:only-of-type {\n",
       "        vertical-align: middle;\n",
       "    }\n",
       "\n",
       "    .dataframe tbody tr th {\n",
       "        vertical-align: top;\n",
       "    }\n",
       "\n",
       "    .dataframe thead th {\n",
       "        text-align: right;\n",
       "    }\n",
       "</style>\n",
       "<table border=\"1\" class=\"dataframe\">\n",
       "  <thead>\n",
       "    <tr style=\"text-align: right;\">\n",
       "      <th></th>\n",
       "      <th>cause_code</th>\n",
       "      <th>cause_name</th>\n",
       "    </tr>\n",
       "  </thead>\n",
       "  <tbody>\n",
       "    <tr>\n",
       "      <th>0</th>\n",
       "      <td>001</td>\n",
       "      <td>Enfermedades infecciosas intestinales</td>\n",
       "    </tr>\n",
       "    <tr>\n",
       "      <th>1</th>\n",
       "      <td>001-008</td>\n",
       "      <td>I.Enfermedades infecciosas y parasitarias</td>\n",
       "    </tr>\n",
       "    <tr>\n",
       "      <th>2</th>\n",
       "      <td>001-102</td>\n",
       "      <td>I-XXII.Todas las causas</td>\n",
       "    </tr>\n",
       "    <tr>\n",
       "      <th>3</th>\n",
       "      <td>002</td>\n",
       "      <td>Tuberculosis y sus efectos tardíos</td>\n",
       "    </tr>\n",
       "    <tr>\n",
       "      <th>4</th>\n",
       "      <td>003</td>\n",
       "      <td>Enfermedad meningocócica</td>\n",
       "    </tr>\n",
       "    <tr>\n",
       "      <th>...</th>\n",
       "      <td>...</td>\n",
       "      <td>...</td>\n",
       "    </tr>\n",
       "    <tr>\n",
       "      <th>112</th>\n",
       "      <td>098</td>\n",
       "      <td>Suicidio y lesiones autoinfligidas</td>\n",
       "    </tr>\n",
       "    <tr>\n",
       "      <th>113</th>\n",
       "      <td>099</td>\n",
       "      <td>Agresiones (homicidio)</td>\n",
       "    </tr>\n",
       "    <tr>\n",
       "      <th>114</th>\n",
       "      <td>100</td>\n",
       "      <td>Eventos de intención no determinada</td>\n",
       "    </tr>\n",
       "    <tr>\n",
       "      <th>115</th>\n",
       "      <td>101</td>\n",
       "      <td>Complicaciones de la atención médica y quirúrgica</td>\n",
       "    </tr>\n",
       "    <tr>\n",
       "      <th>116</th>\n",
       "      <td>102</td>\n",
       "      <td>Otras causas externas y sus efectos tardíos</td>\n",
       "    </tr>\n",
       "  </tbody>\n",
       "</table>\n",
       "<p>117 rows × 2 columns</p>\n",
       "</div>"
      ],
      "text/plain": [
       "    cause_code                                         cause_name\n",
       "0          001              Enfermedades infecciosas intestinales\n",
       "1      001-008          I.Enfermedades infecciosas y parasitarias\n",
       "2      001-102                            I-XXII.Todas las causas\n",
       "3          002                 Tuberculosis y sus efectos tardíos\n",
       "4          003                           Enfermedad meningocócica\n",
       "..         ...                                                ...\n",
       "112        098                 Suicidio y lesiones autoinfligidas\n",
       "113        099                             Agresiones (homicidio)\n",
       "114        100                Eventos de intención no determinada\n",
       "115        101  Complicaciones de la atención médica y quirúrgica\n",
       "116        102        Otras causas externas y sus efectos tardíos\n",
       "\n",
       "[117 rows x 2 columns]"
      ]
     },
     "metadata": {},
     "execution_count": 42
    }
   ],
   "metadata": {}
  },
  {
   "cell_type": "code",
   "execution_count": null,
   "source": [
    "# And some space for free-style Pandas!!! (e.g.: df['column_name'].unique())\n",
    "\n",
    "#048: Drogas\n",
    "#099: Homicidios"
   ],
   "outputs": [],
   "metadata": {}
  },
  {
   "cell_type": "markdown",
   "source": [
    "## Lets make some transformations\n",
    "\n",
    "Eventhough the dataset is pretty clean, the information is completely denormalized as you could see. For that matter a collection of methods (functions) are available in order to generate the tables you might need:\n",
    "\n",
    "- `row_filter(df, cat_var, cat_values)` => Filter rows by any value or group of values in a categorical variable.\n",
    "\n",
    "- `nrow_filter(df, cat_var, cat_values)` => The same but backwards. \n",
    "\n",
    "- `groupby_sum(df, group_vars, agg_var='Total', sort_var='Total')` => Add deaths by a certain variable.\n",
    "\n",
    "- `pivot_table(df, col, x_axis, value='Total')`=> Make some pivot tables, you might need them...\n",
    "\n",
    "__NOTE:__ be aware that the filtering methods can perform a filter at a time. Feel free to perform the filter you need in any way you want or feel confortable with."
   ],
   "metadata": {}
  },
  {
   "cell_type": "code",
   "execution_count": 154,
   "source": [
    "# Example 1\n",
    "\n",
    "dataset_sexo = mod.row_filter(deaths, 'Sexo', ['Hombres','Mujeres']) #Nos qudamos con hombres y mujeres, quitando el total\n",
    "dataset_sexo = mod.row_filter(dataset_sexo, 'Edad', ['Todas las edades']) #Nos quedamos con todas las edades.\n",
    "dataset_sexo = mod.nrow_filter(dataset_sexo, 'cause_name', ['I-XXII.Todas las causas']) #Quitamos todas las causas del motivo de la muerte\n",
    "dataset_sexo\n"
   ],
   "outputs": [
    {
     "output_type": "execute_result",
     "data": {
      "text/html": [
       "<div>\n",
       "<style scoped>\n",
       "    .dataframe tbody tr th:only-of-type {\n",
       "        vertical-align: middle;\n",
       "    }\n",
       "\n",
       "    .dataframe tbody tr th {\n",
       "        vertical-align: top;\n",
       "    }\n",
       "\n",
       "    .dataframe thead th {\n",
       "        text-align: right;\n",
       "    }\n",
       "</style>\n",
       "<table border=\"1\" class=\"dataframe\">\n",
       "  <thead>\n",
       "    <tr style=\"text-align: right;\">\n",
       "      <th></th>\n",
       "      <th>Causa de muerte</th>\n",
       "      <th>Sexo</th>\n",
       "      <th>Edad</th>\n",
       "      <th>Periodo</th>\n",
       "      <th>Total</th>\n",
       "      <th>cause_code</th>\n",
       "      <th>cause_group</th>\n",
       "      <th>cause_name</th>\n",
       "    </tr>\n",
       "  </thead>\n",
       "  <tbody>\n",
       "    <tr>\n",
       "      <th>0</th>\n",
       "      <td>053-061 IX.Enfermedades del sistema circulatorio</td>\n",
       "      <td>Mujeres</td>\n",
       "      <td>Todas las edades</td>\n",
       "      <td>1991</td>\n",
       "      <td>72519</td>\n",
       "      <td>053-061</td>\n",
       "      <td>Multiple causes</td>\n",
       "      <td>IX.Enfermedades del sistema circulatorio</td>\n",
       "    </tr>\n",
       "    <tr>\n",
       "      <th>1</th>\n",
       "      <td>053-061 IX.Enfermedades del sistema circulatorio</td>\n",
       "      <td>Mujeres</td>\n",
       "      <td>Todas las edades</td>\n",
       "      <td>1998</td>\n",
       "      <td>71916</td>\n",
       "      <td>053-061</td>\n",
       "      <td>Multiple causes</td>\n",
       "      <td>IX.Enfermedades del sistema circulatorio</td>\n",
       "    </tr>\n",
       "    <tr>\n",
       "      <th>2</th>\n",
       "      <td>053-061 IX.Enfermedades del sistema circulatorio</td>\n",
       "      <td>Mujeres</td>\n",
       "      <td>Todas las edades</td>\n",
       "      <td>1999</td>\n",
       "      <td>71792</td>\n",
       "      <td>053-061</td>\n",
       "      <td>Multiple causes</td>\n",
       "      <td>IX.Enfermedades del sistema circulatorio</td>\n",
       "    </tr>\n",
       "    <tr>\n",
       "      <th>3</th>\n",
       "      <td>053-061 IX.Enfermedades del sistema circulatorio</td>\n",
       "      <td>Mujeres</td>\n",
       "      <td>Todas las edades</td>\n",
       "      <td>1993</td>\n",
       "      <td>71581</td>\n",
       "      <td>053-061</td>\n",
       "      <td>Multiple causes</td>\n",
       "      <td>IX.Enfermedades del sistema circulatorio</td>\n",
       "    </tr>\n",
       "    <tr>\n",
       "      <th>4</th>\n",
       "      <td>053-061 IX.Enfermedades del sistema circulatorio</td>\n",
       "      <td>Mujeres</td>\n",
       "      <td>Todas las edades</td>\n",
       "      <td>1990</td>\n",
       "      <td>71094</td>\n",
       "      <td>053-061</td>\n",
       "      <td>Multiple causes</td>\n",
       "      <td>IX.Enfermedades del sistema circulatorio</td>\n",
       "    </tr>\n",
       "    <tr>\n",
       "      <th>...</th>\n",
       "      <td>...</td>\n",
       "      <td>...</td>\n",
       "      <td>...</td>\n",
       "      <td>...</td>\n",
       "      <td>...</td>\n",
       "      <td>...</td>\n",
       "      <td>...</td>\n",
       "      <td>...</td>\n",
       "    </tr>\n",
       "    <tr>\n",
       "      <th>9043</th>\n",
       "      <td>078  Enfermedades de los órganos genitales mas...</td>\n",
       "      <td>Mujeres</td>\n",
       "      <td>Todas las edades</td>\n",
       "      <td>2009</td>\n",
       "      <td>0</td>\n",
       "      <td>078</td>\n",
       "      <td>Single cause</td>\n",
       "      <td>Enfermedades de los órganos genitales masculinos</td>\n",
       "    </tr>\n",
       "    <tr>\n",
       "      <th>9044</th>\n",
       "      <td>078  Enfermedades de los órganos genitales mas...</td>\n",
       "      <td>Mujeres</td>\n",
       "      <td>Todas las edades</td>\n",
       "      <td>2008</td>\n",
       "      <td>0</td>\n",
       "      <td>078</td>\n",
       "      <td>Single cause</td>\n",
       "      <td>Enfermedades de los órganos genitales masculinos</td>\n",
       "    </tr>\n",
       "    <tr>\n",
       "      <th>9045</th>\n",
       "      <td>078  Enfermedades de los órganos genitales mas...</td>\n",
       "      <td>Mujeres</td>\n",
       "      <td>Todas las edades</td>\n",
       "      <td>2018</td>\n",
       "      <td>0</td>\n",
       "      <td>078</td>\n",
       "      <td>Single cause</td>\n",
       "      <td>Enfermedades de los órganos genitales masculinos</td>\n",
       "    </tr>\n",
       "    <tr>\n",
       "      <th>9046</th>\n",
       "      <td>078  Enfermedades de los órganos genitales mas...</td>\n",
       "      <td>Mujeres</td>\n",
       "      <td>Todas las edades</td>\n",
       "      <td>1988</td>\n",
       "      <td>0</td>\n",
       "      <td>078</td>\n",
       "      <td>Single cause</td>\n",
       "      <td>Enfermedades de los órganos genitales masculinos</td>\n",
       "    </tr>\n",
       "    <tr>\n",
       "      <th>9047</th>\n",
       "      <td>078  Enfermedades de los órganos genitales mas...</td>\n",
       "      <td>Mujeres</td>\n",
       "      <td>Todas las edades</td>\n",
       "      <td>2007</td>\n",
       "      <td>0</td>\n",
       "      <td>078</td>\n",
       "      <td>Single cause</td>\n",
       "      <td>Enfermedades de los órganos genitales masculinos</td>\n",
       "    </tr>\n",
       "  </tbody>\n",
       "</table>\n",
       "<p>9048 rows × 8 columns</p>\n",
       "</div>"
      ],
      "text/plain": [
       "                                        Causa de muerte     Sexo  \\\n",
       "0      053-061 IX.Enfermedades del sistema circulatorio  Mujeres   \n",
       "1      053-061 IX.Enfermedades del sistema circulatorio  Mujeres   \n",
       "2      053-061 IX.Enfermedades del sistema circulatorio  Mujeres   \n",
       "3      053-061 IX.Enfermedades del sistema circulatorio  Mujeres   \n",
       "4      053-061 IX.Enfermedades del sistema circulatorio  Mujeres   \n",
       "...                                                 ...      ...   \n",
       "9043  078  Enfermedades de los órganos genitales mas...  Mujeres   \n",
       "9044  078  Enfermedades de los órganos genitales mas...  Mujeres   \n",
       "9045  078  Enfermedades de los órganos genitales mas...  Mujeres   \n",
       "9046  078  Enfermedades de los órganos genitales mas...  Mujeres   \n",
       "9047  078  Enfermedades de los órganos genitales mas...  Mujeres   \n",
       "\n",
       "                  Edad  Periodo  Total cause_code      cause_group  \\\n",
       "0     Todas las edades     1991  72519    053-061  Multiple causes   \n",
       "1     Todas las edades     1998  71916    053-061  Multiple causes   \n",
       "2     Todas las edades     1999  71792    053-061  Multiple causes   \n",
       "3     Todas las edades     1993  71581    053-061  Multiple causes   \n",
       "4     Todas las edades     1990  71094    053-061  Multiple causes   \n",
       "...                ...      ...    ...        ...              ...   \n",
       "9043  Todas las edades     2009      0        078     Single cause   \n",
       "9044  Todas las edades     2008      0        078     Single cause   \n",
       "9045  Todas las edades     2018      0        078     Single cause   \n",
       "9046  Todas las edades     1988      0        078     Single cause   \n",
       "9047  Todas las edades     2007      0        078     Single cause   \n",
       "\n",
       "                                            cause_name  \n",
       "0             IX.Enfermedades del sistema circulatorio  \n",
       "1             IX.Enfermedades del sistema circulatorio  \n",
       "2             IX.Enfermedades del sistema circulatorio  \n",
       "3             IX.Enfermedades del sistema circulatorio  \n",
       "4             IX.Enfermedades del sistema circulatorio  \n",
       "...                                                ...  \n",
       "9043  Enfermedades de los órganos genitales masculinos  \n",
       "9044  Enfermedades de los órganos genitales masculinos  \n",
       "9045  Enfermedades de los órganos genitales masculinos  \n",
       "9046  Enfermedades de los órganos genitales masculinos  \n",
       "9047  Enfermedades de los órganos genitales masculinos  \n",
       "\n",
       "[9048 rows x 8 columns]"
      ]
     },
     "metadata": {},
     "execution_count": 154
    }
   ],
   "metadata": {}
  },
  {
   "cell_type": "code",
   "execution_count": 180,
   "source": [
    "dataset_sexo_sorted=dataset_sexo.sort_values('Total').groupby(['Periodo','Sexo']).tail(1) #Nos quedamos con la linea con el total mas grande (la última)\n",
    "dataset_sexo_periodo=dataset_sexo_sorted.sort_values('Periodo', ascending=True)#Ordenamos la tabla por período\n",
    "dataset_sexo_periodo.head()"
   ],
   "outputs": [
    {
     "output_type": "execute_result",
     "data": {
      "text/html": [
       "<div>\n",
       "<style scoped>\n",
       "    .dataframe tbody tr th:only-of-type {\n",
       "        vertical-align: middle;\n",
       "    }\n",
       "\n",
       "    .dataframe tbody tr th {\n",
       "        vertical-align: top;\n",
       "    }\n",
       "\n",
       "    .dataframe thead th {\n",
       "        text-align: right;\n",
       "    }\n",
       "</style>\n",
       "<table border=\"1\" class=\"dataframe\">\n",
       "  <thead>\n",
       "    <tr style=\"text-align: right;\">\n",
       "      <th></th>\n",
       "      <th>Causa de muerte</th>\n",
       "      <th>Sexo</th>\n",
       "      <th>Edad</th>\n",
       "      <th>Periodo</th>\n",
       "      <th>Total</th>\n",
       "      <th>cause_code</th>\n",
       "      <th>cause_group</th>\n",
       "      <th>cause_name</th>\n",
       "    </tr>\n",
       "  </thead>\n",
       "  <tbody>\n",
       "    <tr>\n",
       "      <th>36</th>\n",
       "      <td>053-061 IX.Enfermedades del sistema circulatorio</td>\n",
       "      <td>Mujeres</td>\n",
       "      <td>Todas las edades</td>\n",
       "      <td>1980</td>\n",
       "      <td>66766</td>\n",
       "      <td>053-061</td>\n",
       "      <td>Multiple causes</td>\n",
       "      <td>IX.Enfermedades del sistema circulatorio</td>\n",
       "    </tr>\n",
       "    <tr>\n",
       "      <th>65</th>\n",
       "      <td>053-061 IX.Enfermedades del sistema circulatorio</td>\n",
       "      <td>Hombres</td>\n",
       "      <td>Todas las edades</td>\n",
       "      <td>1980</td>\n",
       "      <td>59121</td>\n",
       "      <td>053-061</td>\n",
       "      <td>Multiple causes</td>\n",
       "      <td>IX.Enfermedades del sistema circulatorio</td>\n",
       "    </tr>\n",
       "    <tr>\n",
       "      <th>26</th>\n",
       "      <td>053-061 IX.Enfermedades del sistema circulatorio</td>\n",
       "      <td>Mujeres</td>\n",
       "      <td>Todas las edades</td>\n",
       "      <td>1981</td>\n",
       "      <td>67918</td>\n",
       "      <td>053-061</td>\n",
       "      <td>Multiple causes</td>\n",
       "      <td>IX.Enfermedades del sistema circulatorio</td>\n",
       "    </tr>\n",
       "    <tr>\n",
       "      <th>62</th>\n",
       "      <td>053-061 IX.Enfermedades del sistema circulatorio</td>\n",
       "      <td>Hombres</td>\n",
       "      <td>Todas las edades</td>\n",
       "      <td>1981</td>\n",
       "      <td>59668</td>\n",
       "      <td>053-061</td>\n",
       "      <td>Multiple causes</td>\n",
       "      <td>IX.Enfermedades del sistema circulatorio</td>\n",
       "    </tr>\n",
       "    <tr>\n",
       "      <th>39</th>\n",
       "      <td>053-061 IX.Enfermedades del sistema circulatorio</td>\n",
       "      <td>Mujeres</td>\n",
       "      <td>Todas las edades</td>\n",
       "      <td>1982</td>\n",
       "      <td>66054</td>\n",
       "      <td>053-061</td>\n",
       "      <td>Multiple causes</td>\n",
       "      <td>IX.Enfermedades del sistema circulatorio</td>\n",
       "    </tr>\n",
       "  </tbody>\n",
       "</table>\n",
       "</div>"
      ],
      "text/plain": [
       "                                     Causa de muerte     Sexo  \\\n",
       "36  053-061 IX.Enfermedades del sistema circulatorio  Mujeres   \n",
       "65  053-061 IX.Enfermedades del sistema circulatorio  Hombres   \n",
       "26  053-061 IX.Enfermedades del sistema circulatorio  Mujeres   \n",
       "62  053-061 IX.Enfermedades del sistema circulatorio  Hombres   \n",
       "39  053-061 IX.Enfermedades del sistema circulatorio  Mujeres   \n",
       "\n",
       "                Edad  Periodo  Total cause_code      cause_group  \\\n",
       "36  Todas las edades     1980  66766    053-061  Multiple causes   \n",
       "65  Todas las edades     1980  59121    053-061  Multiple causes   \n",
       "26  Todas las edades     1981  67918    053-061  Multiple causes   \n",
       "62  Todas las edades     1981  59668    053-061  Multiple causes   \n",
       "39  Todas las edades     1982  66054    053-061  Multiple causes   \n",
       "\n",
       "                                  cause_name  \n",
       "36  IX.Enfermedades del sistema circulatorio  \n",
       "65  IX.Enfermedades del sistema circulatorio  \n",
       "26  IX.Enfermedades del sistema circulatorio  \n",
       "62  IX.Enfermedades del sistema circulatorio  \n",
       "39  IX.Enfermedades del sistema circulatorio  "
      ]
     },
     "metadata": {},
     "execution_count": 180
    }
   ],
   "metadata": {}
  },
  {
   "cell_type": "code",
   "execution_count": 197,
   "source": [
    "\n",
    "fig = px.bar(dataset_sexo_periodo, x=\"Periodo\", y=\"Total\", barmode=\"group\", color=\"Sexo\",\n",
    "                            category_orders={\"Sexo\": [\"Hombres\", \"Mujeres\"]})\n",
    "fig"
   ],
   "outputs": [
    {
     "output_type": "display_data",
     "data": {
      "application/vnd.plotly.v1+json": {
       "data": [
        {
         "alignmentgroup": "True",
         "hovertemplate": "Sexo=Hombres<br>Periodo=%{x}<br>Total=%{y}<extra></extra>",
         "legendgroup": "Hombres",
         "marker": {
          "color": "#636efa",
          "pattern": {
           "shape": ""
          }
         },
         "name": "Hombres",
         "offsetgroup": "Hombres",
         "orientation": "v",
         "showlegend": true,
         "textposition": "auto",
         "x": [
          1980,
          1981,
          1982,
          1983,
          1984,
          1985,
          1986,
          1987,
          1988,
          1989,
          1990,
          1991,
          1992,
          1993,
          1994,
          1995,
          1996,
          1997,
          1998,
          1999,
          2000,
          2001,
          2002,
          2003,
          2004,
          2005,
          2006,
          2007,
          2008,
          2009,
          2010,
          2011,
          2012,
          2013,
          2014,
          2015,
          2016,
          2017,
          2018
         ],
         "xaxis": "x",
         "y": [
          59121,
          59668,
          57932,
          60172,
          58834,
          60430,
          58131,
          57547,
          58568,
          58016,
          58130,
          59920,
          58371,
          58898,
          57464,
          58140,
          58723,
          58295,
          59712,
          59982,
          59212,
          61202,
          61106,
          62326,
          62937,
          62664,
          63147,
          64334,
          64358,
          64936,
          66111,
          66991,
          68308,
          67711,
          67278,
          67723,
          68619,
          68508,
          68238
         ],
         "yaxis": "y",
         "type": "bar"
        },
        {
         "alignmentgroup": "True",
         "hovertemplate": "Sexo=Mujeres<br>Periodo=%{x}<br>Total=%{y}<extra></extra>",
         "legendgroup": "Mujeres",
         "marker": {
          "color": "#EF553B",
          "pattern": {
           "shape": ""
          }
         },
         "name": "Mujeres",
         "offsetgroup": "Mujeres",
         "orientation": "v",
         "showlegend": true,
         "textposition": "auto",
         "x": [
          1980,
          1981,
          1982,
          1983,
          1984,
          1985,
          1986,
          1987,
          1988,
          1989,
          1990,
          1991,
          1992,
          1993,
          1994,
          1995,
          1996,
          1997,
          1998,
          1999,
          2000,
          2001,
          2002,
          2003,
          2004,
          2005,
          2006,
          2007,
          2008,
          2009,
          2010,
          2011,
          2012,
          2013,
          2014,
          2015,
          2016,
          2017,
          2018
         ],
         "xaxis": "x",
         "y": [
          66766,
          67918,
          66054,
          70359,
          67970,
          70768,
          69486,
          68735,
          70305,
          70656,
          71094,
          72519,
          70177,
          71581,
          70227,
          70295,
          70842,
          70043,
          71916,
          71792,
          68667,
          67932,
          68739,
          71057,
          67508,
          69165,
          65327,
          67128,
          67052,
          65242,
          64722,
          64492,
          66905,
          63997,
          63812,
          67736,
          64471,
          66286,
          64897
         ],
         "yaxis": "y",
         "type": "bar"
        }
       ],
       "layout": {
        "template": {
         "data": {
          "bar": [
           {
            "error_x": {
             "color": "#2a3f5f"
            },
            "error_y": {
             "color": "#2a3f5f"
            },
            "marker": {
             "line": {
              "color": "#E5ECF6",
              "width": 0.5
             },
             "pattern": {
              "fillmode": "overlay",
              "size": 10,
              "solidity": 0.2
             }
            },
            "type": "bar"
           }
          ],
          "barpolar": [
           {
            "marker": {
             "line": {
              "color": "#E5ECF6",
              "width": 0.5
             },
             "pattern": {
              "fillmode": "overlay",
              "size": 10,
              "solidity": 0.2
             }
            },
            "type": "barpolar"
           }
          ],
          "carpet": [
           {
            "aaxis": {
             "endlinecolor": "#2a3f5f",
             "gridcolor": "white",
             "linecolor": "white",
             "minorgridcolor": "white",
             "startlinecolor": "#2a3f5f"
            },
            "baxis": {
             "endlinecolor": "#2a3f5f",
             "gridcolor": "white",
             "linecolor": "white",
             "minorgridcolor": "white",
             "startlinecolor": "#2a3f5f"
            },
            "type": "carpet"
           }
          ],
          "choropleth": [
           {
            "colorbar": {
             "outlinewidth": 0,
             "ticks": ""
            },
            "type": "choropleth"
           }
          ],
          "contour": [
           {
            "colorbar": {
             "outlinewidth": 0,
             "ticks": ""
            },
            "colorscale": [
             [
              0,
              "#0d0887"
             ],
             [
              0.1111111111111111,
              "#46039f"
             ],
             [
              0.2222222222222222,
              "#7201a8"
             ],
             [
              0.3333333333333333,
              "#9c179e"
             ],
             [
              0.4444444444444444,
              "#bd3786"
             ],
             [
              0.5555555555555556,
              "#d8576b"
             ],
             [
              0.6666666666666666,
              "#ed7953"
             ],
             [
              0.7777777777777778,
              "#fb9f3a"
             ],
             [
              0.8888888888888888,
              "#fdca26"
             ],
             [
              1,
              "#f0f921"
             ]
            ],
            "type": "contour"
           }
          ],
          "contourcarpet": [
           {
            "colorbar": {
             "outlinewidth": 0,
             "ticks": ""
            },
            "type": "contourcarpet"
           }
          ],
          "heatmap": [
           {
            "colorbar": {
             "outlinewidth": 0,
             "ticks": ""
            },
            "colorscale": [
             [
              0,
              "#0d0887"
             ],
             [
              0.1111111111111111,
              "#46039f"
             ],
             [
              0.2222222222222222,
              "#7201a8"
             ],
             [
              0.3333333333333333,
              "#9c179e"
             ],
             [
              0.4444444444444444,
              "#bd3786"
             ],
             [
              0.5555555555555556,
              "#d8576b"
             ],
             [
              0.6666666666666666,
              "#ed7953"
             ],
             [
              0.7777777777777778,
              "#fb9f3a"
             ],
             [
              0.8888888888888888,
              "#fdca26"
             ],
             [
              1,
              "#f0f921"
             ]
            ],
            "type": "heatmap"
           }
          ],
          "heatmapgl": [
           {
            "colorbar": {
             "outlinewidth": 0,
             "ticks": ""
            },
            "colorscale": [
             [
              0,
              "#0d0887"
             ],
             [
              0.1111111111111111,
              "#46039f"
             ],
             [
              0.2222222222222222,
              "#7201a8"
             ],
             [
              0.3333333333333333,
              "#9c179e"
             ],
             [
              0.4444444444444444,
              "#bd3786"
             ],
             [
              0.5555555555555556,
              "#d8576b"
             ],
             [
              0.6666666666666666,
              "#ed7953"
             ],
             [
              0.7777777777777778,
              "#fb9f3a"
             ],
             [
              0.8888888888888888,
              "#fdca26"
             ],
             [
              1,
              "#f0f921"
             ]
            ],
            "type": "heatmapgl"
           }
          ],
          "histogram": [
           {
            "marker": {
             "pattern": {
              "fillmode": "overlay",
              "size": 10,
              "solidity": 0.2
             }
            },
            "type": "histogram"
           }
          ],
          "histogram2d": [
           {
            "colorbar": {
             "outlinewidth": 0,
             "ticks": ""
            },
            "colorscale": [
             [
              0,
              "#0d0887"
             ],
             [
              0.1111111111111111,
              "#46039f"
             ],
             [
              0.2222222222222222,
              "#7201a8"
             ],
             [
              0.3333333333333333,
              "#9c179e"
             ],
             [
              0.4444444444444444,
              "#bd3786"
             ],
             [
              0.5555555555555556,
              "#d8576b"
             ],
             [
              0.6666666666666666,
              "#ed7953"
             ],
             [
              0.7777777777777778,
              "#fb9f3a"
             ],
             [
              0.8888888888888888,
              "#fdca26"
             ],
             [
              1,
              "#f0f921"
             ]
            ],
            "type": "histogram2d"
           }
          ],
          "histogram2dcontour": [
           {
            "colorbar": {
             "outlinewidth": 0,
             "ticks": ""
            },
            "colorscale": [
             [
              0,
              "#0d0887"
             ],
             [
              0.1111111111111111,
              "#46039f"
             ],
             [
              0.2222222222222222,
              "#7201a8"
             ],
             [
              0.3333333333333333,
              "#9c179e"
             ],
             [
              0.4444444444444444,
              "#bd3786"
             ],
             [
              0.5555555555555556,
              "#d8576b"
             ],
             [
              0.6666666666666666,
              "#ed7953"
             ],
             [
              0.7777777777777778,
              "#fb9f3a"
             ],
             [
              0.8888888888888888,
              "#fdca26"
             ],
             [
              1,
              "#f0f921"
             ]
            ],
            "type": "histogram2dcontour"
           }
          ],
          "mesh3d": [
           {
            "colorbar": {
             "outlinewidth": 0,
             "ticks": ""
            },
            "type": "mesh3d"
           }
          ],
          "parcoords": [
           {
            "line": {
             "colorbar": {
              "outlinewidth": 0,
              "ticks": ""
             }
            },
            "type": "parcoords"
           }
          ],
          "pie": [
           {
            "automargin": true,
            "type": "pie"
           }
          ],
          "scatter": [
           {
            "marker": {
             "colorbar": {
              "outlinewidth": 0,
              "ticks": ""
             }
            },
            "type": "scatter"
           }
          ],
          "scatter3d": [
           {
            "line": {
             "colorbar": {
              "outlinewidth": 0,
              "ticks": ""
             }
            },
            "marker": {
             "colorbar": {
              "outlinewidth": 0,
              "ticks": ""
             }
            },
            "type": "scatter3d"
           }
          ],
          "scattercarpet": [
           {
            "marker": {
             "colorbar": {
              "outlinewidth": 0,
              "ticks": ""
             }
            },
            "type": "scattercarpet"
           }
          ],
          "scattergeo": [
           {
            "marker": {
             "colorbar": {
              "outlinewidth": 0,
              "ticks": ""
             }
            },
            "type": "scattergeo"
           }
          ],
          "scattergl": [
           {
            "marker": {
             "colorbar": {
              "outlinewidth": 0,
              "ticks": ""
             }
            },
            "type": "scattergl"
           }
          ],
          "scattermapbox": [
           {
            "marker": {
             "colorbar": {
              "outlinewidth": 0,
              "ticks": ""
             }
            },
            "type": "scattermapbox"
           }
          ],
          "scatterpolar": [
           {
            "marker": {
             "colorbar": {
              "outlinewidth": 0,
              "ticks": ""
             }
            },
            "type": "scatterpolar"
           }
          ],
          "scatterpolargl": [
           {
            "marker": {
             "colorbar": {
              "outlinewidth": 0,
              "ticks": ""
             }
            },
            "type": "scatterpolargl"
           }
          ],
          "scatterternary": [
           {
            "marker": {
             "colorbar": {
              "outlinewidth": 0,
              "ticks": ""
             }
            },
            "type": "scatterternary"
           }
          ],
          "surface": [
           {
            "colorbar": {
             "outlinewidth": 0,
             "ticks": ""
            },
            "colorscale": [
             [
              0,
              "#0d0887"
             ],
             [
              0.1111111111111111,
              "#46039f"
             ],
             [
              0.2222222222222222,
              "#7201a8"
             ],
             [
              0.3333333333333333,
              "#9c179e"
             ],
             [
              0.4444444444444444,
              "#bd3786"
             ],
             [
              0.5555555555555556,
              "#d8576b"
             ],
             [
              0.6666666666666666,
              "#ed7953"
             ],
             [
              0.7777777777777778,
              "#fb9f3a"
             ],
             [
              0.8888888888888888,
              "#fdca26"
             ],
             [
              1,
              "#f0f921"
             ]
            ],
            "type": "surface"
           }
          ],
          "table": [
           {
            "cells": {
             "fill": {
              "color": "#EBF0F8"
             },
             "line": {
              "color": "white"
             }
            },
            "header": {
             "fill": {
              "color": "#C8D4E3"
             },
             "line": {
              "color": "white"
             }
            },
            "type": "table"
           }
          ]
         },
         "layout": {
          "annotationdefaults": {
           "arrowcolor": "#2a3f5f",
           "arrowhead": 0,
           "arrowwidth": 1
          },
          "autotypenumbers": "strict",
          "coloraxis": {
           "colorbar": {
            "outlinewidth": 0,
            "ticks": ""
           }
          },
          "colorscale": {
           "diverging": [
            [
             0,
             "#8e0152"
            ],
            [
             0.1,
             "#c51b7d"
            ],
            [
             0.2,
             "#de77ae"
            ],
            [
             0.3,
             "#f1b6da"
            ],
            [
             0.4,
             "#fde0ef"
            ],
            [
             0.5,
             "#f7f7f7"
            ],
            [
             0.6,
             "#e6f5d0"
            ],
            [
             0.7,
             "#b8e186"
            ],
            [
             0.8,
             "#7fbc41"
            ],
            [
             0.9,
             "#4d9221"
            ],
            [
             1,
             "#276419"
            ]
           ],
           "sequential": [
            [
             0,
             "#0d0887"
            ],
            [
             0.1111111111111111,
             "#46039f"
            ],
            [
             0.2222222222222222,
             "#7201a8"
            ],
            [
             0.3333333333333333,
             "#9c179e"
            ],
            [
             0.4444444444444444,
             "#bd3786"
            ],
            [
             0.5555555555555556,
             "#d8576b"
            ],
            [
             0.6666666666666666,
             "#ed7953"
            ],
            [
             0.7777777777777778,
             "#fb9f3a"
            ],
            [
             0.8888888888888888,
             "#fdca26"
            ],
            [
             1,
             "#f0f921"
            ]
           ],
           "sequentialminus": [
            [
             0,
             "#0d0887"
            ],
            [
             0.1111111111111111,
             "#46039f"
            ],
            [
             0.2222222222222222,
             "#7201a8"
            ],
            [
             0.3333333333333333,
             "#9c179e"
            ],
            [
             0.4444444444444444,
             "#bd3786"
            ],
            [
             0.5555555555555556,
             "#d8576b"
            ],
            [
             0.6666666666666666,
             "#ed7953"
            ],
            [
             0.7777777777777778,
             "#fb9f3a"
            ],
            [
             0.8888888888888888,
             "#fdca26"
            ],
            [
             1,
             "#f0f921"
            ]
           ]
          },
          "colorway": [
           "#636efa",
           "#EF553B",
           "#00cc96",
           "#ab63fa",
           "#FFA15A",
           "#19d3f3",
           "#FF6692",
           "#B6E880",
           "#FF97FF",
           "#FECB52"
          ],
          "font": {
           "color": "#2a3f5f"
          },
          "geo": {
           "bgcolor": "white",
           "lakecolor": "white",
           "landcolor": "#E5ECF6",
           "showlakes": true,
           "showland": true,
           "subunitcolor": "white"
          },
          "hoverlabel": {
           "align": "left"
          },
          "hovermode": "closest",
          "mapbox": {
           "style": "light"
          },
          "paper_bgcolor": "white",
          "plot_bgcolor": "#E5ECF6",
          "polar": {
           "angularaxis": {
            "gridcolor": "white",
            "linecolor": "white",
            "ticks": ""
           },
           "bgcolor": "#E5ECF6",
           "radialaxis": {
            "gridcolor": "white",
            "linecolor": "white",
            "ticks": ""
           }
          },
          "scene": {
           "xaxis": {
            "backgroundcolor": "#E5ECF6",
            "gridcolor": "white",
            "gridwidth": 2,
            "linecolor": "white",
            "showbackground": true,
            "ticks": "",
            "zerolinecolor": "white"
           },
           "yaxis": {
            "backgroundcolor": "#E5ECF6",
            "gridcolor": "white",
            "gridwidth": 2,
            "linecolor": "white",
            "showbackground": true,
            "ticks": "",
            "zerolinecolor": "white"
           },
           "zaxis": {
            "backgroundcolor": "#E5ECF6",
            "gridcolor": "white",
            "gridwidth": 2,
            "linecolor": "white",
            "showbackground": true,
            "ticks": "",
            "zerolinecolor": "white"
           }
          },
          "shapedefaults": {
           "line": {
            "color": "#2a3f5f"
           }
          },
          "ternary": {
           "aaxis": {
            "gridcolor": "white",
            "linecolor": "white",
            "ticks": ""
           },
           "baxis": {
            "gridcolor": "white",
            "linecolor": "white",
            "ticks": ""
           },
           "bgcolor": "#E5ECF6",
           "caxis": {
            "gridcolor": "white",
            "linecolor": "white",
            "ticks": ""
           }
          },
          "title": {
           "x": 0.05
          },
          "xaxis": {
           "automargin": true,
           "gridcolor": "white",
           "linecolor": "white",
           "ticks": "",
           "title": {
            "standoff": 15
           },
           "zerolinecolor": "white",
           "zerolinewidth": 2
          },
          "yaxis": {
           "automargin": true,
           "gridcolor": "white",
           "linecolor": "white",
           "ticks": "",
           "title": {
            "standoff": 15
           },
           "zerolinecolor": "white",
           "zerolinewidth": 2
          }
         }
        },
        "xaxis": {
         "anchor": "y",
         "domain": [
          0,
          1
         ],
         "title": {
          "text": "Periodo"
         }
        },
        "yaxis": {
         "anchor": "x",
         "domain": [
          0,
          1
         ],
         "title": {
          "text": "Total"
         }
        },
        "legend": {
         "title": {
          "text": "Sexo"
         },
         "tracegroupgap": 0
        },
        "margin": {
         "t": 60
        },
        "barmode": "group"
       },
       "config": {
        "plotlyServerURL": "https://plot.ly"
       }
      },
      "text/html": [
       "<div>                            <div id=\"620e908e-cadf-4a4e-8af8-45bab685e835\" class=\"plotly-graph-div\" style=\"height:525px; width:100%;\"></div>            <script type=\"text/javascript\">                require([\"plotly\"], function(Plotly) {                    window.PLOTLYENV=window.PLOTLYENV || {};                                    if (document.getElementById(\"620e908e-cadf-4a4e-8af8-45bab685e835\")) {                    Plotly.newPlot(                        \"620e908e-cadf-4a4e-8af8-45bab685e835\",                        [{\"alignmentgroup\":\"True\",\"hovertemplate\":\"Sexo=Hombres<br>Periodo=%{x}<br>Total=%{y}<extra></extra>\",\"legendgroup\":\"Hombres\",\"marker\":{\"color\":\"#636efa\",\"pattern\":{\"shape\":\"\"}},\"name\":\"Hombres\",\"offsetgroup\":\"Hombres\",\"orientation\":\"v\",\"showlegend\":true,\"textposition\":\"auto\",\"x\":[1980,1981,1982,1983,1984,1985,1986,1987,1988,1989,1990,1991,1992,1993,1994,1995,1996,1997,1998,1999,2000,2001,2002,2003,2004,2005,2006,2007,2008,2009,2010,2011,2012,2013,2014,2015,2016,2017,2018],\"xaxis\":\"x\",\"y\":[59121,59668,57932,60172,58834,60430,58131,57547,58568,58016,58130,59920,58371,58898,57464,58140,58723,58295,59712,59982,59212,61202,61106,62326,62937,62664,63147,64334,64358,64936,66111,66991,68308,67711,67278,67723,68619,68508,68238],\"yaxis\":\"y\",\"type\":\"bar\"},{\"alignmentgroup\":\"True\",\"hovertemplate\":\"Sexo=Mujeres<br>Periodo=%{x}<br>Total=%{y}<extra></extra>\",\"legendgroup\":\"Mujeres\",\"marker\":{\"color\":\"#EF553B\",\"pattern\":{\"shape\":\"\"}},\"name\":\"Mujeres\",\"offsetgroup\":\"Mujeres\",\"orientation\":\"v\",\"showlegend\":true,\"textposition\":\"auto\",\"x\":[1980,1981,1982,1983,1984,1985,1986,1987,1988,1989,1990,1991,1992,1993,1994,1995,1996,1997,1998,1999,2000,2001,2002,2003,2004,2005,2006,2007,2008,2009,2010,2011,2012,2013,2014,2015,2016,2017,2018],\"xaxis\":\"x\",\"y\":[66766,67918,66054,70359,67970,70768,69486,68735,70305,70656,71094,72519,70177,71581,70227,70295,70842,70043,71916,71792,68667,67932,68739,71057,67508,69165,65327,67128,67052,65242,64722,64492,66905,63997,63812,67736,64471,66286,64897],\"yaxis\":\"y\",\"type\":\"bar\"}],                        {\"template\":{\"data\":{\"bar\":[{\"error_x\":{\"color\":\"#2a3f5f\"},\"error_y\":{\"color\":\"#2a3f5f\"},\"marker\":{\"line\":{\"color\":\"#E5ECF6\",\"width\":0.5},\"pattern\":{\"fillmode\":\"overlay\",\"size\":10,\"solidity\":0.2}},\"type\":\"bar\"}],\"barpolar\":[{\"marker\":{\"line\":{\"color\":\"#E5ECF6\",\"width\":0.5},\"pattern\":{\"fillmode\":\"overlay\",\"size\":10,\"solidity\":0.2}},\"type\":\"barpolar\"}],\"carpet\":[{\"aaxis\":{\"endlinecolor\":\"#2a3f5f\",\"gridcolor\":\"white\",\"linecolor\":\"white\",\"minorgridcolor\":\"white\",\"startlinecolor\":\"#2a3f5f\"},\"baxis\":{\"endlinecolor\":\"#2a3f5f\",\"gridcolor\":\"white\",\"linecolor\":\"white\",\"minorgridcolor\":\"white\",\"startlinecolor\":\"#2a3f5f\"},\"type\":\"carpet\"}],\"choropleth\":[{\"colorbar\":{\"outlinewidth\":0,\"ticks\":\"\"},\"type\":\"choropleth\"}],\"contour\":[{\"colorbar\":{\"outlinewidth\":0,\"ticks\":\"\"},\"colorscale\":[[0.0,\"#0d0887\"],[0.1111111111111111,\"#46039f\"],[0.2222222222222222,\"#7201a8\"],[0.3333333333333333,\"#9c179e\"],[0.4444444444444444,\"#bd3786\"],[0.5555555555555556,\"#d8576b\"],[0.6666666666666666,\"#ed7953\"],[0.7777777777777778,\"#fb9f3a\"],[0.8888888888888888,\"#fdca26\"],[1.0,\"#f0f921\"]],\"type\":\"contour\"}],\"contourcarpet\":[{\"colorbar\":{\"outlinewidth\":0,\"ticks\":\"\"},\"type\":\"contourcarpet\"}],\"heatmap\":[{\"colorbar\":{\"outlinewidth\":0,\"ticks\":\"\"},\"colorscale\":[[0.0,\"#0d0887\"],[0.1111111111111111,\"#46039f\"],[0.2222222222222222,\"#7201a8\"],[0.3333333333333333,\"#9c179e\"],[0.4444444444444444,\"#bd3786\"],[0.5555555555555556,\"#d8576b\"],[0.6666666666666666,\"#ed7953\"],[0.7777777777777778,\"#fb9f3a\"],[0.8888888888888888,\"#fdca26\"],[1.0,\"#f0f921\"]],\"type\":\"heatmap\"}],\"heatmapgl\":[{\"colorbar\":{\"outlinewidth\":0,\"ticks\":\"\"},\"colorscale\":[[0.0,\"#0d0887\"],[0.1111111111111111,\"#46039f\"],[0.2222222222222222,\"#7201a8\"],[0.3333333333333333,\"#9c179e\"],[0.4444444444444444,\"#bd3786\"],[0.5555555555555556,\"#d8576b\"],[0.6666666666666666,\"#ed7953\"],[0.7777777777777778,\"#fb9f3a\"],[0.8888888888888888,\"#fdca26\"],[1.0,\"#f0f921\"]],\"type\":\"heatmapgl\"}],\"histogram\":[{\"marker\":{\"pattern\":{\"fillmode\":\"overlay\",\"size\":10,\"solidity\":0.2}},\"type\":\"histogram\"}],\"histogram2d\":[{\"colorbar\":{\"outlinewidth\":0,\"ticks\":\"\"},\"colorscale\":[[0.0,\"#0d0887\"],[0.1111111111111111,\"#46039f\"],[0.2222222222222222,\"#7201a8\"],[0.3333333333333333,\"#9c179e\"],[0.4444444444444444,\"#bd3786\"],[0.5555555555555556,\"#d8576b\"],[0.6666666666666666,\"#ed7953\"],[0.7777777777777778,\"#fb9f3a\"],[0.8888888888888888,\"#fdca26\"],[1.0,\"#f0f921\"]],\"type\":\"histogram2d\"}],\"histogram2dcontour\":[{\"colorbar\":{\"outlinewidth\":0,\"ticks\":\"\"},\"colorscale\":[[0.0,\"#0d0887\"],[0.1111111111111111,\"#46039f\"],[0.2222222222222222,\"#7201a8\"],[0.3333333333333333,\"#9c179e\"],[0.4444444444444444,\"#bd3786\"],[0.5555555555555556,\"#d8576b\"],[0.6666666666666666,\"#ed7953\"],[0.7777777777777778,\"#fb9f3a\"],[0.8888888888888888,\"#fdca26\"],[1.0,\"#f0f921\"]],\"type\":\"histogram2dcontour\"}],\"mesh3d\":[{\"colorbar\":{\"outlinewidth\":0,\"ticks\":\"\"},\"type\":\"mesh3d\"}],\"parcoords\":[{\"line\":{\"colorbar\":{\"outlinewidth\":0,\"ticks\":\"\"}},\"type\":\"parcoords\"}],\"pie\":[{\"automargin\":true,\"type\":\"pie\"}],\"scatter\":[{\"marker\":{\"colorbar\":{\"outlinewidth\":0,\"ticks\":\"\"}},\"type\":\"scatter\"}],\"scatter3d\":[{\"line\":{\"colorbar\":{\"outlinewidth\":0,\"ticks\":\"\"}},\"marker\":{\"colorbar\":{\"outlinewidth\":0,\"ticks\":\"\"}},\"type\":\"scatter3d\"}],\"scattercarpet\":[{\"marker\":{\"colorbar\":{\"outlinewidth\":0,\"ticks\":\"\"}},\"type\":\"scattercarpet\"}],\"scattergeo\":[{\"marker\":{\"colorbar\":{\"outlinewidth\":0,\"ticks\":\"\"}},\"type\":\"scattergeo\"}],\"scattergl\":[{\"marker\":{\"colorbar\":{\"outlinewidth\":0,\"ticks\":\"\"}},\"type\":\"scattergl\"}],\"scattermapbox\":[{\"marker\":{\"colorbar\":{\"outlinewidth\":0,\"ticks\":\"\"}},\"type\":\"scattermapbox\"}],\"scatterpolar\":[{\"marker\":{\"colorbar\":{\"outlinewidth\":0,\"ticks\":\"\"}},\"type\":\"scatterpolar\"}],\"scatterpolargl\":[{\"marker\":{\"colorbar\":{\"outlinewidth\":0,\"ticks\":\"\"}},\"type\":\"scatterpolargl\"}],\"scatterternary\":[{\"marker\":{\"colorbar\":{\"outlinewidth\":0,\"ticks\":\"\"}},\"type\":\"scatterternary\"}],\"surface\":[{\"colorbar\":{\"outlinewidth\":0,\"ticks\":\"\"},\"colorscale\":[[0.0,\"#0d0887\"],[0.1111111111111111,\"#46039f\"],[0.2222222222222222,\"#7201a8\"],[0.3333333333333333,\"#9c179e\"],[0.4444444444444444,\"#bd3786\"],[0.5555555555555556,\"#d8576b\"],[0.6666666666666666,\"#ed7953\"],[0.7777777777777778,\"#fb9f3a\"],[0.8888888888888888,\"#fdca26\"],[1.0,\"#f0f921\"]],\"type\":\"surface\"}],\"table\":[{\"cells\":{\"fill\":{\"color\":\"#EBF0F8\"},\"line\":{\"color\":\"white\"}},\"header\":{\"fill\":{\"color\":\"#C8D4E3\"},\"line\":{\"color\":\"white\"}},\"type\":\"table\"}]},\"layout\":{\"annotationdefaults\":{\"arrowcolor\":\"#2a3f5f\",\"arrowhead\":0,\"arrowwidth\":1},\"autotypenumbers\":\"strict\",\"coloraxis\":{\"colorbar\":{\"outlinewidth\":0,\"ticks\":\"\"}},\"colorscale\":{\"diverging\":[[0,\"#8e0152\"],[0.1,\"#c51b7d\"],[0.2,\"#de77ae\"],[0.3,\"#f1b6da\"],[0.4,\"#fde0ef\"],[0.5,\"#f7f7f7\"],[0.6,\"#e6f5d0\"],[0.7,\"#b8e186\"],[0.8,\"#7fbc41\"],[0.9,\"#4d9221\"],[1,\"#276419\"]],\"sequential\":[[0.0,\"#0d0887\"],[0.1111111111111111,\"#46039f\"],[0.2222222222222222,\"#7201a8\"],[0.3333333333333333,\"#9c179e\"],[0.4444444444444444,\"#bd3786\"],[0.5555555555555556,\"#d8576b\"],[0.6666666666666666,\"#ed7953\"],[0.7777777777777778,\"#fb9f3a\"],[0.8888888888888888,\"#fdca26\"],[1.0,\"#f0f921\"]],\"sequentialminus\":[[0.0,\"#0d0887\"],[0.1111111111111111,\"#46039f\"],[0.2222222222222222,\"#7201a8\"],[0.3333333333333333,\"#9c179e\"],[0.4444444444444444,\"#bd3786\"],[0.5555555555555556,\"#d8576b\"],[0.6666666666666666,\"#ed7953\"],[0.7777777777777778,\"#fb9f3a\"],[0.8888888888888888,\"#fdca26\"],[1.0,\"#f0f921\"]]},\"colorway\":[\"#636efa\",\"#EF553B\",\"#00cc96\",\"#ab63fa\",\"#FFA15A\",\"#19d3f3\",\"#FF6692\",\"#B6E880\",\"#FF97FF\",\"#FECB52\"],\"font\":{\"color\":\"#2a3f5f\"},\"geo\":{\"bgcolor\":\"white\",\"lakecolor\":\"white\",\"landcolor\":\"#E5ECF6\",\"showlakes\":true,\"showland\":true,\"subunitcolor\":\"white\"},\"hoverlabel\":{\"align\":\"left\"},\"hovermode\":\"closest\",\"mapbox\":{\"style\":\"light\"},\"paper_bgcolor\":\"white\",\"plot_bgcolor\":\"#E5ECF6\",\"polar\":{\"angularaxis\":{\"gridcolor\":\"white\",\"linecolor\":\"white\",\"ticks\":\"\"},\"bgcolor\":\"#E5ECF6\",\"radialaxis\":{\"gridcolor\":\"white\",\"linecolor\":\"white\",\"ticks\":\"\"}},\"scene\":{\"xaxis\":{\"backgroundcolor\":\"#E5ECF6\",\"gridcolor\":\"white\",\"gridwidth\":2,\"linecolor\":\"white\",\"showbackground\":true,\"ticks\":\"\",\"zerolinecolor\":\"white\"},\"yaxis\":{\"backgroundcolor\":\"#E5ECF6\",\"gridcolor\":\"white\",\"gridwidth\":2,\"linecolor\":\"white\",\"showbackground\":true,\"ticks\":\"\",\"zerolinecolor\":\"white\"},\"zaxis\":{\"backgroundcolor\":\"#E5ECF6\",\"gridcolor\":\"white\",\"gridwidth\":2,\"linecolor\":\"white\",\"showbackground\":true,\"ticks\":\"\",\"zerolinecolor\":\"white\"}},\"shapedefaults\":{\"line\":{\"color\":\"#2a3f5f\"}},\"ternary\":{\"aaxis\":{\"gridcolor\":\"white\",\"linecolor\":\"white\",\"ticks\":\"\"},\"baxis\":{\"gridcolor\":\"white\",\"linecolor\":\"white\",\"ticks\":\"\"},\"bgcolor\":\"#E5ECF6\",\"caxis\":{\"gridcolor\":\"white\",\"linecolor\":\"white\",\"ticks\":\"\"}},\"title\":{\"x\":0.05},\"xaxis\":{\"automargin\":true,\"gridcolor\":\"white\",\"linecolor\":\"white\",\"ticks\":\"\",\"title\":{\"standoff\":15},\"zerolinecolor\":\"white\",\"zerolinewidth\":2},\"yaxis\":{\"automargin\":true,\"gridcolor\":\"white\",\"linecolor\":\"white\",\"ticks\":\"\",\"title\":{\"standoff\":15},\"zerolinecolor\":\"white\",\"zerolinewidth\":2}}},\"xaxis\":{\"anchor\":\"y\",\"domain\":[0.0,1.0],\"title\":{\"text\":\"Periodo\"}},\"yaxis\":{\"anchor\":\"x\",\"domain\":[0.0,1.0],\"title\":{\"text\":\"Total\"}},\"legend\":{\"title\":{\"text\":\"Sexo\"},\"tracegroupgap\":0},\"margin\":{\"t\":60},\"barmode\":\"group\"},                        {\"responsive\": true}                    ).then(function(){\n",
       "                            \n",
       "var gd = document.getElementById('620e908e-cadf-4a4e-8af8-45bab685e835');\n",
       "var x = new MutationObserver(function (mutations, observer) {{\n",
       "        var display = window.getComputedStyle(gd).display;\n",
       "        if (!display || display === 'none') {{\n",
       "            console.log([gd, 'removed!']);\n",
       "            Plotly.purge(gd);\n",
       "            observer.disconnect();\n",
       "        }}\n",
       "}});\n",
       "\n",
       "// Listen for the removal of the full notebook cells\n",
       "var notebookContainer = gd.closest('#notebook-container');\n",
       "if (notebookContainer) {{\n",
       "    x.observe(notebookContainer, {childList: true});\n",
       "}}\n",
       "\n",
       "// Listen for the clearing of the current output cell\n",
       "var outputEl = gd.closest('.output');\n",
       "if (outputEl) {{\n",
       "    x.observe(outputEl, {childList: true});\n",
       "}}\n",
       "\n",
       "                        })                };                });            </script>        </div>"
      ]
     },
     "metadata": {}
    }
   ],
   "metadata": {}
  },
  {
   "cell_type": "code",
   "execution_count": 151,
   "source": [
    "# Example 2\n",
    "'''\n",
    "group = ['cause_code','Periodo']\n",
    "dataset = mod.groupby_sum(deaths, group)\n",
    "dataset.head()\n",
    "'''"
   ],
   "outputs": [
    {
     "output_type": "execute_result",
     "data": {
      "text/plain": [
       "\"\\ngroup = ['cause_code','Periodo']\\ndataset = mod.groupby_sum(deaths, group)\\ndataset.head()\\n\""
      ]
     },
     "metadata": {},
     "execution_count": 151
    }
   ],
   "metadata": {}
  },
  {
   "cell_type": "code",
   "execution_count": 38,
   "source": [
    "\n",
    "group_sexo = ['Sexo','cause_code']\n",
    "dataset_sexo = mod.groupby_sum(deaths, group_sexo)\n",
    "dataset_sexo"
   ],
   "outputs": [
    {
     "output_type": "execute_result",
     "data": {
      "text/html": [
       "<div>\n",
       "<style scoped>\n",
       "    .dataframe tbody tr th:only-of-type {\n",
       "        vertical-align: middle;\n",
       "    }\n",
       "\n",
       "    .dataframe tbody tr th {\n",
       "        vertical-align: top;\n",
       "    }\n",
       "\n",
       "    .dataframe thead th {\n",
       "        text-align: right;\n",
       "    }\n",
       "</style>\n",
       "<table border=\"1\" class=\"dataframe\">\n",
       "  <thead>\n",
       "    <tr style=\"text-align: right;\">\n",
       "      <th></th>\n",
       "      <th>Sexo</th>\n",
       "      <th>cause_code</th>\n",
       "      <th>Total</th>\n",
       "    </tr>\n",
       "  </thead>\n",
       "  <tbody>\n",
       "    <tr>\n",
       "      <th>0</th>\n",
       "      <td>Total</td>\n",
       "      <td>001-102</td>\n",
       "      <td>27827216</td>\n",
       "    </tr>\n",
       "    <tr>\n",
       "      <th>1</th>\n",
       "      <td>Hombres</td>\n",
       "      <td>001-102</td>\n",
       "      <td>14528688</td>\n",
       "    </tr>\n",
       "    <tr>\n",
       "      <th>2</th>\n",
       "      <td>Mujeres</td>\n",
       "      <td>001-102</td>\n",
       "      <td>13298528</td>\n",
       "    </tr>\n",
       "    <tr>\n",
       "      <th>3</th>\n",
       "      <td>Total</td>\n",
       "      <td>053-061</td>\n",
       "      <td>9802974</td>\n",
       "    </tr>\n",
       "    <tr>\n",
       "      <th>4</th>\n",
       "      <td>Total</td>\n",
       "      <td>009-041</td>\n",
       "      <td>7118864</td>\n",
       "    </tr>\n",
       "    <tr>\n",
       "      <th>...</th>\n",
       "      <td>...</td>\n",
       "      <td>...</td>\n",
       "      <td>...</td>\n",
       "    </tr>\n",
       "    <tr>\n",
       "      <th>346</th>\n",
       "      <td>Hombres</td>\n",
       "      <td>024</td>\n",
       "      <td>0</td>\n",
       "    </tr>\n",
       "    <tr>\n",
       "      <th>347</th>\n",
       "      <td>Mujeres</td>\n",
       "      <td>078</td>\n",
       "      <td>0</td>\n",
       "    </tr>\n",
       "    <tr>\n",
       "      <th>348</th>\n",
       "      <td>Mujeres</td>\n",
       "      <td>029</td>\n",
       "      <td>0</td>\n",
       "    </tr>\n",
       "    <tr>\n",
       "      <th>349</th>\n",
       "      <td>Mujeres</td>\n",
       "      <td>028</td>\n",
       "      <td>0</td>\n",
       "    </tr>\n",
       "    <tr>\n",
       "      <th>350</th>\n",
       "      <td>Hombres</td>\n",
       "      <td>081</td>\n",
       "      <td>0</td>\n",
       "    </tr>\n",
       "  </tbody>\n",
       "</table>\n",
       "<p>351 rows × 3 columns</p>\n",
       "</div>"
      ],
      "text/plain": [
       "        Sexo cause_code     Total\n",
       "0      Total    001-102  27827216\n",
       "1    Hombres    001-102  14528688\n",
       "2    Mujeres    001-102  13298528\n",
       "3      Total    053-061   9802974\n",
       "4      Total    009-041   7118864\n",
       "..       ...        ...       ...\n",
       "346  Hombres        024         0\n",
       "347  Mujeres        078         0\n",
       "348  Mujeres        029         0\n",
       "349  Mujeres        028         0\n",
       "350  Hombres        081         0\n",
       "\n",
       "[351 rows x 3 columns]"
      ]
     },
     "metadata": {},
     "execution_count": 38
    }
   ],
   "metadata": {}
  },
  {
   "cell_type": "code",
   "execution_count": 47,
   "source": [
    "# Example 3\n",
    "\n",
    "dataset_periodo = mod.pivot_table(dataset, 'cause_code', 'Periodo')\n",
    "dataset_periodo.head()"
   ],
   "outputs": [
    {
     "output_type": "execute_result",
     "data": {
      "text/html": [
       "<div>\n",
       "<style scoped>\n",
       "    .dataframe tbody tr th:only-of-type {\n",
       "        vertical-align: middle;\n",
       "    }\n",
       "\n",
       "    .dataframe tbody tr th {\n",
       "        vertical-align: top;\n",
       "    }\n",
       "\n",
       "    .dataframe thead th {\n",
       "        text-align: right;\n",
       "    }\n",
       "</style>\n",
       "<table border=\"1\" class=\"dataframe\">\n",
       "  <thead>\n",
       "    <tr style=\"text-align: right;\">\n",
       "      <th>cause_code</th>\n",
       "      <th>Periodo</th>\n",
       "      <th>001</th>\n",
       "      <th>001-008</th>\n",
       "      <th>001-102</th>\n",
       "      <th>002</th>\n",
       "      <th>003</th>\n",
       "      <th>004</th>\n",
       "      <th>005</th>\n",
       "      <th>006</th>\n",
       "      <th>007</th>\n",
       "      <th>...</th>\n",
       "      <th>093</th>\n",
       "      <th>094</th>\n",
       "      <th>095</th>\n",
       "      <th>096</th>\n",
       "      <th>097</th>\n",
       "      <th>098</th>\n",
       "      <th>099</th>\n",
       "      <th>100</th>\n",
       "      <th>101</th>\n",
       "      <th>102</th>\n",
       "    </tr>\n",
       "  </thead>\n",
       "  <tbody>\n",
       "    <tr>\n",
       "      <th>0</th>\n",
       "      <td>1980</td>\n",
       "      <td>1620</td>\n",
       "      <td>15768</td>\n",
       "      <td>1157376</td>\n",
       "      <td>5904</td>\n",
       "      <td>2008</td>\n",
       "      <td>3448</td>\n",
       "      <td>436</td>\n",
       "      <td>0</td>\n",
       "      <td>0</td>\n",
       "      <td>...</td>\n",
       "      <td>4956</td>\n",
       "      <td>1432</td>\n",
       "      <td>184</td>\n",
       "      <td>692</td>\n",
       "      <td>16748</td>\n",
       "      <td>6608</td>\n",
       "      <td>1496</td>\n",
       "      <td>28</td>\n",
       "      <td>968</td>\n",
       "      <td>96</td>\n",
       "    </tr>\n",
       "    <tr>\n",
       "      <th>1</th>\n",
       "      <td>1981</td>\n",
       "      <td>1404</td>\n",
       "      <td>15124</td>\n",
       "      <td>1173544</td>\n",
       "      <td>6332</td>\n",
       "      <td>1656</td>\n",
       "      <td>3344</td>\n",
       "      <td>348</td>\n",
       "      <td>0</td>\n",
       "      <td>0</td>\n",
       "      <td>...</td>\n",
       "      <td>4700</td>\n",
       "      <td>1200</td>\n",
       "      <td>156</td>\n",
       "      <td>1396</td>\n",
       "      <td>17472</td>\n",
       "      <td>6872</td>\n",
       "      <td>1284</td>\n",
       "      <td>336</td>\n",
       "      <td>908</td>\n",
       "      <td>208</td>\n",
       "    </tr>\n",
       "    <tr>\n",
       "      <th>2</th>\n",
       "      <td>1982</td>\n",
       "      <td>1308</td>\n",
       "      <td>13488</td>\n",
       "      <td>1146620</td>\n",
       "      <td>5352</td>\n",
       "      <td>1240</td>\n",
       "      <td>3104</td>\n",
       "      <td>316</td>\n",
       "      <td>0</td>\n",
       "      <td>0</td>\n",
       "      <td>...</td>\n",
       "      <td>4864</td>\n",
       "      <td>956</td>\n",
       "      <td>200</td>\n",
       "      <td>1000</td>\n",
       "      <td>18616</td>\n",
       "      <td>7404</td>\n",
       "      <td>1228</td>\n",
       "      <td>440</td>\n",
       "      <td>1132</td>\n",
       "      <td>52</td>\n",
       "    </tr>\n",
       "    <tr>\n",
       "      <th>3</th>\n",
       "      <td>1983</td>\n",
       "      <td>1212</td>\n",
       "      <td>13100</td>\n",
       "      <td>1210276</td>\n",
       "      <td>5152</td>\n",
       "      <td>1072</td>\n",
       "      <td>3152</td>\n",
       "      <td>336</td>\n",
       "      <td>0</td>\n",
       "      <td>0</td>\n",
       "      <td>...</td>\n",
       "      <td>4788</td>\n",
       "      <td>1464</td>\n",
       "      <td>148</td>\n",
       "      <td>884</td>\n",
       "      <td>18392</td>\n",
       "      <td>8724</td>\n",
       "      <td>1560</td>\n",
       "      <td>1276</td>\n",
       "      <td>1500</td>\n",
       "      <td>56</td>\n",
       "    </tr>\n",
       "    <tr>\n",
       "      <th>4</th>\n",
       "      <td>1984</td>\n",
       "      <td>1228</td>\n",
       "      <td>12928</td>\n",
       "      <td>1197636</td>\n",
       "      <td>4564</td>\n",
       "      <td>964</td>\n",
       "      <td>3704</td>\n",
       "      <td>424</td>\n",
       "      <td>0</td>\n",
       "      <td>0</td>\n",
       "      <td>...</td>\n",
       "      <td>4716</td>\n",
       "      <td>1244</td>\n",
       "      <td>164</td>\n",
       "      <td>1020</td>\n",
       "      <td>14696</td>\n",
       "      <td>9972</td>\n",
       "      <td>1812</td>\n",
       "      <td>1144</td>\n",
       "      <td>1636</td>\n",
       "      <td>76</td>\n",
       "    </tr>\n",
       "  </tbody>\n",
       "</table>\n",
       "<p>5 rows × 118 columns</p>\n",
       "</div>"
      ],
      "text/plain": [
       "cause_code  Periodo   001  001-008  001-102   002   003   004  005  006  007  \\\n",
       "0              1980  1620    15768  1157376  5904  2008  3448  436    0    0   \n",
       "1              1981  1404    15124  1173544  6332  1656  3344  348    0    0   \n",
       "2              1982  1308    13488  1146620  5352  1240  3104  316    0    0   \n",
       "3              1983  1212    13100  1210276  5152  1072  3152  336    0    0   \n",
       "4              1984  1228    12928  1197636  4564   964  3704  424    0    0   \n",
       "\n",
       "cause_code  ...   093   094  095   096    097   098   099   100   101  102  \n",
       "0           ...  4956  1432  184   692  16748  6608  1496    28   968   96  \n",
       "1           ...  4700  1200  156  1396  17472  6872  1284   336   908  208  \n",
       "2           ...  4864   956  200  1000  18616  7404  1228   440  1132   52  \n",
       "3           ...  4788  1464  148   884  18392  8724  1560  1276  1500   56  \n",
       "4           ...  4716  1244  164  1020  14696  9972  1812  1144  1636   76  \n",
       "\n",
       "[5 rows x 118 columns]"
      ]
     },
     "metadata": {},
     "execution_count": 47
    }
   ],
   "metadata": {}
  },
  {
   "cell_type": "code",
   "execution_count": 49,
   "source": [
    "dataset_sexo = mod.pivot_table(dataset_sexo, 'cause_code', 'Sexo')\n",
    "dataset_sexo.head()"
   ],
   "outputs": [
    {
     "output_type": "execute_result",
     "data": {
      "text/html": [
       "<div>\n",
       "<style scoped>\n",
       "    .dataframe tbody tr th:only-of-type {\n",
       "        vertical-align: middle;\n",
       "    }\n",
       "\n",
       "    .dataframe tbody tr th {\n",
       "        vertical-align: top;\n",
       "    }\n",
       "\n",
       "    .dataframe thead th {\n",
       "        text-align: right;\n",
       "    }\n",
       "</style>\n",
       "<table border=\"1\" class=\"dataframe\">\n",
       "  <thead>\n",
       "    <tr style=\"text-align: right;\">\n",
       "      <th>cause_code</th>\n",
       "      <th>Sexo</th>\n",
       "      <th>001</th>\n",
       "      <th>001-008</th>\n",
       "      <th>001-102</th>\n",
       "      <th>002</th>\n",
       "      <th>003</th>\n",
       "      <th>004</th>\n",
       "      <th>005</th>\n",
       "      <th>006</th>\n",
       "      <th>007</th>\n",
       "      <th>...</th>\n",
       "      <th>093</th>\n",
       "      <th>094</th>\n",
       "      <th>095</th>\n",
       "      <th>096</th>\n",
       "      <th>097</th>\n",
       "      <th>098</th>\n",
       "      <th>099</th>\n",
       "      <th>100</th>\n",
       "      <th>101</th>\n",
       "      <th>102</th>\n",
       "    </tr>\n",
       "  </thead>\n",
       "  <tbody>\n",
       "    <tr>\n",
       "      <th>0</th>\n",
       "      <td>Hombres</td>\n",
       "      <td>13310</td>\n",
       "      <td>288068</td>\n",
       "      <td>14528688</td>\n",
       "      <td>37942</td>\n",
       "      <td>3860</td>\n",
       "      <td>89660</td>\n",
       "      <td>24062</td>\n",
       "      <td>92868</td>\n",
       "      <td>2546</td>\n",
       "      <td>...</td>\n",
       "      <td>83108</td>\n",
       "      <td>10350</td>\n",
       "      <td>33694</td>\n",
       "      <td>10804</td>\n",
       "      <td>143376</td>\n",
       "      <td>181592</td>\n",
       "      <td>20420</td>\n",
       "      <td>8170</td>\n",
       "      <td>14920</td>\n",
       "      <td>2008</td>\n",
       "    </tr>\n",
       "    <tr>\n",
       "      <th>1</th>\n",
       "      <td>Mujeres</td>\n",
       "      <td>20734</td>\n",
       "      <td>204418</td>\n",
       "      <td>13298528</td>\n",
       "      <td>15510</td>\n",
       "      <td>4110</td>\n",
       "      <td>100022</td>\n",
       "      <td>21674</td>\n",
       "      <td>21704</td>\n",
       "      <td>596</td>\n",
       "      <td>...</td>\n",
       "      <td>51050</td>\n",
       "      <td>6978</td>\n",
       "      <td>8680</td>\n",
       "      <td>5370</td>\n",
       "      <td>70878</td>\n",
       "      <td>60150</td>\n",
       "      <td>8040</td>\n",
       "      <td>3420</td>\n",
       "      <td>14192</td>\n",
       "      <td>838</td>\n",
       "    </tr>\n",
       "    <tr>\n",
       "      <th>2</th>\n",
       "      <td>Total</td>\n",
       "      <td>34044</td>\n",
       "      <td>492486</td>\n",
       "      <td>27827216</td>\n",
       "      <td>53452</td>\n",
       "      <td>7970</td>\n",
       "      <td>189682</td>\n",
       "      <td>45736</td>\n",
       "      <td>114572</td>\n",
       "      <td>3142</td>\n",
       "      <td>...</td>\n",
       "      <td>134158</td>\n",
       "      <td>17328</td>\n",
       "      <td>42374</td>\n",
       "      <td>16174</td>\n",
       "      <td>214254</td>\n",
       "      <td>241742</td>\n",
       "      <td>28460</td>\n",
       "      <td>11590</td>\n",
       "      <td>29112</td>\n",
       "      <td>2846</td>\n",
       "    </tr>\n",
       "  </tbody>\n",
       "</table>\n",
       "<p>3 rows × 118 columns</p>\n",
       "</div>"
      ],
      "text/plain": [
       "cause_code     Sexo    001  001-008   001-102    002   003     004    005  \\\n",
       "0           Hombres  13310   288068  14528688  37942  3860   89660  24062   \n",
       "1           Mujeres  20734   204418  13298528  15510  4110  100022  21674   \n",
       "2             Total  34044   492486  27827216  53452  7970  189682  45736   \n",
       "\n",
       "cause_code     006   007  ...     093    094    095    096     097     098  \\\n",
       "0            92868  2546  ...   83108  10350  33694  10804  143376  181592   \n",
       "1            21704   596  ...   51050   6978   8680   5370   70878   60150   \n",
       "2           114572  3142  ...  134158  17328  42374  16174  214254  241742   \n",
       "\n",
       "cause_code    099    100    101   102  \n",
       "0           20420   8170  14920  2008  \n",
       "1            8040   3420  14192   838  \n",
       "2           28460  11590  29112  2846  \n",
       "\n",
       "[3 rows x 118 columns]"
      ]
     },
     "metadata": {},
     "execution_count": 49
    }
   ],
   "metadata": {}
  },
  {
   "cell_type": "markdown",
   "source": [
    "## ...and finally, show me some insights with Plotly!!!\n",
    "\n",
    "Of course, you can always check the [class notes](https://github.com/ih-datapt-mad/dataptmad1121_lessons/tree/main/module-2) for further info. "
   ],
   "metadata": {}
  },
  {
   "cell_type": "code",
   "execution_count": 23,
   "source": [
    "# Cufflinks histogram\n",
    "\n",
    "dataset.iplot(kind='hist',\n",
    "                     title='VIZ TITLE',\n",
    "                     yTitle='AXIS TITLE',\n",
    "                     xTitle='AXIS TITLE')\n"
   ],
   "outputs": [
    {
     "output_type": "display_data",
     "data": {
      "application/vnd.plotly.v1+json": {
       "data": [
        {
         "histfunc": "count",
         "histnorm": "",
         "marker": {
          "color": "rgba(255, 153, 51, 1.0)",
          "line": {
           "color": "#4D5663",
           "width": 1.3
          }
         },
         "name": "Periodo",
         "opacity": 0.8,
         "orientation": "v",
         "x": [
          1980,
          1981,
          1982,
          1983,
          1984,
          1985,
          1986,
          1987,
          1988,
          1989,
          1990,
          1991,
          1992,
          1993,
          1994,
          1995,
          1996,
          1997,
          1998,
          1999,
          2000,
          2001,
          2002,
          2003,
          2004,
          2005,
          2006,
          2007,
          2008,
          2009,
          2010,
          2011,
          2012,
          2013,
          2014,
          2015,
          2016,
          2017,
          2018
         ],
         "type": "histogram"
        },
        {
         "histfunc": "count",
         "histnorm": "",
         "marker": {
          "color": "rgba(55, 128, 191, 1.0)",
          "line": {
           "color": "#4D5663",
           "width": 1.3
          }
         },
         "name": "001",
         "opacity": 0.8,
         "orientation": "v",
         "x": [
          1620,
          1404,
          1308,
          1212,
          1228,
          1056,
          1120,
          1008,
          956,
          888,
          864,
          676,
          672,
          764,
          928,
          972,
          852,
          868,
          1000,
          1068,
          1280,
          1264,
          1432,
          1632,
          1688,
          1724,
          1768,
          2036,
          1936,
          2000,
          3072,
          2892,
          3352,
          3204,
          3012,
          3580,
          3784,
          3820,
          4148
         ],
         "type": "histogram"
        },
        {
         "histfunc": "count",
         "histnorm": "",
         "marker": {
          "color": "rgba(50, 171, 96, 1.0)",
          "line": {
           "color": "#4D5663",
           "width": 1.3
          }
         },
         "name": "001-008",
         "opacity": 0.8,
         "orientation": "v",
         "x": [
          15768,
          15124,
          13488,
          13100,
          12928,
          13344,
          13452,
          14872,
          16860,
          20340,
          23508,
          26432,
          29948,
          33744,
          36200,
          40552,
          40456,
          29048,
          25412,
          26120,
          25136,
          26228,
          26944,
          29208,
          28872,
          29972,
          28804,
          31128,
          30848,
          27372,
          25956,
          25592,
          26080,
          24836,
          26032,
          30268,
          28132,
          27276,
          25592
         ],
         "type": "histogram"
        },
        {
         "histfunc": "count",
         "histnorm": "",
         "marker": {
          "color": "rgba(128, 0, 128, 1.0)",
          "line": {
           "color": "#4D5663",
           "width": 1.3
          }
         },
         "name": "001-102",
         "opacity": 0.8,
         "orientation": "v",
         "x": [
          1157376,
          1173544,
          1146620,
          1210276,
          1197636,
          1250128,
          1241652,
          1240292,
          1277748,
          1299184,
          1332568,
          1350764,
          1326060,
          1358644,
          1352968,
          1384908,
          1405796,
          1398084,
          1442044,
          1484408,
          1441564,
          1440524,
          1474472,
          1539312,
          1487736,
          1549420,
          1485912,
          1541444,
          1545296,
          1539732,
          1528188,
          1551644,
          1611800,
          1561676,
          1583320,
          1690272,
          1642444,
          1698092,
          1710884
         ],
         "type": "histogram"
        },
        {
         "histfunc": "count",
         "histnorm": "",
         "marker": {
          "color": "rgba(219, 64, 82, 1.0)",
          "line": {
           "color": "#4D5663",
           "width": 1.3
          }
         },
         "name": "002",
         "opacity": 0.8,
         "orientation": "v",
         "x": [
          5904,
          6332,
          5352,
          5152,
          4564,
          4504,
          4284,
          4248,
          3996,
          3772,
          3920,
          3612,
          3464,
          3328,
          3016,
          3008,
          2856,
          2584,
          2380,
          2640,
          2080,
          1960,
          1964,
          1892,
          1780,
          1900,
          1584,
          1636,
          1396,
          1576,
          1568,
          1152,
          1280,
          1164,
          1116,
          976,
          1000,
          968,
          996
         ],
         "type": "histogram"
        },
        {
         "histfunc": "count",
         "histnorm": "",
         "marker": {
          "color": "rgba(0, 128, 128, 1.0)",
          "line": {
           "color": "#4D5663",
           "width": 1.3
          }
         },
         "name": "003",
         "opacity": 0.8,
         "orientation": "v",
         "x": [
          2008,
          1656,
          1240,
          1072,
          964,
          636,
          744,
          552,
          460,
          364,
          280,
          424,
          316,
          284,
          248,
          196,
          524,
          404,
          240,
          360,
          336,
          204,
          324,
          228,
          248,
          220,
          172,
          248,
          160,
          132,
          88,
          172,
          72,
          84,
          32,
          60,
          80,
          48,
          60
         ],
         "type": "histogram"
        },
        {
         "histfunc": "count",
         "histnorm": "",
         "marker": {
          "color": "rgba(255, 255, 51, 1.0)",
          "line": {
           "color": "#4D5663",
           "width": 1.3
          }
         },
         "name": "004",
         "opacity": 0.8,
         "orientation": "v",
         "x": [
          3448,
          3344,
          3104,
          3152,
          3704,
          4512,
          4456,
          5008,
          6028,
          7600,
          7932,
          8820,
          9352,
          9760,
          8548,
          8928,
          8456,
          8340,
          8760,
          9660,
          9024,
          10424,
          10732,
          12652,
          12068,
          13676,
          13620,
          15596,
          16544,
          12800,
          11264,
          11896,
          11824,
          11668,
          13028,
          16728,
          15548,
          15200,
          12160
         ],
         "type": "histogram"
        },
        {
         "histfunc": "count",
         "histnorm": "",
         "marker": {
          "color": "rgba(128, 128, 0, 1.0)",
          "line": {
           "color": "#4D5663",
           "width": 1.3
          }
         },
         "name": "005",
         "opacity": 0.8,
         "orientation": "v",
         "x": [
          436,
          348,
          316,
          336,
          424,
          364,
          368,
          376,
          420,
          472,
          600,
          664,
          704,
          1108,
          1588,
          2104,
          2844,
          2880,
          3300,
          2984,
          3312,
          3696,
          3848,
          4176,
          4456,
          4268,
          4040,
          3976,
          3632,
          4268,
          3736,
          3472,
          3404,
          3364,
          3676,
          3624,
          3104,
          2516,
          2268
         ],
         "type": "histogram"
        },
        {
         "histfunc": "count",
         "histnorm": "",
         "marker": {
          "color": "rgba(251, 128, 114, 1.0)",
          "line": {
           "color": "#4D5663",
           "width": 1.3
          }
         },
         "name": "006",
         "opacity": 0.8,
         "orientation": "v",
         "x": [
          0,
          0,
          0,
          0,
          0,
          188,
          656,
          1636,
          3072,
          5152,
          7592,
          10012,
          13024,
          15920,
          19080,
          22204,
          21728,
          11376,
          7116,
          7208,
          6844,
          6528,
          6444,
          6528,
          6204,
          5800,
          5252,
          5228,
          4844,
          4316,
          4080,
          3812,
          3520,
          2996,
          2800,
          2532,
          1992,
          1768,
          1692
         ],
         "type": "histogram"
        },
        {
         "histfunc": "count",
         "histnorm": "",
         "marker": {
          "color": "rgba(128, 177, 211, 1.0)",
          "line": {
           "color": "#4D5663",
           "width": 1.3
          }
         },
         "name": "007",
         "opacity": 0.8,
         "orientation": "v",
         "x": [
          0,
          0,
          0,
          0,
          0,
          0,
          0,
          0,
          0,
          220,
          356,
          412,
          656,
          748,
          864,
          960,
          1068,
          540,
          296,
          40,
          24,
          12,
          12,
          12,
          12,
          0,
          8,
          24,
          16,
          0,
          0,
          0,
          0,
          4,
          0,
          0,
          0,
          0,
          0
         ],
         "type": "histogram"
        },
        {
         "histfunc": "count",
         "histnorm": "",
         "marker": {
          "color": "rgba(128, 177, 211, 0.9322033898305084)",
          "line": {
           "color": "#4D5663",
           "width": 1.3
          }
         },
         "name": "008",
         "opacity": 0.8,
         "orientation": "v",
         "x": [
          2352,
          2040,
          2168,
          2176,
          2044,
          2084,
          1824,
          2044,
          1928,
          1872,
          1964,
          1812,
          1760,
          1832,
          1928,
          2180,
          2128,
          2056,
          2320,
          2160,
          2236,
          2140,
          2188,
          2088,
          2416,
          2384,
          2360,
          2384,
          2320,
          2280,
          2148,
          2196,
          2628,
          2352,
          2368,
          2768,
          2624,
          2956,
          4268
         ],
         "type": "histogram"
        },
        {
         "histfunc": "count",
         "histnorm": "",
         "marker": {
          "color": "rgba(255, 153, 51, 0.9322033898305084)",
          "line": {
           "color": "#4D5663",
           "width": 1.3
          }
         },
         "name": "009",
         "opacity": 0.8,
         "orientation": "v",
         "x": [
          4276,
          4720,
          4976,
          5016,
          5808,
          5776,
          6456,
          7004,
          7232,
          7328,
          7600,
          8504,
          8436,
          8572,
          8848,
          8724,
          8292,
          9072,
          8820,
          8688,
          8744,
          8744,
          8896,
          8804,
          8912,
          8792,
          8588,
          8816,
          8264,
          8616,
          9108,
          9268,
          9100,
          9836,
          9360,
          9300,
          9712,
          9828,
          9640
         ],
         "type": "histogram"
        },
        {
         "histfunc": "count",
         "histnorm": "",
         "marker": {
          "color": "rgba(55, 128, 191, 0.9322033898305084)",
          "line": {
           "color": "#4D5663",
           "width": 1.3
          }
         },
         "name": "009-041",
         "opacity": 0.8,
         "orientation": "v",
         "x": [
          233924,
          238852,
          246032,
          253940,
          266460,
          275476,
          283128,
          295472,
          305476,
          311340,
          319428,
          326268,
          332940,
          344080,
          352552,
          359756,
          358744,
          366060,
          371784,
          378264,
          380288,
          390856,
          391136,
          399304,
          401940,
          400824,
          406732,
          413316,
          416216,
          420528,
          428880,
          437364,
          443972,
          444084,
          441112,
          445524,
          451756,
          453064,
          450856
         ],
         "type": "histogram"
        },
        {
         "histfunc": "count",
         "histnorm": "",
         "marker": {
          "color": "rgba(50, 171, 96, 0.9322033898305084)",
          "line": {
           "color": "#4D5663",
           "width": 1.3
          }
         },
         "name": "010",
         "opacity": 0.8,
         "orientation": "v",
         "x": [
          5908,
          5864,
          6524,
          6312,
          6396,
          6280,
          6660,
          6832,
          6616,
          6812,
          7044,
          6716,
          7136,
          7048,
          7156,
          7164,
          7288,
          7048,
          7188,
          7012,
          7160,
          7152,
          6960,
          7308,
          7328,
          7024,
          7040,
          7108,
          7156,
          7080,
          7232,
          7500,
          7152,
          7192,
          7336,
          7724,
          7364,
          7400,
          7296
         ],
         "type": "histogram"
        },
        {
         "histfunc": "count",
         "histnorm": "",
         "marker": {
          "color": "rgba(128, 0, 128, 0.9322033898305084)",
          "line": {
           "color": "#4D5663",
           "width": 1.3
          }
         },
         "name": "011",
         "opacity": 0.8,
         "orientation": "v",
         "x": [
          30448,
          29188,
          28500,
          28292,
          28772,
          28560,
          28200,
          28840,
          28468,
          28028,
          27552,
          26852,
          26428,
          26648,
          26940,
          26228,
          25648,
          25824,
          24368,
          24680,
          24368,
          24444,
          23144,
          23448,
          23244,
          22724,
          22864,
          22988,
          22512,
          22784,
          23404,
          22424,
          22728,
          22504,
          22136,
          22024,
          21672,
          20616,
          20212
         ],
         "type": "histogram"
        },
        {
         "histfunc": "count",
         "histnorm": "",
         "marker": {
          "color": "rgba(219, 64, 82, 0.9322033898305084)",
          "line": {
           "color": "#4D5663",
           "width": 1.3
          }
         },
         "name": "012",
         "opacity": 0.8,
         "orientation": "v",
         "x": [
          10044,
          10736,
          11244,
          12516,
          13988,
          15248,
          17952,
          18980,
          21036,
          20700,
          22456,
          23648,
          25420,
          28052,
          29064,
          30228,
          30648,
          31832,
          33440,
          33992,
          35088,
          36476,
          36504,
          37892,
          39212,
          39436,
          39716,
          41636,
          42416,
          43384,
          44964,
          46748,
          47072,
          47400,
          47188,
          46104,
          47124,
          45624,
          45060
         ],
         "type": "histogram"
        },
        {
         "histfunc": "count",
         "histnorm": "",
         "marker": {
          "color": "rgba(0, 128, 128, 0.9322033898305084)",
          "line": {
           "color": "#4D5663",
           "width": 1.3
          }
         },
         "name": "013",
         "opacity": 0.8,
         "orientation": "v",
         "x": [
          8120,
          7888,
          8076,
          8268,
          8272,
          8644,
          7820,
          8568,
          9020,
          8808,
          9400,
          9788,
          8992,
          9380,
          10008,
          10272,
          10980,
          10724,
          10824,
          11208,
          11524,
          11708,
          12336,
          12032,
          12672,
          12300,
          12688,
          12428,
          12848,
          13568,
          14568,
          14780,
          15344,
          15000,
          14716,
          15416,
          16048,
          16016,
          16092
         ],
         "type": "histogram"
        },
        {
         "histfunc": "count",
         "histnorm": "",
         "marker": {
          "color": "rgba(255, 255, 51, 0.9322033898305084)",
          "line": {
           "color": "#4D5663",
           "width": 1.3
          }
         },
         "name": "014",
         "opacity": 0.8,
         "orientation": "v",
         "x": [
          16784,
          15940,
          15896,
          16488,
          16728,
          15840,
          15660,
          15616,
          16000,
          16564,
          16460,
          16304,
          16856,
          16560,
          16444,
          17032,
          16832,
          17204,
          17348,
          17220,
          17024,
          17560,
          17780,
          17588,
          17740,
          17384,
          17760,
          18176,
          18112,
          18440,
          19068,
          19664,
          20064,
          20328,
          20220,
          20176,
          19956,
          20768,
          20564
         ],
         "type": "histogram"
        },
        {
         "histfunc": "count",
         "histnorm": "",
         "marker": {
          "color": "rgba(128, 128, 0, 0.9322033898305084)",
          "line": {
           "color": "#4D5663",
           "width": 1.3
          }
         },
         "name": "015",
         "opacity": 0.8,
         "orientation": "v",
         "x": [
          6884,
          7520,
          7892,
          8056,
          9104,
          9520,
          9884,
          10412,
          10784,
          11184,
          11792,
          11808,
          12184,
          12940,
          13836,
          13488,
          13872,
          14540,
          14492,
          15308,
          16000,
          16864,
          17132,
          17728,
          18196,
          18364,
          19440,
          19904,
          20932,
          20968,
          22864,
          23248,
          23904,
          24156,
          25148,
          25624,
          27156,
          27472,
          28480
         ],
         "type": "histogram"
        },
        {
         "histfunc": "count",
         "histnorm": "",
         "marker": {
          "color": "rgba(251, 128, 114, 0.9322033898305084)",
          "line": {
           "color": "#4D5663",
           "width": 1.3
          }
         },
         "name": "016",
         "opacity": 0.8,
         "orientation": "v",
         "x": [
          10768,
          10672,
          11732,
          11432,
          11392,
          10444,
          9864,
          10556,
          10380,
          10972,
          10628,
          11028,
          10448,
          11012,
          11012,
          11096,
          10336,
          10088,
          10528,
          10184,
          10176,
          10260,
          10156,
          9892,
          9584,
          9704,
          9636,
          9552,
          9232,
          9060,
          9324,
          9460,
          9732,
          9640,
          9912,
          9784,
          10064,
          10160,
          10280
         ],
         "type": "histogram"
        },
        {
         "histfunc": "count",
         "histnorm": "",
         "marker": {
          "color": "rgba(251, 128, 114, 0.8644067796610169)",
          "line": {
           "color": "#4D5663",
           "width": 1.3
          }
         },
         "name": "017",
         "opacity": 0.8,
         "orientation": "v",
         "x": [
          7152,
          7168,
          7268,
          7232,
          7196,
          7112,
          7736,
          7508,
          7592,
          7824,
          7904,
          7780,
          7744,
          7940,
          7540,
          7572,
          7440,
          7636,
          7004,
          7404,
          7264,
          7108,
          6976,
          6852,
          6500,
          6400,
          6164,
          5992,
          6192,
          5892,
          6024,
          6096,
          5920,
          5456,
          5240,
          5256,
          5280,
          5440,
          5044
         ],
         "type": "histogram"
        },
        {
         "histfunc": "count",
         "histnorm": "",
         "marker": {
          "color": "rgba(128, 177, 211, 0.8644067796610169)",
          "line": {
           "color": "#4D5663",
           "width": 1.3
          }
         },
         "name": "018",
         "opacity": 0.8,
         "orientation": "v",
         "x": [
          35084,
          37944,
          39312,
          41312,
          43740,
          45396,
          46600,
          50032,
          52612,
          54508,
          55928,
          58088,
          60164,
          62296,
          64144,
          66040,
          65080,
          66428,
          68860,
          69712,
          69452,
          72856,
          72456,
          75204,
          76368,
          76472,
          78128,
          79968,
          80852,
          81700,
          83020,
          84388,
          86044,
          86756,
          85080,
          86500,
          88748,
          88484,
          88612
         ],
         "type": "histogram"
        },
        {
         "histfunc": "count",
         "histnorm": "",
         "marker": {
          "color": "rgba(255, 153, 51, 0.8644067796610169)",
          "line": {
           "color": "#4D5663",
           "width": 1.3
          }
         },
         "name": "019",
         "opacity": 0.8,
         "orientation": "v",
         "x": [
          1280,
          1300,
          1424,
          1288,
          1452,
          1256,
          1300,
          1304,
          1296,
          1440,
          1484,
          1608,
          1652,
          1736,
          1728,
          1844,
          1644,
          1652,
          1784,
          1948,
          2124,
          2092,
          2112,
          1820,
          1968,
          1916,
          1964,
          2064,
          2140,
          2108,
          1992,
          2280,
          2236,
          2088,
          1992,
          1988,
          1976,
          2088,
          1940
         ],
         "type": "histogram"
        },
        {
         "histfunc": "count",
         "histnorm": "",
         "marker": {
          "color": "rgba(55, 128, 191, 0.8644067796610169)",
          "line": {
           "color": "#4D5663",
           "width": 1.3
          }
         },
         "name": "020",
         "opacity": 0.8,
         "orientation": "v",
         "x": [
          2664,
          2864,
          2924,
          2800,
          2908,
          2248,
          1772,
          2008,
          1952,
          1900,
          1588,
          1548,
          1568,
          1444,
          1456,
          1432,
          1284,
          1356,
          1452,
          1168,
          1036,
          1044,
          1064,
          1096,
          1152,
          1132,
          1216,
          1044,
          1152,
          1040,
          1252,
          1224,
          1204,
          1160,
          1260,
          1320,
          1240,
          1256,
          1308
         ],
         "type": "histogram"
        },
        {
         "histfunc": "count",
         "histnorm": "",
         "marker": {
          "color": "rgba(50, 171, 96, 0.8644067796610169)",
          "line": {
           "color": "#4D5663",
           "width": 1.3
          }
         },
         "name": "021",
         "opacity": 0.8,
         "orientation": "v",
         "x": [
          724,
          776,
          776,
          1064,
          1248,
          1236,
          1340,
          1472,
          1548,
          1856,
          1872,
          1936,
          2152,
          2080,
          2348,
          2556,
          2564,
          2436,
          2956,
          2744,
          2804,
          2968,
          2972,
          3056,
          3044,
          3360,
          3336,
          3400,
          3508,
          3456,
          3900,
          3708,
          3744,
          3948,
          4236,
          4320,
          3836,
          3968,
          3928
         ],
         "type": "histogram"
        },
        {
         "histfunc": "count",
         "histnorm": "",
         "marker": {
          "color": "rgba(128, 0, 128, 0.8644067796610169)",
          "line": {
           "color": "#4D5663",
           "width": 1.3
          }
         },
         "name": "022",
         "opacity": 0.8,
         "orientation": "v",
         "x": [
          2148,
          2408,
          2192,
          2460,
          3940,
          3460,
          3124,
          3260,
          3220,
          3356,
          3500,
          3388,
          3468,
          3676,
          3712,
          3744,
          3616,
          3704,
          3900,
          3768,
          3812,
          4068,
          4100,
          3968,
          4012,
          4208,
          4300,
          4676,
          4552,
          4816,
          4992,
          5288,
          5636,
          5376,
          5528,
          5696,
          5932,
          6312,
          6208
         ],
         "type": "histogram"
        },
        {
         "histfunc": "count",
         "histnorm": "",
         "marker": {
          "color": "rgba(219, 64, 82, 0.8644067796610169)",
          "line": {
           "color": "#4D5663",
           "width": 1.3
          }
         },
         "name": "023",
         "opacity": 0.8,
         "orientation": "v",
         "x": [
          14624,
          14696,
          15704,
          16096,
          17108,
          17360,
          18428,
          19712,
          20728,
          21288,
          21736,
          21992,
          22708,
          23836,
          23684,
          24312,
          23228,
          23312,
          23348,
          23100,
          22928,
          23888,
          23368,
          23908,
          23564,
          23168,
          24080,
          24184,
          24488,
          24800,
          25484,
          25596,
          25500,
          26356,
          25300,
          25240,
          25908,
          26292,
          26484
         ],
         "type": "histogram"
        },
        {
         "histfunc": "count",
         "histnorm": "",
         "marker": {
          "color": "rgba(0, 128, 128, 0.8644067796610169)",
          "line": {
           "color": "#4D5663",
           "width": 1.3
          }
         },
         "name": "024",
         "opacity": 0.8,
         "orientation": "v",
         "x": [
          1252,
          1256,
          1248,
          1376,
          1532,
          1640,
          1580,
          1760,
          1896,
          1948,
          2084,
          1952,
          1988,
          2064,
          2120,
          2384,
          2028,
          2264,
          2256,
          2096,
          2388,
          2196,
          2132,
          2148,
          2156,
          2376,
          2416,
          2516,
          2464,
          2572,
          2668,
          2716,
          2668,
          2560,
          2360,
          2636,
          2480,
          2720,
          2552
         ],
         "type": "histogram"
        },
        {
         "histfunc": "count",
         "histnorm": "",
         "marker": {
          "color": "rgba(255, 255, 51, 0.8644067796610169)",
          "line": {
           "color": "#4D5663",
           "width": 1.3
          }
         },
         "name": "025",
         "opacity": 0.8,
         "orientation": "v",
         "x": [
          6384,
          6412,
          6328,
          6160,
          5812,
          5848,
          5436,
          5608,
          5628,
          5268,
          5160,
          5212,
          5288,
          5068,
          5144,
          4976,
          5104,
          4848,
          4964,
          5000,
          4824,
          4928,
          5036,
          5232,
          4812,
          5064,
          5348,
          5252,
          5428,
          5484,
          5956,
          6452,
          6036,
          6656,
          6404,
          6440,
          6460,
          6312,
          6332
         ],
         "type": "histogram"
        },
        {
         "histfunc": "count",
         "histnorm": "",
         "marker": {
          "color": "rgba(128, 128, 0, 0.8644067796610169)",
          "line": {
           "color": "#4D5663",
           "width": 1.3
          }
         },
         "name": "026",
         "opacity": 0.8,
         "orientation": "v",
         "x": [
          2500,
          2580,
          2756,
          2924,
          3416,
          3336,
          3464,
          4088,
          4120,
          4452,
          4500,
          4996,
          5252,
          5392,
          5436,
          6140,
          6256,
          6140,
          6448,
          6404,
          6420,
          6780,
          6792,
          7040,
          6852,
          6948,
          7040,
          7380,
          7328,
          7260,
          7772,
          7664,
          7548,
          7492,
          7824,
          7840,
          7840,
          8100,
          7796
         ],
         "type": "histogram"
        },
        {
         "histfunc": "count",
         "histnorm": "",
         "marker": {
          "color": "rgba(128, 128, 0, 0.7966101694915255)",
          "line": {
           "color": "#4D5663",
           "width": 1.3
          }
         },
         "name": "027",
         "opacity": 0.8,
         "orientation": "v",
         "x": [
          1424,
          1500,
          1524,
          1544,
          1484,
          1592,
          1440,
          1684,
          1768,
          1756,
          1824,
          1720,
          1580,
          1776,
          2028,
          1700,
          1684,
          1816,
          1840,
          1888,
          1848,
          1964,
          1976,
          2032,
          1888,
          1888,
          1804,
          1880,
          1924,
          2004,
          1896,
          2120,
          2124,
          2196,
          2220,
          2156,
          2268,
          2276,
          2328
         ],
         "type": "histogram"
        },
        {
         "histfunc": "count",
         "histnorm": "",
         "marker": {
          "color": "rgba(251, 128, 114, 0.7966101694915255)",
          "line": {
           "color": "#4D5663",
           "width": 1.3
          }
         },
         "name": "028",
         "opacity": 0.8,
         "orientation": "v",
         "x": [
          12480,
          13000,
          12600,
          13476,
          13996,
          14676,
          15284,
          15848,
          16176,
          16460,
          17256,
          17648,
          18252,
          19672,
          20476,
          21112,
          21868,
          21884,
          22968,
          22580,
          21824,
          22636,
          22712,
          22424,
          22776,
          22048,
          21648,
          22336,
          21856,
          22088,
          23500,
          24136,
          24180,
          23148,
          23452,
          23028,
          23008,
          23752,
          23364
         ],
         "type": "histogram"
        },
        {
         "histfunc": "count",
         "histnorm": "",
         "marker": {
          "color": "rgba(128, 177, 211, 0.7966101694915255)",
          "line": {
           "color": "#4D5663",
           "width": 1.3
          }
         },
         "name": "029",
         "opacity": 0.8,
         "orientation": "v",
         "x": [
          476,
          516,
          500,
          504,
          528,
          588,
          500,
          572,
          576,
          640,
          512,
          468,
          732,
          616,
          560,
          656,
          564,
          604,
          500,
          548,
          636,
          692,
          548,
          604,
          536,
          724,
          604,
          640,
          660,
          576,
          776,
          712,
          640,
          692,
          772,
          704,
          728,
          676,
          812
         ],
         "type": "histogram"
        },
        {
         "histfunc": "count",
         "histnorm": "",
         "marker": {
          "color": "rgba(255, 153, 51, 0.7966101694915255)",
          "line": {
           "color": "#4D5663",
           "width": 1.3
          }
         },
         "name": "030",
         "opacity": 0.8,
         "orientation": "v",
         "x": [
          2544,
          2820,
          2840,
          3116,
          3084,
          3224,
          3348,
          3684,
          4008,
          4100,
          4152,
          4560,
          4532,
          5136,
          5160,
          5316,
          5580,
          5796,
          5672,
          5748,
          6116,
          6164,
          5884,
          6576,
          6504,
          6588,
          7028,
          6828,
          7240,
          7328,
          7736,
          7692,
          8208,
          8364,
          8172,
          8724,
          8380,
          8668,
          8524
         ],
         "type": "histogram"
        },
        {
         "histfunc": "count",
         "histnorm": "",
         "marker": {
          "color": "rgba(55, 128, 191, 0.7966101694915255)",
          "line": {
           "color": "#4D5663",
           "width": 1.3
          }
         },
         "name": "031",
         "opacity": 0.8,
         "orientation": "v",
         "x": [
          8304,
          8388,
          8976,
          9300,
          9724,
          10428,
          10852,
          11304,
          11768,
          12316,
          12412,
          12720,
          13588,
          14244,
          14364,
          14128,
          13764,
          15000,
          14808,
          15684,
          15656,
          16436,
          16788,
          17172,
          17984,
          17720,
          18104,
          18284,
          18816,
          18928,
          19744,
          20340,
          21012,
          20612,
          19200,
          19196,
          19444,
          18480,
          17600
         ],
         "type": "histogram"
        },
        {
         "histfunc": "count",
         "histnorm": "",
         "marker": {
          "color": "rgba(50, 171, 96, 0.7966101694915255)",
          "line": {
           "color": "#4D5663",
           "width": 1.3
          }
         },
         "name": "032",
         "opacity": 0.8,
         "orientation": "v",
         "x": [
          320,
          188,
          152,
          284,
          368,
          208,
          268,
          384,
          412,
          496,
          444,
          560,
          536,
          608,
          604,
          784,
          764,
          944,
          844,
          564,
          592,
          624,
          700,
          668,
          744,
          888,
          876,
          1244,
          1296,
          1544,
          1816,
          2164,
          2332,
          2808,
          3496,
          4572,
          5368,
          5792,
          6104
         ],
         "type": "histogram"
        },
        {
         "histfunc": "count",
         "histnorm": "",
         "marker": {
          "color": "rgba(128, 0, 128, 0.7966101694915255)",
          "line": {
           "color": "#4D5663",
           "width": 1.3
          }
         },
         "name": "033",
         "opacity": 0.8,
         "orientation": "v",
         "x": [
          7212,
          7488,
          8080,
          8024,
          7328,
          4948,
          4696,
          5816,
          5952,
          5632,
          5848,
          6188,
          6504,
          7144,
          7276,
          7712,
          7936,
          8088,
          8416,
          8500,
          8736,
          8816,
          9580,
          9636,
          9544,
          9584,
          10036,
          10268,
          10092,
          10032,
          10544,
          11108,
          11636,
          11448,
          11332,
          11536,
          11896,
          12288,
          12096
         ],
         "type": "histogram"
        },
        {
         "histfunc": "count",
         "histnorm": "",
         "marker": {
          "color": "rgba(219, 64, 82, 0.7966101694915255)",
          "line": {
           "color": "#4D5663",
           "width": 1.3
          }
         },
         "name": "034",
         "opacity": 0.8,
         "orientation": "v",
         "x": [
          1544,
          1480,
          1608,
          1516,
          1564,
          1492,
          1404,
          1592,
          1624,
          1804,
          1908,
          1788,
          1976,
          1852,
          1784,
          1856,
          1980,
          1964,
          2144,
          2116,
          2244,
          2336,
          2144,
          2320,
          2264,
          2280,
          2468,
          2484,
          2504,
          2396,
          2576,
          2636,
          2620,
          2692,
          2540,
          2468,
          2412,
          2504,
          2272
         ],
         "type": "histogram"
        },
        {
         "histfunc": "count",
         "histnorm": "",
         "marker": {
          "color": "rgba(0, 128, 128, 0.7966101694915255)",
          "line": {
           "color": "#4D5663",
           "width": 1.3
          }
         },
         "name": "035",
         "opacity": 0.8,
         "orientation": "v",
         "x": [
          18284,
          18164,
          19420,
          19876,
          19956,
          21668,
          23992,
          21892,
          22540,
          22348,
          23180,
          24364,
          24016,
          23544,
          23812,
          23964,
          25556,
          25276,
          24888,
          27836,
          28088,
          27764,
          29252,
          29720,
          29524,
          29228,
          29808,
          29428,
          28744,
          27968,
          20008,
          20152,
          19764,
          19476,
          19384,
          19192,
          19156,
          18992,
          19828
         ],
         "type": "histogram"
        },
        {
         "histfunc": "count",
         "histnorm": "",
         "marker": {
          "color": "rgba(255, 255, 51, 0.7966101694915255)",
          "line": {
           "color": "#4D5663",
           "width": 1.3
          }
         },
         "name": "036",
         "opacity": 0.8,
         "orientation": "v",
         "x": [
          6296,
          6532,
          6776,
          7296,
          8052,
          8464,
          8808,
          9812,
          10296,
          10972,
          11636,
          11744,
          12504,
          12280,
          13976,
          14824,
          14480,
          15320,
          15572,
          16448,
          16984,
          17344,
          16868,
          17476,
          17084,
          17200,
          16496,
          17152,
          17804,
          17840,
          17948,
          18940,
          19276,
          19328,
          19712,
          19452,
          19640,
          20192,
          19816
         ],
         "type": "histogram"
        },
        {
         "histfunc": "count",
         "histnorm": "",
         "marker": {
          "color": "rgba(255, 255, 51, 0.728813559322034)",
          "line": {
           "color": "#4D5663",
           "width": 1.3
          }
         },
         "name": "037",
         "opacity": 0.8,
         "orientation": "v",
         "x": [
          7104,
          7952,
          7880,
          8260,
          8424,
          8944,
          8536,
          9060,
          9656,
          9428,
          9588,
          9888,
          9908,
          9724,
          10524,
          10528,
          10668,
          10532,
          11276,
          11032,
          11524,
          11540,
          11660,
          12220,
          12396,
          12036,
          12608,
          12348,
          12188,
          12336,
          13092,
          13224,
          14124,
          13876,
          13556,
          14364,
          13676,
          13816,
          13532
         ],
         "type": "histogram"
        },
        {
         "histfunc": "count",
         "histnorm": "",
         "marker": {
          "color": "rgba(128, 128, 0, 0.728813559322034)",
          "line": {
           "color": "#4D5663",
           "width": 1.3
          }
         },
         "name": "038",
         "opacity": 0.8,
         "orientation": "v",
         "x": [
          4,
          4,
          12,
          12,
          8,
          60,
          28,
          24,
          0,
          16,
          12,
          4,
          4,
          8,
          0,
          0,
          12,
          8,
          4,
          12,
          8,
          4,
          12,
          8,
          16,
          12,
          12,
          28,
          20,
          36,
          32,
          36,
          36,
          36,
          28,
          44,
          40,
          36,
          36
         ],
         "type": "histogram"
        },
        {
         "histfunc": "count",
         "histnorm": "",
         "marker": {
          "color": "rgba(251, 128, 114, 0.728813559322034)",
          "line": {
           "color": "#4D5663",
           "width": 1.3
          }
         },
         "name": "039",
         "opacity": 0.8,
         "orientation": "v",
         "x": [
          528,
          448,
          384,
          456,
          588,
          596,
          788,
          864,
          1004,
          928,
          984,
          1108,
          992,
          1160,
          1148,
          1192,
          1248,
          1184,
          1272,
          1488,
          1304,
          1444,
          1516,
          1688,
          1444,
          1604,
          1592,
          1632,
          1832,
          1772,
          2328,
          2048,
          2440,
          2376,
          2500,
          2328,
          2412,
          2512,
          2440
         ],
         "type": "histogram"
        },
        {
         "histfunc": "count",
         "histnorm": "",
         "marker": {
          "color": "rgba(128, 177, 211, 0.728813559322034)",
          "line": {
           "color": "#4D5663",
           "width": 1.3
          }
         },
         "name": "040",
         "opacity": 0.8,
         "orientation": "v",
         "x": [
          144,
          160,
          140,
          188,
          232,
          236,
          224,
          200,
          320,
          464,
          772,
          844,
          1056,
          1316,
          1132,
          1520,
          1664,
          1996,
          2148,
          2716,
          2692,
          2720,
          2876,
          2952,
          2928,
          3240,
          3012,
          3048,
          3112,
          3372,
          3472,
          3616,
          3928,
          4148,
          4060,
          4324,
          4544,
          4820,
          4568
         ],
         "type": "histogram"
        },
        {
         "histfunc": "count",
         "histnorm": "",
         "marker": {
          "color": "rgba(255, 153, 51, 0.728813559322034)",
          "line": {
           "color": "#4D5663",
           "width": 1.3
          }
         },
         "name": "041",
         "opacity": 0.8,
         "orientation": "v",
         "x": [
          216,
          280,
          368,
          996,
          2312,
          9148,
          9684,
          9176,
          9248,
          9744,
          10212,
          9516,
          8876,
          9256,
          9088,
          9232,
          8836,
          9540,
          9452,
          9468,
          8900,
          9236,
          8704,
          8792,
          8992,
          9012,
          8912,
          8632,
          8552,
          9280,
          9820,
          9936,
          10020,
          8980,
          9448,
          10048,
          9988,
          9404,
          9708
         ],
         "type": "histogram"
        },
        {
         "histfunc": "count",
         "histnorm": "",
         "marker": {
          "color": "rgba(55, 128, 191, 0.728813559322034)",
          "line": {
           "color": "#4D5663",
           "width": 1.3
          }
         },
         "name": "042",
         "opacity": 0.8,
         "orientation": "v",
         "x": [
          2816,
          2876,
          2604,
          2872,
          3112,
          3232,
          3384,
          3652,
          3636,
          4064,
          4256,
          4708,
          4332,
          4720,
          4708,
          4644,
          4708,
          4700,
          5156,
          4092,
          4452,
          4088,
          4672,
          4616,
          4744,
          4892,
          4564,
          4800,
          4960,
          5376,
          5608,
          5636,
          5740,
          6004,
          6500,
          7376,
          6848,
          7108,
          6920
         ],
         "type": "histogram"
        },
        {
         "histfunc": "count",
         "histnorm": "",
         "marker": {
          "color": "rgba(50, 171, 96, 0.728813559322034)",
          "line": {
           "color": "#4D5663",
           "width": 1.3
          }
         },
         "name": "042-043",
         "opacity": 0.8,
         "orientation": "v",
         "x": [
          2844,
          2924,
          2636,
          2960,
          3212,
          3396,
          3524,
          3820,
          3804,
          4292,
          4524,
          4988,
          4632,
          5048,
          5080,
          5020,
          5048,
          5048,
          5364,
          4496,
          4840,
          4472,
          5024,
          4976,
          5164,
          5264,
          4908,
          5156,
          5368,
          5872,
          6076,
          6112,
          6220,
          6556,
          7136,
          8112,
          7544,
          7892,
          7784
         ],
         "type": "histogram"
        },
        {
         "histfunc": "count",
         "histnorm": "",
         "marker": {
          "color": "rgba(128, 0, 128, 0.728813559322034)",
          "line": {
           "color": "#4D5663",
           "width": 1.3
          }
         },
         "name": "043",
         "opacity": 0.8,
         "orientation": "v",
         "x": [
          28,
          48,
          32,
          88,
          100,
          164,
          140,
          168,
          168,
          228,
          268,
          280,
          300,
          328,
          372,
          376,
          340,
          348,
          208,
          404,
          388,
          384,
          352,
          360,
          420,
          372,
          344,
          356,
          408,
          496,
          468,
          476,
          480,
          552,
          636,
          736,
          696,
          784,
          864
         ],
         "type": "histogram"
        },
        {
         "histfunc": "count",
         "histnorm": "",
         "marker": {
          "color": "rgba(219, 64, 82, 0.728813559322034)",
          "line": {
           "color": "#4D5663",
           "width": 1.3
          }
         },
         "name": "044",
         "opacity": 0.8,
         "orientation": "v",
         "x": [
          27848,
          29292,
          30164,
          32160,
          33528,
          33812,
          34668,
          35220,
          35552,
          35520,
          35956,
          36556,
          34232,
          35680,
          35908,
          36604,
          35916,
          35476,
          38132,
          38880,
          37012,
          38324,
          39016,
          40396,
          39864,
          41356,
          38700,
          40608,
          40612,
          39940,
          39196,
          39980,
          39948,
          37564,
          38500,
          40724,
          37240,
          39092,
          39684
         ],
         "type": "histogram"
        },
        {
         "histfunc": "count",
         "histnorm": "",
         "marker": {
          "color": "rgba(0, 128, 128, 0.728813559322034)",
          "line": {
           "color": "#4D5663",
           "width": 1.3
          }
         },
         "name": "044-045",
         "opacity": 0.8,
         "orientation": "v",
         "x": [
          31388,
          32716,
          33536,
          35936,
          37392,
          38124,
          38956,
          39468,
          40148,
          40400,
          41324,
          41864,
          39596,
          41252,
          41552,
          42836,
          42368,
          42100,
          44840,
          45528,
          43568,
          44892,
          46372,
          48588,
          47672,
          49684,
          46092,
          48948,
          49348,
          49848,
          50392,
          51156,
          51296,
          48824,
          52052,
          56260,
          50800,
          53184,
          53860
         ],
         "type": "histogram"
        },
        {
         "histfunc": "count",
         "histnorm": "",
         "marker": {
          "color": "rgba(0, 128, 128, 0.6610169491525424)",
          "line": {
           "color": "#4D5663",
           "width": 1.3
          }
         },
         "name": "045",
         "opacity": 0.8,
         "orientation": "v",
         "x": [
          3540,
          3424,
          3372,
          3776,
          3864,
          4312,
          4288,
          4248,
          4596,
          4880,
          5368,
          5308,
          5364,
          5572,
          5644,
          6232,
          6452,
          6624,
          6708,
          6648,
          6556,
          6568,
          7356,
          8192,
          7808,
          8328,
          7392,
          8340,
          8736,
          9908,
          11196,
          11176,
          11348,
          11260,
          13552,
          15536,
          13560,
          14092,
          14176
         ],
         "type": "histogram"
        },
        {
         "histfunc": "count",
         "histnorm": "",
         "marker": {
          "color": "rgba(255, 255, 51, 0.6610169491525424)",
          "line": {
           "color": "#4D5663",
           "width": 1.3
          }
         },
         "name": "046",
         "opacity": 0.8,
         "orientation": "v",
         "x": [
          1588,
          1976,
          1996,
          3776,
          4812,
          6468,
          7968,
          10172,
          11728,
          15356,
          19468,
          23472,
          24936,
          27652,
          31556,
          35208,
          38540,
          40872,
          44628,
          43304,
          42456,
          42680,
          43928,
          48852,
          44232,
          47024,
          45712,
          46904,
          49520,
          55004,
          56500,
          58392,
          65540,
          65292,
          71856,
          82248,
          80852,
          84140,
          86676
         ],
         "type": "histogram"
        },
        {
         "histfunc": "count",
         "histnorm": "",
         "marker": {
          "color": "rgba(128, 128, 0, 0.6610169491525424)",
          "line": {
           "color": "#4D5663",
           "width": 1.3
          }
         },
         "name": "046-049",
         "opacity": 0.8,
         "orientation": "v",
         "x": [
          3600,
          3940,
          3872,
          5944,
          6788,
          8328,
          9896,
          12136,
          13980,
          17616,
          21772,
          25904,
          27208,
          29976,
          33916,
          37572,
          40920,
          43180,
          47184,
          46080,
          44596,
          45384,
          46728,
          52288,
          47512,
          50156,
          48428,
          49240,
          52160,
          57824,
          59284,
          61104,
          68580,
          67908,
          74824,
          85332,
          83920,
          86888,
          89504
         ],
         "type": "histogram"
        },
        {
         "histfunc": "count",
         "histnorm": "",
         "marker": {
          "color": "rgba(251, 128, 114, 0.6610169491525424)",
          "line": {
           "color": "#4D5663",
           "width": 1.3
          }
         },
         "name": "047",
         "opacity": 0.8,
         "orientation": "v",
         "x": [
          1340,
          1336,
          1292,
          1444,
          1196,
          1184,
          1148,
          1120,
          1220,
          1216,
          1264,
          1288,
          1120,
          1188,
          1220,
          1148,
          1188,
          1020,
          1080,
          1296,
          1124,
          1388,
          1132,
          1312,
          1328,
          1212,
          1216,
          1032,
          1000,
          1112,
          1144,
          1152,
          1192,
          1012,
          1040,
          1112,
          996,
          932,
          920
         ],
         "type": "histogram"
        },
        {
         "histfunc": "count",
         "histnorm": "",
         "marker": {
          "color": "rgba(128, 177, 211, 0.6610169491525424)",
          "line": {
           "color": "#4D5663",
           "width": 1.3
          }
         },
         "name": "048",
         "opacity": 0.8,
         "orientation": "v",
         "x": [
          60,
          68,
          96,
          108,
          276,
          128,
          148,
          184,
          256,
          296,
          344,
          400,
          328,
          288,
          244,
          260,
          348,
          300,
          256,
          200,
          136,
          156,
          508,
          632,
          724,
          496,
          328,
          180,
          304,
          200,
          192,
          120,
          136,
          88,
          104,
          108,
          104,
          56,
          168
         ],
         "type": "histogram"
        },
        {
         "histfunc": "count",
         "histnorm": "",
         "marker": {
          "color": "rgba(255, 153, 51, 0.6610169491525424)",
          "line": {
           "color": "#4D5663",
           "width": 1.3
          }
         },
         "name": "049",
         "opacity": 0.8,
         "orientation": "v",
         "x": [
          612,
          560,
          488,
          616,
          504,
          548,
          632,
          660,
          776,
          748,
          696,
          744,
          824,
          848,
          896,
          956,
          844,
          988,
          1220,
          1280,
          880,
          1160,
          1160,
          1492,
          1228,
          1424,
          1172,
          1124,
          1336,
          1508,
          1448,
          1440,
          1712,
          1516,
          1824,
          1864,
          1968,
          1760,
          1740
         ],
         "type": "histogram"
        },
        {
         "histfunc": "count",
         "histnorm": "",
         "marker": {
          "color": "rgba(55, 128, 191, 0.6610169491525424)",
          "line": {
           "color": "#4D5663",
           "width": 1.3
          }
         },
         "name": "050",
         "opacity": 0.8,
         "orientation": "v",
         "x": [
          924,
          980,
          808,
          832,
          764,
          800,
          876,
          708,
          688,
          596,
          736,
          828,
          736,
          720,
          672,
          692,
          640,
          528,
          528,
          596,
          604,
          584,
          568,
          608,
          628,
          676,
          596,
          656,
          668,
          620,
          564,
          564,
          504,
          476,
          432,
          432,
          420,
          452,
          548
         ],
         "type": "histogram"
        },
        {
         "histfunc": "count",
         "histnorm": "",
         "marker": {
          "color": "rgba(50, 171, 96, 0.6610169491525424)",
          "line": {
           "color": "#4D5663",
           "width": 1.3
          }
         },
         "name": "050-052",
         "opacity": 0.8,
         "orientation": "v",
         "x": [
          13608,
          12532,
          12988,
          13524,
          12892,
          13784,
          14096,
          15480,
          16840,
          17304,
          18592,
          20108,
          19692,
          21552,
          23732,
          25080,
          26524,
          28108,
          31708,
          41212,
          41904,
          46708,
          50048,
          59252,
          56492,
          62788,
          62884,
          66892,
          69984,
          75120,
          77140,
          81016,
          88356,
          85944,
          93576,
          103340,
          100944,
          105380,
          105116
         ],
         "type": "histogram"
        },
        {
         "histfunc": "count",
         "histnorm": "",
         "marker": {
          "color": "rgba(128, 0, 128, 0.6610169491525424)",
          "line": {
           "color": "#4D5663",
           "width": 1.3
          }
         },
         "name": "051",
         "opacity": 0.8,
         "orientation": "v",
         "x": [
          92,
          84,
          84,
          132,
          192,
          536,
          732,
          1436,
          1928,
          2736,
          3588,
          4204,
          4532,
          5616,
          7460,
          8764,
          9504,
          10752,
          13056,
          20344,
          21528,
          25120,
          27256,
          33396,
          32052,
          35904,
          36688,
          39764,
          41608,
          44676,
          45372,
          47628,
          52060,
          51100,
          56088,
          62312,
          59172,
          60804,
          59716
         ],
         "type": "histogram"
        },
        {
         "histfunc": "count",
         "histnorm": "",
         "marker": {
          "color": "rgba(219, 64, 82, 0.6610169491525424)",
          "line": {
           "color": "#4D5663",
           "width": 1.3
          }
         },
         "name": "052",
         "opacity": 0.8,
         "orientation": "v",
         "x": [
          12592,
          11468,
          12096,
          12560,
          11936,
          12448,
          12488,
          13336,
          14224,
          13972,
          14268,
          15076,
          14424,
          15216,
          15600,
          15624,
          16380,
          16828,
          18124,
          20272,
          19772,
          21004,
          22224,
          25248,
          23812,
          26208,
          25600,
          26472,
          27708,
          29824,
          31204,
          32824,
          35792,
          34368,
          37056,
          40596,
          41352,
          44124,
          44852
         ],
         "type": "histogram"
        },
        {
         "histfunc": "count",
         "histnorm": "",
         "marker": {
          "color": "rgba(219, 64, 82, 0.5932203389830508)",
          "line": {
           "color": "#4D5663",
           "width": 1.3
          }
         },
         "name": "053",
         "opacity": 0.8,
         "orientation": "v",
         "x": [
          10376,
          9284,
          8352,
          7964,
          8036,
          6384,
          6084,
          6236,
          6024,
          6500,
          6372,
          6556,
          6116,
          6216,
          6216,
          6352,
          6508,
          6840,
          7012,
          7100,
          7148,
          6688,
          6652,
          6996,
          6264,
          6384,
          5404,
          5464,
          5436,
          7036,
          7244,
          6816,
          6308,
          5772,
          6652,
          6852,
          6568,
          6268,
          6212
         ],
         "type": "histogram"
        },
        {
         "histfunc": "count",
         "histnorm": "",
         "marker": {
          "color": "rgba(0, 128, 128, 0.5932203389830508)",
          "line": {
           "color": "#4D5663",
           "width": 1.3
          }
         },
         "name": "053-061",
         "opacity": 0.8,
         "orientation": "v",
         "x": [
          503548,
          510344,
          495944,
          522124,
          507216,
          524792,
          510468,
          505128,
          515492,
          514688,
          516896,
          529756,
          514192,
          521916,
          510764,
          513740,
          518260,
          513352,
          526512,
          527096,
          502892,
          497556,
          503188,
          519132,
          495468,
          507628,
          483040,
          496504,
          491172,
          480228,
          476512,
          473308,
          488388,
          469936,
          469572,
          496788,
          479112,
          489860,
          483436
         ],
         "type": "histogram"
        },
        {
         "histfunc": "count",
         "histnorm": "",
         "marker": {
          "color": "rgba(255, 255, 51, 0.5932203389830508)",
          "line": {
           "color": "#4D5663",
           "width": 1.3
          }
         },
         "name": "054",
         "opacity": 0.8,
         "orientation": "v",
         "x": [
          7808,
          8088,
          8456,
          8396,
          8064,
          8584,
          9964,
          9588,
          9928,
          10132,
          11200,
          12772,
          13204,
          13232,
          15184,
          16848,
          17772,
          18112,
          20448,
          19644,
          20220,
          20896,
          22132,
          24912,
          24824,
          26644,
          26704,
          29944,
          30616,
          32932,
          37896,
          38676,
          41092,
          44972,
          46292,
          50700,
          48612,
          50240,
          49984
         ],
         "type": "histogram"
        },
        {
         "histfunc": "count",
         "histnorm": "",
         "marker": {
          "color": "rgba(128, 128, 0, 0.5932203389830508)",
          "line": {
           "color": "#4D5663",
           "width": 1.3
          }
         },
         "name": "055",
         "opacity": 0.8,
         "orientation": "v",
         "x": [
          81904,
          83564,
          86632,
          89644,
          91000,
          93808,
          92152,
          94656,
          95912,
          92376,
          95648,
          99368,
          98680,
          102616,
          99360,
          102344,
          103748,
          102168,
          104280,
          102784,
          100296,
          97800,
          98660,
          100320,
          93984,
          94276,
          88112,
          86376,
          81732,
          77748,
          74736,
          72404,
          70576,
          66144,
          63572,
          63728,
          59632,
          59824,
          58084
         ],
         "type": "histogram"
        },
        {
         "histfunc": "count",
         "histnorm": "",
         "marker": {
          "color": "rgba(251, 128, 114, 0.5932203389830508)",
          "line": {
           "color": "#4D5663",
           "width": 1.3
          }
         },
         "name": "056",
         "opacity": 0.8,
         "orientation": "v",
         "x": [
          29916,
          31368,
          31484,
          33148,
          33620,
          33316,
          33452,
          33984,
          35780,
          38892,
          39884,
          41684,
          42540,
          43072,
          44824,
          48408,
          52368,
          54468,
          56516,
          60064,
          56964,
          57352,
          58940,
          61092,
          61376,
          62976,
          60256,
          62512,
          61980,
          64708,
          66336,
          66944,
          68428,
          67508,
          66684,
          71348,
          68592,
          69476,
          66524
         ],
         "type": "histogram"
        },
        {
         "histfunc": "count",
         "histnorm": "",
         "marker": {
          "color": "rgba(128, 177, 211, 0.5932203389830508)",
          "line": {
           "color": "#4D5663",
           "width": 1.3
          }
         },
         "name": "057",
         "opacity": 0.8,
         "orientation": "v",
         "x": [
          67592,
          69908,
          67076,
          74732,
          73836,
          80888,
          81716,
          78388,
          82404,
          86732,
          85860,
          86684,
          84728,
          88452,
          85172,
          86388,
          87016,
          84832,
          86280,
          82572,
          75960,
          74284,
          75944,
          79452,
          76492,
          79384,
          75580,
          80368,
          80964,
          70368,
          64152,
          68356,
          73812,
          67552,
          68380,
          76116,
          71724,
          76660,
          76568
         ],
         "type": "histogram"
        },
        {
         "histfunc": "count",
         "histnorm": "",
         "marker": {
          "color": "rgba(255, 153, 51, 0.5932203389830508)",
          "line": {
           "color": "#4D5663",
           "width": 1.3
          }
         },
         "name": "058",
         "opacity": 0.8,
         "orientation": "v",
         "x": [
          55240,
          53724,
          52208,
          53736,
          48896,
          53852,
          51604,
          50744,
          52032,
          50652,
          52348,
          55628,
          53244,
          55460,
          53240,
          53924,
          57732,
          59268,
          62784,
          64152,
          61840,
          62340,
          65104,
          66968,
          66912,
          70400,
          68568,
          73220,
          76572,
          77932,
          82124,
          81864,
          86268,
          83656,
          85380,
          92172,
          93032,
          97252,
          97596
         ],
         "type": "histogram"
        },
        {
         "histfunc": "count",
         "histnorm": "",
         "marker": {
          "color": "rgba(55, 128, 191, 0.5932203389830508)",
          "line": {
           "color": "#4D5663",
           "width": 1.3
          }
         },
         "name": "059",
         "opacity": 0.8,
         "orientation": "v",
         "x": [
          189900,
          196000,
          184552,
          193324,
          190796,
          190736,
          183200,
          177848,
          178620,
          175504,
          172908,
          176004,
          168108,
          167368,
          164536,
          159688,
          155260,
          151288,
          152256,
          154920,
          146384,
          146268,
          143788,
          148900,
          137000,
          139000,
          131600,
          132136,
          127332,
          124628,
          120644,
          115420,
          118080,
          111400,
          110316,
          113736,
          108488,
          107748,
          105680
         ],
         "type": "histogram"
        },
        {
         "histfunc": "count",
         "histnorm": "",
         "marker": {
          "color": "rgba(50, 171, 96, 0.5932203389830508)",
          "line": {
           "color": "#4D5663",
           "width": 1.3
          }
         },
         "name": "060",
         "opacity": 0.8,
         "orientation": "v",
         "x": [
          53188,
          50756,
          49304,
          52660,
          43700,
          46564,
          41248,
          42188,
          41848,
          40576,
          38504,
          36076,
          32796,
          30364,
          26732,
          23400,
          20692,
          19200,
          18868,
          18412,
          16868,
          15632,
          15312,
          14052,
          12520,
          12116,
          11192,
          10860,
          10436,
          8504,
          7588,
          6868,
          7160,
          6252,
          5748,
          5556,
          5484,
          5380,
          5760
         ],
         "type": "histogram"
        },
        {
         "histfunc": "count",
         "histnorm": "",
         "marker": {
          "color": "rgba(128, 0, 128, 0.5932203389830508)",
          "line": {
           "color": "#4D5663",
           "width": 1.3
          }
         },
         "name": "061",
         "opacity": 0.8,
         "orientation": "v",
         "x": [
          7624,
          7652,
          7880,
          8520,
          9268,
          10660,
          11048,
          11496,
          12944,
          13324,
          14172,
          14984,
          14776,
          15136,
          15500,
          16388,
          17164,
          17176,
          18068,
          17448,
          17212,
          16296,
          16656,
          16440,
          16096,
          16448,
          15624,
          15624,
          16104,
          16372,
          15792,
          15960,
          16664,
          16680,
          16548,
          16580,
          16980,
          17012,
          17028
         ],
         "type": "histogram"
        },
        {
         "histfunc": "count",
         "histnorm": "",
         "marker": {
          "color": "rgba(128, 0, 128, 0.5254237288135595)",
          "line": {
           "color": "#4D5663",
           "width": 1.3
          }
         },
         "name": "062",
         "opacity": 0.8,
         "orientation": "v",
         "x": [
          3988,
          8216,
          2704,
          6556,
          2592,
          2848,
          3636,
          2216,
          1780,
          2172,
          3328,
          1768,
          1084,
          1720,
          1200,
          1664,
          1740,
          1740,
          2480,
          4744,
          2892,
          320,
          1348,
          728,
          348,
          2172,
          192,
          284,
          324,
          1152,
          228,
          856,
          820,
          444,
          1728,
          1948,
          2588,
          4700,
          7408
         ],
         "type": "histogram"
        },
        {
         "histfunc": "count",
         "histnorm": "",
         "marker": {
          "color": "rgba(219, 64, 82, 0.5254237288135595)",
          "line": {
           "color": "#4D5663",
           "width": 1.3
          }
         },
         "name": "062-067",
         "opacity": 0.8,
         "orientation": "v",
         "x": [
          110836,
          117464,
          103904,
          117696,
          108576,
          121856,
          117592,
          111900,
          118052,
          124192,
          136796,
          131976,
          125168,
          134180,
          128920,
          138836,
          145256,
          146076,
          158988,
          180776,
          163932,
          149448,
          165708,
          175212,
          156596,
          188356,
          158040,
          176116,
          176800,
          173128,
          161064,
          168972,
          189344,
          170260,
          175364,
          207392,
          187248,
          206460,
          214748
         ],
         "type": "histogram"
        },
        {
         "histfunc": "count",
         "histnorm": "",
         "marker": {
          "color": "rgba(0, 128, 128, 0.5254237288135595)",
          "line": {
           "color": "#4D5663",
           "width": 1.3
          }
         },
         "name": "063",
         "opacity": 0.8,
         "orientation": "v",
         "x": [
          37220,
          37068,
          30576,
          33076,
          29372,
          32036,
          30844,
          27736,
          27212,
          27304,
          29380,
          26132,
          26064,
          27924,
          26636,
          28412,
          28576,
          29348,
          31484,
          33208,
          30360,
          28368,
          31488,
          32704,
          29424,
          37240,
          31260,
          34324,
          36764,
          34416,
          30100,
          32668,
          37156,
          33332,
          33780,
          40836,
          36640,
          40888,
          41660
         ],
         "type": "histogram"
        },
        {
         "histfunc": "count",
         "histnorm": "",
         "marker": {
          "color": "rgba(255, 255, 51, 0.5254237288135595)",
          "line": {
           "color": "#4D5663",
           "width": 1.3
          }
         },
         "name": "064",
         "opacity": 0.8,
         "orientation": "v",
         "x": [
          25516,
          27480,
          26532,
          31992,
          35328,
          42324,
          42040,
          42344,
          47416,
          50276,
          54692,
          56876,
          53828,
          57508,
          56560,
          61156,
          63052,
          62916,
          66900,
          71968,
          63220,
          57804,
          63788,
          64748,
          58600,
          66620,
          54424,
          59440,
          56344,
          59900,
          58656,
          59808,
          63976,
          57736,
          58440,
          62520,
          56108,
          57472,
          53984
         ],
         "type": "histogram"
        },
        {
         "histfunc": "count",
         "histnorm": "",
         "marker": {
          "color": "rgba(128, 128, 0, 0.5254237288135595)",
          "line": {
           "color": "#4D5663",
           "width": 1.3
          }
         },
         "name": "065",
         "opacity": 0.8,
         "orientation": "v",
         "x": [
          6840,
          6364,
          5696,
          5936,
          5520,
          5148,
          4888,
          4312,
          4264,
          4316,
          4352,
          3996,
          3908,
          3884,
          3852,
          3660,
          4068,
          3964,
          4172,
          4224,
          3252,
          3076,
          3576,
          3576,
          3468,
          3848,
          2916,
          3356,
          3156,
          3884,
          4048,
          3808,
          3880,
          3812,
          3744,
          4536,
          4176,
          4472,
          4444
         ],
         "type": "histogram"
        },
        {
         "histfunc": "count",
         "histnorm": "",
         "marker": {
          "color": "rgba(251, 128, 114, 0.5254237288135595)",
          "line": {
           "color": "#4D5663",
           "width": 1.3
          }
         },
         "name": "066",
         "opacity": 0.8,
         "orientation": "v",
         "x": [
          3772,
          4948,
          4668,
          5896,
          5808,
          6620,
          6120,
          5460,
          6200,
          6780,
          7448,
          6304,
          5976,
          6524,
          5500,
          5540,
          6384,
          6112,
          6240,
          15340,
          15396,
          10328,
          10808,
          12464,
          11108,
          13348,
          12320,
          14580,
          13904,
          10984,
          9136,
          9420,
          9744,
          8448,
          8096,
          8916,
          8296,
          8100,
          8592
         ],
         "type": "histogram"
        },
        {
         "histfunc": "count",
         "histnorm": "",
         "marker": {
          "color": "rgba(128, 177, 211, 0.5254237288135595)",
          "line": {
           "color": "#4D5663",
           "width": 1.3
          }
         },
         "name": "067",
         "opacity": 0.8,
         "orientation": "v",
         "x": [
          33500,
          33388,
          33728,
          34240,
          29956,
          32880,
          30064,
          29832,
          31180,
          33344,
          37596,
          36900,
          34308,
          36620,
          35172,
          38404,
          41436,
          41996,
          47712,
          51292,
          48812,
          49552,
          54700,
          60992,
          53648,
          65128,
          56928,
          64132,
          66308,
          62792,
          58896,
          62412,
          73768,
          66488,
          69576,
          88636,
          79440,
          90828,
          98660
         ],
         "type": "histogram"
        },
        {
         "histfunc": "count",
         "histnorm": "",
         "marker": {
          "color": "rgba(255, 153, 51, 0.5254237288135595)",
          "line": {
           "color": "#4D5663",
           "width": 1.3
          }
         },
         "name": "068",
         "opacity": 0.8,
         "orientation": "v",
         "x": [
          5892,
          5608,
          5680,
          5340,
          5520,
          4832,
          4948,
          4776,
          4760,
          4904,
          4556,
          4624,
          4252,
          4376,
          4232,
          4368,
          4348,
          4028,
          3980,
          3740,
          3040,
          2864,
          2844,
          2660,
          2460,
          2488,
          2128,
          2028,
          1864,
          1884,
          2076,
          1968,
          1952,
          1780,
          1660,
          1856,
          1884,
          1840,
          1964
         ],
         "type": "histogram"
        },
        {
         "histfunc": "count",
         "histnorm": "",
         "marker": {
          "color": "rgba(55, 128, 191, 0.5254237288135595)",
          "line": {
           "color": "#4D5663",
           "width": 1.3
          }
         },
         "name": "068-072",
         "opacity": 0.8,
         "orientation": "v",
         "x": [
          69620,
          68436,
          68776,
          69168,
          70104,
          71884,
          72132,
          73204,
          73488,
          74608,
          75416,
          75372,
          73808,
          73552,
          73568,
          73408,
          75444,
          73904,
          75688,
          75888,
          73676,
          73628,
          75788,
          78304,
          77428,
          78496,
          77404,
          78600,
          77904,
          78228,
          76388,
          78304,
          79188,
          77512,
          77540,
          81440,
          80384,
          81788,
          86756
         ],
         "type": "histogram"
        },
        {
         "histfunc": "count",
         "histnorm": "",
         "marker": {
          "color": "rgba(50, 171, 96, 0.5254237288135595)",
          "line": {
           "color": "#4D5663",
           "width": 1.3
          }
         },
         "name": "069",
         "opacity": 0.8,
         "orientation": "v",
         "x": [
          416,
          388,
          324,
          368,
          364,
          392,
          424,
          644,
          792,
          780,
          808,
          852,
          828,
          792,
          888,
          868,
          924,
          848,
          1012,
          1024,
          940,
          1040,
          1064,
          1188,
          1192,
          1112,
          1088,
          1220,
          1060,
          1248,
          736,
          740,
          592,
          660,
          908,
          964,
          868,
          956,
          1028
         ],
         "type": "histogram"
        },
        {
         "histfunc": "count",
         "histnorm": "",
         "marker": {
          "color": "rgba(50, 171, 96, 0.45762711864406797)",
          "line": {
           "color": "#4D5663",
           "width": 1.3
          }
         },
         "name": "070",
         "opacity": 0.8,
         "orientation": "v",
         "x": [
          3372,
          3804,
          4136,
          4104,
          4460,
          4504,
          5252,
          5248,
          5308,
          5508,
          6068,
          6304,
          6204,
          6960,
          7440,
          7888,
          8376,
          8572,
          9348,
          9800,
          9740,
          9864,
          10428,
          11188,
          10884,
          11288,
          11524,
          11996,
          12104,
          11620,
          11044,
          11564,
          12072,
          11772,
          11164,
          11464,
          11216,
          11100,
          11384
         ],
         "type": "histogram"
        },
        {
         "histfunc": "count",
         "histnorm": "",
         "marker": {
          "color": "rgba(128, 0, 128, 0.45762711864406797)",
          "line": {
           "color": "#4D5663",
           "width": 1.3
          }
         },
         "name": "071",
         "opacity": 0.8,
         "orientation": "v",
         "x": [
          33624,
          32812,
          32324,
          31964,
          32156,
          33312,
          32632,
          31996,
          31888,
          32416,
          31568,
          30952,
          29756,
          28752,
          28424,
          27588,
          27096,
          25692,
          24984,
          25436,
          24464,
          23576,
          23700,
          23512,
          23040,
          23064,
          22296,
          22776,
          21616,
          22692,
          22020,
          21448,
          20588,
          20112,
          19232,
          19700,
          18716,
          19056,
          18020
         ],
         "type": "histogram"
        },
        {
         "histfunc": "count",
         "histnorm": "",
         "marker": {
          "color": "rgba(219, 64, 82, 0.45762711864406797)",
          "line": {
           "color": "#4D5663",
           "width": 1.3
          }
         },
         "name": "072",
         "opacity": 0.8,
         "orientation": "v",
         "x": [
          26316,
          25824,
          26312,
          27392,
          27604,
          28844,
          28876,
          30540,
          30740,
          31000,
          32416,
          32640,
          32768,
          32672,
          32584,
          32696,
          34700,
          34764,
          36364,
          35888,
          35492,
          36284,
          37752,
          39756,
          39852,
          40544,
          40368,
          40580,
          41260,
          40784,
          40512,
          42584,
          43984,
          43188,
          44576,
          47456,
          47700,
          48836,
          54360
         ],
         "type": "histogram"
        },
        {
         "histfunc": "count",
         "histnorm": "",
         "marker": {
          "color": "rgba(0, 128, 128, 0.45762711864406797)",
          "line": {
           "color": "#4D5663",
           "width": 1.3
          }
         },
         "name": "073",
         "opacity": 0.8,
         "orientation": "v",
         "x": [
          732,
          672,
          680,
          676,
          1004,
          1200,
          1648,
          1608,
          1848,
          1904,
          2112,
          1816,
          1916,
          2180,
          2052,
          2344,
          2712,
          3032,
          3612,
          3640,
          3776,
          3932,
          4048,
          4080,
          3976,
          4428,
          4332,
          4744,
          4844,
          4788,
          4576,
          4676,
          5224,
          5160,
          5272,
          6252,
          6092,
          6764,
          7304
         ],
         "type": "histogram"
        },
        {
         "histfunc": "count",
         "histnorm": "",
         "marker": {
          "color": "rgba(255, 255, 51, 0.45762711864406797)",
          "line": {
           "color": "#4D5663",
           "width": 1.3
          }
         },
         "name": "074",
         "opacity": 0.8,
         "orientation": "v",
         "x": [
          800,
          556,
          668,
          716,
          760,
          820,
          784,
          964,
          1060,
          1192,
          1248,
          1272,
          1156,
          1184,
          1372,
          1336,
          1284,
          1328,
          1316,
          1396,
          1340,
          1400,
          1448,
          1316,
          1316,
          1236,
          1252,
          1200,
          1252,
          1308,
          1448,
          1472,
          1568,
          1296,
          1436,
          1728,
          1700,
          1980,
          2196
         ],
         "type": "histogram"
        },
        {
         "histfunc": "count",
         "histnorm": "",
         "marker": {
          "color": "rgba(128, 128, 0, 0.45762711864406797)",
          "line": {
           "color": "#4D5663",
           "width": 1.3
          }
         },
         "name": "074-076",
         "opacity": 0.8,
         "orientation": "v",
         "x": [
          2444,
          1968,
          2152,
          2348,
          5724,
          8644,
          9804,
          10160,
          10844,
          10932,
          11388,
          11892,
          11572,
          11052,
          11200,
          11816,
          11572,
          11712,
          12120,
          12832,
          12632,
          13408,
          13988,
          14232,
          14184,
          14384,
          13452,
          13536,
          13616,
          13844,
          13308,
          13548,
          15064,
          13444,
          14716,
          16592,
          17024,
          20280,
          20820
         ],
         "type": "histogram"
        },
        {
         "histfunc": "count",
         "histnorm": "",
         "marker": {
          "color": "rgba(251, 128, 114, 0.45762711864406797)",
          "line": {
           "color": "#4D5663",
           "width": 1.3
          }
         },
         "name": "075",
         "opacity": 0.8,
         "orientation": "v",
         "x": [
          76,
          116,
          140,
          192,
          3564,
          6548,
          7480,
          7508,
          7948,
          7816,
          8096,
          8544,
          8120,
          7760,
          7472,
          7796,
          7844,
          7740,
          7776,
          8040,
          7960,
          8292,
          8656,
          8952,
          9192,
          9152,
          8992,
          9352,
          9016,
          8760,
          8108,
          8060,
          9560,
          7904,
          8424,
          9220,
          9616,
          12032,
          12508
         ],
         "type": "histogram"
        },
        {
         "histfunc": "count",
         "histnorm": "",
         "marker": {
          "color": "rgba(128, 177, 211, 0.45762711864406797)",
          "line": {
           "color": "#4D5663",
           "width": 1.3
          }
         },
         "name": "076",
         "opacity": 0.8,
         "orientation": "v",
         "x": [
          1568,
          1296,
          1344,
          1440,
          1400,
          1276,
          1540,
          1688,
          1836,
          1924,
          2044,
          2076,
          2296,
          2108,
          2356,
          2684,
          2444,
          2644,
          3028,
          3396,
          3332,
          3716,
          3884,
          3964,
          3676,
          3996,
          3208,
          2984,
          3348,
          3776,
          3752,
          4016,
          3936,
          4244,
          4856,
          5644,
          5708,
          6268,
          6116
         ],
         "type": "histogram"
        },
        {
         "histfunc": "count",
         "histnorm": "",
         "marker": {
          "color": "rgba(255, 153, 51, 0.45762711864406797)",
          "line": {
           "color": "#4D5663",
           "width": 1.3
          }
         },
         "name": "077",
         "opacity": 0.8,
         "orientation": "v",
         "x": [
          17836,
          18276,
          17652,
          18492,
          19412,
          22652,
          22428,
          22252,
          23880,
          24300,
          24096,
          23852,
          24008,
          23656,
          22456,
          22320,
          22704,
          22820,
          23740,
          23812,
          24204,
          24656,
          24944,
          25604,
          24672,
          27324,
          26180,
          28112,
          28684,
          29532,
          27936,
          29108,
          30824,
          29864,
          28308,
          28452,
          27332,
          29168,
          31204
         ],
         "type": "histogram"
        },
        {
         "histfunc": "count",
         "histnorm": "",
         "marker": {
          "color": "rgba(55, 128, 191, 0.45762711864406797)",
          "line": {
           "color": "#4D5663",
           "width": 1.3
          }
         },
         "name": "077-080",
         "opacity": 0.8,
         "orientation": "v",
         "x": [
          21608,
          22144,
          21388,
          22248,
          23424,
          26568,
          26384,
          26644,
          28408,
          28772,
          28812,
          28140,
          28536,
          28104,
          27664,
          27628,
          28304,
          29428,
          31156,
          30852,
          31672,
          33112,
          33436,
          36160,
          34136,
          38268,
          37620,
          40680,
          42316,
          43400,
          41972,
          44044,
          47356,
          46756,
          46120,
          48676,
          48692,
          52752,
          55764
         ],
         "type": "histogram"
        },
        {
         "histfunc": "count",
         "histnorm": "",
         "marker": {
          "color": "rgba(55, 128, 191, 0.3898305084745764)",
          "line": {
           "color": "#4D5663",
           "width": 1.3
          }
         },
         "name": "078",
         "opacity": 0.8,
         "orientation": "v",
         "x": [
          2836,
          2776,
          2292,
          1976,
          1940,
          1508,
          1340,
          1220,
          1188,
          1148,
          1152,
          1172,
          1060,
          984,
          924,
          936,
          960,
          844,
          840,
          804,
          808,
          816,
          756,
          812,
          696,
          740,
          756,
          784,
          828,
          1212,
          1132,
          888,
          1060,
          864,
          1148,
          1152,
          1268,
          1364,
          1268
         ],
         "type": "histogram"
        },
        {
         "histfunc": "count",
         "histnorm": "",
         "marker": {
          "color": "rgba(50, 171, 96, 0.3898305084745764)",
          "line": {
           "color": "#4D5663",
           "width": 1.3
          }
         },
         "name": "079",
         "opacity": 0.8,
         "orientation": "v",
         "x": [
          92,
          124,
          112,
          108,
          100,
          108,
          64,
          88,
          84,
          88,
          108,
          108,
          96,
          120,
          132,
          104,
          136,
          124,
          172,
          196,
          152,
          244,
          192,
          244,
          232,
          248,
          188,
          192,
          228,
          204,
          248,
          252,
          292,
          276,
          320,
          380,
          384,
          384,
          416
         ],
         "type": "histogram"
        },
        {
         "histfunc": "count",
         "histnorm": "",
         "marker": {
          "color": "rgba(128, 0, 128, 0.3898305084745764)",
          "line": {
           "color": "#4D5663",
           "width": 1.3
          }
         },
         "name": "080",
         "opacity": 0.8,
         "orientation": "v",
         "x": [
          844,
          968,
          1332,
          1672,
          1972,
          2300,
          2552,
          3084,
          3256,
          3236,
          3456,
          3008,
          3372,
          3344,
          4152,
          4268,
          4504,
          5640,
          6404,
          6040,
          6508,
          7396,
          7544,
          9500,
          8536,
          9956,
          10496,
          11592,
          12576,
          12452,
          12656,
          13796,
          15180,
          15752,
          16344,
          18692,
          19708,
          21836,
          22876
         ],
         "type": "histogram"
        },
        {
         "histfunc": "count",
         "histnorm": "",
         "marker": {
          "color": "rgba(219, 64, 82, 0.3898305084745764)",
          "line": {
           "color": "#4D5663",
           "width": 1.3
          }
         },
         "name": "081",
         "opacity": 0.8,
         "orientation": "v",
         "x": [
          252,
          204,
          216,
          148,
          96,
          80,
          96,
          84,
          84,
          48,
          88,
          52,
          76,
          48,
          52,
          44,
          44,
          32,
          40,
          60,
          56,
          68,
          56,
          80,
          84,
          72,
          56,
          52,
          96,
          68,
          80,
          56,
          40,
          72,
          36,
          60,
          60,
          52,
          28
         ],
         "type": "histogram"
        },
        {
         "histfunc": "count",
         "histnorm": "",
         "marker": {
          "color": "rgba(0, 128, 128, 0.3898305084745764)",
          "line": {
           "color": "#4D5663",
           "width": 1.3
          }
         },
         "name": "082",
         "opacity": 0.8,
         "orientation": "v",
         "x": [
          12760,
          12460,
          11016,
          9936,
          8184,
          6608,
          6456,
          6428,
          5224,
          5412,
          5452,
          4764,
          4864,
          4284,
          3700,
          3472,
          3476,
          3208,
          3116,
          3152,
          3436,
          3576,
          3660,
          3548,
          4008,
          3768,
          3644,
          3876,
          3776,
          3600,
          3324,
          3332,
          3316,
          2852,
          3112,
          2696,
          2548,
          2516,
          2520
         ],
         "type": "histogram"
        },
        {
         "histfunc": "count",
         "histnorm": "",
         "marker": {
          "color": "rgba(255, 255, 51, 0.3898305084745764)",
          "line": {
           "color": "#4D5663",
           "width": 1.3
          }
         },
         "name": "083",
         "opacity": 0.8,
         "orientation": "v",
         "x": [
          1664,
          1700,
          1364,
          1428,
          1292,
          1180,
          1180,
          1012,
          1172,
          828,
          736,
          732,
          660,
          600,
          548,
          480,
          452,
          424,
          500,
          372,
          380,
          348,
          316,
          372,
          380,
          328,
          320,
          320,
          292,
          292,
          372,
          328,
          308,
          272,
          292,
          264,
          284,
          248,
          280
         ],
         "type": "histogram"
        },
        {
         "histfunc": "count",
         "histnorm": "",
         "marker": {
          "color": "rgba(128, 128, 0, 0.3898305084745764)",
          "line": {
           "color": "#4D5663",
           "width": 1.3
          }
         },
         "name": "083-085",
         "opacity": 0.8,
         "orientation": "v",
         "x": [
          9332,
          9252,
          8104,
          7696,
          7008,
          6488,
          6308,
          6092,
          6052,
          5528,
          5528,
          5696,
          5824,
          5544,
          5188,
          4700,
          4868,
          4764,
          4544,
          4568,
          4448,
          3820,
          3948,
          4116,
          4008,
          3848,
          3736,
          3560,
          3696,
          3556,
          3884,
          3680,
          3292,
          3032,
          3312,
          3208,
          3384,
          3256,
          3372
         ],
         "type": "histogram"
        },
        {
         "histfunc": "count",
         "histnorm": "",
         "marker": {
          "color": "rgba(251, 128, 114, 0.3898305084745764)",
          "line": {
           "color": "#4D5663",
           "width": 1.3
          }
         },
         "name": "084",
         "opacity": 0.8,
         "orientation": "v",
         "x": [
          4196,
          4288,
          3672,
          3504,
          3028,
          2664,
          2368,
          2360,
          2316,
          2336,
          2528,
          2404,
          2512,
          2688,
          2324,
          2060,
          2228,
          2280,
          2044,
          2164,
          2164,
          1716,
          1836,
          1752,
          1780,
          1492,
          1640,
          1420,
          1548,
          1432,
          1588,
          1396,
          1312,
          1116,
          1276,
          1168,
          1156,
          1168,
          1048
         ],
         "type": "histogram"
        },
        {
         "histfunc": "count",
         "histnorm": "",
         "marker": {
          "color": "rgba(128, 177, 211, 0.3898305084745764)",
          "line": {
           "color": "#4D5663",
           "width": 1.3
          }
         },
         "name": "085",
         "opacity": 0.8,
         "orientation": "v",
         "x": [
          3472,
          3264,
          3068,
          2764,
          2688,
          2644,
          2760,
          2720,
          2564,
          2364,
          2264,
          2560,
          2652,
          2256,
          2316,
          2160,
          2188,
          2060,
          2000,
          2032,
          1904,
          1756,
          1796,
          1992,
          1848,
          2028,
          1776,
          1820,
          1856,
          1832,
          1924,
          1956,
          1672,
          1644,
          1744,
          1776,
          1944,
          1840,
          2044
         ],
         "type": "histogram"
        },
        {
         "histfunc": "count",
         "histnorm": "",
         "marker": {
          "color": "rgba(255, 153, 51, 0.3898305084745764)",
          "line": {
           "color": "#4D5663",
           "width": 1.3
          }
         },
         "name": "086",
         "opacity": 0.8,
         "orientation": "v",
         "x": [
          28144,
          29564,
          29956,
          33164,
          31216,
          36704,
          35136,
          24232,
          25344,
          22912,
          26464,
          21112,
          16820,
          16196,
          13844,
          14964,
          18184,
          14292,
          14260,
          16512,
          17524,
          18244,
          17816,
          20160,
          20308,
          20820,
          20732,
          22656,
          22456,
          24812,
          25012,
          23508,
          20720,
          17084,
          15636,
          17404,
          13840,
          16244,
          18312
         ],
         "type": "histogram"
        },
        {
         "histfunc": "count",
         "histnorm": "",
         "marker": {
          "color": "rgba(255, 153, 51, 0.32203389830508483)",
          "line": {
           "color": "#4D5663",
           "width": 1.3
          }
         },
         "name": "086-089",
         "opacity": 0.8,
         "orientation": "v",
         "x": [
          63256,
          63364,
          63164,
          67932,
          63416,
          66888,
          62252,
          48152,
          48464,
          44476,
          45464,
          41604,
          37180,
          36408,
          32488,
          32804,
          36504,
          33060,
          32524,
          38200,
          38548,
          39440,
          40676,
          44044,
          42020,
          43876,
          42184,
          45432,
          45996,
          44344,
          43088,
          42448,
          40068,
          35788,
          33932,
          38016,
          32132,
          37332,
          40352
         ],
         "type": "histogram"
        },
        {
         "histfunc": "count",
         "histnorm": "",
         "marker": {
          "color": "rgba(55, 128, 191, 0.32203389830508483)",
          "line": {
           "color": "#4D5663",
           "width": 1.3
          }
         },
         "name": "087",
         "opacity": 0.8,
         "orientation": "v",
         "x": [
          23320,
          22120,
          22692,
          23164,
          19440,
          17960,
          15820,
          15136,
          14408,
          14228,
          11344,
          13020,
          13508,
          13248,
          12460,
          12468,
          12232,
          12960,
          12340,
          12248,
          11500,
          11380,
          11992,
          12924,
          11380,
          11484,
          10140,
          10580,
          10856,
          8884,
          7112,
          7112,
          7572,
          7536,
          6756,
          7944,
          7064,
          7184,
          7260
         ],
         "type": "histogram"
        },
        {
         "histfunc": "count",
         "histnorm": "",
         "marker": {
          "color": "rgba(50, 171, 96, 0.32203389830508483)",
          "line": {
           "color": "#4D5663",
           "width": 1.3
          }
         },
         "name": "088",
         "opacity": 0.8,
         "orientation": "v",
         "x": [
          300,
          304,
          344,
          472,
          296,
          376,
          412,
          400,
          432,
          424,
          536,
          652,
          532,
          584,
          444,
          312,
          344,
          344,
          320,
          268,
          288,
          292,
          320,
          312,
          312,
          356,
          284,
          236,
          300,
          284,
          240,
          268,
          204,
          184,
          200,
          184,
          176,
          192,
          156
         ],
         "type": "histogram"
        },
        {
         "histfunc": "count",
         "histnorm": "",
         "marker": {
          "color": "rgba(128, 0, 128, 0.32203389830508483)",
          "line": {
           "color": "#4D5663",
           "width": 1.3
          }
         },
         "name": "089",
         "opacity": 0.8,
         "orientation": "v",
         "x": [
          11492,
          11376,
          10172,
          11132,
          12464,
          11848,
          10884,
          8384,
          8280,
          6912,
          7120,
          6820,
          6320,
          6380,
          5740,
          5060,
          5744,
          5464,
          5604,
          9172,
          9236,
          9524,
          10548,
          10648,
          10020,
          11216,
          11028,
          11960,
          12384,
          10364,
          10724,
          11560,
          11572,
          10984,
          11340,
          12484,
          11052,
          13712,
          14624
         ],
         "type": "histogram"
        },
        {
         "histfunc": "count",
         "histnorm": "",
         "marker": {
          "color": "rgba(219, 64, 82, 0.32203389830508483)",
          "line": {
           "color": "#4D5663",
           "width": 1.3
          }
         },
         "name": "090",
         "opacity": 0.8,
         "orientation": "v",
         "x": [
          24584,
          22788,
          18984,
          20704,
          22288,
          22680,
          24848,
          26724,
          29592,
          32872,
          31956,
          30896,
          26720,
          24704,
          22336,
          23008,
          22540,
          23160,
          24616,
          24096,
          24392,
          22976,
          21984,
          22056,
          19552,
          18088,
          16576,
          15244,
          12120,
          10352,
          9344,
          8464,
          7656,
          7228,
          7492,
          7520,
          7560,
          7772,
          7584
         ],
         "type": "histogram"
        },
        {
         "histfunc": "count",
         "histnorm": "",
         "marker": {
          "color": "rgba(0, 128, 128, 0.32203389830508483)",
          "line": {
           "color": "#4D5663",
           "width": 1.3
          }
         },
         "name": "090-102",
         "opacity": 0.8,
         "orientation": "v",
         "x": [
          61856,
          61148,
          58724,
          64900,
          63212,
          62668,
          65460,
          69644,
          72684,
          77332,
          75468,
          74132,
          68908,
          65724,
          64340,
          65300,
          65296,
          65972,
          67452,
          65644,
          66164,
          63996,
          63724,
          66788,
          68176,
          67608,
          64556,
          63664,
          61156,
          57984,
          56264,
          56932,
          56016,
          58712,
          59612,
          60316,
          62672,
          63348,
          63072
         ],
         "type": "histogram"
        },
        {
         "histfunc": "count",
         "histnorm": "",
         "marker": {
          "color": "rgba(255, 255, 51, 0.32203389830508483)",
          "line": {
           "color": "#4D5663",
           "width": 1.3
          }
         },
         "name": "091",
         "opacity": 0.8,
         "orientation": "v",
         "x": [
          1272,
          1068,
          1180,
          2092,
          1128,
          1564,
          864,
          1080,
          988,
          996,
          960,
          1008,
          964,
          936,
          1132,
          1044,
          1116,
          1180,
          1236,
          1580,
          1528,
          1408,
          1696,
          1624,
          1596,
          1496,
          1580,
          1568,
          1904,
          1060,
          960,
          980,
          940,
          1272,
          800,
          868,
          728,
          796,
          816
         ],
         "type": "histogram"
        },
        {
         "histfunc": "count",
         "histnorm": "",
         "marker": {
          "color": "rgba(128, 128, 0, 0.32203389830508483)",
          "line": {
           "color": "#4D5663",
           "width": 1.3
          }
         },
         "name": "092",
         "opacity": 0.8,
         "orientation": "v",
         "x": [
          2792,
          2760,
          2668,
          3312,
          3316,
          2964,
          3104,
          2740,
          2956,
          3080,
          3304,
          3676,
          3432,
          3816,
          4772,
          5020,
          5580,
          5716,
          5820,
          5820,
          6012,
          5940,
          6360,
          6496,
          6672,
          7052,
          6588,
          6960,
          7380,
          7680,
          7928,
          8448,
          9628,
          10688,
          10996,
          11132,
          12076,
          12228,
          12572
         ],
         "type": "histogram"
        },
        {
         "histfunc": "count",
         "histnorm": "",
         "marker": {
          "color": "rgba(251, 128, 114, 0.32203389830508483)",
          "line": {
           "color": "#4D5663",
           "width": 1.3
          }
         },
         "name": "093",
         "opacity": 0.8,
         "orientation": "v",
         "x": [
          4956,
          4700,
          4864,
          4788,
          4716,
          4872,
          5120,
          5544,
          5556,
          5520,
          5528,
          5296,
          5032,
          4664,
          4640,
          4676,
          4988,
          4972,
          5288,
          4464,
          4640,
          4616,
          4596,
          5540,
          8936,
          9840,
          10640,
          10276,
          9032,
          9168,
          8268,
          8800,
          9028,
          8832,
          9480,
          10688,
          10928,
          12464,
          12360
         ],
         "type": "histogram"
        },
        {
         "histfunc": "count",
         "histnorm": "",
         "marker": {
          "color": "rgba(128, 177, 211, 0.32203389830508483)",
          "line": {
           "color": "#4D5663",
           "width": 1.3
          }
         },
         "name": "094",
         "opacity": 0.8,
         "orientation": "v",
         "x": [
          1432,
          1200,
          956,
          1464,
          1244,
          1104,
          832,
          884,
          904,
          1044,
          1112,
          1088,
          1088,
          932,
          1004,
          684,
          796,
          852,
          824,
          884,
          832,
          860,
          740,
          896,
          900,
          908,
          792,
          760,
          808,
          656,
          760,
          616,
          692,
          576,
          728,
          692,
          740,
          792,
          580
         ],
         "type": "histogram"
        },
        {
         "histfunc": "count",
         "histnorm": "",
         "marker": {
          "color": "rgba(128, 177, 211, 0.2542372881355935)",
          "line": {
           "color": "#4D5663",
           "width": 1.3
          }
         },
         "name": "095",
         "opacity": 0.8,
         "orientation": "v",
         "x": [
          184,
          156,
          200,
          148,
          164,
          316,
          532,
          808,
          1056,
          1628,
          2384,
          3036,
          3336,
          3124,
          3360,
          3488,
          3464,
          3572,
          3412,
          2976,
          2792,
          2664,
          2288,
          2092,
          2300,
          2476,
          2072,
          2312,
          2396,
          2088,
          1988,
          2240,
          2504,
          2544,
          2888,
          2716,
          3156,
          3036,
          2852
         ],
         "type": "histogram"
        },
        {
         "histfunc": "count",
         "histnorm": "",
         "marker": {
          "color": "rgba(255, 153, 51, 0.2542372881355935)",
          "line": {
           "color": "#4D5663",
           "width": 1.3
          }
         },
         "name": "096",
         "opacity": 0.8,
         "orientation": "v",
         "x": [
          692,
          1396,
          1000,
          884,
          1020,
          832,
          832,
          1040,
          1000,
          792,
          620,
          848,
          752,
          820,
          880,
          760,
          888,
          700,
          724,
          764,
          720,
          788,
          552,
          644,
          644,
          1064,
          932,
          756,
          1124,
          940,
          900,
          788,
          824,
          944,
          796,
          640,
          720,
          680,
          648
         ],
         "type": "histogram"
        },
        {
         "histfunc": "count",
         "histnorm": "",
         "marker": {
          "color": "rgba(55, 128, 191, 0.2542372881355935)",
          "line": {
           "color": "#4D5663",
           "width": 1.3
          }
         },
         "name": "097",
         "opacity": 0.8,
         "orientation": "v",
         "x": [
          16748,
          17472,
          18616,
          18392,
          14696,
          11540,
          13084,
          14768,
          14232,
          15556,
          14068,
          13572,
          12948,
          11360,
          10236,
          10768,
          9408,
          8856,
          8808,
          8292,
          8092,
          7992,
          7880,
          9096,
          8340,
          8976,
          8864,
          9320,
          8848,
          8716,
          10076,
          10496,
          7368,
          7672,
          7964,
          9052,
          10008,
          7924,
          8404
         ],
         "type": "histogram"
        },
        {
         "histfunc": "count",
         "histnorm": "",
         "marker": {
          "color": "rgba(50, 171, 96, 0.2542372881355935)",
          "line": {
           "color": "#4D5663",
           "width": 1.3
          }
         },
         "name": "098",
         "opacity": 0.8,
         "orientation": "v",
         "x": [
          6608,
          6872,
          7404,
          8724,
          9972,
          10056,
          11020,
          11216,
          11840,
          11948,
          11756,
          11664,
          11144,
          12148,
          12684,
          12628,
          13280,
          13492,
          13044,
          12872,
          13572,
          12756,
          13484,
          13912,
          14028,
          13596,
          12984,
          13052,
          13828,
          13716,
          12632,
          12720,
          14156,
          15480,
          15640,
          14408,
          14276,
          14716,
          14156
         ],
         "type": "histogram"
        },
        {
         "histfunc": "count",
         "histnorm": "",
         "marker": {
          "color": "rgba(128, 0, 128, 0.2542372881355935)",
          "line": {
           "color": "#4D5663",
           "width": 1.3
          }
         },
         "name": "099",
         "opacity": 0.8,
         "orientation": "v",
         "x": [
          1496,
          1284,
          1228,
          1560,
          1812,
          1620,
          1628,
          1828,
          1396,
          1364,
          1524,
          1384,
          1388,
          1492,
          1412,
          1412,
          1372,
          1368,
          1420,
          1388,
          1644,
          1672,
          1732,
          1784,
          2340,
          1556,
          1504,
          1392,
          1512,
          1348,
          1316,
          1336,
          1212,
          1260,
          1268,
          1140,
          1128,
          1300,
          1100
         ],
         "type": "histogram"
        },
        {
         "histfunc": "count",
         "histnorm": "",
         "marker": {
          "color": "rgba(219, 64, 82, 0.2542372881355935)",
          "line": {
           "color": "#4D5663",
           "width": 1.3
          }
         },
         "name": "100",
         "opacity": 0.8,
         "orientation": "v",
         "x": [
          28,
          336,
          440,
          1276,
          1144,
          3288,
          1472,
          912,
          724,
          772,
          1044,
          712,
          1096,
          652,
          604,
          412,
          476,
          496,
          536,
          560,
          392,
          412,
          420,
          400,
          416,
          332,
          372,
          384,
          472,
          364,
          208,
          348,
          360,
          324,
          196,
          180,
          132,
          192,
          296
         ],
         "type": "histogram"
        },
        {
         "histfunc": "count",
         "histnorm": "",
         "marker": {
          "color": "rgba(0, 128, 128, 0.2542372881355935)",
          "line": {
           "color": "#4D5663",
           "width": 1.3
          }
         },
         "name": "101",
         "opacity": 0.8,
         "orientation": "v",
         "x": [
          968,
          908,
          1132,
          1500,
          1636,
          1792,
          2092,
          2056,
          2384,
          1716,
          1172,
          900,
          948,
          1016,
          1184,
          1256,
          1292,
          1460,
          1568,
          1784,
          1432,
          1784,
          1828,
          2076,
          2224,
          2016,
          1536,
          1476,
          1616,
          1716,
          1676,
          1488,
          1420,
          1668,
          1108,
          984,
          936,
          1088,
          1388
         ],
         "type": "histogram"
        },
        {
         "histfunc": "count",
         "histnorm": "",
         "marker": {
          "color": "rgba(255, 255, 51, 0.2542372881355935)",
          "line": {
           "color": "#4D5663",
           "width": 1.3
          }
         },
         "name": "102",
         "opacity": 0.8,
         "orientation": "v",
         "x": [
          96,
          208,
          52,
          56,
          76,
          40,
          32,
          44,
          56,
          44,
          40,
          52,
          60,
          60,
          96,
          144,
          96,
          148,
          156,
          164,
          116,
          128,
          164,
          172,
          228,
          208,
          116,
          164,
          116,
          180,
          208,
          208,
          228,
          224,
          256,
          296,
          284,
          360,
          316
         ],
         "type": "histogram"
        }
       ],
       "layout": {
        "barmode": "overlay",
        "legend": {
         "bgcolor": "#F5F6F9",
         "font": {
          "color": "#4D5663"
         }
        },
        "paper_bgcolor": "#F5F6F9",
        "plot_bgcolor": "#F5F6F9",
        "template": {
         "data": {
          "barpolar": [
           {
            "marker": {
             "line": {
              "color": "#E5ECF6",
              "width": 0.5
             },
             "pattern": {
              "fillmode": "overlay",
              "size": 10,
              "solidity": 0.2
             }
            },
            "type": "barpolar"
           }
          ],
          "bar": [
           {
            "error_x": {
             "color": "#2a3f5f"
            },
            "error_y": {
             "color": "#2a3f5f"
            },
            "marker": {
             "line": {
              "color": "#E5ECF6",
              "width": 0.5
             },
             "pattern": {
              "fillmode": "overlay",
              "size": 10,
              "solidity": 0.2
             }
            },
            "type": "bar"
           }
          ],
          "carpet": [
           {
            "aaxis": {
             "endlinecolor": "#2a3f5f",
             "gridcolor": "white",
             "linecolor": "white",
             "minorgridcolor": "white",
             "startlinecolor": "#2a3f5f"
            },
            "baxis": {
             "endlinecolor": "#2a3f5f",
             "gridcolor": "white",
             "linecolor": "white",
             "minorgridcolor": "white",
             "startlinecolor": "#2a3f5f"
            },
            "type": "carpet"
           }
          ],
          "choropleth": [
           {
            "colorbar": {
             "outlinewidth": 0,
             "ticks": ""
            },
            "type": "choropleth"
           }
          ],
          "contourcarpet": [
           {
            "colorbar": {
             "outlinewidth": 0,
             "ticks": ""
            },
            "type": "contourcarpet"
           }
          ],
          "contour": [
           {
            "colorbar": {
             "outlinewidth": 0,
             "ticks": ""
            },
            "colorscale": [
             [
              0,
              "#0d0887"
             ],
             [
              0.1111111111111111,
              "#46039f"
             ],
             [
              0.2222222222222222,
              "#7201a8"
             ],
             [
              0.3333333333333333,
              "#9c179e"
             ],
             [
              0.4444444444444444,
              "#bd3786"
             ],
             [
              0.5555555555555556,
              "#d8576b"
             ],
             [
              0.6666666666666666,
              "#ed7953"
             ],
             [
              0.7777777777777778,
              "#fb9f3a"
             ],
             [
              0.8888888888888888,
              "#fdca26"
             ],
             [
              1,
              "#f0f921"
             ]
            ],
            "type": "contour"
           }
          ],
          "heatmapgl": [
           {
            "colorbar": {
             "outlinewidth": 0,
             "ticks": ""
            },
            "colorscale": [
             [
              0,
              "#0d0887"
             ],
             [
              0.1111111111111111,
              "#46039f"
             ],
             [
              0.2222222222222222,
              "#7201a8"
             ],
             [
              0.3333333333333333,
              "#9c179e"
             ],
             [
              0.4444444444444444,
              "#bd3786"
             ],
             [
              0.5555555555555556,
              "#d8576b"
             ],
             [
              0.6666666666666666,
              "#ed7953"
             ],
             [
              0.7777777777777778,
              "#fb9f3a"
             ],
             [
              0.8888888888888888,
              "#fdca26"
             ],
             [
              1,
              "#f0f921"
             ]
            ],
            "type": "heatmapgl"
           }
          ],
          "heatmap": [
           {
            "colorbar": {
             "outlinewidth": 0,
             "ticks": ""
            },
            "colorscale": [
             [
              0,
              "#0d0887"
             ],
             [
              0.1111111111111111,
              "#46039f"
             ],
             [
              0.2222222222222222,
              "#7201a8"
             ],
             [
              0.3333333333333333,
              "#9c179e"
             ],
             [
              0.4444444444444444,
              "#bd3786"
             ],
             [
              0.5555555555555556,
              "#d8576b"
             ],
             [
              0.6666666666666666,
              "#ed7953"
             ],
             [
              0.7777777777777778,
              "#fb9f3a"
             ],
             [
              0.8888888888888888,
              "#fdca26"
             ],
             [
              1,
              "#f0f921"
             ]
            ],
            "type": "heatmap"
           }
          ],
          "histogram2dcontour": [
           {
            "colorbar": {
             "outlinewidth": 0,
             "ticks": ""
            },
            "colorscale": [
             [
              0,
              "#0d0887"
             ],
             [
              0.1111111111111111,
              "#46039f"
             ],
             [
              0.2222222222222222,
              "#7201a8"
             ],
             [
              0.3333333333333333,
              "#9c179e"
             ],
             [
              0.4444444444444444,
              "#bd3786"
             ],
             [
              0.5555555555555556,
              "#d8576b"
             ],
             [
              0.6666666666666666,
              "#ed7953"
             ],
             [
              0.7777777777777778,
              "#fb9f3a"
             ],
             [
              0.8888888888888888,
              "#fdca26"
             ],
             [
              1,
              "#f0f921"
             ]
            ],
            "type": "histogram2dcontour"
           }
          ],
          "histogram2d": [
           {
            "colorbar": {
             "outlinewidth": 0,
             "ticks": ""
            },
            "colorscale": [
             [
              0,
              "#0d0887"
             ],
             [
              0.1111111111111111,
              "#46039f"
             ],
             [
              0.2222222222222222,
              "#7201a8"
             ],
             [
              0.3333333333333333,
              "#9c179e"
             ],
             [
              0.4444444444444444,
              "#bd3786"
             ],
             [
              0.5555555555555556,
              "#d8576b"
             ],
             [
              0.6666666666666666,
              "#ed7953"
             ],
             [
              0.7777777777777778,
              "#fb9f3a"
             ],
             [
              0.8888888888888888,
              "#fdca26"
             ],
             [
              1,
              "#f0f921"
             ]
            ],
            "type": "histogram2d"
           }
          ],
          "histogram": [
           {
            "marker": {
             "pattern": {
              "fillmode": "overlay",
              "size": 10,
              "solidity": 0.2
             }
            },
            "type": "histogram"
           }
          ],
          "mesh3d": [
           {
            "colorbar": {
             "outlinewidth": 0,
             "ticks": ""
            },
            "type": "mesh3d"
           }
          ],
          "parcoords": [
           {
            "line": {
             "colorbar": {
              "outlinewidth": 0,
              "ticks": ""
             }
            },
            "type": "parcoords"
           }
          ],
          "pie": [
           {
            "automargin": true,
            "type": "pie"
           }
          ],
          "scatter3d": [
           {
            "line": {
             "colorbar": {
              "outlinewidth": 0,
              "ticks": ""
             }
            },
            "marker": {
             "colorbar": {
              "outlinewidth": 0,
              "ticks": ""
             }
            },
            "type": "scatter3d"
           }
          ],
          "scattercarpet": [
           {
            "marker": {
             "colorbar": {
              "outlinewidth": 0,
              "ticks": ""
             }
            },
            "type": "scattercarpet"
           }
          ],
          "scattergeo": [
           {
            "marker": {
             "colorbar": {
              "outlinewidth": 0,
              "ticks": ""
             }
            },
            "type": "scattergeo"
           }
          ],
          "scattergl": [
           {
            "marker": {
             "colorbar": {
              "outlinewidth": 0,
              "ticks": ""
             }
            },
            "type": "scattergl"
           }
          ],
          "scattermapbox": [
           {
            "marker": {
             "colorbar": {
              "outlinewidth": 0,
              "ticks": ""
             }
            },
            "type": "scattermapbox"
           }
          ],
          "scatterpolargl": [
           {
            "marker": {
             "colorbar": {
              "outlinewidth": 0,
              "ticks": ""
             }
            },
            "type": "scatterpolargl"
           }
          ],
          "scatterpolar": [
           {
            "marker": {
             "colorbar": {
              "outlinewidth": 0,
              "ticks": ""
             }
            },
            "type": "scatterpolar"
           }
          ],
          "scatter": [
           {
            "marker": {
             "colorbar": {
              "outlinewidth": 0,
              "ticks": ""
             }
            },
            "type": "scatter"
           }
          ],
          "scatterternary": [
           {
            "marker": {
             "colorbar": {
              "outlinewidth": 0,
              "ticks": ""
             }
            },
            "type": "scatterternary"
           }
          ],
          "surface": [
           {
            "colorbar": {
             "outlinewidth": 0,
             "ticks": ""
            },
            "colorscale": [
             [
              0,
              "#0d0887"
             ],
             [
              0.1111111111111111,
              "#46039f"
             ],
             [
              0.2222222222222222,
              "#7201a8"
             ],
             [
              0.3333333333333333,
              "#9c179e"
             ],
             [
              0.4444444444444444,
              "#bd3786"
             ],
             [
              0.5555555555555556,
              "#d8576b"
             ],
             [
              0.6666666666666666,
              "#ed7953"
             ],
             [
              0.7777777777777778,
              "#fb9f3a"
             ],
             [
              0.8888888888888888,
              "#fdca26"
             ],
             [
              1,
              "#f0f921"
             ]
            ],
            "type": "surface"
           }
          ],
          "table": [
           {
            "cells": {
             "fill": {
              "color": "#EBF0F8"
             },
             "line": {
              "color": "white"
             }
            },
            "header": {
             "fill": {
              "color": "#C8D4E3"
             },
             "line": {
              "color": "white"
             }
            },
            "type": "table"
           }
          ]
         },
         "layout": {
          "annotationdefaults": {
           "arrowcolor": "#2a3f5f",
           "arrowhead": 0,
           "arrowwidth": 1
          },
          "autotypenumbers": "strict",
          "coloraxis": {
           "colorbar": {
            "outlinewidth": 0,
            "ticks": ""
           }
          },
          "colorscale": {
           "diverging": [
            [
             0,
             "#8e0152"
            ],
            [
             0.1,
             "#c51b7d"
            ],
            [
             0.2,
             "#de77ae"
            ],
            [
             0.3,
             "#f1b6da"
            ],
            [
             0.4,
             "#fde0ef"
            ],
            [
             0.5,
             "#f7f7f7"
            ],
            [
             0.6,
             "#e6f5d0"
            ],
            [
             0.7,
             "#b8e186"
            ],
            [
             0.8,
             "#7fbc41"
            ],
            [
             0.9,
             "#4d9221"
            ],
            [
             1,
             "#276419"
            ]
           ],
           "sequential": [
            [
             0,
             "#0d0887"
            ],
            [
             0.1111111111111111,
             "#46039f"
            ],
            [
             0.2222222222222222,
             "#7201a8"
            ],
            [
             0.3333333333333333,
             "#9c179e"
            ],
            [
             0.4444444444444444,
             "#bd3786"
            ],
            [
             0.5555555555555556,
             "#d8576b"
            ],
            [
             0.6666666666666666,
             "#ed7953"
            ],
            [
             0.7777777777777778,
             "#fb9f3a"
            ],
            [
             0.8888888888888888,
             "#fdca26"
            ],
            [
             1,
             "#f0f921"
            ]
           ],
           "sequentialminus": [
            [
             0,
             "#0d0887"
            ],
            [
             0.1111111111111111,
             "#46039f"
            ],
            [
             0.2222222222222222,
             "#7201a8"
            ],
            [
             0.3333333333333333,
             "#9c179e"
            ],
            [
             0.4444444444444444,
             "#bd3786"
            ],
            [
             0.5555555555555556,
             "#d8576b"
            ],
            [
             0.6666666666666666,
             "#ed7953"
            ],
            [
             0.7777777777777778,
             "#fb9f3a"
            ],
            [
             0.8888888888888888,
             "#fdca26"
            ],
            [
             1,
             "#f0f921"
            ]
           ]
          },
          "colorway": [
           "#636efa",
           "#EF553B",
           "#00cc96",
           "#ab63fa",
           "#FFA15A",
           "#19d3f3",
           "#FF6692",
           "#B6E880",
           "#FF97FF",
           "#FECB52"
          ],
          "font": {
           "color": "#2a3f5f"
          },
          "geo": {
           "bgcolor": "white",
           "lakecolor": "white",
           "landcolor": "#E5ECF6",
           "showlakes": true,
           "showland": true,
           "subunitcolor": "white"
          },
          "hoverlabel": {
           "align": "left"
          },
          "hovermode": "closest",
          "mapbox": {
           "style": "light"
          },
          "paper_bgcolor": "white",
          "plot_bgcolor": "#E5ECF6",
          "polar": {
           "angularaxis": {
            "gridcolor": "white",
            "linecolor": "white",
            "ticks": ""
           },
           "bgcolor": "#E5ECF6",
           "radialaxis": {
            "gridcolor": "white",
            "linecolor": "white",
            "ticks": ""
           }
          },
          "scene": {
           "xaxis": {
            "backgroundcolor": "#E5ECF6",
            "gridcolor": "white",
            "gridwidth": 2,
            "linecolor": "white",
            "showbackground": true,
            "ticks": "",
            "zerolinecolor": "white"
           },
           "yaxis": {
            "backgroundcolor": "#E5ECF6",
            "gridcolor": "white",
            "gridwidth": 2,
            "linecolor": "white",
            "showbackground": true,
            "ticks": "",
            "zerolinecolor": "white"
           },
           "zaxis": {
            "backgroundcolor": "#E5ECF6",
            "gridcolor": "white",
            "gridwidth": 2,
            "linecolor": "white",
            "showbackground": true,
            "ticks": "",
            "zerolinecolor": "white"
           }
          },
          "shapedefaults": {
           "line": {
            "color": "#2a3f5f"
           }
          },
          "ternary": {
           "aaxis": {
            "gridcolor": "white",
            "linecolor": "white",
            "ticks": ""
           },
           "baxis": {
            "gridcolor": "white",
            "linecolor": "white",
            "ticks": ""
           },
           "bgcolor": "#E5ECF6",
           "caxis": {
            "gridcolor": "white",
            "linecolor": "white",
            "ticks": ""
           }
          },
          "title": {
           "x": 0.05
          },
          "xaxis": {
           "automargin": true,
           "gridcolor": "white",
           "linecolor": "white",
           "ticks": "",
           "title": {
            "standoff": 15
           },
           "zerolinecolor": "white",
           "zerolinewidth": 2
          },
          "yaxis": {
           "automargin": true,
           "gridcolor": "white",
           "linecolor": "white",
           "ticks": "",
           "title": {
            "standoff": 15
           },
           "zerolinecolor": "white",
           "zerolinewidth": 2
          }
         }
        },
        "title": {
         "font": {
          "color": "#4D5663"
         },
         "text": "VIZ TITLE"
        },
        "xaxis": {
         "gridcolor": "#E1E5ED",
         "showgrid": true,
         "tickfont": {
          "color": "#4D5663"
         },
         "title": {
          "font": {
           "color": "#4D5663"
          },
          "text": "AXIS TITLE"
         },
         "zerolinecolor": "#E1E5ED"
        },
        "yaxis": {
         "gridcolor": "#E1E5ED",
         "showgrid": true,
         "tickfont": {
          "color": "#4D5663"
         },
         "title": {
          "font": {
           "color": "#4D5663"
          },
          "text": "AXIS TITLE"
         },
         "zerolinecolor": "#E1E5ED"
        }
       },
       "config": {
        "showLink": true,
        "linkText": "Export to plot.ly",
        "plotlyServerURL": "https://plot.ly"
       }
      },
      "text/html": [
       "<div>                            <div id=\"96f6f1f9-e31e-45f1-8e36-983a35ebe17f\" class=\"plotly-graph-div\" style=\"height:525px; width:100%;\"></div>            <script type=\"text/javascript\">                require([\"plotly\"], function(Plotly) {                    window.PLOTLYENV=window.PLOTLYENV || {};\n",
       "                    window.PLOTLYENV.BASE_URL='https://plot.ly';                                    if (document.getElementById(\"96f6f1f9-e31e-45f1-8e36-983a35ebe17f\")) {                    Plotly.newPlot(                        \"96f6f1f9-e31e-45f1-8e36-983a35ebe17f\",                        [{\"histfunc\":\"count\",\"histnorm\":\"\",\"marker\":{\"color\":\"rgba(255, 153, 51, 1.0)\",\"line\":{\"color\":\"#4D5663\",\"width\":1.3}},\"name\":\"Periodo\",\"opacity\":0.8,\"orientation\":\"v\",\"x\":[1980,1981,1982,1983,1984,1985,1986,1987,1988,1989,1990,1991,1992,1993,1994,1995,1996,1997,1998,1999,2000,2001,2002,2003,2004,2005,2006,2007,2008,2009,2010,2011,2012,2013,2014,2015,2016,2017,2018],\"type\":\"histogram\"},{\"histfunc\":\"count\",\"histnorm\":\"\",\"marker\":{\"color\":\"rgba(55, 128, 191, 1.0)\",\"line\":{\"color\":\"#4D5663\",\"width\":1.3}},\"name\":\"001\",\"opacity\":0.8,\"orientation\":\"v\",\"x\":[1620,1404,1308,1212,1228,1056,1120,1008,956,888,864,676,672,764,928,972,852,868,1000,1068,1280,1264,1432,1632,1688,1724,1768,2036,1936,2000,3072,2892,3352,3204,3012,3580,3784,3820,4148],\"type\":\"histogram\"},{\"histfunc\":\"count\",\"histnorm\":\"\",\"marker\":{\"color\":\"rgba(50, 171, 96, 1.0)\",\"line\":{\"color\":\"#4D5663\",\"width\":1.3}},\"name\":\"001-008\",\"opacity\":0.8,\"orientation\":\"v\",\"x\":[15768,15124,13488,13100,12928,13344,13452,14872,16860,20340,23508,26432,29948,33744,36200,40552,40456,29048,25412,26120,25136,26228,26944,29208,28872,29972,28804,31128,30848,27372,25956,25592,26080,24836,26032,30268,28132,27276,25592],\"type\":\"histogram\"},{\"histfunc\":\"count\",\"histnorm\":\"\",\"marker\":{\"color\":\"rgba(128, 0, 128, 1.0)\",\"line\":{\"color\":\"#4D5663\",\"width\":1.3}},\"name\":\"001-102\",\"opacity\":0.8,\"orientation\":\"v\",\"x\":[1157376,1173544,1146620,1210276,1197636,1250128,1241652,1240292,1277748,1299184,1332568,1350764,1326060,1358644,1352968,1384908,1405796,1398084,1442044,1484408,1441564,1440524,1474472,1539312,1487736,1549420,1485912,1541444,1545296,1539732,1528188,1551644,1611800,1561676,1583320,1690272,1642444,1698092,1710884],\"type\":\"histogram\"},{\"histfunc\":\"count\",\"histnorm\":\"\",\"marker\":{\"color\":\"rgba(219, 64, 82, 1.0)\",\"line\":{\"color\":\"#4D5663\",\"width\":1.3}},\"name\":\"002\",\"opacity\":0.8,\"orientation\":\"v\",\"x\":[5904,6332,5352,5152,4564,4504,4284,4248,3996,3772,3920,3612,3464,3328,3016,3008,2856,2584,2380,2640,2080,1960,1964,1892,1780,1900,1584,1636,1396,1576,1568,1152,1280,1164,1116,976,1000,968,996],\"type\":\"histogram\"},{\"histfunc\":\"count\",\"histnorm\":\"\",\"marker\":{\"color\":\"rgba(0, 128, 128, 1.0)\",\"line\":{\"color\":\"#4D5663\",\"width\":1.3}},\"name\":\"003\",\"opacity\":0.8,\"orientation\":\"v\",\"x\":[2008,1656,1240,1072,964,636,744,552,460,364,280,424,316,284,248,196,524,404,240,360,336,204,324,228,248,220,172,248,160,132,88,172,72,84,32,60,80,48,60],\"type\":\"histogram\"},{\"histfunc\":\"count\",\"histnorm\":\"\",\"marker\":{\"color\":\"rgba(255, 255, 51, 1.0)\",\"line\":{\"color\":\"#4D5663\",\"width\":1.3}},\"name\":\"004\",\"opacity\":0.8,\"orientation\":\"v\",\"x\":[3448,3344,3104,3152,3704,4512,4456,5008,6028,7600,7932,8820,9352,9760,8548,8928,8456,8340,8760,9660,9024,10424,10732,12652,12068,13676,13620,15596,16544,12800,11264,11896,11824,11668,13028,16728,15548,15200,12160],\"type\":\"histogram\"},{\"histfunc\":\"count\",\"histnorm\":\"\",\"marker\":{\"color\":\"rgba(128, 128, 0, 1.0)\",\"line\":{\"color\":\"#4D5663\",\"width\":1.3}},\"name\":\"005\",\"opacity\":0.8,\"orientation\":\"v\",\"x\":[436,348,316,336,424,364,368,376,420,472,600,664,704,1108,1588,2104,2844,2880,3300,2984,3312,3696,3848,4176,4456,4268,4040,3976,3632,4268,3736,3472,3404,3364,3676,3624,3104,2516,2268],\"type\":\"histogram\"},{\"histfunc\":\"count\",\"histnorm\":\"\",\"marker\":{\"color\":\"rgba(251, 128, 114, 1.0)\",\"line\":{\"color\":\"#4D5663\",\"width\":1.3}},\"name\":\"006\",\"opacity\":0.8,\"orientation\":\"v\",\"x\":[0,0,0,0,0,188,656,1636,3072,5152,7592,10012,13024,15920,19080,22204,21728,11376,7116,7208,6844,6528,6444,6528,6204,5800,5252,5228,4844,4316,4080,3812,3520,2996,2800,2532,1992,1768,1692],\"type\":\"histogram\"},{\"histfunc\":\"count\",\"histnorm\":\"\",\"marker\":{\"color\":\"rgba(128, 177, 211, 1.0)\",\"line\":{\"color\":\"#4D5663\",\"width\":1.3}},\"name\":\"007\",\"opacity\":0.8,\"orientation\":\"v\",\"x\":[0,0,0,0,0,0,0,0,0,220,356,412,656,748,864,960,1068,540,296,40,24,12,12,12,12,0,8,24,16,0,0,0,0,4,0,0,0,0,0],\"type\":\"histogram\"},{\"histfunc\":\"count\",\"histnorm\":\"\",\"marker\":{\"color\":\"rgba(128, 177, 211, 0.9322033898305084)\",\"line\":{\"color\":\"#4D5663\",\"width\":1.3}},\"name\":\"008\",\"opacity\":0.8,\"orientation\":\"v\",\"x\":[2352,2040,2168,2176,2044,2084,1824,2044,1928,1872,1964,1812,1760,1832,1928,2180,2128,2056,2320,2160,2236,2140,2188,2088,2416,2384,2360,2384,2320,2280,2148,2196,2628,2352,2368,2768,2624,2956,4268],\"type\":\"histogram\"},{\"histfunc\":\"count\",\"histnorm\":\"\",\"marker\":{\"color\":\"rgba(255, 153, 51, 0.9322033898305084)\",\"line\":{\"color\":\"#4D5663\",\"width\":1.3}},\"name\":\"009\",\"opacity\":0.8,\"orientation\":\"v\",\"x\":[4276,4720,4976,5016,5808,5776,6456,7004,7232,7328,7600,8504,8436,8572,8848,8724,8292,9072,8820,8688,8744,8744,8896,8804,8912,8792,8588,8816,8264,8616,9108,9268,9100,9836,9360,9300,9712,9828,9640],\"type\":\"histogram\"},{\"histfunc\":\"count\",\"histnorm\":\"\",\"marker\":{\"color\":\"rgba(55, 128, 191, 0.9322033898305084)\",\"line\":{\"color\":\"#4D5663\",\"width\":1.3}},\"name\":\"009-041\",\"opacity\":0.8,\"orientation\":\"v\",\"x\":[233924,238852,246032,253940,266460,275476,283128,295472,305476,311340,319428,326268,332940,344080,352552,359756,358744,366060,371784,378264,380288,390856,391136,399304,401940,400824,406732,413316,416216,420528,428880,437364,443972,444084,441112,445524,451756,453064,450856],\"type\":\"histogram\"},{\"histfunc\":\"count\",\"histnorm\":\"\",\"marker\":{\"color\":\"rgba(50, 171, 96, 0.9322033898305084)\",\"line\":{\"color\":\"#4D5663\",\"width\":1.3}},\"name\":\"010\",\"opacity\":0.8,\"orientation\":\"v\",\"x\":[5908,5864,6524,6312,6396,6280,6660,6832,6616,6812,7044,6716,7136,7048,7156,7164,7288,7048,7188,7012,7160,7152,6960,7308,7328,7024,7040,7108,7156,7080,7232,7500,7152,7192,7336,7724,7364,7400,7296],\"type\":\"histogram\"},{\"histfunc\":\"count\",\"histnorm\":\"\",\"marker\":{\"color\":\"rgba(128, 0, 128, 0.9322033898305084)\",\"line\":{\"color\":\"#4D5663\",\"width\":1.3}},\"name\":\"011\",\"opacity\":0.8,\"orientation\":\"v\",\"x\":[30448,29188,28500,28292,28772,28560,28200,28840,28468,28028,27552,26852,26428,26648,26940,26228,25648,25824,24368,24680,24368,24444,23144,23448,23244,22724,22864,22988,22512,22784,23404,22424,22728,22504,22136,22024,21672,20616,20212],\"type\":\"histogram\"},{\"histfunc\":\"count\",\"histnorm\":\"\",\"marker\":{\"color\":\"rgba(219, 64, 82, 0.9322033898305084)\",\"line\":{\"color\":\"#4D5663\",\"width\":1.3}},\"name\":\"012\",\"opacity\":0.8,\"orientation\":\"v\",\"x\":[10044,10736,11244,12516,13988,15248,17952,18980,21036,20700,22456,23648,25420,28052,29064,30228,30648,31832,33440,33992,35088,36476,36504,37892,39212,39436,39716,41636,42416,43384,44964,46748,47072,47400,47188,46104,47124,45624,45060],\"type\":\"histogram\"},{\"histfunc\":\"count\",\"histnorm\":\"\",\"marker\":{\"color\":\"rgba(0, 128, 128, 0.9322033898305084)\",\"line\":{\"color\":\"#4D5663\",\"width\":1.3}},\"name\":\"013\",\"opacity\":0.8,\"orientation\":\"v\",\"x\":[8120,7888,8076,8268,8272,8644,7820,8568,9020,8808,9400,9788,8992,9380,10008,10272,10980,10724,10824,11208,11524,11708,12336,12032,12672,12300,12688,12428,12848,13568,14568,14780,15344,15000,14716,15416,16048,16016,16092],\"type\":\"histogram\"},{\"histfunc\":\"count\",\"histnorm\":\"\",\"marker\":{\"color\":\"rgba(255, 255, 51, 0.9322033898305084)\",\"line\":{\"color\":\"#4D5663\",\"width\":1.3}},\"name\":\"014\",\"opacity\":0.8,\"orientation\":\"v\",\"x\":[16784,15940,15896,16488,16728,15840,15660,15616,16000,16564,16460,16304,16856,16560,16444,17032,16832,17204,17348,17220,17024,17560,17780,17588,17740,17384,17760,18176,18112,18440,19068,19664,20064,20328,20220,20176,19956,20768,20564],\"type\":\"histogram\"},{\"histfunc\":\"count\",\"histnorm\":\"\",\"marker\":{\"color\":\"rgba(128, 128, 0, 0.9322033898305084)\",\"line\":{\"color\":\"#4D5663\",\"width\":1.3}},\"name\":\"015\",\"opacity\":0.8,\"orientation\":\"v\",\"x\":[6884,7520,7892,8056,9104,9520,9884,10412,10784,11184,11792,11808,12184,12940,13836,13488,13872,14540,14492,15308,16000,16864,17132,17728,18196,18364,19440,19904,20932,20968,22864,23248,23904,24156,25148,25624,27156,27472,28480],\"type\":\"histogram\"},{\"histfunc\":\"count\",\"histnorm\":\"\",\"marker\":{\"color\":\"rgba(251, 128, 114, 0.9322033898305084)\",\"line\":{\"color\":\"#4D5663\",\"width\":1.3}},\"name\":\"016\",\"opacity\":0.8,\"orientation\":\"v\",\"x\":[10768,10672,11732,11432,11392,10444,9864,10556,10380,10972,10628,11028,10448,11012,11012,11096,10336,10088,10528,10184,10176,10260,10156,9892,9584,9704,9636,9552,9232,9060,9324,9460,9732,9640,9912,9784,10064,10160,10280],\"type\":\"histogram\"},{\"histfunc\":\"count\",\"histnorm\":\"\",\"marker\":{\"color\":\"rgba(251, 128, 114, 0.8644067796610169)\",\"line\":{\"color\":\"#4D5663\",\"width\":1.3}},\"name\":\"017\",\"opacity\":0.8,\"orientation\":\"v\",\"x\":[7152,7168,7268,7232,7196,7112,7736,7508,7592,7824,7904,7780,7744,7940,7540,7572,7440,7636,7004,7404,7264,7108,6976,6852,6500,6400,6164,5992,6192,5892,6024,6096,5920,5456,5240,5256,5280,5440,5044],\"type\":\"histogram\"},{\"histfunc\":\"count\",\"histnorm\":\"\",\"marker\":{\"color\":\"rgba(128, 177, 211, 0.8644067796610169)\",\"line\":{\"color\":\"#4D5663\",\"width\":1.3}},\"name\":\"018\",\"opacity\":0.8,\"orientation\":\"v\",\"x\":[35084,37944,39312,41312,43740,45396,46600,50032,52612,54508,55928,58088,60164,62296,64144,66040,65080,66428,68860,69712,69452,72856,72456,75204,76368,76472,78128,79968,80852,81700,83020,84388,86044,86756,85080,86500,88748,88484,88612],\"type\":\"histogram\"},{\"histfunc\":\"count\",\"histnorm\":\"\",\"marker\":{\"color\":\"rgba(255, 153, 51, 0.8644067796610169)\",\"line\":{\"color\":\"#4D5663\",\"width\":1.3}},\"name\":\"019\",\"opacity\":0.8,\"orientation\":\"v\",\"x\":[1280,1300,1424,1288,1452,1256,1300,1304,1296,1440,1484,1608,1652,1736,1728,1844,1644,1652,1784,1948,2124,2092,2112,1820,1968,1916,1964,2064,2140,2108,1992,2280,2236,2088,1992,1988,1976,2088,1940],\"type\":\"histogram\"},{\"histfunc\":\"count\",\"histnorm\":\"\",\"marker\":{\"color\":\"rgba(55, 128, 191, 0.8644067796610169)\",\"line\":{\"color\":\"#4D5663\",\"width\":1.3}},\"name\":\"020\",\"opacity\":0.8,\"orientation\":\"v\",\"x\":[2664,2864,2924,2800,2908,2248,1772,2008,1952,1900,1588,1548,1568,1444,1456,1432,1284,1356,1452,1168,1036,1044,1064,1096,1152,1132,1216,1044,1152,1040,1252,1224,1204,1160,1260,1320,1240,1256,1308],\"type\":\"histogram\"},{\"histfunc\":\"count\",\"histnorm\":\"\",\"marker\":{\"color\":\"rgba(50, 171, 96, 0.8644067796610169)\",\"line\":{\"color\":\"#4D5663\",\"width\":1.3}},\"name\":\"021\",\"opacity\":0.8,\"orientation\":\"v\",\"x\":[724,776,776,1064,1248,1236,1340,1472,1548,1856,1872,1936,2152,2080,2348,2556,2564,2436,2956,2744,2804,2968,2972,3056,3044,3360,3336,3400,3508,3456,3900,3708,3744,3948,4236,4320,3836,3968,3928],\"type\":\"histogram\"},{\"histfunc\":\"count\",\"histnorm\":\"\",\"marker\":{\"color\":\"rgba(128, 0, 128, 0.8644067796610169)\",\"line\":{\"color\":\"#4D5663\",\"width\":1.3}},\"name\":\"022\",\"opacity\":0.8,\"orientation\":\"v\",\"x\":[2148,2408,2192,2460,3940,3460,3124,3260,3220,3356,3500,3388,3468,3676,3712,3744,3616,3704,3900,3768,3812,4068,4100,3968,4012,4208,4300,4676,4552,4816,4992,5288,5636,5376,5528,5696,5932,6312,6208],\"type\":\"histogram\"},{\"histfunc\":\"count\",\"histnorm\":\"\",\"marker\":{\"color\":\"rgba(219, 64, 82, 0.8644067796610169)\",\"line\":{\"color\":\"#4D5663\",\"width\":1.3}},\"name\":\"023\",\"opacity\":0.8,\"orientation\":\"v\",\"x\":[14624,14696,15704,16096,17108,17360,18428,19712,20728,21288,21736,21992,22708,23836,23684,24312,23228,23312,23348,23100,22928,23888,23368,23908,23564,23168,24080,24184,24488,24800,25484,25596,25500,26356,25300,25240,25908,26292,26484],\"type\":\"histogram\"},{\"histfunc\":\"count\",\"histnorm\":\"\",\"marker\":{\"color\":\"rgba(0, 128, 128, 0.8644067796610169)\",\"line\":{\"color\":\"#4D5663\",\"width\":1.3}},\"name\":\"024\",\"opacity\":0.8,\"orientation\":\"v\",\"x\":[1252,1256,1248,1376,1532,1640,1580,1760,1896,1948,2084,1952,1988,2064,2120,2384,2028,2264,2256,2096,2388,2196,2132,2148,2156,2376,2416,2516,2464,2572,2668,2716,2668,2560,2360,2636,2480,2720,2552],\"type\":\"histogram\"},{\"histfunc\":\"count\",\"histnorm\":\"\",\"marker\":{\"color\":\"rgba(255, 255, 51, 0.8644067796610169)\",\"line\":{\"color\":\"#4D5663\",\"width\":1.3}},\"name\":\"025\",\"opacity\":0.8,\"orientation\":\"v\",\"x\":[6384,6412,6328,6160,5812,5848,5436,5608,5628,5268,5160,5212,5288,5068,5144,4976,5104,4848,4964,5000,4824,4928,5036,5232,4812,5064,5348,5252,5428,5484,5956,6452,6036,6656,6404,6440,6460,6312,6332],\"type\":\"histogram\"},{\"histfunc\":\"count\",\"histnorm\":\"\",\"marker\":{\"color\":\"rgba(128, 128, 0, 0.8644067796610169)\",\"line\":{\"color\":\"#4D5663\",\"width\":1.3}},\"name\":\"026\",\"opacity\":0.8,\"orientation\":\"v\",\"x\":[2500,2580,2756,2924,3416,3336,3464,4088,4120,4452,4500,4996,5252,5392,5436,6140,6256,6140,6448,6404,6420,6780,6792,7040,6852,6948,7040,7380,7328,7260,7772,7664,7548,7492,7824,7840,7840,8100,7796],\"type\":\"histogram\"},{\"histfunc\":\"count\",\"histnorm\":\"\",\"marker\":{\"color\":\"rgba(128, 128, 0, 0.7966101694915255)\",\"line\":{\"color\":\"#4D5663\",\"width\":1.3}},\"name\":\"027\",\"opacity\":0.8,\"orientation\":\"v\",\"x\":[1424,1500,1524,1544,1484,1592,1440,1684,1768,1756,1824,1720,1580,1776,2028,1700,1684,1816,1840,1888,1848,1964,1976,2032,1888,1888,1804,1880,1924,2004,1896,2120,2124,2196,2220,2156,2268,2276,2328],\"type\":\"histogram\"},{\"histfunc\":\"count\",\"histnorm\":\"\",\"marker\":{\"color\":\"rgba(251, 128, 114, 0.7966101694915255)\",\"line\":{\"color\":\"#4D5663\",\"width\":1.3}},\"name\":\"028\",\"opacity\":0.8,\"orientation\":\"v\",\"x\":[12480,13000,12600,13476,13996,14676,15284,15848,16176,16460,17256,17648,18252,19672,20476,21112,21868,21884,22968,22580,21824,22636,22712,22424,22776,22048,21648,22336,21856,22088,23500,24136,24180,23148,23452,23028,23008,23752,23364],\"type\":\"histogram\"},{\"histfunc\":\"count\",\"histnorm\":\"\",\"marker\":{\"color\":\"rgba(128, 177, 211, 0.7966101694915255)\",\"line\":{\"color\":\"#4D5663\",\"width\":1.3}},\"name\":\"029\",\"opacity\":0.8,\"orientation\":\"v\",\"x\":[476,516,500,504,528,588,500,572,576,640,512,468,732,616,560,656,564,604,500,548,636,692,548,604,536,724,604,640,660,576,776,712,640,692,772,704,728,676,812],\"type\":\"histogram\"},{\"histfunc\":\"count\",\"histnorm\":\"\",\"marker\":{\"color\":\"rgba(255, 153, 51, 0.7966101694915255)\",\"line\":{\"color\":\"#4D5663\",\"width\":1.3}},\"name\":\"030\",\"opacity\":0.8,\"orientation\":\"v\",\"x\":[2544,2820,2840,3116,3084,3224,3348,3684,4008,4100,4152,4560,4532,5136,5160,5316,5580,5796,5672,5748,6116,6164,5884,6576,6504,6588,7028,6828,7240,7328,7736,7692,8208,8364,8172,8724,8380,8668,8524],\"type\":\"histogram\"},{\"histfunc\":\"count\",\"histnorm\":\"\",\"marker\":{\"color\":\"rgba(55, 128, 191, 0.7966101694915255)\",\"line\":{\"color\":\"#4D5663\",\"width\":1.3}},\"name\":\"031\",\"opacity\":0.8,\"orientation\":\"v\",\"x\":[8304,8388,8976,9300,9724,10428,10852,11304,11768,12316,12412,12720,13588,14244,14364,14128,13764,15000,14808,15684,15656,16436,16788,17172,17984,17720,18104,18284,18816,18928,19744,20340,21012,20612,19200,19196,19444,18480,17600],\"type\":\"histogram\"},{\"histfunc\":\"count\",\"histnorm\":\"\",\"marker\":{\"color\":\"rgba(50, 171, 96, 0.7966101694915255)\",\"line\":{\"color\":\"#4D5663\",\"width\":1.3}},\"name\":\"032\",\"opacity\":0.8,\"orientation\":\"v\",\"x\":[320,188,152,284,368,208,268,384,412,496,444,560,536,608,604,784,764,944,844,564,592,624,700,668,744,888,876,1244,1296,1544,1816,2164,2332,2808,3496,4572,5368,5792,6104],\"type\":\"histogram\"},{\"histfunc\":\"count\",\"histnorm\":\"\",\"marker\":{\"color\":\"rgba(128, 0, 128, 0.7966101694915255)\",\"line\":{\"color\":\"#4D5663\",\"width\":1.3}},\"name\":\"033\",\"opacity\":0.8,\"orientation\":\"v\",\"x\":[7212,7488,8080,8024,7328,4948,4696,5816,5952,5632,5848,6188,6504,7144,7276,7712,7936,8088,8416,8500,8736,8816,9580,9636,9544,9584,10036,10268,10092,10032,10544,11108,11636,11448,11332,11536,11896,12288,12096],\"type\":\"histogram\"},{\"histfunc\":\"count\",\"histnorm\":\"\",\"marker\":{\"color\":\"rgba(219, 64, 82, 0.7966101694915255)\",\"line\":{\"color\":\"#4D5663\",\"width\":1.3}},\"name\":\"034\",\"opacity\":0.8,\"orientation\":\"v\",\"x\":[1544,1480,1608,1516,1564,1492,1404,1592,1624,1804,1908,1788,1976,1852,1784,1856,1980,1964,2144,2116,2244,2336,2144,2320,2264,2280,2468,2484,2504,2396,2576,2636,2620,2692,2540,2468,2412,2504,2272],\"type\":\"histogram\"},{\"histfunc\":\"count\",\"histnorm\":\"\",\"marker\":{\"color\":\"rgba(0, 128, 128, 0.7966101694915255)\",\"line\":{\"color\":\"#4D5663\",\"width\":1.3}},\"name\":\"035\",\"opacity\":0.8,\"orientation\":\"v\",\"x\":[18284,18164,19420,19876,19956,21668,23992,21892,22540,22348,23180,24364,24016,23544,23812,23964,25556,25276,24888,27836,28088,27764,29252,29720,29524,29228,29808,29428,28744,27968,20008,20152,19764,19476,19384,19192,19156,18992,19828],\"type\":\"histogram\"},{\"histfunc\":\"count\",\"histnorm\":\"\",\"marker\":{\"color\":\"rgba(255, 255, 51, 0.7966101694915255)\",\"line\":{\"color\":\"#4D5663\",\"width\":1.3}},\"name\":\"036\",\"opacity\":0.8,\"orientation\":\"v\",\"x\":[6296,6532,6776,7296,8052,8464,8808,9812,10296,10972,11636,11744,12504,12280,13976,14824,14480,15320,15572,16448,16984,17344,16868,17476,17084,17200,16496,17152,17804,17840,17948,18940,19276,19328,19712,19452,19640,20192,19816],\"type\":\"histogram\"},{\"histfunc\":\"count\",\"histnorm\":\"\",\"marker\":{\"color\":\"rgba(255, 255, 51, 0.728813559322034)\",\"line\":{\"color\":\"#4D5663\",\"width\":1.3}},\"name\":\"037\",\"opacity\":0.8,\"orientation\":\"v\",\"x\":[7104,7952,7880,8260,8424,8944,8536,9060,9656,9428,9588,9888,9908,9724,10524,10528,10668,10532,11276,11032,11524,11540,11660,12220,12396,12036,12608,12348,12188,12336,13092,13224,14124,13876,13556,14364,13676,13816,13532],\"type\":\"histogram\"},{\"histfunc\":\"count\",\"histnorm\":\"\",\"marker\":{\"color\":\"rgba(128, 128, 0, 0.728813559322034)\",\"line\":{\"color\":\"#4D5663\",\"width\":1.3}},\"name\":\"038\",\"opacity\":0.8,\"orientation\":\"v\",\"x\":[4,4,12,12,8,60,28,24,0,16,12,4,4,8,0,0,12,8,4,12,8,4,12,8,16,12,12,28,20,36,32,36,36,36,28,44,40,36,36],\"type\":\"histogram\"},{\"histfunc\":\"count\",\"histnorm\":\"\",\"marker\":{\"color\":\"rgba(251, 128, 114, 0.728813559322034)\",\"line\":{\"color\":\"#4D5663\",\"width\":1.3}},\"name\":\"039\",\"opacity\":0.8,\"orientation\":\"v\",\"x\":[528,448,384,456,588,596,788,864,1004,928,984,1108,992,1160,1148,1192,1248,1184,1272,1488,1304,1444,1516,1688,1444,1604,1592,1632,1832,1772,2328,2048,2440,2376,2500,2328,2412,2512,2440],\"type\":\"histogram\"},{\"histfunc\":\"count\",\"histnorm\":\"\",\"marker\":{\"color\":\"rgba(128, 177, 211, 0.728813559322034)\",\"line\":{\"color\":\"#4D5663\",\"width\":1.3}},\"name\":\"040\",\"opacity\":0.8,\"orientation\":\"v\",\"x\":[144,160,140,188,232,236,224,200,320,464,772,844,1056,1316,1132,1520,1664,1996,2148,2716,2692,2720,2876,2952,2928,3240,3012,3048,3112,3372,3472,3616,3928,4148,4060,4324,4544,4820,4568],\"type\":\"histogram\"},{\"histfunc\":\"count\",\"histnorm\":\"\",\"marker\":{\"color\":\"rgba(255, 153, 51, 0.728813559322034)\",\"line\":{\"color\":\"#4D5663\",\"width\":1.3}},\"name\":\"041\",\"opacity\":0.8,\"orientation\":\"v\",\"x\":[216,280,368,996,2312,9148,9684,9176,9248,9744,10212,9516,8876,9256,9088,9232,8836,9540,9452,9468,8900,9236,8704,8792,8992,9012,8912,8632,8552,9280,9820,9936,10020,8980,9448,10048,9988,9404,9708],\"type\":\"histogram\"},{\"histfunc\":\"count\",\"histnorm\":\"\",\"marker\":{\"color\":\"rgba(55, 128, 191, 0.728813559322034)\",\"line\":{\"color\":\"#4D5663\",\"width\":1.3}},\"name\":\"042\",\"opacity\":0.8,\"orientation\":\"v\",\"x\":[2816,2876,2604,2872,3112,3232,3384,3652,3636,4064,4256,4708,4332,4720,4708,4644,4708,4700,5156,4092,4452,4088,4672,4616,4744,4892,4564,4800,4960,5376,5608,5636,5740,6004,6500,7376,6848,7108,6920],\"type\":\"histogram\"},{\"histfunc\":\"count\",\"histnorm\":\"\",\"marker\":{\"color\":\"rgba(50, 171, 96, 0.728813559322034)\",\"line\":{\"color\":\"#4D5663\",\"width\":1.3}},\"name\":\"042-043\",\"opacity\":0.8,\"orientation\":\"v\",\"x\":[2844,2924,2636,2960,3212,3396,3524,3820,3804,4292,4524,4988,4632,5048,5080,5020,5048,5048,5364,4496,4840,4472,5024,4976,5164,5264,4908,5156,5368,5872,6076,6112,6220,6556,7136,8112,7544,7892,7784],\"type\":\"histogram\"},{\"histfunc\":\"count\",\"histnorm\":\"\",\"marker\":{\"color\":\"rgba(128, 0, 128, 0.728813559322034)\",\"line\":{\"color\":\"#4D5663\",\"width\":1.3}},\"name\":\"043\",\"opacity\":0.8,\"orientation\":\"v\",\"x\":[28,48,32,88,100,164,140,168,168,228,268,280,300,328,372,376,340,348,208,404,388,384,352,360,420,372,344,356,408,496,468,476,480,552,636,736,696,784,864],\"type\":\"histogram\"},{\"histfunc\":\"count\",\"histnorm\":\"\",\"marker\":{\"color\":\"rgba(219, 64, 82, 0.728813559322034)\",\"line\":{\"color\":\"#4D5663\",\"width\":1.3}},\"name\":\"044\",\"opacity\":0.8,\"orientation\":\"v\",\"x\":[27848,29292,30164,32160,33528,33812,34668,35220,35552,35520,35956,36556,34232,35680,35908,36604,35916,35476,38132,38880,37012,38324,39016,40396,39864,41356,38700,40608,40612,39940,39196,39980,39948,37564,38500,40724,37240,39092,39684],\"type\":\"histogram\"},{\"histfunc\":\"count\",\"histnorm\":\"\",\"marker\":{\"color\":\"rgba(0, 128, 128, 0.728813559322034)\",\"line\":{\"color\":\"#4D5663\",\"width\":1.3}},\"name\":\"044-045\",\"opacity\":0.8,\"orientation\":\"v\",\"x\":[31388,32716,33536,35936,37392,38124,38956,39468,40148,40400,41324,41864,39596,41252,41552,42836,42368,42100,44840,45528,43568,44892,46372,48588,47672,49684,46092,48948,49348,49848,50392,51156,51296,48824,52052,56260,50800,53184,53860],\"type\":\"histogram\"},{\"histfunc\":\"count\",\"histnorm\":\"\",\"marker\":{\"color\":\"rgba(0, 128, 128, 0.6610169491525424)\",\"line\":{\"color\":\"#4D5663\",\"width\":1.3}},\"name\":\"045\",\"opacity\":0.8,\"orientation\":\"v\",\"x\":[3540,3424,3372,3776,3864,4312,4288,4248,4596,4880,5368,5308,5364,5572,5644,6232,6452,6624,6708,6648,6556,6568,7356,8192,7808,8328,7392,8340,8736,9908,11196,11176,11348,11260,13552,15536,13560,14092,14176],\"type\":\"histogram\"},{\"histfunc\":\"count\",\"histnorm\":\"\",\"marker\":{\"color\":\"rgba(255, 255, 51, 0.6610169491525424)\",\"line\":{\"color\":\"#4D5663\",\"width\":1.3}},\"name\":\"046\",\"opacity\":0.8,\"orientation\":\"v\",\"x\":[1588,1976,1996,3776,4812,6468,7968,10172,11728,15356,19468,23472,24936,27652,31556,35208,38540,40872,44628,43304,42456,42680,43928,48852,44232,47024,45712,46904,49520,55004,56500,58392,65540,65292,71856,82248,80852,84140,86676],\"type\":\"histogram\"},{\"histfunc\":\"count\",\"histnorm\":\"\",\"marker\":{\"color\":\"rgba(128, 128, 0, 0.6610169491525424)\",\"line\":{\"color\":\"#4D5663\",\"width\":1.3}},\"name\":\"046-049\",\"opacity\":0.8,\"orientation\":\"v\",\"x\":[3600,3940,3872,5944,6788,8328,9896,12136,13980,17616,21772,25904,27208,29976,33916,37572,40920,43180,47184,46080,44596,45384,46728,52288,47512,50156,48428,49240,52160,57824,59284,61104,68580,67908,74824,85332,83920,86888,89504],\"type\":\"histogram\"},{\"histfunc\":\"count\",\"histnorm\":\"\",\"marker\":{\"color\":\"rgba(251, 128, 114, 0.6610169491525424)\",\"line\":{\"color\":\"#4D5663\",\"width\":1.3}},\"name\":\"047\",\"opacity\":0.8,\"orientation\":\"v\",\"x\":[1340,1336,1292,1444,1196,1184,1148,1120,1220,1216,1264,1288,1120,1188,1220,1148,1188,1020,1080,1296,1124,1388,1132,1312,1328,1212,1216,1032,1000,1112,1144,1152,1192,1012,1040,1112,996,932,920],\"type\":\"histogram\"},{\"histfunc\":\"count\",\"histnorm\":\"\",\"marker\":{\"color\":\"rgba(128, 177, 211, 0.6610169491525424)\",\"line\":{\"color\":\"#4D5663\",\"width\":1.3}},\"name\":\"048\",\"opacity\":0.8,\"orientation\":\"v\",\"x\":[60,68,96,108,276,128,148,184,256,296,344,400,328,288,244,260,348,300,256,200,136,156,508,632,724,496,328,180,304,200,192,120,136,88,104,108,104,56,168],\"type\":\"histogram\"},{\"histfunc\":\"count\",\"histnorm\":\"\",\"marker\":{\"color\":\"rgba(255, 153, 51, 0.6610169491525424)\",\"line\":{\"color\":\"#4D5663\",\"width\":1.3}},\"name\":\"049\",\"opacity\":0.8,\"orientation\":\"v\",\"x\":[612,560,488,616,504,548,632,660,776,748,696,744,824,848,896,956,844,988,1220,1280,880,1160,1160,1492,1228,1424,1172,1124,1336,1508,1448,1440,1712,1516,1824,1864,1968,1760,1740],\"type\":\"histogram\"},{\"histfunc\":\"count\",\"histnorm\":\"\",\"marker\":{\"color\":\"rgba(55, 128, 191, 0.6610169491525424)\",\"line\":{\"color\":\"#4D5663\",\"width\":1.3}},\"name\":\"050\",\"opacity\":0.8,\"orientation\":\"v\",\"x\":[924,980,808,832,764,800,876,708,688,596,736,828,736,720,672,692,640,528,528,596,604,584,568,608,628,676,596,656,668,620,564,564,504,476,432,432,420,452,548],\"type\":\"histogram\"},{\"histfunc\":\"count\",\"histnorm\":\"\",\"marker\":{\"color\":\"rgba(50, 171, 96, 0.6610169491525424)\",\"line\":{\"color\":\"#4D5663\",\"width\":1.3}},\"name\":\"050-052\",\"opacity\":0.8,\"orientation\":\"v\",\"x\":[13608,12532,12988,13524,12892,13784,14096,15480,16840,17304,18592,20108,19692,21552,23732,25080,26524,28108,31708,41212,41904,46708,50048,59252,56492,62788,62884,66892,69984,75120,77140,81016,88356,85944,93576,103340,100944,105380,105116],\"type\":\"histogram\"},{\"histfunc\":\"count\",\"histnorm\":\"\",\"marker\":{\"color\":\"rgba(128, 0, 128, 0.6610169491525424)\",\"line\":{\"color\":\"#4D5663\",\"width\":1.3}},\"name\":\"051\",\"opacity\":0.8,\"orientation\":\"v\",\"x\":[92,84,84,132,192,536,732,1436,1928,2736,3588,4204,4532,5616,7460,8764,9504,10752,13056,20344,21528,25120,27256,33396,32052,35904,36688,39764,41608,44676,45372,47628,52060,51100,56088,62312,59172,60804,59716],\"type\":\"histogram\"},{\"histfunc\":\"count\",\"histnorm\":\"\",\"marker\":{\"color\":\"rgba(219, 64, 82, 0.6610169491525424)\",\"line\":{\"color\":\"#4D5663\",\"width\":1.3}},\"name\":\"052\",\"opacity\":0.8,\"orientation\":\"v\",\"x\":[12592,11468,12096,12560,11936,12448,12488,13336,14224,13972,14268,15076,14424,15216,15600,15624,16380,16828,18124,20272,19772,21004,22224,25248,23812,26208,25600,26472,27708,29824,31204,32824,35792,34368,37056,40596,41352,44124,44852],\"type\":\"histogram\"},{\"histfunc\":\"count\",\"histnorm\":\"\",\"marker\":{\"color\":\"rgba(219, 64, 82, 0.5932203389830508)\",\"line\":{\"color\":\"#4D5663\",\"width\":1.3}},\"name\":\"053\",\"opacity\":0.8,\"orientation\":\"v\",\"x\":[10376,9284,8352,7964,8036,6384,6084,6236,6024,6500,6372,6556,6116,6216,6216,6352,6508,6840,7012,7100,7148,6688,6652,6996,6264,6384,5404,5464,5436,7036,7244,6816,6308,5772,6652,6852,6568,6268,6212],\"type\":\"histogram\"},{\"histfunc\":\"count\",\"histnorm\":\"\",\"marker\":{\"color\":\"rgba(0, 128, 128, 0.5932203389830508)\",\"line\":{\"color\":\"#4D5663\",\"width\":1.3}},\"name\":\"053-061\",\"opacity\":0.8,\"orientation\":\"v\",\"x\":[503548,510344,495944,522124,507216,524792,510468,505128,515492,514688,516896,529756,514192,521916,510764,513740,518260,513352,526512,527096,502892,497556,503188,519132,495468,507628,483040,496504,491172,480228,476512,473308,488388,469936,469572,496788,479112,489860,483436],\"type\":\"histogram\"},{\"histfunc\":\"count\",\"histnorm\":\"\",\"marker\":{\"color\":\"rgba(255, 255, 51, 0.5932203389830508)\",\"line\":{\"color\":\"#4D5663\",\"width\":1.3}},\"name\":\"054\",\"opacity\":0.8,\"orientation\":\"v\",\"x\":[7808,8088,8456,8396,8064,8584,9964,9588,9928,10132,11200,12772,13204,13232,15184,16848,17772,18112,20448,19644,20220,20896,22132,24912,24824,26644,26704,29944,30616,32932,37896,38676,41092,44972,46292,50700,48612,50240,49984],\"type\":\"histogram\"},{\"histfunc\":\"count\",\"histnorm\":\"\",\"marker\":{\"color\":\"rgba(128, 128, 0, 0.5932203389830508)\",\"line\":{\"color\":\"#4D5663\",\"width\":1.3}},\"name\":\"055\",\"opacity\":0.8,\"orientation\":\"v\",\"x\":[81904,83564,86632,89644,91000,93808,92152,94656,95912,92376,95648,99368,98680,102616,99360,102344,103748,102168,104280,102784,100296,97800,98660,100320,93984,94276,88112,86376,81732,77748,74736,72404,70576,66144,63572,63728,59632,59824,58084],\"type\":\"histogram\"},{\"histfunc\":\"count\",\"histnorm\":\"\",\"marker\":{\"color\":\"rgba(251, 128, 114, 0.5932203389830508)\",\"line\":{\"color\":\"#4D5663\",\"width\":1.3}},\"name\":\"056\",\"opacity\":0.8,\"orientation\":\"v\",\"x\":[29916,31368,31484,33148,33620,33316,33452,33984,35780,38892,39884,41684,42540,43072,44824,48408,52368,54468,56516,60064,56964,57352,58940,61092,61376,62976,60256,62512,61980,64708,66336,66944,68428,67508,66684,71348,68592,69476,66524],\"type\":\"histogram\"},{\"histfunc\":\"count\",\"histnorm\":\"\",\"marker\":{\"color\":\"rgba(128, 177, 211, 0.5932203389830508)\",\"line\":{\"color\":\"#4D5663\",\"width\":1.3}},\"name\":\"057\",\"opacity\":0.8,\"orientation\":\"v\",\"x\":[67592,69908,67076,74732,73836,80888,81716,78388,82404,86732,85860,86684,84728,88452,85172,86388,87016,84832,86280,82572,75960,74284,75944,79452,76492,79384,75580,80368,80964,70368,64152,68356,73812,67552,68380,76116,71724,76660,76568],\"type\":\"histogram\"},{\"histfunc\":\"count\",\"histnorm\":\"\",\"marker\":{\"color\":\"rgba(255, 153, 51, 0.5932203389830508)\",\"line\":{\"color\":\"#4D5663\",\"width\":1.3}},\"name\":\"058\",\"opacity\":0.8,\"orientation\":\"v\",\"x\":[55240,53724,52208,53736,48896,53852,51604,50744,52032,50652,52348,55628,53244,55460,53240,53924,57732,59268,62784,64152,61840,62340,65104,66968,66912,70400,68568,73220,76572,77932,82124,81864,86268,83656,85380,92172,93032,97252,97596],\"type\":\"histogram\"},{\"histfunc\":\"count\",\"histnorm\":\"\",\"marker\":{\"color\":\"rgba(55, 128, 191, 0.5932203389830508)\",\"line\":{\"color\":\"#4D5663\",\"width\":1.3}},\"name\":\"059\",\"opacity\":0.8,\"orientation\":\"v\",\"x\":[189900,196000,184552,193324,190796,190736,183200,177848,178620,175504,172908,176004,168108,167368,164536,159688,155260,151288,152256,154920,146384,146268,143788,148900,137000,139000,131600,132136,127332,124628,120644,115420,118080,111400,110316,113736,108488,107748,105680],\"type\":\"histogram\"},{\"histfunc\":\"count\",\"histnorm\":\"\",\"marker\":{\"color\":\"rgba(50, 171, 96, 0.5932203389830508)\",\"line\":{\"color\":\"#4D5663\",\"width\":1.3}},\"name\":\"060\",\"opacity\":0.8,\"orientation\":\"v\",\"x\":[53188,50756,49304,52660,43700,46564,41248,42188,41848,40576,38504,36076,32796,30364,26732,23400,20692,19200,18868,18412,16868,15632,15312,14052,12520,12116,11192,10860,10436,8504,7588,6868,7160,6252,5748,5556,5484,5380,5760],\"type\":\"histogram\"},{\"histfunc\":\"count\",\"histnorm\":\"\",\"marker\":{\"color\":\"rgba(128, 0, 128, 0.5932203389830508)\",\"line\":{\"color\":\"#4D5663\",\"width\":1.3}},\"name\":\"061\",\"opacity\":0.8,\"orientation\":\"v\",\"x\":[7624,7652,7880,8520,9268,10660,11048,11496,12944,13324,14172,14984,14776,15136,15500,16388,17164,17176,18068,17448,17212,16296,16656,16440,16096,16448,15624,15624,16104,16372,15792,15960,16664,16680,16548,16580,16980,17012,17028],\"type\":\"histogram\"},{\"histfunc\":\"count\",\"histnorm\":\"\",\"marker\":{\"color\":\"rgba(128, 0, 128, 0.5254237288135595)\",\"line\":{\"color\":\"#4D5663\",\"width\":1.3}},\"name\":\"062\",\"opacity\":0.8,\"orientation\":\"v\",\"x\":[3988,8216,2704,6556,2592,2848,3636,2216,1780,2172,3328,1768,1084,1720,1200,1664,1740,1740,2480,4744,2892,320,1348,728,348,2172,192,284,324,1152,228,856,820,444,1728,1948,2588,4700,7408],\"type\":\"histogram\"},{\"histfunc\":\"count\",\"histnorm\":\"\",\"marker\":{\"color\":\"rgba(219, 64, 82, 0.5254237288135595)\",\"line\":{\"color\":\"#4D5663\",\"width\":1.3}},\"name\":\"062-067\",\"opacity\":0.8,\"orientation\":\"v\",\"x\":[110836,117464,103904,117696,108576,121856,117592,111900,118052,124192,136796,131976,125168,134180,128920,138836,145256,146076,158988,180776,163932,149448,165708,175212,156596,188356,158040,176116,176800,173128,161064,168972,189344,170260,175364,207392,187248,206460,214748],\"type\":\"histogram\"},{\"histfunc\":\"count\",\"histnorm\":\"\",\"marker\":{\"color\":\"rgba(0, 128, 128, 0.5254237288135595)\",\"line\":{\"color\":\"#4D5663\",\"width\":1.3}},\"name\":\"063\",\"opacity\":0.8,\"orientation\":\"v\",\"x\":[37220,37068,30576,33076,29372,32036,30844,27736,27212,27304,29380,26132,26064,27924,26636,28412,28576,29348,31484,33208,30360,28368,31488,32704,29424,37240,31260,34324,36764,34416,30100,32668,37156,33332,33780,40836,36640,40888,41660],\"type\":\"histogram\"},{\"histfunc\":\"count\",\"histnorm\":\"\",\"marker\":{\"color\":\"rgba(255, 255, 51, 0.5254237288135595)\",\"line\":{\"color\":\"#4D5663\",\"width\":1.3}},\"name\":\"064\",\"opacity\":0.8,\"orientation\":\"v\",\"x\":[25516,27480,26532,31992,35328,42324,42040,42344,47416,50276,54692,56876,53828,57508,56560,61156,63052,62916,66900,71968,63220,57804,63788,64748,58600,66620,54424,59440,56344,59900,58656,59808,63976,57736,58440,62520,56108,57472,53984],\"type\":\"histogram\"},{\"histfunc\":\"count\",\"histnorm\":\"\",\"marker\":{\"color\":\"rgba(128, 128, 0, 0.5254237288135595)\",\"line\":{\"color\":\"#4D5663\",\"width\":1.3}},\"name\":\"065\",\"opacity\":0.8,\"orientation\":\"v\",\"x\":[6840,6364,5696,5936,5520,5148,4888,4312,4264,4316,4352,3996,3908,3884,3852,3660,4068,3964,4172,4224,3252,3076,3576,3576,3468,3848,2916,3356,3156,3884,4048,3808,3880,3812,3744,4536,4176,4472,4444],\"type\":\"histogram\"},{\"histfunc\":\"count\",\"histnorm\":\"\",\"marker\":{\"color\":\"rgba(251, 128, 114, 0.5254237288135595)\",\"line\":{\"color\":\"#4D5663\",\"width\":1.3}},\"name\":\"066\",\"opacity\":0.8,\"orientation\":\"v\",\"x\":[3772,4948,4668,5896,5808,6620,6120,5460,6200,6780,7448,6304,5976,6524,5500,5540,6384,6112,6240,15340,15396,10328,10808,12464,11108,13348,12320,14580,13904,10984,9136,9420,9744,8448,8096,8916,8296,8100,8592],\"type\":\"histogram\"},{\"histfunc\":\"count\",\"histnorm\":\"\",\"marker\":{\"color\":\"rgba(128, 177, 211, 0.5254237288135595)\",\"line\":{\"color\":\"#4D5663\",\"width\":1.3}},\"name\":\"067\",\"opacity\":0.8,\"orientation\":\"v\",\"x\":[33500,33388,33728,34240,29956,32880,30064,29832,31180,33344,37596,36900,34308,36620,35172,38404,41436,41996,47712,51292,48812,49552,54700,60992,53648,65128,56928,64132,66308,62792,58896,62412,73768,66488,69576,88636,79440,90828,98660],\"type\":\"histogram\"},{\"histfunc\":\"count\",\"histnorm\":\"\",\"marker\":{\"color\":\"rgba(255, 153, 51, 0.5254237288135595)\",\"line\":{\"color\":\"#4D5663\",\"width\":1.3}},\"name\":\"068\",\"opacity\":0.8,\"orientation\":\"v\",\"x\":[5892,5608,5680,5340,5520,4832,4948,4776,4760,4904,4556,4624,4252,4376,4232,4368,4348,4028,3980,3740,3040,2864,2844,2660,2460,2488,2128,2028,1864,1884,2076,1968,1952,1780,1660,1856,1884,1840,1964],\"type\":\"histogram\"},{\"histfunc\":\"count\",\"histnorm\":\"\",\"marker\":{\"color\":\"rgba(55, 128, 191, 0.5254237288135595)\",\"line\":{\"color\":\"#4D5663\",\"width\":1.3}},\"name\":\"068-072\",\"opacity\":0.8,\"orientation\":\"v\",\"x\":[69620,68436,68776,69168,70104,71884,72132,73204,73488,74608,75416,75372,73808,73552,73568,73408,75444,73904,75688,75888,73676,73628,75788,78304,77428,78496,77404,78600,77904,78228,76388,78304,79188,77512,77540,81440,80384,81788,86756],\"type\":\"histogram\"},{\"histfunc\":\"count\",\"histnorm\":\"\",\"marker\":{\"color\":\"rgba(50, 171, 96, 0.5254237288135595)\",\"line\":{\"color\":\"#4D5663\",\"width\":1.3}},\"name\":\"069\",\"opacity\":0.8,\"orientation\":\"v\",\"x\":[416,388,324,368,364,392,424,644,792,780,808,852,828,792,888,868,924,848,1012,1024,940,1040,1064,1188,1192,1112,1088,1220,1060,1248,736,740,592,660,908,964,868,956,1028],\"type\":\"histogram\"},{\"histfunc\":\"count\",\"histnorm\":\"\",\"marker\":{\"color\":\"rgba(50, 171, 96, 0.45762711864406797)\",\"line\":{\"color\":\"#4D5663\",\"width\":1.3}},\"name\":\"070\",\"opacity\":0.8,\"orientation\":\"v\",\"x\":[3372,3804,4136,4104,4460,4504,5252,5248,5308,5508,6068,6304,6204,6960,7440,7888,8376,8572,9348,9800,9740,9864,10428,11188,10884,11288,11524,11996,12104,11620,11044,11564,12072,11772,11164,11464,11216,11100,11384],\"type\":\"histogram\"},{\"histfunc\":\"count\",\"histnorm\":\"\",\"marker\":{\"color\":\"rgba(128, 0, 128, 0.45762711864406797)\",\"line\":{\"color\":\"#4D5663\",\"width\":1.3}},\"name\":\"071\",\"opacity\":0.8,\"orientation\":\"v\",\"x\":[33624,32812,32324,31964,32156,33312,32632,31996,31888,32416,31568,30952,29756,28752,28424,27588,27096,25692,24984,25436,24464,23576,23700,23512,23040,23064,22296,22776,21616,22692,22020,21448,20588,20112,19232,19700,18716,19056,18020],\"type\":\"histogram\"},{\"histfunc\":\"count\",\"histnorm\":\"\",\"marker\":{\"color\":\"rgba(219, 64, 82, 0.45762711864406797)\",\"line\":{\"color\":\"#4D5663\",\"width\":1.3}},\"name\":\"072\",\"opacity\":0.8,\"orientation\":\"v\",\"x\":[26316,25824,26312,27392,27604,28844,28876,30540,30740,31000,32416,32640,32768,32672,32584,32696,34700,34764,36364,35888,35492,36284,37752,39756,39852,40544,40368,40580,41260,40784,40512,42584,43984,43188,44576,47456,47700,48836,54360],\"type\":\"histogram\"},{\"histfunc\":\"count\",\"histnorm\":\"\",\"marker\":{\"color\":\"rgba(0, 128, 128, 0.45762711864406797)\",\"line\":{\"color\":\"#4D5663\",\"width\":1.3}},\"name\":\"073\",\"opacity\":0.8,\"orientation\":\"v\",\"x\":[732,672,680,676,1004,1200,1648,1608,1848,1904,2112,1816,1916,2180,2052,2344,2712,3032,3612,3640,3776,3932,4048,4080,3976,4428,4332,4744,4844,4788,4576,4676,5224,5160,5272,6252,6092,6764,7304],\"type\":\"histogram\"},{\"histfunc\":\"count\",\"histnorm\":\"\",\"marker\":{\"color\":\"rgba(255, 255, 51, 0.45762711864406797)\",\"line\":{\"color\":\"#4D5663\",\"width\":1.3}},\"name\":\"074\",\"opacity\":0.8,\"orientation\":\"v\",\"x\":[800,556,668,716,760,820,784,964,1060,1192,1248,1272,1156,1184,1372,1336,1284,1328,1316,1396,1340,1400,1448,1316,1316,1236,1252,1200,1252,1308,1448,1472,1568,1296,1436,1728,1700,1980,2196],\"type\":\"histogram\"},{\"histfunc\":\"count\",\"histnorm\":\"\",\"marker\":{\"color\":\"rgba(128, 128, 0, 0.45762711864406797)\",\"line\":{\"color\":\"#4D5663\",\"width\":1.3}},\"name\":\"074-076\",\"opacity\":0.8,\"orientation\":\"v\",\"x\":[2444,1968,2152,2348,5724,8644,9804,10160,10844,10932,11388,11892,11572,11052,11200,11816,11572,11712,12120,12832,12632,13408,13988,14232,14184,14384,13452,13536,13616,13844,13308,13548,15064,13444,14716,16592,17024,20280,20820],\"type\":\"histogram\"},{\"histfunc\":\"count\",\"histnorm\":\"\",\"marker\":{\"color\":\"rgba(251, 128, 114, 0.45762711864406797)\",\"line\":{\"color\":\"#4D5663\",\"width\":1.3}},\"name\":\"075\",\"opacity\":0.8,\"orientation\":\"v\",\"x\":[76,116,140,192,3564,6548,7480,7508,7948,7816,8096,8544,8120,7760,7472,7796,7844,7740,7776,8040,7960,8292,8656,8952,9192,9152,8992,9352,9016,8760,8108,8060,9560,7904,8424,9220,9616,12032,12508],\"type\":\"histogram\"},{\"histfunc\":\"count\",\"histnorm\":\"\",\"marker\":{\"color\":\"rgba(128, 177, 211, 0.45762711864406797)\",\"line\":{\"color\":\"#4D5663\",\"width\":1.3}},\"name\":\"076\",\"opacity\":0.8,\"orientation\":\"v\",\"x\":[1568,1296,1344,1440,1400,1276,1540,1688,1836,1924,2044,2076,2296,2108,2356,2684,2444,2644,3028,3396,3332,3716,3884,3964,3676,3996,3208,2984,3348,3776,3752,4016,3936,4244,4856,5644,5708,6268,6116],\"type\":\"histogram\"},{\"histfunc\":\"count\",\"histnorm\":\"\",\"marker\":{\"color\":\"rgba(255, 153, 51, 0.45762711864406797)\",\"line\":{\"color\":\"#4D5663\",\"width\":1.3}},\"name\":\"077\",\"opacity\":0.8,\"orientation\":\"v\",\"x\":[17836,18276,17652,18492,19412,22652,22428,22252,23880,24300,24096,23852,24008,23656,22456,22320,22704,22820,23740,23812,24204,24656,24944,25604,24672,27324,26180,28112,28684,29532,27936,29108,30824,29864,28308,28452,27332,29168,31204],\"type\":\"histogram\"},{\"histfunc\":\"count\",\"histnorm\":\"\",\"marker\":{\"color\":\"rgba(55, 128, 191, 0.45762711864406797)\",\"line\":{\"color\":\"#4D5663\",\"width\":1.3}},\"name\":\"077-080\",\"opacity\":0.8,\"orientation\":\"v\",\"x\":[21608,22144,21388,22248,23424,26568,26384,26644,28408,28772,28812,28140,28536,28104,27664,27628,28304,29428,31156,30852,31672,33112,33436,36160,34136,38268,37620,40680,42316,43400,41972,44044,47356,46756,46120,48676,48692,52752,55764],\"type\":\"histogram\"},{\"histfunc\":\"count\",\"histnorm\":\"\",\"marker\":{\"color\":\"rgba(55, 128, 191, 0.3898305084745764)\",\"line\":{\"color\":\"#4D5663\",\"width\":1.3}},\"name\":\"078\",\"opacity\":0.8,\"orientation\":\"v\",\"x\":[2836,2776,2292,1976,1940,1508,1340,1220,1188,1148,1152,1172,1060,984,924,936,960,844,840,804,808,816,756,812,696,740,756,784,828,1212,1132,888,1060,864,1148,1152,1268,1364,1268],\"type\":\"histogram\"},{\"histfunc\":\"count\",\"histnorm\":\"\",\"marker\":{\"color\":\"rgba(50, 171, 96, 0.3898305084745764)\",\"line\":{\"color\":\"#4D5663\",\"width\":1.3}},\"name\":\"079\",\"opacity\":0.8,\"orientation\":\"v\",\"x\":[92,124,112,108,100,108,64,88,84,88,108,108,96,120,132,104,136,124,172,196,152,244,192,244,232,248,188,192,228,204,248,252,292,276,320,380,384,384,416],\"type\":\"histogram\"},{\"histfunc\":\"count\",\"histnorm\":\"\",\"marker\":{\"color\":\"rgba(128, 0, 128, 0.3898305084745764)\",\"line\":{\"color\":\"#4D5663\",\"width\":1.3}},\"name\":\"080\",\"opacity\":0.8,\"orientation\":\"v\",\"x\":[844,968,1332,1672,1972,2300,2552,3084,3256,3236,3456,3008,3372,3344,4152,4268,4504,5640,6404,6040,6508,7396,7544,9500,8536,9956,10496,11592,12576,12452,12656,13796,15180,15752,16344,18692,19708,21836,22876],\"type\":\"histogram\"},{\"histfunc\":\"count\",\"histnorm\":\"\",\"marker\":{\"color\":\"rgba(219, 64, 82, 0.3898305084745764)\",\"line\":{\"color\":\"#4D5663\",\"width\":1.3}},\"name\":\"081\",\"opacity\":0.8,\"orientation\":\"v\",\"x\":[252,204,216,148,96,80,96,84,84,48,88,52,76,48,52,44,44,32,40,60,56,68,56,80,84,72,56,52,96,68,80,56,40,72,36,60,60,52,28],\"type\":\"histogram\"},{\"histfunc\":\"count\",\"histnorm\":\"\",\"marker\":{\"color\":\"rgba(0, 128, 128, 0.3898305084745764)\",\"line\":{\"color\":\"#4D5663\",\"width\":1.3}},\"name\":\"082\",\"opacity\":0.8,\"orientation\":\"v\",\"x\":[12760,12460,11016,9936,8184,6608,6456,6428,5224,5412,5452,4764,4864,4284,3700,3472,3476,3208,3116,3152,3436,3576,3660,3548,4008,3768,3644,3876,3776,3600,3324,3332,3316,2852,3112,2696,2548,2516,2520],\"type\":\"histogram\"},{\"histfunc\":\"count\",\"histnorm\":\"\",\"marker\":{\"color\":\"rgba(255, 255, 51, 0.3898305084745764)\",\"line\":{\"color\":\"#4D5663\",\"width\":1.3}},\"name\":\"083\",\"opacity\":0.8,\"orientation\":\"v\",\"x\":[1664,1700,1364,1428,1292,1180,1180,1012,1172,828,736,732,660,600,548,480,452,424,500,372,380,348,316,372,380,328,320,320,292,292,372,328,308,272,292,264,284,248,280],\"type\":\"histogram\"},{\"histfunc\":\"count\",\"histnorm\":\"\",\"marker\":{\"color\":\"rgba(128, 128, 0, 0.3898305084745764)\",\"line\":{\"color\":\"#4D5663\",\"width\":1.3}},\"name\":\"083-085\",\"opacity\":0.8,\"orientation\":\"v\",\"x\":[9332,9252,8104,7696,7008,6488,6308,6092,6052,5528,5528,5696,5824,5544,5188,4700,4868,4764,4544,4568,4448,3820,3948,4116,4008,3848,3736,3560,3696,3556,3884,3680,3292,3032,3312,3208,3384,3256,3372],\"type\":\"histogram\"},{\"histfunc\":\"count\",\"histnorm\":\"\",\"marker\":{\"color\":\"rgba(251, 128, 114, 0.3898305084745764)\",\"line\":{\"color\":\"#4D5663\",\"width\":1.3}},\"name\":\"084\",\"opacity\":0.8,\"orientation\":\"v\",\"x\":[4196,4288,3672,3504,3028,2664,2368,2360,2316,2336,2528,2404,2512,2688,2324,2060,2228,2280,2044,2164,2164,1716,1836,1752,1780,1492,1640,1420,1548,1432,1588,1396,1312,1116,1276,1168,1156,1168,1048],\"type\":\"histogram\"},{\"histfunc\":\"count\",\"histnorm\":\"\",\"marker\":{\"color\":\"rgba(128, 177, 211, 0.3898305084745764)\",\"line\":{\"color\":\"#4D5663\",\"width\":1.3}},\"name\":\"085\",\"opacity\":0.8,\"orientation\":\"v\",\"x\":[3472,3264,3068,2764,2688,2644,2760,2720,2564,2364,2264,2560,2652,2256,2316,2160,2188,2060,2000,2032,1904,1756,1796,1992,1848,2028,1776,1820,1856,1832,1924,1956,1672,1644,1744,1776,1944,1840,2044],\"type\":\"histogram\"},{\"histfunc\":\"count\",\"histnorm\":\"\",\"marker\":{\"color\":\"rgba(255, 153, 51, 0.3898305084745764)\",\"line\":{\"color\":\"#4D5663\",\"width\":1.3}},\"name\":\"086\",\"opacity\":0.8,\"orientation\":\"v\",\"x\":[28144,29564,29956,33164,31216,36704,35136,24232,25344,22912,26464,21112,16820,16196,13844,14964,18184,14292,14260,16512,17524,18244,17816,20160,20308,20820,20732,22656,22456,24812,25012,23508,20720,17084,15636,17404,13840,16244,18312],\"type\":\"histogram\"},{\"histfunc\":\"count\",\"histnorm\":\"\",\"marker\":{\"color\":\"rgba(255, 153, 51, 0.32203389830508483)\",\"line\":{\"color\":\"#4D5663\",\"width\":1.3}},\"name\":\"086-089\",\"opacity\":0.8,\"orientation\":\"v\",\"x\":[63256,63364,63164,67932,63416,66888,62252,48152,48464,44476,45464,41604,37180,36408,32488,32804,36504,33060,32524,38200,38548,39440,40676,44044,42020,43876,42184,45432,45996,44344,43088,42448,40068,35788,33932,38016,32132,37332,40352],\"type\":\"histogram\"},{\"histfunc\":\"count\",\"histnorm\":\"\",\"marker\":{\"color\":\"rgba(55, 128, 191, 0.32203389830508483)\",\"line\":{\"color\":\"#4D5663\",\"width\":1.3}},\"name\":\"087\",\"opacity\":0.8,\"orientation\":\"v\",\"x\":[23320,22120,22692,23164,19440,17960,15820,15136,14408,14228,11344,13020,13508,13248,12460,12468,12232,12960,12340,12248,11500,11380,11992,12924,11380,11484,10140,10580,10856,8884,7112,7112,7572,7536,6756,7944,7064,7184,7260],\"type\":\"histogram\"},{\"histfunc\":\"count\",\"histnorm\":\"\",\"marker\":{\"color\":\"rgba(50, 171, 96, 0.32203389830508483)\",\"line\":{\"color\":\"#4D5663\",\"width\":1.3}},\"name\":\"088\",\"opacity\":0.8,\"orientation\":\"v\",\"x\":[300,304,344,472,296,376,412,400,432,424,536,652,532,584,444,312,344,344,320,268,288,292,320,312,312,356,284,236,300,284,240,268,204,184,200,184,176,192,156],\"type\":\"histogram\"},{\"histfunc\":\"count\",\"histnorm\":\"\",\"marker\":{\"color\":\"rgba(128, 0, 128, 0.32203389830508483)\",\"line\":{\"color\":\"#4D5663\",\"width\":1.3}},\"name\":\"089\",\"opacity\":0.8,\"orientation\":\"v\",\"x\":[11492,11376,10172,11132,12464,11848,10884,8384,8280,6912,7120,6820,6320,6380,5740,5060,5744,5464,5604,9172,9236,9524,10548,10648,10020,11216,11028,11960,12384,10364,10724,11560,11572,10984,11340,12484,11052,13712,14624],\"type\":\"histogram\"},{\"histfunc\":\"count\",\"histnorm\":\"\",\"marker\":{\"color\":\"rgba(219, 64, 82, 0.32203389830508483)\",\"line\":{\"color\":\"#4D5663\",\"width\":1.3}},\"name\":\"090\",\"opacity\":0.8,\"orientation\":\"v\",\"x\":[24584,22788,18984,20704,22288,22680,24848,26724,29592,32872,31956,30896,26720,24704,22336,23008,22540,23160,24616,24096,24392,22976,21984,22056,19552,18088,16576,15244,12120,10352,9344,8464,7656,7228,7492,7520,7560,7772,7584],\"type\":\"histogram\"},{\"histfunc\":\"count\",\"histnorm\":\"\",\"marker\":{\"color\":\"rgba(0, 128, 128, 0.32203389830508483)\",\"line\":{\"color\":\"#4D5663\",\"width\":1.3}},\"name\":\"090-102\",\"opacity\":0.8,\"orientation\":\"v\",\"x\":[61856,61148,58724,64900,63212,62668,65460,69644,72684,77332,75468,74132,68908,65724,64340,65300,65296,65972,67452,65644,66164,63996,63724,66788,68176,67608,64556,63664,61156,57984,56264,56932,56016,58712,59612,60316,62672,63348,63072],\"type\":\"histogram\"},{\"histfunc\":\"count\",\"histnorm\":\"\",\"marker\":{\"color\":\"rgba(255, 255, 51, 0.32203389830508483)\",\"line\":{\"color\":\"#4D5663\",\"width\":1.3}},\"name\":\"091\",\"opacity\":0.8,\"orientation\":\"v\",\"x\":[1272,1068,1180,2092,1128,1564,864,1080,988,996,960,1008,964,936,1132,1044,1116,1180,1236,1580,1528,1408,1696,1624,1596,1496,1580,1568,1904,1060,960,980,940,1272,800,868,728,796,816],\"type\":\"histogram\"},{\"histfunc\":\"count\",\"histnorm\":\"\",\"marker\":{\"color\":\"rgba(128, 128, 0, 0.32203389830508483)\",\"line\":{\"color\":\"#4D5663\",\"width\":1.3}},\"name\":\"092\",\"opacity\":0.8,\"orientation\":\"v\",\"x\":[2792,2760,2668,3312,3316,2964,3104,2740,2956,3080,3304,3676,3432,3816,4772,5020,5580,5716,5820,5820,6012,5940,6360,6496,6672,7052,6588,6960,7380,7680,7928,8448,9628,10688,10996,11132,12076,12228,12572],\"type\":\"histogram\"},{\"histfunc\":\"count\",\"histnorm\":\"\",\"marker\":{\"color\":\"rgba(251, 128, 114, 0.32203389830508483)\",\"line\":{\"color\":\"#4D5663\",\"width\":1.3}},\"name\":\"093\",\"opacity\":0.8,\"orientation\":\"v\",\"x\":[4956,4700,4864,4788,4716,4872,5120,5544,5556,5520,5528,5296,5032,4664,4640,4676,4988,4972,5288,4464,4640,4616,4596,5540,8936,9840,10640,10276,9032,9168,8268,8800,9028,8832,9480,10688,10928,12464,12360],\"type\":\"histogram\"},{\"histfunc\":\"count\",\"histnorm\":\"\",\"marker\":{\"color\":\"rgba(128, 177, 211, 0.32203389830508483)\",\"line\":{\"color\":\"#4D5663\",\"width\":1.3}},\"name\":\"094\",\"opacity\":0.8,\"orientation\":\"v\",\"x\":[1432,1200,956,1464,1244,1104,832,884,904,1044,1112,1088,1088,932,1004,684,796,852,824,884,832,860,740,896,900,908,792,760,808,656,760,616,692,576,728,692,740,792,580],\"type\":\"histogram\"},{\"histfunc\":\"count\",\"histnorm\":\"\",\"marker\":{\"color\":\"rgba(128, 177, 211, 0.2542372881355935)\",\"line\":{\"color\":\"#4D5663\",\"width\":1.3}},\"name\":\"095\",\"opacity\":0.8,\"orientation\":\"v\",\"x\":[184,156,200,148,164,316,532,808,1056,1628,2384,3036,3336,3124,3360,3488,3464,3572,3412,2976,2792,2664,2288,2092,2300,2476,2072,2312,2396,2088,1988,2240,2504,2544,2888,2716,3156,3036,2852],\"type\":\"histogram\"},{\"histfunc\":\"count\",\"histnorm\":\"\",\"marker\":{\"color\":\"rgba(255, 153, 51, 0.2542372881355935)\",\"line\":{\"color\":\"#4D5663\",\"width\":1.3}},\"name\":\"096\",\"opacity\":0.8,\"orientation\":\"v\",\"x\":[692,1396,1000,884,1020,832,832,1040,1000,792,620,848,752,820,880,760,888,700,724,764,720,788,552,644,644,1064,932,756,1124,940,900,788,824,944,796,640,720,680,648],\"type\":\"histogram\"},{\"histfunc\":\"count\",\"histnorm\":\"\",\"marker\":{\"color\":\"rgba(55, 128, 191, 0.2542372881355935)\",\"line\":{\"color\":\"#4D5663\",\"width\":1.3}},\"name\":\"097\",\"opacity\":0.8,\"orientation\":\"v\",\"x\":[16748,17472,18616,18392,14696,11540,13084,14768,14232,15556,14068,13572,12948,11360,10236,10768,9408,8856,8808,8292,8092,7992,7880,9096,8340,8976,8864,9320,8848,8716,10076,10496,7368,7672,7964,9052,10008,7924,8404],\"type\":\"histogram\"},{\"histfunc\":\"count\",\"histnorm\":\"\",\"marker\":{\"color\":\"rgba(50, 171, 96, 0.2542372881355935)\",\"line\":{\"color\":\"#4D5663\",\"width\":1.3}},\"name\":\"098\",\"opacity\":0.8,\"orientation\":\"v\",\"x\":[6608,6872,7404,8724,9972,10056,11020,11216,11840,11948,11756,11664,11144,12148,12684,12628,13280,13492,13044,12872,13572,12756,13484,13912,14028,13596,12984,13052,13828,13716,12632,12720,14156,15480,15640,14408,14276,14716,14156],\"type\":\"histogram\"},{\"histfunc\":\"count\",\"histnorm\":\"\",\"marker\":{\"color\":\"rgba(128, 0, 128, 0.2542372881355935)\",\"line\":{\"color\":\"#4D5663\",\"width\":1.3}},\"name\":\"099\",\"opacity\":0.8,\"orientation\":\"v\",\"x\":[1496,1284,1228,1560,1812,1620,1628,1828,1396,1364,1524,1384,1388,1492,1412,1412,1372,1368,1420,1388,1644,1672,1732,1784,2340,1556,1504,1392,1512,1348,1316,1336,1212,1260,1268,1140,1128,1300,1100],\"type\":\"histogram\"},{\"histfunc\":\"count\",\"histnorm\":\"\",\"marker\":{\"color\":\"rgba(219, 64, 82, 0.2542372881355935)\",\"line\":{\"color\":\"#4D5663\",\"width\":1.3}},\"name\":\"100\",\"opacity\":0.8,\"orientation\":\"v\",\"x\":[28,336,440,1276,1144,3288,1472,912,724,772,1044,712,1096,652,604,412,476,496,536,560,392,412,420,400,416,332,372,384,472,364,208,348,360,324,196,180,132,192,296],\"type\":\"histogram\"},{\"histfunc\":\"count\",\"histnorm\":\"\",\"marker\":{\"color\":\"rgba(0, 128, 128, 0.2542372881355935)\",\"line\":{\"color\":\"#4D5663\",\"width\":1.3}},\"name\":\"101\",\"opacity\":0.8,\"orientation\":\"v\",\"x\":[968,908,1132,1500,1636,1792,2092,2056,2384,1716,1172,900,948,1016,1184,1256,1292,1460,1568,1784,1432,1784,1828,2076,2224,2016,1536,1476,1616,1716,1676,1488,1420,1668,1108,984,936,1088,1388],\"type\":\"histogram\"},{\"histfunc\":\"count\",\"histnorm\":\"\",\"marker\":{\"color\":\"rgba(255, 255, 51, 0.2542372881355935)\",\"line\":{\"color\":\"#4D5663\",\"width\":1.3}},\"name\":\"102\",\"opacity\":0.8,\"orientation\":\"v\",\"x\":[96,208,52,56,76,40,32,44,56,44,40,52,60,60,96,144,96,148,156,164,116,128,164,172,228,208,116,164,116,180,208,208,228,224,256,296,284,360,316],\"type\":\"histogram\"}],                        {\"barmode\":\"overlay\",\"legend\":{\"bgcolor\":\"#F5F6F9\",\"font\":{\"color\":\"#4D5663\"}},\"paper_bgcolor\":\"#F5F6F9\",\"plot_bgcolor\":\"#F5F6F9\",\"template\":{\"data\":{\"barpolar\":[{\"marker\":{\"line\":{\"color\":\"#E5ECF6\",\"width\":0.5},\"pattern\":{\"fillmode\":\"overlay\",\"size\":10,\"solidity\":0.2}},\"type\":\"barpolar\"}],\"bar\":[{\"error_x\":{\"color\":\"#2a3f5f\"},\"error_y\":{\"color\":\"#2a3f5f\"},\"marker\":{\"line\":{\"color\":\"#E5ECF6\",\"width\":0.5},\"pattern\":{\"fillmode\":\"overlay\",\"size\":10,\"solidity\":0.2}},\"type\":\"bar\"}],\"carpet\":[{\"aaxis\":{\"endlinecolor\":\"#2a3f5f\",\"gridcolor\":\"white\",\"linecolor\":\"white\",\"minorgridcolor\":\"white\",\"startlinecolor\":\"#2a3f5f\"},\"baxis\":{\"endlinecolor\":\"#2a3f5f\",\"gridcolor\":\"white\",\"linecolor\":\"white\",\"minorgridcolor\":\"white\",\"startlinecolor\":\"#2a3f5f\"},\"type\":\"carpet\"}],\"choropleth\":[{\"colorbar\":{\"outlinewidth\":0,\"ticks\":\"\"},\"type\":\"choropleth\"}],\"contourcarpet\":[{\"colorbar\":{\"outlinewidth\":0,\"ticks\":\"\"},\"type\":\"contourcarpet\"}],\"contour\":[{\"colorbar\":{\"outlinewidth\":0,\"ticks\":\"\"},\"colorscale\":[[0.0,\"#0d0887\"],[0.1111111111111111,\"#46039f\"],[0.2222222222222222,\"#7201a8\"],[0.3333333333333333,\"#9c179e\"],[0.4444444444444444,\"#bd3786\"],[0.5555555555555556,\"#d8576b\"],[0.6666666666666666,\"#ed7953\"],[0.7777777777777778,\"#fb9f3a\"],[0.8888888888888888,\"#fdca26\"],[1.0,\"#f0f921\"]],\"type\":\"contour\"}],\"heatmapgl\":[{\"colorbar\":{\"outlinewidth\":0,\"ticks\":\"\"},\"colorscale\":[[0.0,\"#0d0887\"],[0.1111111111111111,\"#46039f\"],[0.2222222222222222,\"#7201a8\"],[0.3333333333333333,\"#9c179e\"],[0.4444444444444444,\"#bd3786\"],[0.5555555555555556,\"#d8576b\"],[0.6666666666666666,\"#ed7953\"],[0.7777777777777778,\"#fb9f3a\"],[0.8888888888888888,\"#fdca26\"],[1.0,\"#f0f921\"]],\"type\":\"heatmapgl\"}],\"heatmap\":[{\"colorbar\":{\"outlinewidth\":0,\"ticks\":\"\"},\"colorscale\":[[0.0,\"#0d0887\"],[0.1111111111111111,\"#46039f\"],[0.2222222222222222,\"#7201a8\"],[0.3333333333333333,\"#9c179e\"],[0.4444444444444444,\"#bd3786\"],[0.5555555555555556,\"#d8576b\"],[0.6666666666666666,\"#ed7953\"],[0.7777777777777778,\"#fb9f3a\"],[0.8888888888888888,\"#fdca26\"],[1.0,\"#f0f921\"]],\"type\":\"heatmap\"}],\"histogram2dcontour\":[{\"colorbar\":{\"outlinewidth\":0,\"ticks\":\"\"},\"colorscale\":[[0.0,\"#0d0887\"],[0.1111111111111111,\"#46039f\"],[0.2222222222222222,\"#7201a8\"],[0.3333333333333333,\"#9c179e\"],[0.4444444444444444,\"#bd3786\"],[0.5555555555555556,\"#d8576b\"],[0.6666666666666666,\"#ed7953\"],[0.7777777777777778,\"#fb9f3a\"],[0.8888888888888888,\"#fdca26\"],[1.0,\"#f0f921\"]],\"type\":\"histogram2dcontour\"}],\"histogram2d\":[{\"colorbar\":{\"outlinewidth\":0,\"ticks\":\"\"},\"colorscale\":[[0.0,\"#0d0887\"],[0.1111111111111111,\"#46039f\"],[0.2222222222222222,\"#7201a8\"],[0.3333333333333333,\"#9c179e\"],[0.4444444444444444,\"#bd3786\"],[0.5555555555555556,\"#d8576b\"],[0.6666666666666666,\"#ed7953\"],[0.7777777777777778,\"#fb9f3a\"],[0.8888888888888888,\"#fdca26\"],[1.0,\"#f0f921\"]],\"type\":\"histogram2d\"}],\"histogram\":[{\"marker\":{\"pattern\":{\"fillmode\":\"overlay\",\"size\":10,\"solidity\":0.2}},\"type\":\"histogram\"}],\"mesh3d\":[{\"colorbar\":{\"outlinewidth\":0,\"ticks\":\"\"},\"type\":\"mesh3d\"}],\"parcoords\":[{\"line\":{\"colorbar\":{\"outlinewidth\":0,\"ticks\":\"\"}},\"type\":\"parcoords\"}],\"pie\":[{\"automargin\":true,\"type\":\"pie\"}],\"scatter3d\":[{\"line\":{\"colorbar\":{\"outlinewidth\":0,\"ticks\":\"\"}},\"marker\":{\"colorbar\":{\"outlinewidth\":0,\"ticks\":\"\"}},\"type\":\"scatter3d\"}],\"scattercarpet\":[{\"marker\":{\"colorbar\":{\"outlinewidth\":0,\"ticks\":\"\"}},\"type\":\"scattercarpet\"}],\"scattergeo\":[{\"marker\":{\"colorbar\":{\"outlinewidth\":0,\"ticks\":\"\"}},\"type\":\"scattergeo\"}],\"scattergl\":[{\"marker\":{\"colorbar\":{\"outlinewidth\":0,\"ticks\":\"\"}},\"type\":\"scattergl\"}],\"scattermapbox\":[{\"marker\":{\"colorbar\":{\"outlinewidth\":0,\"ticks\":\"\"}},\"type\":\"scattermapbox\"}],\"scatterpolargl\":[{\"marker\":{\"colorbar\":{\"outlinewidth\":0,\"ticks\":\"\"}},\"type\":\"scatterpolargl\"}],\"scatterpolar\":[{\"marker\":{\"colorbar\":{\"outlinewidth\":0,\"ticks\":\"\"}},\"type\":\"scatterpolar\"}],\"scatter\":[{\"marker\":{\"colorbar\":{\"outlinewidth\":0,\"ticks\":\"\"}},\"type\":\"scatter\"}],\"scatterternary\":[{\"marker\":{\"colorbar\":{\"outlinewidth\":0,\"ticks\":\"\"}},\"type\":\"scatterternary\"}],\"surface\":[{\"colorbar\":{\"outlinewidth\":0,\"ticks\":\"\"},\"colorscale\":[[0.0,\"#0d0887\"],[0.1111111111111111,\"#46039f\"],[0.2222222222222222,\"#7201a8\"],[0.3333333333333333,\"#9c179e\"],[0.4444444444444444,\"#bd3786\"],[0.5555555555555556,\"#d8576b\"],[0.6666666666666666,\"#ed7953\"],[0.7777777777777778,\"#fb9f3a\"],[0.8888888888888888,\"#fdca26\"],[1.0,\"#f0f921\"]],\"type\":\"surface\"}],\"table\":[{\"cells\":{\"fill\":{\"color\":\"#EBF0F8\"},\"line\":{\"color\":\"white\"}},\"header\":{\"fill\":{\"color\":\"#C8D4E3\"},\"line\":{\"color\":\"white\"}},\"type\":\"table\"}]},\"layout\":{\"annotationdefaults\":{\"arrowcolor\":\"#2a3f5f\",\"arrowhead\":0,\"arrowwidth\":1},\"autotypenumbers\":\"strict\",\"coloraxis\":{\"colorbar\":{\"outlinewidth\":0,\"ticks\":\"\"}},\"colorscale\":{\"diverging\":[[0,\"#8e0152\"],[0.1,\"#c51b7d\"],[0.2,\"#de77ae\"],[0.3,\"#f1b6da\"],[0.4,\"#fde0ef\"],[0.5,\"#f7f7f7\"],[0.6,\"#e6f5d0\"],[0.7,\"#b8e186\"],[0.8,\"#7fbc41\"],[0.9,\"#4d9221\"],[1,\"#276419\"]],\"sequential\":[[0.0,\"#0d0887\"],[0.1111111111111111,\"#46039f\"],[0.2222222222222222,\"#7201a8\"],[0.3333333333333333,\"#9c179e\"],[0.4444444444444444,\"#bd3786\"],[0.5555555555555556,\"#d8576b\"],[0.6666666666666666,\"#ed7953\"],[0.7777777777777778,\"#fb9f3a\"],[0.8888888888888888,\"#fdca26\"],[1.0,\"#f0f921\"]],\"sequentialminus\":[[0.0,\"#0d0887\"],[0.1111111111111111,\"#46039f\"],[0.2222222222222222,\"#7201a8\"],[0.3333333333333333,\"#9c179e\"],[0.4444444444444444,\"#bd3786\"],[0.5555555555555556,\"#d8576b\"],[0.6666666666666666,\"#ed7953\"],[0.7777777777777778,\"#fb9f3a\"],[0.8888888888888888,\"#fdca26\"],[1.0,\"#f0f921\"]]},\"colorway\":[\"#636efa\",\"#EF553B\",\"#00cc96\",\"#ab63fa\",\"#FFA15A\",\"#19d3f3\",\"#FF6692\",\"#B6E880\",\"#FF97FF\",\"#FECB52\"],\"font\":{\"color\":\"#2a3f5f\"},\"geo\":{\"bgcolor\":\"white\",\"lakecolor\":\"white\",\"landcolor\":\"#E5ECF6\",\"showlakes\":true,\"showland\":true,\"subunitcolor\":\"white\"},\"hoverlabel\":{\"align\":\"left\"},\"hovermode\":\"closest\",\"mapbox\":{\"style\":\"light\"},\"paper_bgcolor\":\"white\",\"plot_bgcolor\":\"#E5ECF6\",\"polar\":{\"angularaxis\":{\"gridcolor\":\"white\",\"linecolor\":\"white\",\"ticks\":\"\"},\"bgcolor\":\"#E5ECF6\",\"radialaxis\":{\"gridcolor\":\"white\",\"linecolor\":\"white\",\"ticks\":\"\"}},\"scene\":{\"xaxis\":{\"backgroundcolor\":\"#E5ECF6\",\"gridcolor\":\"white\",\"gridwidth\":2,\"linecolor\":\"white\",\"showbackground\":true,\"ticks\":\"\",\"zerolinecolor\":\"white\"},\"yaxis\":{\"backgroundcolor\":\"#E5ECF6\",\"gridcolor\":\"white\",\"gridwidth\":2,\"linecolor\":\"white\",\"showbackground\":true,\"ticks\":\"\",\"zerolinecolor\":\"white\"},\"zaxis\":{\"backgroundcolor\":\"#E5ECF6\",\"gridcolor\":\"white\",\"gridwidth\":2,\"linecolor\":\"white\",\"showbackground\":true,\"ticks\":\"\",\"zerolinecolor\":\"white\"}},\"shapedefaults\":{\"line\":{\"color\":\"#2a3f5f\"}},\"ternary\":{\"aaxis\":{\"gridcolor\":\"white\",\"linecolor\":\"white\",\"ticks\":\"\"},\"baxis\":{\"gridcolor\":\"white\",\"linecolor\":\"white\",\"ticks\":\"\"},\"bgcolor\":\"#E5ECF6\",\"caxis\":{\"gridcolor\":\"white\",\"linecolor\":\"white\",\"ticks\":\"\"}},\"title\":{\"x\":0.05},\"xaxis\":{\"automargin\":true,\"gridcolor\":\"white\",\"linecolor\":\"white\",\"ticks\":\"\",\"title\":{\"standoff\":15},\"zerolinecolor\":\"white\",\"zerolinewidth\":2},\"yaxis\":{\"automargin\":true,\"gridcolor\":\"white\",\"linecolor\":\"white\",\"ticks\":\"\",\"title\":{\"standoff\":15},\"zerolinecolor\":\"white\",\"zerolinewidth\":2}}},\"title\":{\"font\":{\"color\":\"#4D5663\"},\"text\":\"VIZ TITLE\"},\"xaxis\":{\"gridcolor\":\"#E1E5ED\",\"showgrid\":true,\"tickfont\":{\"color\":\"#4D5663\"},\"title\":{\"font\":{\"color\":\"#4D5663\"},\"text\":\"AXIS TITLE\"},\"zerolinecolor\":\"#E1E5ED\"},\"yaxis\":{\"gridcolor\":\"#E1E5ED\",\"showgrid\":true,\"tickfont\":{\"color\":\"#4D5663\"},\"title\":{\"font\":{\"color\":\"#4D5663\"},\"text\":\"AXIS TITLE\"},\"zerolinecolor\":\"#E1E5ED\"}},                        {\"showLink\": true, \"linkText\": \"Export to plot.ly\", \"plotlyServerURL\": \"https://plot.ly\", \"responsive\": true}                    ).then(function(){\n",
       "                            \n",
       "var gd = document.getElementById('96f6f1f9-e31e-45f1-8e36-983a35ebe17f');\n",
       "var x = new MutationObserver(function (mutations, observer) {{\n",
       "        var display = window.getComputedStyle(gd).display;\n",
       "        if (!display || display === 'none') {{\n",
       "            console.log([gd, 'removed!']);\n",
       "            Plotly.purge(gd);\n",
       "            observer.disconnect();\n",
       "        }}\n",
       "}});\n",
       "\n",
       "// Listen for the removal of the full notebook cells\n",
       "var notebookContainer = gd.closest('#notebook-container');\n",
       "if (notebookContainer) {{\n",
       "    x.observe(notebookContainer, {childList: true});\n",
       "}}\n",
       "\n",
       "// Listen for the clearing of the current output cell\n",
       "var outputEl = gd.closest('.output');\n",
       "if (outputEl) {{\n",
       "    x.observe(outputEl, {childList: true});\n",
       "}}\n",
       "\n",
       "                        })                };                });            </script>        </div>"
      ]
     },
     "metadata": {}
    }
   ],
   "metadata": {}
  },
  {
   "cell_type": "code",
   "execution_count": 50,
   "source": [
    "# Cufflinks bar plot\n",
    "\n",
    "dataset_sexo.iplot(kind='bar',\n",
    "                  x='098',\n",
    "                  xTitle='AXIS TITLE',\n",
    "                  yTitle='AXIS TITLE',\n",
    "                  title='VIZ TITLE')\n"
   ],
   "outputs": [
    {
     "output_type": "display_data",
     "data": {
      "application/vnd.plotly.v1+json": {
       "data": [
        {
         "marker": {
          "color": "rgba(255, 153, 51, 0.6)",
          "line": {
           "color": "rgba(255, 153, 51, 1.0)",
           "width": 1
          }
         },
         "name": "Sexo",
         "orientation": "v",
         "text": "",
         "x": [
          181592,
          60150,
          241742
         ],
         "y": [
          "Hombres",
          "Mujeres",
          "Total"
         ],
         "type": "bar"
        },
        {
         "marker": {
          "color": "rgba(55, 128, 191, 0.6)",
          "line": {
           "color": "rgba(55, 128, 191, 1.0)",
           "width": 1
          }
         },
         "name": "001",
         "orientation": "v",
         "text": "",
         "x": [
          181592,
          60150,
          241742
         ],
         "y": [
          13310,
          20734,
          34044
         ],
         "type": "bar"
        },
        {
         "marker": {
          "color": "rgba(50, 171, 96, 0.6)",
          "line": {
           "color": "rgba(50, 171, 96, 1.0)",
           "width": 1
          }
         },
         "name": "001-008",
         "orientation": "v",
         "text": "",
         "x": [
          181592,
          60150,
          241742
         ],
         "y": [
          288068,
          204418,
          492486
         ],
         "type": "bar"
        },
        {
         "marker": {
          "color": "rgba(128, 0, 128, 0.6)",
          "line": {
           "color": "rgba(128, 0, 128, 1.0)",
           "width": 1
          }
         },
         "name": "001-102",
         "orientation": "v",
         "text": "",
         "x": [
          181592,
          60150,
          241742
         ],
         "y": [
          14528688,
          13298528,
          27827216
         ],
         "type": "bar"
        },
        {
         "marker": {
          "color": "rgba(219, 64, 82, 0.6)",
          "line": {
           "color": "rgba(219, 64, 82, 1.0)",
           "width": 1
          }
         },
         "name": "002",
         "orientation": "v",
         "text": "",
         "x": [
          181592,
          60150,
          241742
         ],
         "y": [
          37942,
          15510,
          53452
         ],
         "type": "bar"
        },
        {
         "marker": {
          "color": "rgba(0, 128, 128, 0.6)",
          "line": {
           "color": "rgba(0, 128, 128, 1.0)",
           "width": 1
          }
         },
         "name": "003",
         "orientation": "v",
         "text": "",
         "x": [
          181592,
          60150,
          241742
         ],
         "y": [
          3860,
          4110,
          7970
         ],
         "type": "bar"
        },
        {
         "marker": {
          "color": "rgba(255, 255, 51, 0.6)",
          "line": {
           "color": "rgba(255, 255, 51, 1.0)",
           "width": 1
          }
         },
         "name": "004",
         "orientation": "v",
         "text": "",
         "x": [
          181592,
          60150,
          241742
         ],
         "y": [
          89660,
          100022,
          189682
         ],
         "type": "bar"
        },
        {
         "marker": {
          "color": "rgba(128, 128, 0, 0.6)",
          "line": {
           "color": "rgba(128, 128, 0, 1.0)",
           "width": 1
          }
         },
         "name": "005",
         "orientation": "v",
         "text": "",
         "x": [
          181592,
          60150,
          241742
         ],
         "y": [
          24062,
          21674,
          45736
         ],
         "type": "bar"
        },
        {
         "marker": {
          "color": "rgba(251, 128, 114, 0.6)",
          "line": {
           "color": "rgba(251, 128, 114, 1.0)",
           "width": 1
          }
         },
         "name": "006",
         "orientation": "v",
         "text": "",
         "x": [
          181592,
          60150,
          241742
         ],
         "y": [
          92868,
          21704,
          114572
         ],
         "type": "bar"
        },
        {
         "marker": {
          "color": "rgba(128, 177, 211, 0.6)",
          "line": {
           "color": "rgba(128, 177, 211, 1.0)",
           "width": 1
          }
         },
         "name": "007",
         "orientation": "v",
         "text": "",
         "x": [
          181592,
          60150,
          241742
         ],
         "y": [
          2546,
          596,
          3142
         ],
         "type": "bar"
        },
        {
         "marker": {
          "color": "rgba(128, 177, 211, 0.6)",
          "line": {
           "color": "rgba(128, 177, 211, 0.9316239316239316)",
           "width": 1
          }
         },
         "name": "008",
         "orientation": "v",
         "text": "",
         "x": [
          181592,
          60150,
          241742
         ],
         "y": [
          23820,
          20068,
          43888
         ],
         "type": "bar"
        },
        {
         "marker": {
          "color": "rgba(255, 153, 51, 0.6)",
          "line": {
           "color": "rgba(255, 153, 51, 0.9316239316239316)",
           "width": 1
          }
         },
         "name": "009",
         "orientation": "v",
         "text": "",
         "x": [
          181592,
          60150,
          241742
         ],
         "y": [
          128122,
          30116,
          158238
         ],
         "type": "bar"
        },
        {
         "marker": {
          "color": "rgba(55, 128, 191, 0.6)",
          "line": {
           "color": "rgba(55, 128, 191, 0.9316239316239316)",
           "width": 1
          }
         },
         "name": "009-041",
         "orientation": "v",
         "text": "",
         "x": [
          181592,
          60150,
          241742
         ],
         "y": [
          4371186,
          2747678,
          7118864
         ],
         "type": "bar"
        },
        {
         "marker": {
          "color": "rgba(50, 171, 96, 0.6)",
          "line": {
           "color": "rgba(50, 171, 96, 0.9316239316239316)",
           "width": 1
          }
         },
         "name": "010",
         "orientation": "v",
         "text": "",
         "x": [
          181592,
          60150,
          241742
         ],
         "y": [
          115918,
          20340,
          136258
         ],
         "type": "bar"
        },
        {
         "marker": {
          "color": "rgba(128, 0, 128, 0.6)",
          "line": {
           "color": "rgba(128, 0, 128, 0.9316239316239316)",
           "width": 1
          }
         },
         "name": "011",
         "orientation": "v",
         "text": "",
         "x": [
          181592,
          60150,
          241742
         ],
         "y": [
          295366,
          193986,
          489352
         ],
         "type": "bar"
        },
        {
         "marker": {
          "color": "rgba(219, 64, 82, 0.6)",
          "line": {
           "color": "rgba(219, 64, 82, 0.9316239316239316)",
           "width": 1
          }
         },
         "name": "012",
         "orientation": "v",
         "text": "",
         "x": [
          181592,
          60150,
          241742
         ],
         "y": [
          344882,
          280252,
          625134
         ],
         "type": "bar"
        },
        {
         "marker": {
          "color": "rgba(0, 128, 128, 0.6)",
          "line": {
           "color": "rgba(0, 128, 128, 0.9316239316239316)",
           "width": 1
          }
         },
         "name": "013",
         "orientation": "v",
         "text": "",
         "x": [
          181592,
          60150,
          241742
         ],
         "y": [
          132644,
          90928,
          223572
         ],
         "type": "bar"
        },
        {
         "marker": {
          "color": "rgba(255, 255, 51, 0.6)",
          "line": {
           "color": "rgba(255, 255, 51, 0.9316239316239316)",
           "width": 1
          }
         },
         "name": "014",
         "orientation": "v",
         "text": "",
         "x": [
          181592,
          60150,
          241742
         ],
         "y": [
          217596,
          126478,
          344074
         ],
         "type": "bar"
        },
        {
         "marker": {
          "color": "rgba(128, 128, 0, 0.6)",
          "line": {
           "color": "rgba(128, 128, 0, 0.9316239316239316)",
           "width": 1
          }
         },
         "name": "015",
         "orientation": "v",
         "text": "",
         "x": [
          181592,
          60150,
          241742
         ],
         "y": [
          169294,
          150246,
          319540
         ],
         "type": "bar"
        },
        {
         "marker": {
          "color": "rgba(251, 128, 114, 0.6)",
          "line": {
           "color": "rgba(251, 128, 114, 0.9316239316239316)",
           "width": 1
          }
         },
         "name": "016",
         "orientation": "v",
         "text": "",
         "x": [
          181592,
          60150,
          241742
         ],
         "y": [
          83444,
          116646,
          200090
         ],
         "type": "bar"
        },
        {
         "marker": {
          "color": "rgba(251, 128, 114, 0.6)",
          "line": {
           "color": "rgba(251, 128, 114, 0.8632478632478631)",
           "width": 1
          }
         },
         "name": "017",
         "orientation": "v",
         "text": "",
         "x": [
          181592,
          60150,
          241742
         ],
         "y": [
          127094,
          5330,
          132424
         ],
         "type": "bar"
        },
        {
         "marker": {
          "color": "rgba(128, 177, 211, 0.6)",
          "line": {
           "color": "rgba(128, 177, 211, 0.8632478632478631)",
           "width": 1
          }
         },
         "name": "018",
         "orientation": "v",
         "text": "",
         "x": [
          181592,
          60150,
          241742
         ],
         "y": [
          1131650,
          180534,
          1312184
         ],
         "type": "bar"
        },
        {
         "marker": {
          "color": "rgba(255, 153, 51, 0.6)",
          "line": {
           "color": "rgba(255, 153, 51, 0.8632478632478631)",
           "width": 1
          }
         },
         "name": "019",
         "orientation": "v",
         "text": "",
         "x": [
          181592,
          60150,
          241742
         ],
         "y": [
          24270,
          10384,
          34654
         ],
         "type": "bar"
        },
        {
         "marker": {
          "color": "rgba(55, 128, 191, 0.6)",
          "line": {
           "color": "rgba(55, 128, 191, 0.8632478632478631)",
           "width": 1
          }
         },
         "name": "020",
         "orientation": "v",
         "text": "",
         "x": [
          181592,
          60150,
          241742
         ],
         "y": [
          18154,
          12114,
          30268
         ],
         "type": "bar"
        },
        {
         "marker": {
          "color": "rgba(50, 171, 96, 0.6)",
          "line": {
           "color": "rgba(50, 171, 96, 0.8632478632478631)",
           "width": 1
          }
         },
         "name": "021",
         "orientation": "v",
         "text": "",
         "x": [
          181592,
          60150,
          241742
         ],
         "y": [
          28330,
          23258,
          51588
         ],
         "type": "bar"
        },
        {
         "marker": {
          "color": "rgba(128, 0, 128, 0.6)",
          "line": {
           "color": "rgba(128, 0, 128, 0.8632478632478631)",
           "width": 1
          }
         },
         "name": "022",
         "orientation": "v",
         "text": "",
         "x": [
          181592,
          60150,
          241742
         ],
         "y": [
          44718,
          35044,
          79762
         ],
         "type": "bar"
        },
        {
         "marker": {
          "color": "rgba(219, 64, 82, 0.6)",
          "line": {
           "color": "rgba(219, 64, 82, 0.8632478632478631)",
           "width": 1
          }
         },
         "name": "023",
         "orientation": "v",
         "text": "",
         "x": [
          181592,
          60150,
          241742
         ],
         "y": [
          4766,
          434002,
          438768
         ],
         "type": "bar"
        },
        {
         "marker": {
          "color": "rgba(0, 128, 128, 0.6)",
          "line": {
           "color": "rgba(0, 128, 128, 0.8632478632478631)",
           "width": 1
          }
         },
         "name": "024",
         "orientation": "v",
         "text": "",
         "x": [
          181592,
          60150,
          241742
         ],
         "y": [
          0,
          41724,
          41724
         ],
         "type": "bar"
        },
        {
         "marker": {
          "color": "rgba(255, 255, 51, 0.6)",
          "line": {
           "color": "rgba(255, 255, 51, 0.8632478632478631)",
           "width": 1
          }
         },
         "name": "025",
         "orientation": "v",
         "text": "",
         "x": [
          181592,
          60150,
          241742
         ],
         "y": [
          0,
          109052,
          109052
         ],
         "type": "bar"
        },
        {
         "marker": {
          "color": "rgba(128, 128, 0, 0.6)",
          "line": {
           "color": "rgba(128, 128, 0, 0.8632478632478631)",
           "width": 1
          }
         },
         "name": "026",
         "orientation": "v",
         "text": "",
         "x": [
          181592,
          60150,
          241742
         ],
         "y": [
          0,
          115158,
          115158
         ],
         "type": "bar"
        },
        {
         "marker": {
          "color": "rgba(128, 128, 0, 0.6)",
          "line": {
           "color": "rgba(128, 128, 0, 0.7948717948717947)",
           "width": 1
          }
         },
         "name": "027",
         "orientation": "v",
         "text": "",
         "x": [
          181592,
          60150,
          241742
         ],
         "y": [
          0,
          36182,
          36182
         ],
         "type": "bar"
        },
        {
         "marker": {
          "color": "rgba(251, 128, 114, 0.6)",
          "line": {
           "color": "rgba(251, 128, 114, 0.7948717948717947)",
           "width": 1
          }
         },
         "name": "028",
         "orientation": "v",
         "text": "",
         "x": [
          181592,
          60150,
          241742
         ],
         "y": [
          390814,
          0,
          390814
         ],
         "type": "bar"
        },
        {
         "marker": {
          "color": "rgba(128, 177, 211, 0.6)",
          "line": {
           "color": "rgba(128, 177, 211, 0.7948717948717947)",
           "width": 1
          }
         },
         "name": "029",
         "orientation": "v",
         "text": "",
         "x": [
          181592,
          60150,
          241742
         ],
         "y": [
          11946,
          0,
          11946
         ],
         "type": "bar"
        },
        {
         "marker": {
          "color": "rgba(255, 153, 51, 0.6)",
          "line": {
           "color": "rgba(255, 153, 51, 0.7948717948717947)",
           "width": 1
          }
         },
         "name": "030",
         "orientation": "v",
         "text": "",
         "x": [
          181592,
          60150,
          241742
         ],
         "y": [
          73644,
          38928,
          112572
         ],
         "type": "bar"
        },
        {
         "marker": {
          "color": "rgba(55, 128, 191, 0.6)",
          "line": {
           "color": "rgba(55, 128, 191, 0.7948717948717947)",
           "width": 1
          }
         },
         "name": "031",
         "orientation": "v",
         "text": "",
         "x": [
          181592,
          60150,
          241742
         ],
         "y": [
          242794,
          54000,
          296794
         ],
         "type": "bar"
        },
        {
         "marker": {
          "color": "rgba(50, 171, 96, 0.6)",
          "line": {
           "color": "rgba(50, 171, 96, 0.7948717948717947)",
           "width": 1
          }
         },
         "name": "032",
         "orientation": "v",
         "text": "",
         "x": [
          181592,
          60150,
          241742
         ],
         "y": [
          20622,
          6058,
          26680
         ],
         "type": "bar"
        },
        {
         "marker": {
          "color": "rgba(128, 0, 128, 0.6)",
          "line": {
           "color": "rgba(128, 0, 128, 0.7948717948717947)",
           "width": 1
          }
         },
         "name": "033",
         "orientation": "v",
         "text": "",
         "x": [
          181592,
          60150,
          241742
         ],
         "y": [
          95612,
          73886,
          169498
         ],
         "type": "bar"
        },
        {
         "marker": {
          "color": "rgba(219, 64, 82, 0.6)",
          "line": {
           "color": "rgba(219, 64, 82, 0.7948717948717947)",
           "width": 1
          }
         },
         "name": "034",
         "orientation": "v",
         "text": "",
         "x": [
          181592,
          60150,
          241742
         ],
         "y": [
          17800,
          22778,
          40578
         ],
         "type": "bar"
        },
        {
         "marker": {
          "color": "rgba(0, 128, 128, 0.6)",
          "line": {
           "color": "rgba(0, 128, 128, 0.7948717948717947)",
           "width": 1
          }
         },
         "name": "035",
         "orientation": "v",
         "text": "",
         "x": [
          181592,
          60150,
          241742
         ],
         "y": [
          255726,
          204300,
          460026
         ],
         "type": "bar"
        },
        {
         "marker": {
          "color": "rgba(255, 255, 51, 0.6)",
          "line": {
           "color": "rgba(255, 255, 51, 0.7948717948717947)",
           "width": 1
          }
         },
         "name": "036",
         "orientation": "v",
         "text": "",
         "x": [
          181592,
          60150,
          241742
         ],
         "y": [
          150698,
          133622,
          284320
         ],
         "type": "bar"
        },
        {
         "marker": {
          "color": "rgba(255, 255, 51, 0.6)",
          "line": {
           "color": "rgba(255, 255, 51, 0.7264957264957264)",
           "width": 1
          }
         },
         "name": "037",
         "orientation": "v",
         "text": "",
         "x": [
          181592,
          60150,
          241742
         ],
         "y": [
          121072,
          95442,
          216514
         ],
         "type": "bar"
        },
        {
         "marker": {
          "color": "rgba(128, 128, 0, 0.6)",
          "line": {
           "color": "rgba(128, 128, 0, 0.7264957264957264)",
           "width": 1
          }
         },
         "name": "038",
         "orientation": "v",
         "text": "",
         "x": [
          181592,
          60150,
          241742
         ],
         "y": [
          194,
          162,
          356
         ],
         "type": "bar"
        },
        {
         "marker": {
          "color": "rgba(251, 128, 114, 0.6)",
          "line": {
           "color": "rgba(251, 128, 114, 0.7264957264957264)",
           "width": 1
          }
         },
         "name": "039",
         "orientation": "v",
         "text": "",
         "x": [
          181592,
          60150,
          241742
         ],
         "y": [
          12208,
          15578,
          27786
         ],
         "type": "bar"
        },
        {
         "marker": {
          "color": "rgba(128, 177, 211, 0.6)",
          "line": {
           "color": "rgba(128, 177, 211, 0.7264957264957264)",
           "width": 1
          }
         },
         "name": "040",
         "orientation": "v",
         "text": "",
         "x": [
          181592,
          60150,
          241742
         ],
         "y": [
          24326,
          18126,
          42452
         ],
         "type": "bar"
        },
        {
         "marker": {
          "color": "rgba(255, 153, 51, 0.6)",
          "line": {
           "color": "rgba(255, 153, 51, 0.7264957264957264)",
           "width": 1
          }
         },
         "name": "041",
         "orientation": "v",
         "text": "",
         "x": [
          181592,
          60150,
          241742
         ],
         "y": [
          87482,
          73024,
          160506
         ],
         "type": "bar"
        },
        {
         "marker": {
          "color": "rgba(55, 128, 191, 0.6)",
          "line": {
           "color": "rgba(55, 128, 191, 0.7264957264957264)",
           "width": 1
          }
         },
         "name": "042",
         "orientation": "v",
         "text": "",
         "x": [
          181592,
          60150,
          241742
         ],
         "y": [
          39838,
          51750,
          91588
         ],
         "type": "bar"
        },
        {
         "marker": {
          "color": "rgba(50, 171, 96, 0.6)",
          "line": {
           "color": "rgba(50, 171, 96, 0.7264957264957264)",
           "width": 1
          }
         },
         "name": "042-043",
         "orientation": "v",
         "text": "",
         "x": [
          181592,
          60150,
          241742
         ],
         "y": [
          43712,
          54856,
          98568
         ],
         "type": "bar"
        },
        {
         "marker": {
          "color": "rgba(128, 0, 128, 0.6)",
          "line": {
           "color": "rgba(128, 0, 128, 0.7264957264957264)",
           "width": 1
          }
         },
         "name": "043",
         "orientation": "v",
         "text": "",
         "x": [
          181592,
          60150,
          241742
         ],
         "y": [
          3874,
          3106,
          6980
         ],
         "type": "bar"
        },
        {
         "marker": {
          "color": "rgba(219, 64, 82, 0.6)",
          "line": {
           "color": "rgba(219, 64, 82, 0.7264957264957264)",
           "width": 1
          }
         },
         "name": "044",
         "orientation": "v",
         "text": "",
         "x": [
          181592,
          60150,
          241742
         ],
         "y": [
          276522,
          442908,
          719430
         ],
         "type": "bar"
        },
        {
         "marker": {
          "color": "rgba(0, 128, 128, 0.6)",
          "line": {
           "color": "rgba(0, 128, 128, 0.7264957264957264)",
           "width": 1
          }
         },
         "name": "044-045",
         "orientation": "v",
         "text": "",
         "x": [
          181592,
          60150,
          241742
         ],
         "y": [
          334554,
          532526,
          867080
         ],
         "type": "bar"
        },
        {
         "marker": {
          "color": "rgba(0, 128, 128, 0.6)",
          "line": {
           "color": "rgba(0, 128, 128, 0.658119658119658)",
           "width": 1
          }
         },
         "name": "045",
         "orientation": "v",
         "text": "",
         "x": [
          181592,
          60150,
          241742
         ],
         "y": [
          58032,
          89618,
          147650
         ],
         "type": "bar"
        },
        {
         "marker": {
          "color": "rgba(255, 255, 51, 0.6)",
          "line": {
           "color": "rgba(255, 255, 51, 0.658119658119658)",
           "width": 1
          }
         },
         "name": "046",
         "orientation": "v",
         "text": "",
         "x": [
          181592,
          60150,
          241742
         ],
         "y": [
          246894,
          509748,
          756642
         ],
         "type": "bar"
        },
        {
         "marker": {
          "color": "rgba(128, 128, 0, 0.6)",
          "line": {
           "color": "rgba(128, 128, 0, 0.658119658119658)",
           "width": 1
          }
         },
         "name": "046-049",
         "orientation": "v",
         "text": "",
         "x": [
          181592,
          60150,
          241742
         ],
         "y": [
          281190,
          524546,
          805736
         ],
         "type": "bar"
        },
        {
         "marker": {
          "color": "rgba(251, 128, 114, 0.6)",
          "line": {
           "color": "rgba(251, 128, 114, 0.658119658119658)",
           "width": 1
          }
         },
         "name": "047",
         "orientation": "v",
         "text": "",
         "x": [
          181592,
          60150,
          241742
         ],
         "y": [
          20198,
          2634,
          22832
         ],
         "type": "bar"
        },
        {
         "marker": {
          "color": "rgba(128, 177, 211, 0.6)",
          "line": {
           "color": "rgba(128, 177, 211, 0.658119658119658)",
           "width": 1
          }
         },
         "name": "048",
         "orientation": "v",
         "text": "",
         "x": [
          181592,
          60150,
          241742
         ],
         "y": [
          3970,
          694,
          4664
         ],
         "type": "bar"
        },
        {
         "marker": {
          "color": "rgba(255, 153, 51, 0.6)",
          "line": {
           "color": "rgba(255, 153, 51, 0.658119658119658)",
           "width": 1
          }
         },
         "name": "049",
         "orientation": "v",
         "text": "",
         "x": [
          181592,
          60150,
          241742
         ],
         "y": [
          10128,
          11470,
          21598
         ],
         "type": "bar"
        },
        {
         "marker": {
          "color": "rgba(55, 128, 191, 0.6)",
          "line": {
           "color": "rgba(55, 128, 191, 0.658119658119658)",
           "width": 1
          }
         },
         "name": "050",
         "orientation": "v",
         "text": "",
         "x": [
          181592,
          60150,
          241742
         ],
         "y": [
          6750,
          5876,
          12626
         ],
         "type": "bar"
        },
        {
         "marker": {
          "color": "rgba(50, 171, 96, 0.6)",
          "line": {
           "color": "rgba(50, 171, 96, 0.658119658119658)",
           "width": 1
          }
         },
         "name": "050-052",
         "orientation": "v",
         "text": "",
         "x": [
          181592,
          60150,
          241742
         ],
         "y": [
          378152,
          537968,
          916120
         ],
         "type": "bar"
        },
        {
         "marker": {
          "color": "rgba(128, 0, 128, 0.6)",
          "line": {
           "color": "rgba(128, 0, 128, 0.658119658119658)",
           "width": 1
          }
         },
         "name": "051",
         "orientation": "v",
         "text": "",
         "x": [
          181592,
          60150,
          241742
         ],
         "y": [
          142602,
          321406,
          464008
         ],
         "type": "bar"
        },
        {
         "marker": {
          "color": "rgba(219, 64, 82, 0.6)",
          "line": {
           "color": "rgba(219, 64, 82, 0.658119658119658)",
           "width": 1
          }
         },
         "name": "052",
         "orientation": "v",
         "text": "",
         "x": [
          181592,
          60150,
          241742
         ],
         "y": [
          228800,
          210686,
          439486
         ],
         "type": "bar"
        },
        {
         "marker": {
          "color": "rgba(219, 64, 82, 0.6)",
          "line": {
           "color": "rgba(219, 64, 82, 0.5897435897435894)",
           "width": 1
          }
         },
         "name": "053",
         "orientation": "v",
         "text": "",
         "x": [
          181592,
          60150,
          241742
         ],
         "y": [
          38334,
          93012,
          131346
         ],
         "type": "bar"
        },
        {
         "marker": {
          "color": "rgba(0, 128, 128, 0.6)",
          "line": {
           "color": "rgba(0, 128, 128, 0.5897435897435894)",
           "width": 1
          }
         },
         "name": "053-061",
         "orientation": "v",
         "text": "",
         "x": [
          181592,
          60150,
          241742
         ],
         "y": [
          4473698,
          5329276,
          9802974
         ],
         "type": "bar"
        },
        {
         "marker": {
          "color": "rgba(255, 255, 51, 0.6)",
          "line": {
           "color": "rgba(255, 255, 51, 0.5897435897435894)",
           "width": 1
          }
         },
         "name": "054",
         "orientation": "v",
         "text": "",
         "x": [
          181592,
          60150,
          241742
         ],
         "y": [
          151162,
          306694,
          457856
         ],
         "type": "bar"
        },
        {
         "marker": {
          "color": "rgba(128, 128, 0, 0.6)",
          "line": {
           "color": "rgba(128, 128, 0, 0.5897435897435894)",
           "width": 1
          }
         },
         "name": "055",
         "orientation": "v",
         "text": "",
         "x": [
          181592,
          60150,
          241742
         ],
         "y": [
          1046398,
          663926,
          1710324
         ],
         "type": "bar"
        },
        {
         "marker": {
          "color": "rgba(251, 128, 114, 0.6)",
          "line": {
           "color": "rgba(251, 128, 114, 0.5897435897435894)",
           "width": 1
          }
         },
         "name": "056",
         "orientation": "v",
         "text": "",
         "x": [
          181592,
          60150,
          241742
         ],
         "y": [
          537074,
          482318,
          1019392
         ],
         "type": "bar"
        },
        {
         "marker": {
          "color": "rgba(128, 177, 211, 0.6)",
          "line": {
           "color": "rgba(128, 177, 211, 0.5897435897435894)",
           "width": 1
          }
         },
         "name": "057",
         "orientation": "v",
         "text": "",
         "x": [
          181592,
          60150,
          241742
         ],
         "y": [
          547632,
          969054,
          1516686
         ],
         "type": "bar"
        },
        {
         "marker": {
          "color": "rgba(255, 153, 51, 0.6)",
          "line": {
           "color": "rgba(255, 153, 51, 0.5897435897435894)",
           "width": 1
          }
         },
         "name": "058",
         "orientation": "v",
         "text": "",
         "x": [
          181592,
          60150,
          241742
         ],
         "y": [
          580068,
          709766,
          1289834
         ],
         "type": "bar"
        },
        {
         "marker": {
          "color": "rgba(55, 128, 191, 0.6)",
          "line": {
           "color": "rgba(55, 128, 191, 0.5897435897435894)",
           "width": 1
          }
         },
         "name": "059",
         "orientation": "v",
         "text": "",
         "x": [
          181592,
          60150,
          241742
         ],
         "y": [
          1225298,
          1710384,
          2935682
         ],
         "type": "bar"
        },
        {
         "marker": {
          "color": "rgba(50, 171, 96, 0.6)",
          "line": {
           "color": "rgba(50, 171, 96, 0.5897435897435894)",
           "width": 1
          }
         },
         "name": "060",
         "orientation": "v",
         "text": "",
         "x": [
          181592,
          60150,
          241742
         ],
         "y": [
          167330,
          287852,
          455182
         ],
         "type": "bar"
        },
        {
         "marker": {
          "color": "rgba(128, 0, 128, 0.6)",
          "line": {
           "color": "rgba(128, 0, 128, 0.5897435897435894)",
           "width": 1
          }
         },
         "name": "061",
         "orientation": "v",
         "text": "",
         "x": [
          181592,
          60150,
          241742
         ],
         "y": [
          180402,
          106270,
          286672
         ],
         "type": "bar"
        },
        {
         "marker": {
          "color": "rgba(128, 0, 128, 0.6)",
          "line": {
           "color": "rgba(128, 0, 128, 0.5213675213675211)",
           "width": 1
          }
         },
         "name": "062",
         "orientation": "v",
         "text": "",
         "x": [
          181592,
          60150,
          241742
         ],
         "y": [
          17236,
          27092,
          44328
         ],
         "type": "bar"
        },
        {
         "marker": {
          "color": "rgba(219, 64, 82, 0.6)",
          "line": {
           "color": "rgba(219, 64, 82, 0.5213675213675211)",
           "width": 1
          }
         },
         "name": "062-067",
         "orientation": "v",
         "text": "",
         "x": [
          181592,
          60150,
          241742
         ],
         "y": [
          1740144,
          1231470,
          2971614
         ],
         "type": "bar"
        },
        {
         "marker": {
          "color": "rgba(0, 128, 128, 0.6)",
          "line": {
           "color": "rgba(0, 128, 128, 0.5213675213675211)",
           "width": 1
          }
         },
         "name": "063",
         "orientation": "v",
         "text": "",
         "x": [
          181592,
          60150,
          241742
         ],
         "y": [
          324266,
          302242,
          626508
         ],
         "type": "bar"
        },
        {
         "marker": {
          "color": "rgba(255, 255, 51, 0.6)",
          "line": {
           "color": "rgba(255, 255, 51, 0.5213675213675211)",
           "width": 1
          }
         },
         "name": "064",
         "orientation": "v",
         "text": "",
         "x": [
          181592,
          60150,
          241742
         ],
         "y": [
          794698,
          260448,
          1055146
         ],
         "type": "bar"
        },
        {
         "marker": {
          "color": "rgba(128, 128, 0, 0.6)",
          "line": {
           "color": "rgba(128, 128, 0, 0.5213675213675211)",
           "width": 1
          }
         },
         "name": "065",
         "orientation": "v",
         "text": "",
         "x": [
          181592,
          60150,
          241742
         ],
         "y": [
          28864,
          53332,
          82196
         ],
         "type": "bar"
        },
        {
         "marker": {
          "color": "rgba(251, 128, 114, 0.6)",
          "line": {
           "color": "rgba(251, 128, 114, 0.5213675213675211)",
           "width": 1
          }
         },
         "name": "066",
         "orientation": "v",
         "text": "",
         "x": [
          181592,
          60150,
          241742
         ],
         "y": [
          83006,
          82808,
          165814
         ],
         "type": "bar"
        },
        {
         "marker": {
          "color": "rgba(128, 177, 211, 0.6)",
          "line": {
           "color": "rgba(128, 177, 211, 0.5213675213675211)",
           "width": 1
          }
         },
         "name": "067",
         "orientation": "v",
         "text": "",
         "x": [
          181592,
          60150,
          241742
         ],
         "y": [
          492074,
          505548,
          997622
         ],
         "type": "bar"
        },
        {
         "marker": {
          "color": "rgba(255, 153, 51, 0.6)",
          "line": {
           "color": "rgba(255, 153, 51, 0.5213675213675211)",
           "width": 1
          }
         },
         "name": "068",
         "orientation": "v",
         "text": "",
         "x": [
          181592,
          60150,
          241742
         ],
         "y": [
          40854,
          27148,
          68002
         ],
         "type": "bar"
        },
        {
         "marker": {
          "color": "rgba(55, 128, 191, 0.6)",
          "line": {
           "color": "rgba(55, 128, 191, 0.5213675213675211)",
           "width": 1
          }
         },
         "name": "068-072",
         "orientation": "v",
         "text": "",
         "x": [
          181592,
          60150,
          241742
         ],
         "y": [
          824918,
          648194,
          1473112
         ],
         "type": "bar"
        },
        {
         "marker": {
          "color": "rgba(50, 171, 96, 0.6)",
          "line": {
           "color": "rgba(50, 171, 96, 0.5213675213675211)",
           "width": 1
          }
         },
         "name": "069",
         "orientation": "v",
         "text": "",
         "x": [
          181592,
          60150,
          241742
         ],
         "y": [
          7326,
          8844,
          16170
         ],
         "type": "bar"
        },
        {
         "marker": {
          "color": "rgba(50, 171, 96, 0.6)",
          "line": {
           "color": "rgba(50, 171, 96, 0.45299145299145277)",
           "width": 1
          }
         },
         "name": "070",
         "orientation": "v",
         "text": "",
         "x": [
          181592,
          60150,
          241742
         ],
         "y": [
          75134,
          92902,
          168036
         ],
         "type": "bar"
        },
        {
         "marker": {
          "color": "rgba(128, 0, 128, 0.6)",
          "line": {
           "color": "rgba(128, 0, 128, 0.45299145299145277)",
           "width": 1
          }
         },
         "name": "071",
         "orientation": "v",
         "text": "",
         "x": [
          181592,
          60150,
          241742
         ],
         "y": [
          358026,
          149474,
          507500
         ],
         "type": "bar"
        },
        {
         "marker": {
          "color": "rgba(219, 64, 82, 0.6)",
          "line": {
           "color": "rgba(219, 64, 82, 0.45299145299145277)",
           "width": 1
          }
         },
         "name": "072",
         "orientation": "v",
         "text": "",
         "x": [
          181592,
          60150,
          241742
         ],
         "y": [
          343578,
          369826,
          713404
         ],
         "type": "bar"
        },
        {
         "marker": {
          "color": "rgba(0, 128, 128, 0.6)",
          "line": {
           "color": "rgba(0, 128, 128, 0.45299145299145277)",
           "width": 1
          }
         },
         "name": "073",
         "orientation": "v",
         "text": "",
         "x": [
          181592,
          60150,
          241742
         ],
         "y": [
          21038,
          44790,
          65828
         ],
         "type": "bar"
        },
        {
         "marker": {
          "color": "rgba(255, 255, 51, 0.6)",
          "line": {
           "color": "rgba(255, 255, 51, 0.45299145299145277)",
           "width": 1
          }
         },
         "name": "074",
         "orientation": "v",
         "text": "",
         "x": [
          181592,
          60150,
          241742
         ],
         "y": [
          6100,
          18452,
          24552
         ],
         "type": "bar"
        },
        {
         "marker": {
          "color": "rgba(128, 128, 0, 0.6)",
          "line": {
           "color": "rgba(128, 128, 0, 0.45299145299145277)",
           "width": 1
          }
         },
         "name": "074-076",
         "orientation": "v",
         "text": "",
         "x": [
          181592,
          60150,
          241742
         ],
         "y": [
          71628,
          160496,
          232124
         ],
         "type": "bar"
        },
        {
         "marker": {
          "color": "rgba(251, 128, 114, 0.6)",
          "line": {
           "color": "rgba(251, 128, 114, 0.45299145299145277)",
           "width": 1
          }
         },
         "name": "075",
         "orientation": "v",
         "text": "",
         "x": [
          181592,
          60150,
          241742
         ],
         "y": [
          41874,
          105292,
          147166
         ],
         "type": "bar"
        },
        {
         "marker": {
          "color": "rgba(128, 177, 211, 0.6)",
          "line": {
           "color": "rgba(128, 177, 211, 0.45299145299145277)",
           "width": 1
          }
         },
         "name": "076",
         "orientation": "v",
         "text": "",
         "x": [
          181592,
          60150,
          241742
         ],
         "y": [
          23654,
          36752,
          60406
         ],
         "type": "bar"
        },
        {
         "marker": {
          "color": "rgba(255, 153, 51, 0.6)",
          "line": {
           "color": "rgba(255, 153, 51, 0.45299145299145277)",
           "width": 1
          }
         },
         "name": "077",
         "orientation": "v",
         "text": "",
         "x": [
          181592,
          60150,
          241742
         ],
         "y": [
          235266,
          248110,
          483376
         ],
         "type": "bar"
        },
        {
         "marker": {
          "color": "rgba(55, 128, 191, 0.6)",
          "line": {
           "color": "rgba(55, 128, 191, 0.45299145299145277)",
           "width": 1
          }
         },
         "name": "077-080",
         "orientation": "v",
         "text": "",
         "x": [
          181592,
          60150,
          241742
         ],
         "y": [
          321852,
          347720,
          669572
         ],
         "type": "bar"
        },
        {
         "marker": {
          "color": "rgba(55, 128, 191, 0.6)",
          "line": {
           "color": "rgba(55, 128, 191, 0.3846153846153844)",
           "width": 1
          }
         },
         "name": "078",
         "orientation": "v",
         "text": "",
         "x": [
          181592,
          60150,
          241742
         ],
         "y": [
          23126,
          0,
          23126
         ],
         "type": "bar"
        },
        {
         "marker": {
          "color": "rgba(50, 171, 96, 0.6)",
          "line": {
           "color": "rgba(50, 171, 96, 0.3846153846153844)",
           "width": 1
          }
         },
         "name": "079",
         "orientation": "v",
         "text": "",
         "x": [
          181592,
          60150,
          241742
         ],
         "y": [
          2,
          3668,
          3670
         ],
         "type": "bar"
        },
        {
         "marker": {
          "color": "rgba(128, 0, 128, 0.6)",
          "line": {
           "color": "rgba(128, 0, 128, 0.3846153846153844)",
           "width": 1
          }
         },
         "name": "080",
         "orientation": "v",
         "text": "",
         "x": [
          181592,
          60150,
          241742
         ],
         "y": [
          63458,
          95942,
          159400
         ],
         "type": "bar"
        },
        {
         "marker": {
          "color": "rgba(219, 64, 82, 0.6)",
          "line": {
           "color": "rgba(219, 64, 82, 0.3846153846153844)",
           "width": 1
          }
         },
         "name": "081",
         "orientation": "v",
         "text": "",
         "x": [
          181592,
          60150,
          241742
         ],
         "y": [
          0,
          1508,
          1508
         ],
         "type": "bar"
        },
        {
         "marker": {
          "color": "rgba(0, 128, 128, 0.6)",
          "line": {
           "color": "rgba(0, 128, 128, 0.3846153846153844)",
           "width": 1
          }
         },
         "name": "082",
         "orientation": "v",
         "text": "",
         "x": [
          181592,
          60150,
          241742
         ],
         "y": [
          53902,
          39638,
          93540
         ],
         "type": "bar"
        },
        {
         "marker": {
          "color": "rgba(255, 255, 51, 0.6)",
          "line": {
           "color": "rgba(255, 255, 51, 0.3846153846153844)",
           "width": 1
          }
         },
         "name": "083",
         "orientation": "v",
         "text": "",
         "x": [
          181592,
          60150,
          241742
         ],
         "y": [
          6240,
          5920,
          12160
         ],
         "type": "bar"
        },
        {
         "marker": {
          "color": "rgba(128, 128, 0, 0.6)",
          "line": {
           "color": "rgba(128, 128, 0, 0.3846153846153844)",
           "width": 1
          }
         },
         "name": "083-085",
         "orientation": "v",
         "text": "",
         "x": [
          181592,
          60150,
          241742
         ],
         "y": [
          51426,
          44694,
          96120
         ],
         "type": "bar"
        },
        {
         "marker": {
          "color": "rgba(251, 128, 114, 0.6)",
          "line": {
           "color": "rgba(251, 128, 114, 0.3846153846153844)",
           "width": 1
          }
         },
         "name": "084",
         "orientation": "v",
         "text": "",
         "x": [
          181592,
          60150,
          241742
         ],
         "y": [
          22610,
          18376,
          40986
         ],
         "type": "bar"
        },
        {
         "marker": {
          "color": "rgba(128, 177, 211, 0.6)",
          "line": {
           "color": "rgba(128, 177, 211, 0.3846153846153844)",
           "width": 1
          }
         },
         "name": "085",
         "orientation": "v",
         "text": "",
         "x": [
          181592,
          60150,
          241742
         ],
         "y": [
          22576,
          20398,
          42974
         ],
         "type": "bar"
        },
        {
         "marker": {
          "color": "rgba(255, 153, 51, 0.6)",
          "line": {
           "color": "rgba(255, 153, 51, 0.3846153846153844)",
           "width": 1
          }
         },
         "name": "086",
         "orientation": "v",
         "text": "",
         "x": [
          181592,
          60150,
          241742
         ],
         "y": [
          217372,
          203782,
          421154
         ],
         "type": "bar"
        },
        {
         "marker": {
          "color": "rgba(255, 153, 51, 0.6)",
          "line": {
           "color": "rgba(255, 153, 51, 0.31623931623931584)",
           "width": 1
          }
         },
         "name": "086-089",
         "orientation": "v",
         "text": "",
         "x": [
          181592,
          60150,
          241742
         ],
         "y": [
          390752,
          472906,
          863658
         ],
         "type": "bar"
        },
        {
         "marker": {
          "color": "rgba(55, 128, 191, 0.6)",
          "line": {
           "color": "rgba(55, 128, 191, 0.31623931623931584)",
           "width": 1
          }
         },
         "name": "087",
         "orientation": "v",
         "text": "",
         "x": [
          181592,
          60150,
          241742
         ],
         "y": [
          71296,
          174092,
          245388
         ],
         "type": "bar"
        },
        {
         "marker": {
          "color": "rgba(50, 171, 96, 0.6)",
          "line": {
           "color": "rgba(50, 171, 96, 0.31623931623931584)",
           "width": 1
          }
         },
         "name": "088",
         "orientation": "v",
         "text": "",
         "x": [
          181592,
          60150,
          241742
         ],
         "y": [
          3992,
          2450,
          6442
         ],
         "type": "bar"
        },
        {
         "marker": {
          "color": "rgba(128, 0, 128, 0.6)",
          "line": {
           "color": "rgba(128, 0, 128, 0.31623931623931584)",
           "width": 1
          }
         },
         "name": "089",
         "orientation": "v",
         "text": "",
         "x": [
          181592,
          60150,
          241742
         ],
         "y": [
          98092,
          92582,
          190674
         ],
         "type": "bar"
        },
        {
         "marker": {
          "color": "rgba(219, 64, 82, 0.6)",
          "line": {
           "color": "rgba(219, 64, 82, 0.31623931623931584)",
           "width": 1
          }
         },
         "name": "090",
         "orientation": "v",
         "text": "",
         "x": [
          181592,
          60150,
          241742
         ],
         "y": [
          288040,
          88988,
          377028
         ],
         "type": "bar"
        },
        {
         "marker": {
          "color": "rgba(0, 128, 128, 0.6)",
          "line": {
           "color": "rgba(0, 128, 128, 0.31623931623931584)",
           "width": 1
          }
         },
         "name": "090-102",
         "orientation": "v",
         "text": "",
         "x": [
          181592,
          60150,
          241742
         ],
         "y": [
          882468,
          375844,
          1258312
         ],
         "type": "bar"
        },
        {
         "marker": {
          "color": "rgba(255, 255, 51, 0.6)",
          "line": {
           "color": "rgba(255, 255, 51, 0.31623931623931584)",
           "width": 1
          }
         },
         "name": "091",
         "orientation": "v",
         "text": "",
         "x": [
          181592,
          60150,
          241742
         ],
         "y": [
          19322,
          4182,
          23504
         ],
         "type": "bar"
        },
        {
         "marker": {
          "color": "rgba(128, 128, 0, 0.6)",
          "line": {
           "color": "rgba(128, 128, 0, 0.31623931623931584)",
           "width": 1
          }
         },
         "name": "092",
         "orientation": "v",
         "text": "",
         "x": [
          181592,
          60150,
          241742
         ],
         "y": [
          66664,
          53078,
          119742
         ],
         "type": "bar"
        },
        {
         "marker": {
          "color": "rgba(251, 128, 114, 0.6)",
          "line": {
           "color": "rgba(251, 128, 114, 0.31623931623931584)",
           "width": 1
          }
         },
         "name": "093",
         "orientation": "v",
         "text": "",
         "x": [
          181592,
          60150,
          241742
         ],
         "y": [
          83108,
          51050,
          134158
         ],
         "type": "bar"
        },
        {
         "marker": {
          "color": "rgba(128, 177, 211, 0.6)",
          "line": {
           "color": "rgba(128, 177, 211, 0.31623931623931584)",
           "width": 1
          }
         },
         "name": "094",
         "orientation": "v",
         "text": "",
         "x": [
          181592,
          60150,
          241742
         ],
         "y": [
          10350,
          6978,
          17328
         ],
         "type": "bar"
        },
        {
         "marker": {
          "color": "rgba(128, 177, 211, 0.6)",
          "line": {
           "color": "rgba(128, 177, 211, 0.24786324786324748)",
           "width": 1
          }
         },
         "name": "095",
         "orientation": "v",
         "text": "",
         "x": [
          181592,
          60150,
          241742
         ],
         "y": [
          33694,
          8680,
          42374
         ],
         "type": "bar"
        },
        {
         "marker": {
          "color": "rgba(255, 153, 51, 0.6)",
          "line": {
           "color": "rgba(255, 153, 51, 0.24786324786324748)",
           "width": 1
          }
         },
         "name": "096",
         "orientation": "v",
         "text": "",
         "x": [
          181592,
          60150,
          241742
         ],
         "y": [
          10804,
          5370,
          16174
         ],
         "type": "bar"
        },
        {
         "marker": {
          "color": "rgba(55, 128, 191, 0.6)",
          "line": {
           "color": "rgba(55, 128, 191, 0.24786324786324748)",
           "width": 1
          }
         },
         "name": "097",
         "orientation": "v",
         "text": "",
         "x": [
          181592,
          60150,
          241742
         ],
         "y": [
          143376,
          70878,
          214254
         ],
         "type": "bar"
        },
        {
         "marker": {
          "color": "rgba(50, 171, 96, 0.6)",
          "line": {
           "color": "rgba(50, 171, 96, 0.24786324786324748)",
           "width": 1
          }
         },
         "name": "099",
         "orientation": "v",
         "text": "",
         "x": [
          181592,
          60150,
          241742
         ],
         "y": [
          20420,
          8040,
          28460
         ],
         "type": "bar"
        },
        {
         "marker": {
          "color": "rgba(128, 0, 128, 0.6)",
          "line": {
           "color": "rgba(128, 0, 128, 0.24786324786324748)",
           "width": 1
          }
         },
         "name": "100",
         "orientation": "v",
         "text": "",
         "x": [
          181592,
          60150,
          241742
         ],
         "y": [
          8170,
          3420,
          11590
         ],
         "type": "bar"
        },
        {
         "marker": {
          "color": "rgba(219, 64, 82, 0.6)",
          "line": {
           "color": "rgba(219, 64, 82, 0.24786324786324748)",
           "width": 1
          }
         },
         "name": "101",
         "orientation": "v",
         "text": "",
         "x": [
          181592,
          60150,
          241742
         ],
         "y": [
          14920,
          14192,
          29112
         ],
         "type": "bar"
        },
        {
         "marker": {
          "color": "rgba(0, 128, 128, 0.6)",
          "line": {
           "color": "rgba(0, 128, 128, 0.24786324786324748)",
           "width": 1
          }
         },
         "name": "102",
         "orientation": "v",
         "text": "",
         "x": [
          181592,
          60150,
          241742
         ],
         "y": [
          2008,
          838,
          2846
         ],
         "type": "bar"
        }
       ],
       "layout": {
        "legend": {
         "bgcolor": "#F5F6F9",
         "font": {
          "color": "#4D5663"
         }
        },
        "paper_bgcolor": "#F5F6F9",
        "plot_bgcolor": "#F5F6F9",
        "template": {
         "data": {
          "barpolar": [
           {
            "marker": {
             "line": {
              "color": "#E5ECF6",
              "width": 0.5
             },
             "pattern": {
              "fillmode": "overlay",
              "size": 10,
              "solidity": 0.2
             }
            },
            "type": "barpolar"
           }
          ],
          "bar": [
           {
            "error_x": {
             "color": "#2a3f5f"
            },
            "error_y": {
             "color": "#2a3f5f"
            },
            "marker": {
             "line": {
              "color": "#E5ECF6",
              "width": 0.5
             },
             "pattern": {
              "fillmode": "overlay",
              "size": 10,
              "solidity": 0.2
             }
            },
            "type": "bar"
           }
          ],
          "carpet": [
           {
            "aaxis": {
             "endlinecolor": "#2a3f5f",
             "gridcolor": "white",
             "linecolor": "white",
             "minorgridcolor": "white",
             "startlinecolor": "#2a3f5f"
            },
            "baxis": {
             "endlinecolor": "#2a3f5f",
             "gridcolor": "white",
             "linecolor": "white",
             "minorgridcolor": "white",
             "startlinecolor": "#2a3f5f"
            },
            "type": "carpet"
           }
          ],
          "choropleth": [
           {
            "colorbar": {
             "outlinewidth": 0,
             "ticks": ""
            },
            "type": "choropleth"
           }
          ],
          "contourcarpet": [
           {
            "colorbar": {
             "outlinewidth": 0,
             "ticks": ""
            },
            "type": "contourcarpet"
           }
          ],
          "contour": [
           {
            "colorbar": {
             "outlinewidth": 0,
             "ticks": ""
            },
            "colorscale": [
             [
              0,
              "#0d0887"
             ],
             [
              0.1111111111111111,
              "#46039f"
             ],
             [
              0.2222222222222222,
              "#7201a8"
             ],
             [
              0.3333333333333333,
              "#9c179e"
             ],
             [
              0.4444444444444444,
              "#bd3786"
             ],
             [
              0.5555555555555556,
              "#d8576b"
             ],
             [
              0.6666666666666666,
              "#ed7953"
             ],
             [
              0.7777777777777778,
              "#fb9f3a"
             ],
             [
              0.8888888888888888,
              "#fdca26"
             ],
             [
              1,
              "#f0f921"
             ]
            ],
            "type": "contour"
           }
          ],
          "heatmapgl": [
           {
            "colorbar": {
             "outlinewidth": 0,
             "ticks": ""
            },
            "colorscale": [
             [
              0,
              "#0d0887"
             ],
             [
              0.1111111111111111,
              "#46039f"
             ],
             [
              0.2222222222222222,
              "#7201a8"
             ],
             [
              0.3333333333333333,
              "#9c179e"
             ],
             [
              0.4444444444444444,
              "#bd3786"
             ],
             [
              0.5555555555555556,
              "#d8576b"
             ],
             [
              0.6666666666666666,
              "#ed7953"
             ],
             [
              0.7777777777777778,
              "#fb9f3a"
             ],
             [
              0.8888888888888888,
              "#fdca26"
             ],
             [
              1,
              "#f0f921"
             ]
            ],
            "type": "heatmapgl"
           }
          ],
          "heatmap": [
           {
            "colorbar": {
             "outlinewidth": 0,
             "ticks": ""
            },
            "colorscale": [
             [
              0,
              "#0d0887"
             ],
             [
              0.1111111111111111,
              "#46039f"
             ],
             [
              0.2222222222222222,
              "#7201a8"
             ],
             [
              0.3333333333333333,
              "#9c179e"
             ],
             [
              0.4444444444444444,
              "#bd3786"
             ],
             [
              0.5555555555555556,
              "#d8576b"
             ],
             [
              0.6666666666666666,
              "#ed7953"
             ],
             [
              0.7777777777777778,
              "#fb9f3a"
             ],
             [
              0.8888888888888888,
              "#fdca26"
             ],
             [
              1,
              "#f0f921"
             ]
            ],
            "type": "heatmap"
           }
          ],
          "histogram2dcontour": [
           {
            "colorbar": {
             "outlinewidth": 0,
             "ticks": ""
            },
            "colorscale": [
             [
              0,
              "#0d0887"
             ],
             [
              0.1111111111111111,
              "#46039f"
             ],
             [
              0.2222222222222222,
              "#7201a8"
             ],
             [
              0.3333333333333333,
              "#9c179e"
             ],
             [
              0.4444444444444444,
              "#bd3786"
             ],
             [
              0.5555555555555556,
              "#d8576b"
             ],
             [
              0.6666666666666666,
              "#ed7953"
             ],
             [
              0.7777777777777778,
              "#fb9f3a"
             ],
             [
              0.8888888888888888,
              "#fdca26"
             ],
             [
              1,
              "#f0f921"
             ]
            ],
            "type": "histogram2dcontour"
           }
          ],
          "histogram2d": [
           {
            "colorbar": {
             "outlinewidth": 0,
             "ticks": ""
            },
            "colorscale": [
             [
              0,
              "#0d0887"
             ],
             [
              0.1111111111111111,
              "#46039f"
             ],
             [
              0.2222222222222222,
              "#7201a8"
             ],
             [
              0.3333333333333333,
              "#9c179e"
             ],
             [
              0.4444444444444444,
              "#bd3786"
             ],
             [
              0.5555555555555556,
              "#d8576b"
             ],
             [
              0.6666666666666666,
              "#ed7953"
             ],
             [
              0.7777777777777778,
              "#fb9f3a"
             ],
             [
              0.8888888888888888,
              "#fdca26"
             ],
             [
              1,
              "#f0f921"
             ]
            ],
            "type": "histogram2d"
           }
          ],
          "histogram": [
           {
            "marker": {
             "pattern": {
              "fillmode": "overlay",
              "size": 10,
              "solidity": 0.2
             }
            },
            "type": "histogram"
           }
          ],
          "mesh3d": [
           {
            "colorbar": {
             "outlinewidth": 0,
             "ticks": ""
            },
            "type": "mesh3d"
           }
          ],
          "parcoords": [
           {
            "line": {
             "colorbar": {
              "outlinewidth": 0,
              "ticks": ""
             }
            },
            "type": "parcoords"
           }
          ],
          "pie": [
           {
            "automargin": true,
            "type": "pie"
           }
          ],
          "scatter3d": [
           {
            "line": {
             "colorbar": {
              "outlinewidth": 0,
              "ticks": ""
             }
            },
            "marker": {
             "colorbar": {
              "outlinewidth": 0,
              "ticks": ""
             }
            },
            "type": "scatter3d"
           }
          ],
          "scattercarpet": [
           {
            "marker": {
             "colorbar": {
              "outlinewidth": 0,
              "ticks": ""
             }
            },
            "type": "scattercarpet"
           }
          ],
          "scattergeo": [
           {
            "marker": {
             "colorbar": {
              "outlinewidth": 0,
              "ticks": ""
             }
            },
            "type": "scattergeo"
           }
          ],
          "scattergl": [
           {
            "marker": {
             "colorbar": {
              "outlinewidth": 0,
              "ticks": ""
             }
            },
            "type": "scattergl"
           }
          ],
          "scattermapbox": [
           {
            "marker": {
             "colorbar": {
              "outlinewidth": 0,
              "ticks": ""
             }
            },
            "type": "scattermapbox"
           }
          ],
          "scatterpolargl": [
           {
            "marker": {
             "colorbar": {
              "outlinewidth": 0,
              "ticks": ""
             }
            },
            "type": "scatterpolargl"
           }
          ],
          "scatterpolar": [
           {
            "marker": {
             "colorbar": {
              "outlinewidth": 0,
              "ticks": ""
             }
            },
            "type": "scatterpolar"
           }
          ],
          "scatter": [
           {
            "marker": {
             "colorbar": {
              "outlinewidth": 0,
              "ticks": ""
             }
            },
            "type": "scatter"
           }
          ],
          "scatterternary": [
           {
            "marker": {
             "colorbar": {
              "outlinewidth": 0,
              "ticks": ""
             }
            },
            "type": "scatterternary"
           }
          ],
          "surface": [
           {
            "colorbar": {
             "outlinewidth": 0,
             "ticks": ""
            },
            "colorscale": [
             [
              0,
              "#0d0887"
             ],
             [
              0.1111111111111111,
              "#46039f"
             ],
             [
              0.2222222222222222,
              "#7201a8"
             ],
             [
              0.3333333333333333,
              "#9c179e"
             ],
             [
              0.4444444444444444,
              "#bd3786"
             ],
             [
              0.5555555555555556,
              "#d8576b"
             ],
             [
              0.6666666666666666,
              "#ed7953"
             ],
             [
              0.7777777777777778,
              "#fb9f3a"
             ],
             [
              0.8888888888888888,
              "#fdca26"
             ],
             [
              1,
              "#f0f921"
             ]
            ],
            "type": "surface"
           }
          ],
          "table": [
           {
            "cells": {
             "fill": {
              "color": "#EBF0F8"
             },
             "line": {
              "color": "white"
             }
            },
            "header": {
             "fill": {
              "color": "#C8D4E3"
             },
             "line": {
              "color": "white"
             }
            },
            "type": "table"
           }
          ]
         },
         "layout": {
          "annotationdefaults": {
           "arrowcolor": "#2a3f5f",
           "arrowhead": 0,
           "arrowwidth": 1
          },
          "autotypenumbers": "strict",
          "coloraxis": {
           "colorbar": {
            "outlinewidth": 0,
            "ticks": ""
           }
          },
          "colorscale": {
           "diverging": [
            [
             0,
             "#8e0152"
            ],
            [
             0.1,
             "#c51b7d"
            ],
            [
             0.2,
             "#de77ae"
            ],
            [
             0.3,
             "#f1b6da"
            ],
            [
             0.4,
             "#fde0ef"
            ],
            [
             0.5,
             "#f7f7f7"
            ],
            [
             0.6,
             "#e6f5d0"
            ],
            [
             0.7,
             "#b8e186"
            ],
            [
             0.8,
             "#7fbc41"
            ],
            [
             0.9,
             "#4d9221"
            ],
            [
             1,
             "#276419"
            ]
           ],
           "sequential": [
            [
             0,
             "#0d0887"
            ],
            [
             0.1111111111111111,
             "#46039f"
            ],
            [
             0.2222222222222222,
             "#7201a8"
            ],
            [
             0.3333333333333333,
             "#9c179e"
            ],
            [
             0.4444444444444444,
             "#bd3786"
            ],
            [
             0.5555555555555556,
             "#d8576b"
            ],
            [
             0.6666666666666666,
             "#ed7953"
            ],
            [
             0.7777777777777778,
             "#fb9f3a"
            ],
            [
             0.8888888888888888,
             "#fdca26"
            ],
            [
             1,
             "#f0f921"
            ]
           ],
           "sequentialminus": [
            [
             0,
             "#0d0887"
            ],
            [
             0.1111111111111111,
             "#46039f"
            ],
            [
             0.2222222222222222,
             "#7201a8"
            ],
            [
             0.3333333333333333,
             "#9c179e"
            ],
            [
             0.4444444444444444,
             "#bd3786"
            ],
            [
             0.5555555555555556,
             "#d8576b"
            ],
            [
             0.6666666666666666,
             "#ed7953"
            ],
            [
             0.7777777777777778,
             "#fb9f3a"
            ],
            [
             0.8888888888888888,
             "#fdca26"
            ],
            [
             1,
             "#f0f921"
            ]
           ]
          },
          "colorway": [
           "#636efa",
           "#EF553B",
           "#00cc96",
           "#ab63fa",
           "#FFA15A",
           "#19d3f3",
           "#FF6692",
           "#B6E880",
           "#FF97FF",
           "#FECB52"
          ],
          "font": {
           "color": "#2a3f5f"
          },
          "geo": {
           "bgcolor": "white",
           "lakecolor": "white",
           "landcolor": "#E5ECF6",
           "showlakes": true,
           "showland": true,
           "subunitcolor": "white"
          },
          "hoverlabel": {
           "align": "left"
          },
          "hovermode": "closest",
          "mapbox": {
           "style": "light"
          },
          "paper_bgcolor": "white",
          "plot_bgcolor": "#E5ECF6",
          "polar": {
           "angularaxis": {
            "gridcolor": "white",
            "linecolor": "white",
            "ticks": ""
           },
           "bgcolor": "#E5ECF6",
           "radialaxis": {
            "gridcolor": "white",
            "linecolor": "white",
            "ticks": ""
           }
          },
          "scene": {
           "xaxis": {
            "backgroundcolor": "#E5ECF6",
            "gridcolor": "white",
            "gridwidth": 2,
            "linecolor": "white",
            "showbackground": true,
            "ticks": "",
            "zerolinecolor": "white"
           },
           "yaxis": {
            "backgroundcolor": "#E5ECF6",
            "gridcolor": "white",
            "gridwidth": 2,
            "linecolor": "white",
            "showbackground": true,
            "ticks": "",
            "zerolinecolor": "white"
           },
           "zaxis": {
            "backgroundcolor": "#E5ECF6",
            "gridcolor": "white",
            "gridwidth": 2,
            "linecolor": "white",
            "showbackground": true,
            "ticks": "",
            "zerolinecolor": "white"
           }
          },
          "shapedefaults": {
           "line": {
            "color": "#2a3f5f"
           }
          },
          "ternary": {
           "aaxis": {
            "gridcolor": "white",
            "linecolor": "white",
            "ticks": ""
           },
           "baxis": {
            "gridcolor": "white",
            "linecolor": "white",
            "ticks": ""
           },
           "bgcolor": "#E5ECF6",
           "caxis": {
            "gridcolor": "white",
            "linecolor": "white",
            "ticks": ""
           }
          },
          "title": {
           "x": 0.05
          },
          "xaxis": {
           "automargin": true,
           "gridcolor": "white",
           "linecolor": "white",
           "ticks": "",
           "title": {
            "standoff": 15
           },
           "zerolinecolor": "white",
           "zerolinewidth": 2
          },
          "yaxis": {
           "automargin": true,
           "gridcolor": "white",
           "linecolor": "white",
           "ticks": "",
           "title": {
            "standoff": 15
           },
           "zerolinecolor": "white",
           "zerolinewidth": 2
          }
         }
        },
        "title": {
         "font": {
          "color": "#4D5663"
         },
         "text": "VIZ TITLE"
        },
        "xaxis": {
         "gridcolor": "#E1E5ED",
         "showgrid": true,
         "tickfont": {
          "color": "#4D5663"
         },
         "title": {
          "font": {
           "color": "#4D5663"
          },
          "text": "AXIS TITLE"
         },
         "zerolinecolor": "#E1E5ED"
        },
        "yaxis": {
         "gridcolor": "#E1E5ED",
         "showgrid": true,
         "tickfont": {
          "color": "#4D5663"
         },
         "title": {
          "font": {
           "color": "#4D5663"
          },
          "text": "AXIS TITLE"
         },
         "zerolinecolor": "#E1E5ED"
        }
       },
       "config": {
        "showLink": true,
        "linkText": "Export to plot.ly",
        "plotlyServerURL": "https://plot.ly"
       }
      },
      "text/html": [
       "<div>                            <div id=\"b3b071fd-e1e9-48d6-98ca-496c614d323a\" class=\"plotly-graph-div\" style=\"height:525px; width:100%;\"></div>            <script type=\"text/javascript\">                require([\"plotly\"], function(Plotly) {                    window.PLOTLYENV=window.PLOTLYENV || {};\n",
       "                    window.PLOTLYENV.BASE_URL='https://plot.ly';                                    if (document.getElementById(\"b3b071fd-e1e9-48d6-98ca-496c614d323a\")) {                    Plotly.newPlot(                        \"b3b071fd-e1e9-48d6-98ca-496c614d323a\",                        [{\"marker\":{\"color\":\"rgba(255, 153, 51, 0.6)\",\"line\":{\"color\":\"rgba(255, 153, 51, 1.0)\",\"width\":1}},\"name\":\"Sexo\",\"orientation\":\"v\",\"text\":\"\",\"x\":[181592,60150,241742],\"y\":[\"Hombres\",\"Mujeres\",\"Total\"],\"type\":\"bar\"},{\"marker\":{\"color\":\"rgba(55, 128, 191, 0.6)\",\"line\":{\"color\":\"rgba(55, 128, 191, 1.0)\",\"width\":1}},\"name\":\"001\",\"orientation\":\"v\",\"text\":\"\",\"x\":[181592,60150,241742],\"y\":[13310,20734,34044],\"type\":\"bar\"},{\"marker\":{\"color\":\"rgba(50, 171, 96, 0.6)\",\"line\":{\"color\":\"rgba(50, 171, 96, 1.0)\",\"width\":1}},\"name\":\"001-008\",\"orientation\":\"v\",\"text\":\"\",\"x\":[181592,60150,241742],\"y\":[288068,204418,492486],\"type\":\"bar\"},{\"marker\":{\"color\":\"rgba(128, 0, 128, 0.6)\",\"line\":{\"color\":\"rgba(128, 0, 128, 1.0)\",\"width\":1}},\"name\":\"001-102\",\"orientation\":\"v\",\"text\":\"\",\"x\":[181592,60150,241742],\"y\":[14528688,13298528,27827216],\"type\":\"bar\"},{\"marker\":{\"color\":\"rgba(219, 64, 82, 0.6)\",\"line\":{\"color\":\"rgba(219, 64, 82, 1.0)\",\"width\":1}},\"name\":\"002\",\"orientation\":\"v\",\"text\":\"\",\"x\":[181592,60150,241742],\"y\":[37942,15510,53452],\"type\":\"bar\"},{\"marker\":{\"color\":\"rgba(0, 128, 128, 0.6)\",\"line\":{\"color\":\"rgba(0, 128, 128, 1.0)\",\"width\":1}},\"name\":\"003\",\"orientation\":\"v\",\"text\":\"\",\"x\":[181592,60150,241742],\"y\":[3860,4110,7970],\"type\":\"bar\"},{\"marker\":{\"color\":\"rgba(255, 255, 51, 0.6)\",\"line\":{\"color\":\"rgba(255, 255, 51, 1.0)\",\"width\":1}},\"name\":\"004\",\"orientation\":\"v\",\"text\":\"\",\"x\":[181592,60150,241742],\"y\":[89660,100022,189682],\"type\":\"bar\"},{\"marker\":{\"color\":\"rgba(128, 128, 0, 0.6)\",\"line\":{\"color\":\"rgba(128, 128, 0, 1.0)\",\"width\":1}},\"name\":\"005\",\"orientation\":\"v\",\"text\":\"\",\"x\":[181592,60150,241742],\"y\":[24062,21674,45736],\"type\":\"bar\"},{\"marker\":{\"color\":\"rgba(251, 128, 114, 0.6)\",\"line\":{\"color\":\"rgba(251, 128, 114, 1.0)\",\"width\":1}},\"name\":\"006\",\"orientation\":\"v\",\"text\":\"\",\"x\":[181592,60150,241742],\"y\":[92868,21704,114572],\"type\":\"bar\"},{\"marker\":{\"color\":\"rgba(128, 177, 211, 0.6)\",\"line\":{\"color\":\"rgba(128, 177, 211, 1.0)\",\"width\":1}},\"name\":\"007\",\"orientation\":\"v\",\"text\":\"\",\"x\":[181592,60150,241742],\"y\":[2546,596,3142],\"type\":\"bar\"},{\"marker\":{\"color\":\"rgba(128, 177, 211, 0.6)\",\"line\":{\"color\":\"rgba(128, 177, 211, 0.9316239316239316)\",\"width\":1}},\"name\":\"008\",\"orientation\":\"v\",\"text\":\"\",\"x\":[181592,60150,241742],\"y\":[23820,20068,43888],\"type\":\"bar\"},{\"marker\":{\"color\":\"rgba(255, 153, 51, 0.6)\",\"line\":{\"color\":\"rgba(255, 153, 51, 0.9316239316239316)\",\"width\":1}},\"name\":\"009\",\"orientation\":\"v\",\"text\":\"\",\"x\":[181592,60150,241742],\"y\":[128122,30116,158238],\"type\":\"bar\"},{\"marker\":{\"color\":\"rgba(55, 128, 191, 0.6)\",\"line\":{\"color\":\"rgba(55, 128, 191, 0.9316239316239316)\",\"width\":1}},\"name\":\"009-041\",\"orientation\":\"v\",\"text\":\"\",\"x\":[181592,60150,241742],\"y\":[4371186,2747678,7118864],\"type\":\"bar\"},{\"marker\":{\"color\":\"rgba(50, 171, 96, 0.6)\",\"line\":{\"color\":\"rgba(50, 171, 96, 0.9316239316239316)\",\"width\":1}},\"name\":\"010\",\"orientation\":\"v\",\"text\":\"\",\"x\":[181592,60150,241742],\"y\":[115918,20340,136258],\"type\":\"bar\"},{\"marker\":{\"color\":\"rgba(128, 0, 128, 0.6)\",\"line\":{\"color\":\"rgba(128, 0, 128, 0.9316239316239316)\",\"width\":1}},\"name\":\"011\",\"orientation\":\"v\",\"text\":\"\",\"x\":[181592,60150,241742],\"y\":[295366,193986,489352],\"type\":\"bar\"},{\"marker\":{\"color\":\"rgba(219, 64, 82, 0.6)\",\"line\":{\"color\":\"rgba(219, 64, 82, 0.9316239316239316)\",\"width\":1}},\"name\":\"012\",\"orientation\":\"v\",\"text\":\"\",\"x\":[181592,60150,241742],\"y\":[344882,280252,625134],\"type\":\"bar\"},{\"marker\":{\"color\":\"rgba(0, 128, 128, 0.6)\",\"line\":{\"color\":\"rgba(0, 128, 128, 0.9316239316239316)\",\"width\":1}},\"name\":\"013\",\"orientation\":\"v\",\"text\":\"\",\"x\":[181592,60150,241742],\"y\":[132644,90928,223572],\"type\":\"bar\"},{\"marker\":{\"color\":\"rgba(255, 255, 51, 0.6)\",\"line\":{\"color\":\"rgba(255, 255, 51, 0.9316239316239316)\",\"width\":1}},\"name\":\"014\",\"orientation\":\"v\",\"text\":\"\",\"x\":[181592,60150,241742],\"y\":[217596,126478,344074],\"type\":\"bar\"},{\"marker\":{\"color\":\"rgba(128, 128, 0, 0.6)\",\"line\":{\"color\":\"rgba(128, 128, 0, 0.9316239316239316)\",\"width\":1}},\"name\":\"015\",\"orientation\":\"v\",\"text\":\"\",\"x\":[181592,60150,241742],\"y\":[169294,150246,319540],\"type\":\"bar\"},{\"marker\":{\"color\":\"rgba(251, 128, 114, 0.6)\",\"line\":{\"color\":\"rgba(251, 128, 114, 0.9316239316239316)\",\"width\":1}},\"name\":\"016\",\"orientation\":\"v\",\"text\":\"\",\"x\":[181592,60150,241742],\"y\":[83444,116646,200090],\"type\":\"bar\"},{\"marker\":{\"color\":\"rgba(251, 128, 114, 0.6)\",\"line\":{\"color\":\"rgba(251, 128, 114, 0.8632478632478631)\",\"width\":1}},\"name\":\"017\",\"orientation\":\"v\",\"text\":\"\",\"x\":[181592,60150,241742],\"y\":[127094,5330,132424],\"type\":\"bar\"},{\"marker\":{\"color\":\"rgba(128, 177, 211, 0.6)\",\"line\":{\"color\":\"rgba(128, 177, 211, 0.8632478632478631)\",\"width\":1}},\"name\":\"018\",\"orientation\":\"v\",\"text\":\"\",\"x\":[181592,60150,241742],\"y\":[1131650,180534,1312184],\"type\":\"bar\"},{\"marker\":{\"color\":\"rgba(255, 153, 51, 0.6)\",\"line\":{\"color\":\"rgba(255, 153, 51, 0.8632478632478631)\",\"width\":1}},\"name\":\"019\",\"orientation\":\"v\",\"text\":\"\",\"x\":[181592,60150,241742],\"y\":[24270,10384,34654],\"type\":\"bar\"},{\"marker\":{\"color\":\"rgba(55, 128, 191, 0.6)\",\"line\":{\"color\":\"rgba(55, 128, 191, 0.8632478632478631)\",\"width\":1}},\"name\":\"020\",\"orientation\":\"v\",\"text\":\"\",\"x\":[181592,60150,241742],\"y\":[18154,12114,30268],\"type\":\"bar\"},{\"marker\":{\"color\":\"rgba(50, 171, 96, 0.6)\",\"line\":{\"color\":\"rgba(50, 171, 96, 0.8632478632478631)\",\"width\":1}},\"name\":\"021\",\"orientation\":\"v\",\"text\":\"\",\"x\":[181592,60150,241742],\"y\":[28330,23258,51588],\"type\":\"bar\"},{\"marker\":{\"color\":\"rgba(128, 0, 128, 0.6)\",\"line\":{\"color\":\"rgba(128, 0, 128, 0.8632478632478631)\",\"width\":1}},\"name\":\"022\",\"orientation\":\"v\",\"text\":\"\",\"x\":[181592,60150,241742],\"y\":[44718,35044,79762],\"type\":\"bar\"},{\"marker\":{\"color\":\"rgba(219, 64, 82, 0.6)\",\"line\":{\"color\":\"rgba(219, 64, 82, 0.8632478632478631)\",\"width\":1}},\"name\":\"023\",\"orientation\":\"v\",\"text\":\"\",\"x\":[181592,60150,241742],\"y\":[4766,434002,438768],\"type\":\"bar\"},{\"marker\":{\"color\":\"rgba(0, 128, 128, 0.6)\",\"line\":{\"color\":\"rgba(0, 128, 128, 0.8632478632478631)\",\"width\":1}},\"name\":\"024\",\"orientation\":\"v\",\"text\":\"\",\"x\":[181592,60150,241742],\"y\":[0,41724,41724],\"type\":\"bar\"},{\"marker\":{\"color\":\"rgba(255, 255, 51, 0.6)\",\"line\":{\"color\":\"rgba(255, 255, 51, 0.8632478632478631)\",\"width\":1}},\"name\":\"025\",\"orientation\":\"v\",\"text\":\"\",\"x\":[181592,60150,241742],\"y\":[0,109052,109052],\"type\":\"bar\"},{\"marker\":{\"color\":\"rgba(128, 128, 0, 0.6)\",\"line\":{\"color\":\"rgba(128, 128, 0, 0.8632478632478631)\",\"width\":1}},\"name\":\"026\",\"orientation\":\"v\",\"text\":\"\",\"x\":[181592,60150,241742],\"y\":[0,115158,115158],\"type\":\"bar\"},{\"marker\":{\"color\":\"rgba(128, 128, 0, 0.6)\",\"line\":{\"color\":\"rgba(128, 128, 0, 0.7948717948717947)\",\"width\":1}},\"name\":\"027\",\"orientation\":\"v\",\"text\":\"\",\"x\":[181592,60150,241742],\"y\":[0,36182,36182],\"type\":\"bar\"},{\"marker\":{\"color\":\"rgba(251, 128, 114, 0.6)\",\"line\":{\"color\":\"rgba(251, 128, 114, 0.7948717948717947)\",\"width\":1}},\"name\":\"028\",\"orientation\":\"v\",\"text\":\"\",\"x\":[181592,60150,241742],\"y\":[390814,0,390814],\"type\":\"bar\"},{\"marker\":{\"color\":\"rgba(128, 177, 211, 0.6)\",\"line\":{\"color\":\"rgba(128, 177, 211, 0.7948717948717947)\",\"width\":1}},\"name\":\"029\",\"orientation\":\"v\",\"text\":\"\",\"x\":[181592,60150,241742],\"y\":[11946,0,11946],\"type\":\"bar\"},{\"marker\":{\"color\":\"rgba(255, 153, 51, 0.6)\",\"line\":{\"color\":\"rgba(255, 153, 51, 0.7948717948717947)\",\"width\":1}},\"name\":\"030\",\"orientation\":\"v\",\"text\":\"\",\"x\":[181592,60150,241742],\"y\":[73644,38928,112572],\"type\":\"bar\"},{\"marker\":{\"color\":\"rgba(55, 128, 191, 0.6)\",\"line\":{\"color\":\"rgba(55, 128, 191, 0.7948717948717947)\",\"width\":1}},\"name\":\"031\",\"orientation\":\"v\",\"text\":\"\",\"x\":[181592,60150,241742],\"y\":[242794,54000,296794],\"type\":\"bar\"},{\"marker\":{\"color\":\"rgba(50, 171, 96, 0.6)\",\"line\":{\"color\":\"rgba(50, 171, 96, 0.7948717948717947)\",\"width\":1}},\"name\":\"032\",\"orientation\":\"v\",\"text\":\"\",\"x\":[181592,60150,241742],\"y\":[20622,6058,26680],\"type\":\"bar\"},{\"marker\":{\"color\":\"rgba(128, 0, 128, 0.6)\",\"line\":{\"color\":\"rgba(128, 0, 128, 0.7948717948717947)\",\"width\":1}},\"name\":\"033\",\"orientation\":\"v\",\"text\":\"\",\"x\":[181592,60150,241742],\"y\":[95612,73886,169498],\"type\":\"bar\"},{\"marker\":{\"color\":\"rgba(219, 64, 82, 0.6)\",\"line\":{\"color\":\"rgba(219, 64, 82, 0.7948717948717947)\",\"width\":1}},\"name\":\"034\",\"orientation\":\"v\",\"text\":\"\",\"x\":[181592,60150,241742],\"y\":[17800,22778,40578],\"type\":\"bar\"},{\"marker\":{\"color\":\"rgba(0, 128, 128, 0.6)\",\"line\":{\"color\":\"rgba(0, 128, 128, 0.7948717948717947)\",\"width\":1}},\"name\":\"035\",\"orientation\":\"v\",\"text\":\"\",\"x\":[181592,60150,241742],\"y\":[255726,204300,460026],\"type\":\"bar\"},{\"marker\":{\"color\":\"rgba(255, 255, 51, 0.6)\",\"line\":{\"color\":\"rgba(255, 255, 51, 0.7948717948717947)\",\"width\":1}},\"name\":\"036\",\"orientation\":\"v\",\"text\":\"\",\"x\":[181592,60150,241742],\"y\":[150698,133622,284320],\"type\":\"bar\"},{\"marker\":{\"color\":\"rgba(255, 255, 51, 0.6)\",\"line\":{\"color\":\"rgba(255, 255, 51, 0.7264957264957264)\",\"width\":1}},\"name\":\"037\",\"orientation\":\"v\",\"text\":\"\",\"x\":[181592,60150,241742],\"y\":[121072,95442,216514],\"type\":\"bar\"},{\"marker\":{\"color\":\"rgba(128, 128, 0, 0.6)\",\"line\":{\"color\":\"rgba(128, 128, 0, 0.7264957264957264)\",\"width\":1}},\"name\":\"038\",\"orientation\":\"v\",\"text\":\"\",\"x\":[181592,60150,241742],\"y\":[194,162,356],\"type\":\"bar\"},{\"marker\":{\"color\":\"rgba(251, 128, 114, 0.6)\",\"line\":{\"color\":\"rgba(251, 128, 114, 0.7264957264957264)\",\"width\":1}},\"name\":\"039\",\"orientation\":\"v\",\"text\":\"\",\"x\":[181592,60150,241742],\"y\":[12208,15578,27786],\"type\":\"bar\"},{\"marker\":{\"color\":\"rgba(128, 177, 211, 0.6)\",\"line\":{\"color\":\"rgba(128, 177, 211, 0.7264957264957264)\",\"width\":1}},\"name\":\"040\",\"orientation\":\"v\",\"text\":\"\",\"x\":[181592,60150,241742],\"y\":[24326,18126,42452],\"type\":\"bar\"},{\"marker\":{\"color\":\"rgba(255, 153, 51, 0.6)\",\"line\":{\"color\":\"rgba(255, 153, 51, 0.7264957264957264)\",\"width\":1}},\"name\":\"041\",\"orientation\":\"v\",\"text\":\"\",\"x\":[181592,60150,241742],\"y\":[87482,73024,160506],\"type\":\"bar\"},{\"marker\":{\"color\":\"rgba(55, 128, 191, 0.6)\",\"line\":{\"color\":\"rgba(55, 128, 191, 0.7264957264957264)\",\"width\":1}},\"name\":\"042\",\"orientation\":\"v\",\"text\":\"\",\"x\":[181592,60150,241742],\"y\":[39838,51750,91588],\"type\":\"bar\"},{\"marker\":{\"color\":\"rgba(50, 171, 96, 0.6)\",\"line\":{\"color\":\"rgba(50, 171, 96, 0.7264957264957264)\",\"width\":1}},\"name\":\"042-043\",\"orientation\":\"v\",\"text\":\"\",\"x\":[181592,60150,241742],\"y\":[43712,54856,98568],\"type\":\"bar\"},{\"marker\":{\"color\":\"rgba(128, 0, 128, 0.6)\",\"line\":{\"color\":\"rgba(128, 0, 128, 0.7264957264957264)\",\"width\":1}},\"name\":\"043\",\"orientation\":\"v\",\"text\":\"\",\"x\":[181592,60150,241742],\"y\":[3874,3106,6980],\"type\":\"bar\"},{\"marker\":{\"color\":\"rgba(219, 64, 82, 0.6)\",\"line\":{\"color\":\"rgba(219, 64, 82, 0.7264957264957264)\",\"width\":1}},\"name\":\"044\",\"orientation\":\"v\",\"text\":\"\",\"x\":[181592,60150,241742],\"y\":[276522,442908,719430],\"type\":\"bar\"},{\"marker\":{\"color\":\"rgba(0, 128, 128, 0.6)\",\"line\":{\"color\":\"rgba(0, 128, 128, 0.7264957264957264)\",\"width\":1}},\"name\":\"044-045\",\"orientation\":\"v\",\"text\":\"\",\"x\":[181592,60150,241742],\"y\":[334554,532526,867080],\"type\":\"bar\"},{\"marker\":{\"color\":\"rgba(0, 128, 128, 0.6)\",\"line\":{\"color\":\"rgba(0, 128, 128, 0.658119658119658)\",\"width\":1}},\"name\":\"045\",\"orientation\":\"v\",\"text\":\"\",\"x\":[181592,60150,241742],\"y\":[58032,89618,147650],\"type\":\"bar\"},{\"marker\":{\"color\":\"rgba(255, 255, 51, 0.6)\",\"line\":{\"color\":\"rgba(255, 255, 51, 0.658119658119658)\",\"width\":1}},\"name\":\"046\",\"orientation\":\"v\",\"text\":\"\",\"x\":[181592,60150,241742],\"y\":[246894,509748,756642],\"type\":\"bar\"},{\"marker\":{\"color\":\"rgba(128, 128, 0, 0.6)\",\"line\":{\"color\":\"rgba(128, 128, 0, 0.658119658119658)\",\"width\":1}},\"name\":\"046-049\",\"orientation\":\"v\",\"text\":\"\",\"x\":[181592,60150,241742],\"y\":[281190,524546,805736],\"type\":\"bar\"},{\"marker\":{\"color\":\"rgba(251, 128, 114, 0.6)\",\"line\":{\"color\":\"rgba(251, 128, 114, 0.658119658119658)\",\"width\":1}},\"name\":\"047\",\"orientation\":\"v\",\"text\":\"\",\"x\":[181592,60150,241742],\"y\":[20198,2634,22832],\"type\":\"bar\"},{\"marker\":{\"color\":\"rgba(128, 177, 211, 0.6)\",\"line\":{\"color\":\"rgba(128, 177, 211, 0.658119658119658)\",\"width\":1}},\"name\":\"048\",\"orientation\":\"v\",\"text\":\"\",\"x\":[181592,60150,241742],\"y\":[3970,694,4664],\"type\":\"bar\"},{\"marker\":{\"color\":\"rgba(255, 153, 51, 0.6)\",\"line\":{\"color\":\"rgba(255, 153, 51, 0.658119658119658)\",\"width\":1}},\"name\":\"049\",\"orientation\":\"v\",\"text\":\"\",\"x\":[181592,60150,241742],\"y\":[10128,11470,21598],\"type\":\"bar\"},{\"marker\":{\"color\":\"rgba(55, 128, 191, 0.6)\",\"line\":{\"color\":\"rgba(55, 128, 191, 0.658119658119658)\",\"width\":1}},\"name\":\"050\",\"orientation\":\"v\",\"text\":\"\",\"x\":[181592,60150,241742],\"y\":[6750,5876,12626],\"type\":\"bar\"},{\"marker\":{\"color\":\"rgba(50, 171, 96, 0.6)\",\"line\":{\"color\":\"rgba(50, 171, 96, 0.658119658119658)\",\"width\":1}},\"name\":\"050-052\",\"orientation\":\"v\",\"text\":\"\",\"x\":[181592,60150,241742],\"y\":[378152,537968,916120],\"type\":\"bar\"},{\"marker\":{\"color\":\"rgba(128, 0, 128, 0.6)\",\"line\":{\"color\":\"rgba(128, 0, 128, 0.658119658119658)\",\"width\":1}},\"name\":\"051\",\"orientation\":\"v\",\"text\":\"\",\"x\":[181592,60150,241742],\"y\":[142602,321406,464008],\"type\":\"bar\"},{\"marker\":{\"color\":\"rgba(219, 64, 82, 0.6)\",\"line\":{\"color\":\"rgba(219, 64, 82, 0.658119658119658)\",\"width\":1}},\"name\":\"052\",\"orientation\":\"v\",\"text\":\"\",\"x\":[181592,60150,241742],\"y\":[228800,210686,439486],\"type\":\"bar\"},{\"marker\":{\"color\":\"rgba(219, 64, 82, 0.6)\",\"line\":{\"color\":\"rgba(219, 64, 82, 0.5897435897435894)\",\"width\":1}},\"name\":\"053\",\"orientation\":\"v\",\"text\":\"\",\"x\":[181592,60150,241742],\"y\":[38334,93012,131346],\"type\":\"bar\"},{\"marker\":{\"color\":\"rgba(0, 128, 128, 0.6)\",\"line\":{\"color\":\"rgba(0, 128, 128, 0.5897435897435894)\",\"width\":1}},\"name\":\"053-061\",\"orientation\":\"v\",\"text\":\"\",\"x\":[181592,60150,241742],\"y\":[4473698,5329276,9802974],\"type\":\"bar\"},{\"marker\":{\"color\":\"rgba(255, 255, 51, 0.6)\",\"line\":{\"color\":\"rgba(255, 255, 51, 0.5897435897435894)\",\"width\":1}},\"name\":\"054\",\"orientation\":\"v\",\"text\":\"\",\"x\":[181592,60150,241742],\"y\":[151162,306694,457856],\"type\":\"bar\"},{\"marker\":{\"color\":\"rgba(128, 128, 0, 0.6)\",\"line\":{\"color\":\"rgba(128, 128, 0, 0.5897435897435894)\",\"width\":1}},\"name\":\"055\",\"orientation\":\"v\",\"text\":\"\",\"x\":[181592,60150,241742],\"y\":[1046398,663926,1710324],\"type\":\"bar\"},{\"marker\":{\"color\":\"rgba(251, 128, 114, 0.6)\",\"line\":{\"color\":\"rgba(251, 128, 114, 0.5897435897435894)\",\"width\":1}},\"name\":\"056\",\"orientation\":\"v\",\"text\":\"\",\"x\":[181592,60150,241742],\"y\":[537074,482318,1019392],\"type\":\"bar\"},{\"marker\":{\"color\":\"rgba(128, 177, 211, 0.6)\",\"line\":{\"color\":\"rgba(128, 177, 211, 0.5897435897435894)\",\"width\":1}},\"name\":\"057\",\"orientation\":\"v\",\"text\":\"\",\"x\":[181592,60150,241742],\"y\":[547632,969054,1516686],\"type\":\"bar\"},{\"marker\":{\"color\":\"rgba(255, 153, 51, 0.6)\",\"line\":{\"color\":\"rgba(255, 153, 51, 0.5897435897435894)\",\"width\":1}},\"name\":\"058\",\"orientation\":\"v\",\"text\":\"\",\"x\":[181592,60150,241742],\"y\":[580068,709766,1289834],\"type\":\"bar\"},{\"marker\":{\"color\":\"rgba(55, 128, 191, 0.6)\",\"line\":{\"color\":\"rgba(55, 128, 191, 0.5897435897435894)\",\"width\":1}},\"name\":\"059\",\"orientation\":\"v\",\"text\":\"\",\"x\":[181592,60150,241742],\"y\":[1225298,1710384,2935682],\"type\":\"bar\"},{\"marker\":{\"color\":\"rgba(50, 171, 96, 0.6)\",\"line\":{\"color\":\"rgba(50, 171, 96, 0.5897435897435894)\",\"width\":1}},\"name\":\"060\",\"orientation\":\"v\",\"text\":\"\",\"x\":[181592,60150,241742],\"y\":[167330,287852,455182],\"type\":\"bar\"},{\"marker\":{\"color\":\"rgba(128, 0, 128, 0.6)\",\"line\":{\"color\":\"rgba(128, 0, 128, 0.5897435897435894)\",\"width\":1}},\"name\":\"061\",\"orientation\":\"v\",\"text\":\"\",\"x\":[181592,60150,241742],\"y\":[180402,106270,286672],\"type\":\"bar\"},{\"marker\":{\"color\":\"rgba(128, 0, 128, 0.6)\",\"line\":{\"color\":\"rgba(128, 0, 128, 0.5213675213675211)\",\"width\":1}},\"name\":\"062\",\"orientation\":\"v\",\"text\":\"\",\"x\":[181592,60150,241742],\"y\":[17236,27092,44328],\"type\":\"bar\"},{\"marker\":{\"color\":\"rgba(219, 64, 82, 0.6)\",\"line\":{\"color\":\"rgba(219, 64, 82, 0.5213675213675211)\",\"width\":1}},\"name\":\"062-067\",\"orientation\":\"v\",\"text\":\"\",\"x\":[181592,60150,241742],\"y\":[1740144,1231470,2971614],\"type\":\"bar\"},{\"marker\":{\"color\":\"rgba(0, 128, 128, 0.6)\",\"line\":{\"color\":\"rgba(0, 128, 128, 0.5213675213675211)\",\"width\":1}},\"name\":\"063\",\"orientation\":\"v\",\"text\":\"\",\"x\":[181592,60150,241742],\"y\":[324266,302242,626508],\"type\":\"bar\"},{\"marker\":{\"color\":\"rgba(255, 255, 51, 0.6)\",\"line\":{\"color\":\"rgba(255, 255, 51, 0.5213675213675211)\",\"width\":1}},\"name\":\"064\",\"orientation\":\"v\",\"text\":\"\",\"x\":[181592,60150,241742],\"y\":[794698,260448,1055146],\"type\":\"bar\"},{\"marker\":{\"color\":\"rgba(128, 128, 0, 0.6)\",\"line\":{\"color\":\"rgba(128, 128, 0, 0.5213675213675211)\",\"width\":1}},\"name\":\"065\",\"orientation\":\"v\",\"text\":\"\",\"x\":[181592,60150,241742],\"y\":[28864,53332,82196],\"type\":\"bar\"},{\"marker\":{\"color\":\"rgba(251, 128, 114, 0.6)\",\"line\":{\"color\":\"rgba(251, 128, 114, 0.5213675213675211)\",\"width\":1}},\"name\":\"066\",\"orientation\":\"v\",\"text\":\"\",\"x\":[181592,60150,241742],\"y\":[83006,82808,165814],\"type\":\"bar\"},{\"marker\":{\"color\":\"rgba(128, 177, 211, 0.6)\",\"line\":{\"color\":\"rgba(128, 177, 211, 0.5213675213675211)\",\"width\":1}},\"name\":\"067\",\"orientation\":\"v\",\"text\":\"\",\"x\":[181592,60150,241742],\"y\":[492074,505548,997622],\"type\":\"bar\"},{\"marker\":{\"color\":\"rgba(255, 153, 51, 0.6)\",\"line\":{\"color\":\"rgba(255, 153, 51, 0.5213675213675211)\",\"width\":1}},\"name\":\"068\",\"orientation\":\"v\",\"text\":\"\",\"x\":[181592,60150,241742],\"y\":[40854,27148,68002],\"type\":\"bar\"},{\"marker\":{\"color\":\"rgba(55, 128, 191, 0.6)\",\"line\":{\"color\":\"rgba(55, 128, 191, 0.5213675213675211)\",\"width\":1}},\"name\":\"068-072\",\"orientation\":\"v\",\"text\":\"\",\"x\":[181592,60150,241742],\"y\":[824918,648194,1473112],\"type\":\"bar\"},{\"marker\":{\"color\":\"rgba(50, 171, 96, 0.6)\",\"line\":{\"color\":\"rgba(50, 171, 96, 0.5213675213675211)\",\"width\":1}},\"name\":\"069\",\"orientation\":\"v\",\"text\":\"\",\"x\":[181592,60150,241742],\"y\":[7326,8844,16170],\"type\":\"bar\"},{\"marker\":{\"color\":\"rgba(50, 171, 96, 0.6)\",\"line\":{\"color\":\"rgba(50, 171, 96, 0.45299145299145277)\",\"width\":1}},\"name\":\"070\",\"orientation\":\"v\",\"text\":\"\",\"x\":[181592,60150,241742],\"y\":[75134,92902,168036],\"type\":\"bar\"},{\"marker\":{\"color\":\"rgba(128, 0, 128, 0.6)\",\"line\":{\"color\":\"rgba(128, 0, 128, 0.45299145299145277)\",\"width\":1}},\"name\":\"071\",\"orientation\":\"v\",\"text\":\"\",\"x\":[181592,60150,241742],\"y\":[358026,149474,507500],\"type\":\"bar\"},{\"marker\":{\"color\":\"rgba(219, 64, 82, 0.6)\",\"line\":{\"color\":\"rgba(219, 64, 82, 0.45299145299145277)\",\"width\":1}},\"name\":\"072\",\"orientation\":\"v\",\"text\":\"\",\"x\":[181592,60150,241742],\"y\":[343578,369826,713404],\"type\":\"bar\"},{\"marker\":{\"color\":\"rgba(0, 128, 128, 0.6)\",\"line\":{\"color\":\"rgba(0, 128, 128, 0.45299145299145277)\",\"width\":1}},\"name\":\"073\",\"orientation\":\"v\",\"text\":\"\",\"x\":[181592,60150,241742],\"y\":[21038,44790,65828],\"type\":\"bar\"},{\"marker\":{\"color\":\"rgba(255, 255, 51, 0.6)\",\"line\":{\"color\":\"rgba(255, 255, 51, 0.45299145299145277)\",\"width\":1}},\"name\":\"074\",\"orientation\":\"v\",\"text\":\"\",\"x\":[181592,60150,241742],\"y\":[6100,18452,24552],\"type\":\"bar\"},{\"marker\":{\"color\":\"rgba(128, 128, 0, 0.6)\",\"line\":{\"color\":\"rgba(128, 128, 0, 0.45299145299145277)\",\"width\":1}},\"name\":\"074-076\",\"orientation\":\"v\",\"text\":\"\",\"x\":[181592,60150,241742],\"y\":[71628,160496,232124],\"type\":\"bar\"},{\"marker\":{\"color\":\"rgba(251, 128, 114, 0.6)\",\"line\":{\"color\":\"rgba(251, 128, 114, 0.45299145299145277)\",\"width\":1}},\"name\":\"075\",\"orientation\":\"v\",\"text\":\"\",\"x\":[181592,60150,241742],\"y\":[41874,105292,147166],\"type\":\"bar\"},{\"marker\":{\"color\":\"rgba(128, 177, 211, 0.6)\",\"line\":{\"color\":\"rgba(128, 177, 211, 0.45299145299145277)\",\"width\":1}},\"name\":\"076\",\"orientation\":\"v\",\"text\":\"\",\"x\":[181592,60150,241742],\"y\":[23654,36752,60406],\"type\":\"bar\"},{\"marker\":{\"color\":\"rgba(255, 153, 51, 0.6)\",\"line\":{\"color\":\"rgba(255, 153, 51, 0.45299145299145277)\",\"width\":1}},\"name\":\"077\",\"orientation\":\"v\",\"text\":\"\",\"x\":[181592,60150,241742],\"y\":[235266,248110,483376],\"type\":\"bar\"},{\"marker\":{\"color\":\"rgba(55, 128, 191, 0.6)\",\"line\":{\"color\":\"rgba(55, 128, 191, 0.45299145299145277)\",\"width\":1}},\"name\":\"077-080\",\"orientation\":\"v\",\"text\":\"\",\"x\":[181592,60150,241742],\"y\":[321852,347720,669572],\"type\":\"bar\"},{\"marker\":{\"color\":\"rgba(55, 128, 191, 0.6)\",\"line\":{\"color\":\"rgba(55, 128, 191, 0.3846153846153844)\",\"width\":1}},\"name\":\"078\",\"orientation\":\"v\",\"text\":\"\",\"x\":[181592,60150,241742],\"y\":[23126,0,23126],\"type\":\"bar\"},{\"marker\":{\"color\":\"rgba(50, 171, 96, 0.6)\",\"line\":{\"color\":\"rgba(50, 171, 96, 0.3846153846153844)\",\"width\":1}},\"name\":\"079\",\"orientation\":\"v\",\"text\":\"\",\"x\":[181592,60150,241742],\"y\":[2,3668,3670],\"type\":\"bar\"},{\"marker\":{\"color\":\"rgba(128, 0, 128, 0.6)\",\"line\":{\"color\":\"rgba(128, 0, 128, 0.3846153846153844)\",\"width\":1}},\"name\":\"080\",\"orientation\":\"v\",\"text\":\"\",\"x\":[181592,60150,241742],\"y\":[63458,95942,159400],\"type\":\"bar\"},{\"marker\":{\"color\":\"rgba(219, 64, 82, 0.6)\",\"line\":{\"color\":\"rgba(219, 64, 82, 0.3846153846153844)\",\"width\":1}},\"name\":\"081\",\"orientation\":\"v\",\"text\":\"\",\"x\":[181592,60150,241742],\"y\":[0,1508,1508],\"type\":\"bar\"},{\"marker\":{\"color\":\"rgba(0, 128, 128, 0.6)\",\"line\":{\"color\":\"rgba(0, 128, 128, 0.3846153846153844)\",\"width\":1}},\"name\":\"082\",\"orientation\":\"v\",\"text\":\"\",\"x\":[181592,60150,241742],\"y\":[53902,39638,93540],\"type\":\"bar\"},{\"marker\":{\"color\":\"rgba(255, 255, 51, 0.6)\",\"line\":{\"color\":\"rgba(255, 255, 51, 0.3846153846153844)\",\"width\":1}},\"name\":\"083\",\"orientation\":\"v\",\"text\":\"\",\"x\":[181592,60150,241742],\"y\":[6240,5920,12160],\"type\":\"bar\"},{\"marker\":{\"color\":\"rgba(128, 128, 0, 0.6)\",\"line\":{\"color\":\"rgba(128, 128, 0, 0.3846153846153844)\",\"width\":1}},\"name\":\"083-085\",\"orientation\":\"v\",\"text\":\"\",\"x\":[181592,60150,241742],\"y\":[51426,44694,96120],\"type\":\"bar\"},{\"marker\":{\"color\":\"rgba(251, 128, 114, 0.6)\",\"line\":{\"color\":\"rgba(251, 128, 114, 0.3846153846153844)\",\"width\":1}},\"name\":\"084\",\"orientation\":\"v\",\"text\":\"\",\"x\":[181592,60150,241742],\"y\":[22610,18376,40986],\"type\":\"bar\"},{\"marker\":{\"color\":\"rgba(128, 177, 211, 0.6)\",\"line\":{\"color\":\"rgba(128, 177, 211, 0.3846153846153844)\",\"width\":1}},\"name\":\"085\",\"orientation\":\"v\",\"text\":\"\",\"x\":[181592,60150,241742],\"y\":[22576,20398,42974],\"type\":\"bar\"},{\"marker\":{\"color\":\"rgba(255, 153, 51, 0.6)\",\"line\":{\"color\":\"rgba(255, 153, 51, 0.3846153846153844)\",\"width\":1}},\"name\":\"086\",\"orientation\":\"v\",\"text\":\"\",\"x\":[181592,60150,241742],\"y\":[217372,203782,421154],\"type\":\"bar\"},{\"marker\":{\"color\":\"rgba(255, 153, 51, 0.6)\",\"line\":{\"color\":\"rgba(255, 153, 51, 0.31623931623931584)\",\"width\":1}},\"name\":\"086-089\",\"orientation\":\"v\",\"text\":\"\",\"x\":[181592,60150,241742],\"y\":[390752,472906,863658],\"type\":\"bar\"},{\"marker\":{\"color\":\"rgba(55, 128, 191, 0.6)\",\"line\":{\"color\":\"rgba(55, 128, 191, 0.31623931623931584)\",\"width\":1}},\"name\":\"087\",\"orientation\":\"v\",\"text\":\"\",\"x\":[181592,60150,241742],\"y\":[71296,174092,245388],\"type\":\"bar\"},{\"marker\":{\"color\":\"rgba(50, 171, 96, 0.6)\",\"line\":{\"color\":\"rgba(50, 171, 96, 0.31623931623931584)\",\"width\":1}},\"name\":\"088\",\"orientation\":\"v\",\"text\":\"\",\"x\":[181592,60150,241742],\"y\":[3992,2450,6442],\"type\":\"bar\"},{\"marker\":{\"color\":\"rgba(128, 0, 128, 0.6)\",\"line\":{\"color\":\"rgba(128, 0, 128, 0.31623931623931584)\",\"width\":1}},\"name\":\"089\",\"orientation\":\"v\",\"text\":\"\",\"x\":[181592,60150,241742],\"y\":[98092,92582,190674],\"type\":\"bar\"},{\"marker\":{\"color\":\"rgba(219, 64, 82, 0.6)\",\"line\":{\"color\":\"rgba(219, 64, 82, 0.31623931623931584)\",\"width\":1}},\"name\":\"090\",\"orientation\":\"v\",\"text\":\"\",\"x\":[181592,60150,241742],\"y\":[288040,88988,377028],\"type\":\"bar\"},{\"marker\":{\"color\":\"rgba(0, 128, 128, 0.6)\",\"line\":{\"color\":\"rgba(0, 128, 128, 0.31623931623931584)\",\"width\":1}},\"name\":\"090-102\",\"orientation\":\"v\",\"text\":\"\",\"x\":[181592,60150,241742],\"y\":[882468,375844,1258312],\"type\":\"bar\"},{\"marker\":{\"color\":\"rgba(255, 255, 51, 0.6)\",\"line\":{\"color\":\"rgba(255, 255, 51, 0.31623931623931584)\",\"width\":1}},\"name\":\"091\",\"orientation\":\"v\",\"text\":\"\",\"x\":[181592,60150,241742],\"y\":[19322,4182,23504],\"type\":\"bar\"},{\"marker\":{\"color\":\"rgba(128, 128, 0, 0.6)\",\"line\":{\"color\":\"rgba(128, 128, 0, 0.31623931623931584)\",\"width\":1}},\"name\":\"092\",\"orientation\":\"v\",\"text\":\"\",\"x\":[181592,60150,241742],\"y\":[66664,53078,119742],\"type\":\"bar\"},{\"marker\":{\"color\":\"rgba(251, 128, 114, 0.6)\",\"line\":{\"color\":\"rgba(251, 128, 114, 0.31623931623931584)\",\"width\":1}},\"name\":\"093\",\"orientation\":\"v\",\"text\":\"\",\"x\":[181592,60150,241742],\"y\":[83108,51050,134158],\"type\":\"bar\"},{\"marker\":{\"color\":\"rgba(128, 177, 211, 0.6)\",\"line\":{\"color\":\"rgba(128, 177, 211, 0.31623931623931584)\",\"width\":1}},\"name\":\"094\",\"orientation\":\"v\",\"text\":\"\",\"x\":[181592,60150,241742],\"y\":[10350,6978,17328],\"type\":\"bar\"},{\"marker\":{\"color\":\"rgba(128, 177, 211, 0.6)\",\"line\":{\"color\":\"rgba(128, 177, 211, 0.24786324786324748)\",\"width\":1}},\"name\":\"095\",\"orientation\":\"v\",\"text\":\"\",\"x\":[181592,60150,241742],\"y\":[33694,8680,42374],\"type\":\"bar\"},{\"marker\":{\"color\":\"rgba(255, 153, 51, 0.6)\",\"line\":{\"color\":\"rgba(255, 153, 51, 0.24786324786324748)\",\"width\":1}},\"name\":\"096\",\"orientation\":\"v\",\"text\":\"\",\"x\":[181592,60150,241742],\"y\":[10804,5370,16174],\"type\":\"bar\"},{\"marker\":{\"color\":\"rgba(55, 128, 191, 0.6)\",\"line\":{\"color\":\"rgba(55, 128, 191, 0.24786324786324748)\",\"width\":1}},\"name\":\"097\",\"orientation\":\"v\",\"text\":\"\",\"x\":[181592,60150,241742],\"y\":[143376,70878,214254],\"type\":\"bar\"},{\"marker\":{\"color\":\"rgba(50, 171, 96, 0.6)\",\"line\":{\"color\":\"rgba(50, 171, 96, 0.24786324786324748)\",\"width\":1}},\"name\":\"099\",\"orientation\":\"v\",\"text\":\"\",\"x\":[181592,60150,241742],\"y\":[20420,8040,28460],\"type\":\"bar\"},{\"marker\":{\"color\":\"rgba(128, 0, 128, 0.6)\",\"line\":{\"color\":\"rgba(128, 0, 128, 0.24786324786324748)\",\"width\":1}},\"name\":\"100\",\"orientation\":\"v\",\"text\":\"\",\"x\":[181592,60150,241742],\"y\":[8170,3420,11590],\"type\":\"bar\"},{\"marker\":{\"color\":\"rgba(219, 64, 82, 0.6)\",\"line\":{\"color\":\"rgba(219, 64, 82, 0.24786324786324748)\",\"width\":1}},\"name\":\"101\",\"orientation\":\"v\",\"text\":\"\",\"x\":[181592,60150,241742],\"y\":[14920,14192,29112],\"type\":\"bar\"},{\"marker\":{\"color\":\"rgba(0, 128, 128, 0.6)\",\"line\":{\"color\":\"rgba(0, 128, 128, 0.24786324786324748)\",\"width\":1}},\"name\":\"102\",\"orientation\":\"v\",\"text\":\"\",\"x\":[181592,60150,241742],\"y\":[2008,838,2846],\"type\":\"bar\"}],                        {\"legend\":{\"bgcolor\":\"#F5F6F9\",\"font\":{\"color\":\"#4D5663\"}},\"paper_bgcolor\":\"#F5F6F9\",\"plot_bgcolor\":\"#F5F6F9\",\"template\":{\"data\":{\"barpolar\":[{\"marker\":{\"line\":{\"color\":\"#E5ECF6\",\"width\":0.5},\"pattern\":{\"fillmode\":\"overlay\",\"size\":10,\"solidity\":0.2}},\"type\":\"barpolar\"}],\"bar\":[{\"error_x\":{\"color\":\"#2a3f5f\"},\"error_y\":{\"color\":\"#2a3f5f\"},\"marker\":{\"line\":{\"color\":\"#E5ECF6\",\"width\":0.5},\"pattern\":{\"fillmode\":\"overlay\",\"size\":10,\"solidity\":0.2}},\"type\":\"bar\"}],\"carpet\":[{\"aaxis\":{\"endlinecolor\":\"#2a3f5f\",\"gridcolor\":\"white\",\"linecolor\":\"white\",\"minorgridcolor\":\"white\",\"startlinecolor\":\"#2a3f5f\"},\"baxis\":{\"endlinecolor\":\"#2a3f5f\",\"gridcolor\":\"white\",\"linecolor\":\"white\",\"minorgridcolor\":\"white\",\"startlinecolor\":\"#2a3f5f\"},\"type\":\"carpet\"}],\"choropleth\":[{\"colorbar\":{\"outlinewidth\":0,\"ticks\":\"\"},\"type\":\"choropleth\"}],\"contourcarpet\":[{\"colorbar\":{\"outlinewidth\":0,\"ticks\":\"\"},\"type\":\"contourcarpet\"}],\"contour\":[{\"colorbar\":{\"outlinewidth\":0,\"ticks\":\"\"},\"colorscale\":[[0.0,\"#0d0887\"],[0.1111111111111111,\"#46039f\"],[0.2222222222222222,\"#7201a8\"],[0.3333333333333333,\"#9c179e\"],[0.4444444444444444,\"#bd3786\"],[0.5555555555555556,\"#d8576b\"],[0.6666666666666666,\"#ed7953\"],[0.7777777777777778,\"#fb9f3a\"],[0.8888888888888888,\"#fdca26\"],[1.0,\"#f0f921\"]],\"type\":\"contour\"}],\"heatmapgl\":[{\"colorbar\":{\"outlinewidth\":0,\"ticks\":\"\"},\"colorscale\":[[0.0,\"#0d0887\"],[0.1111111111111111,\"#46039f\"],[0.2222222222222222,\"#7201a8\"],[0.3333333333333333,\"#9c179e\"],[0.4444444444444444,\"#bd3786\"],[0.5555555555555556,\"#d8576b\"],[0.6666666666666666,\"#ed7953\"],[0.7777777777777778,\"#fb9f3a\"],[0.8888888888888888,\"#fdca26\"],[1.0,\"#f0f921\"]],\"type\":\"heatmapgl\"}],\"heatmap\":[{\"colorbar\":{\"outlinewidth\":0,\"ticks\":\"\"},\"colorscale\":[[0.0,\"#0d0887\"],[0.1111111111111111,\"#46039f\"],[0.2222222222222222,\"#7201a8\"],[0.3333333333333333,\"#9c179e\"],[0.4444444444444444,\"#bd3786\"],[0.5555555555555556,\"#d8576b\"],[0.6666666666666666,\"#ed7953\"],[0.7777777777777778,\"#fb9f3a\"],[0.8888888888888888,\"#fdca26\"],[1.0,\"#f0f921\"]],\"type\":\"heatmap\"}],\"histogram2dcontour\":[{\"colorbar\":{\"outlinewidth\":0,\"ticks\":\"\"},\"colorscale\":[[0.0,\"#0d0887\"],[0.1111111111111111,\"#46039f\"],[0.2222222222222222,\"#7201a8\"],[0.3333333333333333,\"#9c179e\"],[0.4444444444444444,\"#bd3786\"],[0.5555555555555556,\"#d8576b\"],[0.6666666666666666,\"#ed7953\"],[0.7777777777777778,\"#fb9f3a\"],[0.8888888888888888,\"#fdca26\"],[1.0,\"#f0f921\"]],\"type\":\"histogram2dcontour\"}],\"histogram2d\":[{\"colorbar\":{\"outlinewidth\":0,\"ticks\":\"\"},\"colorscale\":[[0.0,\"#0d0887\"],[0.1111111111111111,\"#46039f\"],[0.2222222222222222,\"#7201a8\"],[0.3333333333333333,\"#9c179e\"],[0.4444444444444444,\"#bd3786\"],[0.5555555555555556,\"#d8576b\"],[0.6666666666666666,\"#ed7953\"],[0.7777777777777778,\"#fb9f3a\"],[0.8888888888888888,\"#fdca26\"],[1.0,\"#f0f921\"]],\"type\":\"histogram2d\"}],\"histogram\":[{\"marker\":{\"pattern\":{\"fillmode\":\"overlay\",\"size\":10,\"solidity\":0.2}},\"type\":\"histogram\"}],\"mesh3d\":[{\"colorbar\":{\"outlinewidth\":0,\"ticks\":\"\"},\"type\":\"mesh3d\"}],\"parcoords\":[{\"line\":{\"colorbar\":{\"outlinewidth\":0,\"ticks\":\"\"}},\"type\":\"parcoords\"}],\"pie\":[{\"automargin\":true,\"type\":\"pie\"}],\"scatter3d\":[{\"line\":{\"colorbar\":{\"outlinewidth\":0,\"ticks\":\"\"}},\"marker\":{\"colorbar\":{\"outlinewidth\":0,\"ticks\":\"\"}},\"type\":\"scatter3d\"}],\"scattercarpet\":[{\"marker\":{\"colorbar\":{\"outlinewidth\":0,\"ticks\":\"\"}},\"type\":\"scattercarpet\"}],\"scattergeo\":[{\"marker\":{\"colorbar\":{\"outlinewidth\":0,\"ticks\":\"\"}},\"type\":\"scattergeo\"}],\"scattergl\":[{\"marker\":{\"colorbar\":{\"outlinewidth\":0,\"ticks\":\"\"}},\"type\":\"scattergl\"}],\"scattermapbox\":[{\"marker\":{\"colorbar\":{\"outlinewidth\":0,\"ticks\":\"\"}},\"type\":\"scattermapbox\"}],\"scatterpolargl\":[{\"marker\":{\"colorbar\":{\"outlinewidth\":0,\"ticks\":\"\"}},\"type\":\"scatterpolargl\"}],\"scatterpolar\":[{\"marker\":{\"colorbar\":{\"outlinewidth\":0,\"ticks\":\"\"}},\"type\":\"scatterpolar\"}],\"scatter\":[{\"marker\":{\"colorbar\":{\"outlinewidth\":0,\"ticks\":\"\"}},\"type\":\"scatter\"}],\"scatterternary\":[{\"marker\":{\"colorbar\":{\"outlinewidth\":0,\"ticks\":\"\"}},\"type\":\"scatterternary\"}],\"surface\":[{\"colorbar\":{\"outlinewidth\":0,\"ticks\":\"\"},\"colorscale\":[[0.0,\"#0d0887\"],[0.1111111111111111,\"#46039f\"],[0.2222222222222222,\"#7201a8\"],[0.3333333333333333,\"#9c179e\"],[0.4444444444444444,\"#bd3786\"],[0.5555555555555556,\"#d8576b\"],[0.6666666666666666,\"#ed7953\"],[0.7777777777777778,\"#fb9f3a\"],[0.8888888888888888,\"#fdca26\"],[1.0,\"#f0f921\"]],\"type\":\"surface\"}],\"table\":[{\"cells\":{\"fill\":{\"color\":\"#EBF0F8\"},\"line\":{\"color\":\"white\"}},\"header\":{\"fill\":{\"color\":\"#C8D4E3\"},\"line\":{\"color\":\"white\"}},\"type\":\"table\"}]},\"layout\":{\"annotationdefaults\":{\"arrowcolor\":\"#2a3f5f\",\"arrowhead\":0,\"arrowwidth\":1},\"autotypenumbers\":\"strict\",\"coloraxis\":{\"colorbar\":{\"outlinewidth\":0,\"ticks\":\"\"}},\"colorscale\":{\"diverging\":[[0,\"#8e0152\"],[0.1,\"#c51b7d\"],[0.2,\"#de77ae\"],[0.3,\"#f1b6da\"],[0.4,\"#fde0ef\"],[0.5,\"#f7f7f7\"],[0.6,\"#e6f5d0\"],[0.7,\"#b8e186\"],[0.8,\"#7fbc41\"],[0.9,\"#4d9221\"],[1,\"#276419\"]],\"sequential\":[[0.0,\"#0d0887\"],[0.1111111111111111,\"#46039f\"],[0.2222222222222222,\"#7201a8\"],[0.3333333333333333,\"#9c179e\"],[0.4444444444444444,\"#bd3786\"],[0.5555555555555556,\"#d8576b\"],[0.6666666666666666,\"#ed7953\"],[0.7777777777777778,\"#fb9f3a\"],[0.8888888888888888,\"#fdca26\"],[1.0,\"#f0f921\"]],\"sequentialminus\":[[0.0,\"#0d0887\"],[0.1111111111111111,\"#46039f\"],[0.2222222222222222,\"#7201a8\"],[0.3333333333333333,\"#9c179e\"],[0.4444444444444444,\"#bd3786\"],[0.5555555555555556,\"#d8576b\"],[0.6666666666666666,\"#ed7953\"],[0.7777777777777778,\"#fb9f3a\"],[0.8888888888888888,\"#fdca26\"],[1.0,\"#f0f921\"]]},\"colorway\":[\"#636efa\",\"#EF553B\",\"#00cc96\",\"#ab63fa\",\"#FFA15A\",\"#19d3f3\",\"#FF6692\",\"#B6E880\",\"#FF97FF\",\"#FECB52\"],\"font\":{\"color\":\"#2a3f5f\"},\"geo\":{\"bgcolor\":\"white\",\"lakecolor\":\"white\",\"landcolor\":\"#E5ECF6\",\"showlakes\":true,\"showland\":true,\"subunitcolor\":\"white\"},\"hoverlabel\":{\"align\":\"left\"},\"hovermode\":\"closest\",\"mapbox\":{\"style\":\"light\"},\"paper_bgcolor\":\"white\",\"plot_bgcolor\":\"#E5ECF6\",\"polar\":{\"angularaxis\":{\"gridcolor\":\"white\",\"linecolor\":\"white\",\"ticks\":\"\"},\"bgcolor\":\"#E5ECF6\",\"radialaxis\":{\"gridcolor\":\"white\",\"linecolor\":\"white\",\"ticks\":\"\"}},\"scene\":{\"xaxis\":{\"backgroundcolor\":\"#E5ECF6\",\"gridcolor\":\"white\",\"gridwidth\":2,\"linecolor\":\"white\",\"showbackground\":true,\"ticks\":\"\",\"zerolinecolor\":\"white\"},\"yaxis\":{\"backgroundcolor\":\"#E5ECF6\",\"gridcolor\":\"white\",\"gridwidth\":2,\"linecolor\":\"white\",\"showbackground\":true,\"ticks\":\"\",\"zerolinecolor\":\"white\"},\"zaxis\":{\"backgroundcolor\":\"#E5ECF6\",\"gridcolor\":\"white\",\"gridwidth\":2,\"linecolor\":\"white\",\"showbackground\":true,\"ticks\":\"\",\"zerolinecolor\":\"white\"}},\"shapedefaults\":{\"line\":{\"color\":\"#2a3f5f\"}},\"ternary\":{\"aaxis\":{\"gridcolor\":\"white\",\"linecolor\":\"white\",\"ticks\":\"\"},\"baxis\":{\"gridcolor\":\"white\",\"linecolor\":\"white\",\"ticks\":\"\"},\"bgcolor\":\"#E5ECF6\",\"caxis\":{\"gridcolor\":\"white\",\"linecolor\":\"white\",\"ticks\":\"\"}},\"title\":{\"x\":0.05},\"xaxis\":{\"automargin\":true,\"gridcolor\":\"white\",\"linecolor\":\"white\",\"ticks\":\"\",\"title\":{\"standoff\":15},\"zerolinecolor\":\"white\",\"zerolinewidth\":2},\"yaxis\":{\"automargin\":true,\"gridcolor\":\"white\",\"linecolor\":\"white\",\"ticks\":\"\",\"title\":{\"standoff\":15},\"zerolinecolor\":\"white\",\"zerolinewidth\":2}}},\"title\":{\"font\":{\"color\":\"#4D5663\"},\"text\":\"VIZ TITLE\"},\"xaxis\":{\"gridcolor\":\"#E1E5ED\",\"showgrid\":true,\"tickfont\":{\"color\":\"#4D5663\"},\"title\":{\"font\":{\"color\":\"#4D5663\"},\"text\":\"AXIS TITLE\"},\"zerolinecolor\":\"#E1E5ED\"},\"yaxis\":{\"gridcolor\":\"#E1E5ED\",\"showgrid\":true,\"tickfont\":{\"color\":\"#4D5663\"},\"title\":{\"font\":{\"color\":\"#4D5663\"},\"text\":\"AXIS TITLE\"},\"zerolinecolor\":\"#E1E5ED\"}},                        {\"showLink\": true, \"linkText\": \"Export to plot.ly\", \"plotlyServerURL\": \"https://plot.ly\", \"responsive\": true}                    ).then(function(){\n",
       "                            \n",
       "var gd = document.getElementById('b3b071fd-e1e9-48d6-98ca-496c614d323a');\n",
       "var x = new MutationObserver(function (mutations, observer) {{\n",
       "        var display = window.getComputedStyle(gd).display;\n",
       "        if (!display || display === 'none') {{\n",
       "            console.log([gd, 'removed!']);\n",
       "            Plotly.purge(gd);\n",
       "            observer.disconnect();\n",
       "        }}\n",
       "}});\n",
       "\n",
       "// Listen for the removal of the full notebook cells\n",
       "var notebookContainer = gd.closest('#notebook-container');\n",
       "if (notebookContainer) {{\n",
       "    x.observe(notebookContainer, {childList: true});\n",
       "}}\n",
       "\n",
       "// Listen for the clearing of the current output cell\n",
       "var outputEl = gd.closest('.output');\n",
       "if (outputEl) {{\n",
       "    x.observe(outputEl, {childList: true});\n",
       "}}\n",
       "\n",
       "                        })                };                });            </script>        </div>"
      ]
     },
     "metadata": {}
    }
   ],
   "metadata": {}
  },
  {
   "cell_type": "code",
   "execution_count": 52,
   "source": [
    "# Cufflinks line plot\n",
    "\n",
    "dataset_sexo.iplot(kind='line',\n",
    "                   x='098',\n",
    "                   xTitle='AXIS TITLE',\n",
    "                   yTitle='AXIS TITLE',\n",
    "                   title='VIZ TITLE')\n"
   ],
   "outputs": [
    {
     "output_type": "display_data",
     "data": {
      "application/vnd.plotly.v1+json": {
       "data": [
        {
         "line": {
          "color": "rgba(255, 153, 51, 1.0)",
          "dash": "solid",
          "shape": "linear",
          "width": 1.3
         },
         "mode": "lines",
         "name": "Sexo",
         "text": "",
         "x": [
          181592,
          60150,
          241742
         ],
         "y": [
          "Hombres",
          "Mujeres",
          "Total"
         ],
         "type": "scatter"
        },
        {
         "line": {
          "color": "rgba(55, 128, 191, 1.0)",
          "dash": "solid",
          "shape": "linear",
          "width": 1.3
         },
         "mode": "lines",
         "name": "001",
         "text": "",
         "x": [
          181592,
          60150,
          241742
         ],
         "y": [
          13310,
          20734,
          34044
         ],
         "type": "scatter"
        },
        {
         "line": {
          "color": "rgba(50, 171, 96, 1.0)",
          "dash": "solid",
          "shape": "linear",
          "width": 1.3
         },
         "mode": "lines",
         "name": "001-008",
         "text": "",
         "x": [
          181592,
          60150,
          241742
         ],
         "y": [
          288068,
          204418,
          492486
         ],
         "type": "scatter"
        },
        {
         "line": {
          "color": "rgba(128, 0, 128, 1.0)",
          "dash": "solid",
          "shape": "linear",
          "width": 1.3
         },
         "mode": "lines",
         "name": "001-102",
         "text": "",
         "x": [
          181592,
          60150,
          241742
         ],
         "y": [
          14528688,
          13298528,
          27827216
         ],
         "type": "scatter"
        },
        {
         "line": {
          "color": "rgba(219, 64, 82, 1.0)",
          "dash": "solid",
          "shape": "linear",
          "width": 1.3
         },
         "mode": "lines",
         "name": "002",
         "text": "",
         "x": [
          181592,
          60150,
          241742
         ],
         "y": [
          37942,
          15510,
          53452
         ],
         "type": "scatter"
        },
        {
         "line": {
          "color": "rgba(0, 128, 128, 1.0)",
          "dash": "solid",
          "shape": "linear",
          "width": 1.3
         },
         "mode": "lines",
         "name": "003",
         "text": "",
         "x": [
          181592,
          60150,
          241742
         ],
         "y": [
          3860,
          4110,
          7970
         ],
         "type": "scatter"
        },
        {
         "line": {
          "color": "rgba(255, 255, 51, 1.0)",
          "dash": "solid",
          "shape": "linear",
          "width": 1.3
         },
         "mode": "lines",
         "name": "004",
         "text": "",
         "x": [
          181592,
          60150,
          241742
         ],
         "y": [
          89660,
          100022,
          189682
         ],
         "type": "scatter"
        },
        {
         "line": {
          "color": "rgba(128, 128, 0, 1.0)",
          "dash": "solid",
          "shape": "linear",
          "width": 1.3
         },
         "mode": "lines",
         "name": "005",
         "text": "",
         "x": [
          181592,
          60150,
          241742
         ],
         "y": [
          24062,
          21674,
          45736
         ],
         "type": "scatter"
        },
        {
         "line": {
          "color": "rgba(251, 128, 114, 1.0)",
          "dash": "solid",
          "shape": "linear",
          "width": 1.3
         },
         "mode": "lines",
         "name": "006",
         "text": "",
         "x": [
          181592,
          60150,
          241742
         ],
         "y": [
          92868,
          21704,
          114572
         ],
         "type": "scatter"
        },
        {
         "line": {
          "color": "rgba(128, 177, 211, 1.0)",
          "dash": "solid",
          "shape": "linear",
          "width": 1.3
         },
         "mode": "lines",
         "name": "007",
         "text": "",
         "x": [
          181592,
          60150,
          241742
         ],
         "y": [
          2546,
          596,
          3142
         ],
         "type": "scatter"
        },
        {
         "line": {
          "color": "rgba(128, 177, 211, 0.9316239316239316)",
          "dash": "solid",
          "shape": "linear",
          "width": 1.3
         },
         "mode": "lines",
         "name": "008",
         "text": "",
         "x": [
          181592,
          60150,
          241742
         ],
         "y": [
          23820,
          20068,
          43888
         ],
         "type": "scatter"
        },
        {
         "line": {
          "color": "rgba(255, 153, 51, 0.9316239316239316)",
          "dash": "solid",
          "shape": "linear",
          "width": 1.3
         },
         "mode": "lines",
         "name": "009",
         "text": "",
         "x": [
          181592,
          60150,
          241742
         ],
         "y": [
          128122,
          30116,
          158238
         ],
         "type": "scatter"
        },
        {
         "line": {
          "color": "rgba(55, 128, 191, 0.9316239316239316)",
          "dash": "solid",
          "shape": "linear",
          "width": 1.3
         },
         "mode": "lines",
         "name": "009-041",
         "text": "",
         "x": [
          181592,
          60150,
          241742
         ],
         "y": [
          4371186,
          2747678,
          7118864
         ],
         "type": "scatter"
        },
        {
         "line": {
          "color": "rgba(50, 171, 96, 0.9316239316239316)",
          "dash": "solid",
          "shape": "linear",
          "width": 1.3
         },
         "mode": "lines",
         "name": "010",
         "text": "",
         "x": [
          181592,
          60150,
          241742
         ],
         "y": [
          115918,
          20340,
          136258
         ],
         "type": "scatter"
        },
        {
         "line": {
          "color": "rgba(128, 0, 128, 0.9316239316239316)",
          "dash": "solid",
          "shape": "linear",
          "width": 1.3
         },
         "mode": "lines",
         "name": "011",
         "text": "",
         "x": [
          181592,
          60150,
          241742
         ],
         "y": [
          295366,
          193986,
          489352
         ],
         "type": "scatter"
        },
        {
         "line": {
          "color": "rgba(219, 64, 82, 0.9316239316239316)",
          "dash": "solid",
          "shape": "linear",
          "width": 1.3
         },
         "mode": "lines",
         "name": "012",
         "text": "",
         "x": [
          181592,
          60150,
          241742
         ],
         "y": [
          344882,
          280252,
          625134
         ],
         "type": "scatter"
        },
        {
         "line": {
          "color": "rgba(0, 128, 128, 0.9316239316239316)",
          "dash": "solid",
          "shape": "linear",
          "width": 1.3
         },
         "mode": "lines",
         "name": "013",
         "text": "",
         "x": [
          181592,
          60150,
          241742
         ],
         "y": [
          132644,
          90928,
          223572
         ],
         "type": "scatter"
        },
        {
         "line": {
          "color": "rgba(255, 255, 51, 0.9316239316239316)",
          "dash": "solid",
          "shape": "linear",
          "width": 1.3
         },
         "mode": "lines",
         "name": "014",
         "text": "",
         "x": [
          181592,
          60150,
          241742
         ],
         "y": [
          217596,
          126478,
          344074
         ],
         "type": "scatter"
        },
        {
         "line": {
          "color": "rgba(128, 128, 0, 0.9316239316239316)",
          "dash": "solid",
          "shape": "linear",
          "width": 1.3
         },
         "mode": "lines",
         "name": "015",
         "text": "",
         "x": [
          181592,
          60150,
          241742
         ],
         "y": [
          169294,
          150246,
          319540
         ],
         "type": "scatter"
        },
        {
         "line": {
          "color": "rgba(251, 128, 114, 0.9316239316239316)",
          "dash": "solid",
          "shape": "linear",
          "width": 1.3
         },
         "mode": "lines",
         "name": "016",
         "text": "",
         "x": [
          181592,
          60150,
          241742
         ],
         "y": [
          83444,
          116646,
          200090
         ],
         "type": "scatter"
        },
        {
         "line": {
          "color": "rgba(251, 128, 114, 0.8632478632478631)",
          "dash": "solid",
          "shape": "linear",
          "width": 1.3
         },
         "mode": "lines",
         "name": "017",
         "text": "",
         "x": [
          181592,
          60150,
          241742
         ],
         "y": [
          127094,
          5330,
          132424
         ],
         "type": "scatter"
        },
        {
         "line": {
          "color": "rgba(128, 177, 211, 0.8632478632478631)",
          "dash": "solid",
          "shape": "linear",
          "width": 1.3
         },
         "mode": "lines",
         "name": "018",
         "text": "",
         "x": [
          181592,
          60150,
          241742
         ],
         "y": [
          1131650,
          180534,
          1312184
         ],
         "type": "scatter"
        },
        {
         "line": {
          "color": "rgba(255, 153, 51, 0.8632478632478631)",
          "dash": "solid",
          "shape": "linear",
          "width": 1.3
         },
         "mode": "lines",
         "name": "019",
         "text": "",
         "x": [
          181592,
          60150,
          241742
         ],
         "y": [
          24270,
          10384,
          34654
         ],
         "type": "scatter"
        },
        {
         "line": {
          "color": "rgba(55, 128, 191, 0.8632478632478631)",
          "dash": "solid",
          "shape": "linear",
          "width": 1.3
         },
         "mode": "lines",
         "name": "020",
         "text": "",
         "x": [
          181592,
          60150,
          241742
         ],
         "y": [
          18154,
          12114,
          30268
         ],
         "type": "scatter"
        },
        {
         "line": {
          "color": "rgba(50, 171, 96, 0.8632478632478631)",
          "dash": "solid",
          "shape": "linear",
          "width": 1.3
         },
         "mode": "lines",
         "name": "021",
         "text": "",
         "x": [
          181592,
          60150,
          241742
         ],
         "y": [
          28330,
          23258,
          51588
         ],
         "type": "scatter"
        },
        {
         "line": {
          "color": "rgba(128, 0, 128, 0.8632478632478631)",
          "dash": "solid",
          "shape": "linear",
          "width": 1.3
         },
         "mode": "lines",
         "name": "022",
         "text": "",
         "x": [
          181592,
          60150,
          241742
         ],
         "y": [
          44718,
          35044,
          79762
         ],
         "type": "scatter"
        },
        {
         "line": {
          "color": "rgba(219, 64, 82, 0.8632478632478631)",
          "dash": "solid",
          "shape": "linear",
          "width": 1.3
         },
         "mode": "lines",
         "name": "023",
         "text": "",
         "x": [
          181592,
          60150,
          241742
         ],
         "y": [
          4766,
          434002,
          438768
         ],
         "type": "scatter"
        },
        {
         "line": {
          "color": "rgba(0, 128, 128, 0.8632478632478631)",
          "dash": "solid",
          "shape": "linear",
          "width": 1.3
         },
         "mode": "lines",
         "name": "024",
         "text": "",
         "x": [
          181592,
          60150,
          241742
         ],
         "y": [
          0,
          41724,
          41724
         ],
         "type": "scatter"
        },
        {
         "line": {
          "color": "rgba(255, 255, 51, 0.8632478632478631)",
          "dash": "solid",
          "shape": "linear",
          "width": 1.3
         },
         "mode": "lines",
         "name": "025",
         "text": "",
         "x": [
          181592,
          60150,
          241742
         ],
         "y": [
          0,
          109052,
          109052
         ],
         "type": "scatter"
        },
        {
         "line": {
          "color": "rgba(128, 128, 0, 0.8632478632478631)",
          "dash": "solid",
          "shape": "linear",
          "width": 1.3
         },
         "mode": "lines",
         "name": "026",
         "text": "",
         "x": [
          181592,
          60150,
          241742
         ],
         "y": [
          0,
          115158,
          115158
         ],
         "type": "scatter"
        },
        {
         "line": {
          "color": "rgba(128, 128, 0, 0.7948717948717947)",
          "dash": "solid",
          "shape": "linear",
          "width": 1.3
         },
         "mode": "lines",
         "name": "027",
         "text": "",
         "x": [
          181592,
          60150,
          241742
         ],
         "y": [
          0,
          36182,
          36182
         ],
         "type": "scatter"
        },
        {
         "line": {
          "color": "rgba(251, 128, 114, 0.7948717948717947)",
          "dash": "solid",
          "shape": "linear",
          "width": 1.3
         },
         "mode": "lines",
         "name": "028",
         "text": "",
         "x": [
          181592,
          60150,
          241742
         ],
         "y": [
          390814,
          0,
          390814
         ],
         "type": "scatter"
        },
        {
         "line": {
          "color": "rgba(128, 177, 211, 0.7948717948717947)",
          "dash": "solid",
          "shape": "linear",
          "width": 1.3
         },
         "mode": "lines",
         "name": "029",
         "text": "",
         "x": [
          181592,
          60150,
          241742
         ],
         "y": [
          11946,
          0,
          11946
         ],
         "type": "scatter"
        },
        {
         "line": {
          "color": "rgba(255, 153, 51, 0.7948717948717947)",
          "dash": "solid",
          "shape": "linear",
          "width": 1.3
         },
         "mode": "lines",
         "name": "030",
         "text": "",
         "x": [
          181592,
          60150,
          241742
         ],
         "y": [
          73644,
          38928,
          112572
         ],
         "type": "scatter"
        },
        {
         "line": {
          "color": "rgba(55, 128, 191, 0.7948717948717947)",
          "dash": "solid",
          "shape": "linear",
          "width": 1.3
         },
         "mode": "lines",
         "name": "031",
         "text": "",
         "x": [
          181592,
          60150,
          241742
         ],
         "y": [
          242794,
          54000,
          296794
         ],
         "type": "scatter"
        },
        {
         "line": {
          "color": "rgba(50, 171, 96, 0.7948717948717947)",
          "dash": "solid",
          "shape": "linear",
          "width": 1.3
         },
         "mode": "lines",
         "name": "032",
         "text": "",
         "x": [
          181592,
          60150,
          241742
         ],
         "y": [
          20622,
          6058,
          26680
         ],
         "type": "scatter"
        },
        {
         "line": {
          "color": "rgba(128, 0, 128, 0.7948717948717947)",
          "dash": "solid",
          "shape": "linear",
          "width": 1.3
         },
         "mode": "lines",
         "name": "033",
         "text": "",
         "x": [
          181592,
          60150,
          241742
         ],
         "y": [
          95612,
          73886,
          169498
         ],
         "type": "scatter"
        },
        {
         "line": {
          "color": "rgba(219, 64, 82, 0.7948717948717947)",
          "dash": "solid",
          "shape": "linear",
          "width": 1.3
         },
         "mode": "lines",
         "name": "034",
         "text": "",
         "x": [
          181592,
          60150,
          241742
         ],
         "y": [
          17800,
          22778,
          40578
         ],
         "type": "scatter"
        },
        {
         "line": {
          "color": "rgba(0, 128, 128, 0.7948717948717947)",
          "dash": "solid",
          "shape": "linear",
          "width": 1.3
         },
         "mode": "lines",
         "name": "035",
         "text": "",
         "x": [
          181592,
          60150,
          241742
         ],
         "y": [
          255726,
          204300,
          460026
         ],
         "type": "scatter"
        },
        {
         "line": {
          "color": "rgba(255, 255, 51, 0.7948717948717947)",
          "dash": "solid",
          "shape": "linear",
          "width": 1.3
         },
         "mode": "lines",
         "name": "036",
         "text": "",
         "x": [
          181592,
          60150,
          241742
         ],
         "y": [
          150698,
          133622,
          284320
         ],
         "type": "scatter"
        },
        {
         "line": {
          "color": "rgba(255, 255, 51, 0.7264957264957264)",
          "dash": "solid",
          "shape": "linear",
          "width": 1.3
         },
         "mode": "lines",
         "name": "037",
         "text": "",
         "x": [
          181592,
          60150,
          241742
         ],
         "y": [
          121072,
          95442,
          216514
         ],
         "type": "scatter"
        },
        {
         "line": {
          "color": "rgba(128, 128, 0, 0.7264957264957264)",
          "dash": "solid",
          "shape": "linear",
          "width": 1.3
         },
         "mode": "lines",
         "name": "038",
         "text": "",
         "x": [
          181592,
          60150,
          241742
         ],
         "y": [
          194,
          162,
          356
         ],
         "type": "scatter"
        },
        {
         "line": {
          "color": "rgba(251, 128, 114, 0.7264957264957264)",
          "dash": "solid",
          "shape": "linear",
          "width": 1.3
         },
         "mode": "lines",
         "name": "039",
         "text": "",
         "x": [
          181592,
          60150,
          241742
         ],
         "y": [
          12208,
          15578,
          27786
         ],
         "type": "scatter"
        },
        {
         "line": {
          "color": "rgba(128, 177, 211, 0.7264957264957264)",
          "dash": "solid",
          "shape": "linear",
          "width": 1.3
         },
         "mode": "lines",
         "name": "040",
         "text": "",
         "x": [
          181592,
          60150,
          241742
         ],
         "y": [
          24326,
          18126,
          42452
         ],
         "type": "scatter"
        },
        {
         "line": {
          "color": "rgba(255, 153, 51, 0.7264957264957264)",
          "dash": "solid",
          "shape": "linear",
          "width": 1.3
         },
         "mode": "lines",
         "name": "041",
         "text": "",
         "x": [
          181592,
          60150,
          241742
         ],
         "y": [
          87482,
          73024,
          160506
         ],
         "type": "scatter"
        },
        {
         "line": {
          "color": "rgba(55, 128, 191, 0.7264957264957264)",
          "dash": "solid",
          "shape": "linear",
          "width": 1.3
         },
         "mode": "lines",
         "name": "042",
         "text": "",
         "x": [
          181592,
          60150,
          241742
         ],
         "y": [
          39838,
          51750,
          91588
         ],
         "type": "scatter"
        },
        {
         "line": {
          "color": "rgba(50, 171, 96, 0.7264957264957264)",
          "dash": "solid",
          "shape": "linear",
          "width": 1.3
         },
         "mode": "lines",
         "name": "042-043",
         "text": "",
         "x": [
          181592,
          60150,
          241742
         ],
         "y": [
          43712,
          54856,
          98568
         ],
         "type": "scatter"
        },
        {
         "line": {
          "color": "rgba(128, 0, 128, 0.7264957264957264)",
          "dash": "solid",
          "shape": "linear",
          "width": 1.3
         },
         "mode": "lines",
         "name": "043",
         "text": "",
         "x": [
          181592,
          60150,
          241742
         ],
         "y": [
          3874,
          3106,
          6980
         ],
         "type": "scatter"
        },
        {
         "line": {
          "color": "rgba(219, 64, 82, 0.7264957264957264)",
          "dash": "solid",
          "shape": "linear",
          "width": 1.3
         },
         "mode": "lines",
         "name": "044",
         "text": "",
         "x": [
          181592,
          60150,
          241742
         ],
         "y": [
          276522,
          442908,
          719430
         ],
         "type": "scatter"
        },
        {
         "line": {
          "color": "rgba(0, 128, 128, 0.7264957264957264)",
          "dash": "solid",
          "shape": "linear",
          "width": 1.3
         },
         "mode": "lines",
         "name": "044-045",
         "text": "",
         "x": [
          181592,
          60150,
          241742
         ],
         "y": [
          334554,
          532526,
          867080
         ],
         "type": "scatter"
        },
        {
         "line": {
          "color": "rgba(0, 128, 128, 0.658119658119658)",
          "dash": "solid",
          "shape": "linear",
          "width": 1.3
         },
         "mode": "lines",
         "name": "045",
         "text": "",
         "x": [
          181592,
          60150,
          241742
         ],
         "y": [
          58032,
          89618,
          147650
         ],
         "type": "scatter"
        },
        {
         "line": {
          "color": "rgba(255, 255, 51, 0.658119658119658)",
          "dash": "solid",
          "shape": "linear",
          "width": 1.3
         },
         "mode": "lines",
         "name": "046",
         "text": "",
         "x": [
          181592,
          60150,
          241742
         ],
         "y": [
          246894,
          509748,
          756642
         ],
         "type": "scatter"
        },
        {
         "line": {
          "color": "rgba(128, 128, 0, 0.658119658119658)",
          "dash": "solid",
          "shape": "linear",
          "width": 1.3
         },
         "mode": "lines",
         "name": "046-049",
         "text": "",
         "x": [
          181592,
          60150,
          241742
         ],
         "y": [
          281190,
          524546,
          805736
         ],
         "type": "scatter"
        },
        {
         "line": {
          "color": "rgba(251, 128, 114, 0.658119658119658)",
          "dash": "solid",
          "shape": "linear",
          "width": 1.3
         },
         "mode": "lines",
         "name": "047",
         "text": "",
         "x": [
          181592,
          60150,
          241742
         ],
         "y": [
          20198,
          2634,
          22832
         ],
         "type": "scatter"
        },
        {
         "line": {
          "color": "rgba(128, 177, 211, 0.658119658119658)",
          "dash": "solid",
          "shape": "linear",
          "width": 1.3
         },
         "mode": "lines",
         "name": "048",
         "text": "",
         "x": [
          181592,
          60150,
          241742
         ],
         "y": [
          3970,
          694,
          4664
         ],
         "type": "scatter"
        },
        {
         "line": {
          "color": "rgba(255, 153, 51, 0.658119658119658)",
          "dash": "solid",
          "shape": "linear",
          "width": 1.3
         },
         "mode": "lines",
         "name": "049",
         "text": "",
         "x": [
          181592,
          60150,
          241742
         ],
         "y": [
          10128,
          11470,
          21598
         ],
         "type": "scatter"
        },
        {
         "line": {
          "color": "rgba(55, 128, 191, 0.658119658119658)",
          "dash": "solid",
          "shape": "linear",
          "width": 1.3
         },
         "mode": "lines",
         "name": "050",
         "text": "",
         "x": [
          181592,
          60150,
          241742
         ],
         "y": [
          6750,
          5876,
          12626
         ],
         "type": "scatter"
        },
        {
         "line": {
          "color": "rgba(50, 171, 96, 0.658119658119658)",
          "dash": "solid",
          "shape": "linear",
          "width": 1.3
         },
         "mode": "lines",
         "name": "050-052",
         "text": "",
         "x": [
          181592,
          60150,
          241742
         ],
         "y": [
          378152,
          537968,
          916120
         ],
         "type": "scatter"
        },
        {
         "line": {
          "color": "rgba(128, 0, 128, 0.658119658119658)",
          "dash": "solid",
          "shape": "linear",
          "width": 1.3
         },
         "mode": "lines",
         "name": "051",
         "text": "",
         "x": [
          181592,
          60150,
          241742
         ],
         "y": [
          142602,
          321406,
          464008
         ],
         "type": "scatter"
        },
        {
         "line": {
          "color": "rgba(219, 64, 82, 0.658119658119658)",
          "dash": "solid",
          "shape": "linear",
          "width": 1.3
         },
         "mode": "lines",
         "name": "052",
         "text": "",
         "x": [
          181592,
          60150,
          241742
         ],
         "y": [
          228800,
          210686,
          439486
         ],
         "type": "scatter"
        },
        {
         "line": {
          "color": "rgba(219, 64, 82, 0.5897435897435894)",
          "dash": "solid",
          "shape": "linear",
          "width": 1.3
         },
         "mode": "lines",
         "name": "053",
         "text": "",
         "x": [
          181592,
          60150,
          241742
         ],
         "y": [
          38334,
          93012,
          131346
         ],
         "type": "scatter"
        },
        {
         "line": {
          "color": "rgba(0, 128, 128, 0.5897435897435894)",
          "dash": "solid",
          "shape": "linear",
          "width": 1.3
         },
         "mode": "lines",
         "name": "053-061",
         "text": "",
         "x": [
          181592,
          60150,
          241742
         ],
         "y": [
          4473698,
          5329276,
          9802974
         ],
         "type": "scatter"
        },
        {
         "line": {
          "color": "rgba(255, 255, 51, 0.5897435897435894)",
          "dash": "solid",
          "shape": "linear",
          "width": 1.3
         },
         "mode": "lines",
         "name": "054",
         "text": "",
         "x": [
          181592,
          60150,
          241742
         ],
         "y": [
          151162,
          306694,
          457856
         ],
         "type": "scatter"
        },
        {
         "line": {
          "color": "rgba(128, 128, 0, 0.5897435897435894)",
          "dash": "solid",
          "shape": "linear",
          "width": 1.3
         },
         "mode": "lines",
         "name": "055",
         "text": "",
         "x": [
          181592,
          60150,
          241742
         ],
         "y": [
          1046398,
          663926,
          1710324
         ],
         "type": "scatter"
        },
        {
         "line": {
          "color": "rgba(251, 128, 114, 0.5897435897435894)",
          "dash": "solid",
          "shape": "linear",
          "width": 1.3
         },
         "mode": "lines",
         "name": "056",
         "text": "",
         "x": [
          181592,
          60150,
          241742
         ],
         "y": [
          537074,
          482318,
          1019392
         ],
         "type": "scatter"
        },
        {
         "line": {
          "color": "rgba(128, 177, 211, 0.5897435897435894)",
          "dash": "solid",
          "shape": "linear",
          "width": 1.3
         },
         "mode": "lines",
         "name": "057",
         "text": "",
         "x": [
          181592,
          60150,
          241742
         ],
         "y": [
          547632,
          969054,
          1516686
         ],
         "type": "scatter"
        },
        {
         "line": {
          "color": "rgba(255, 153, 51, 0.5897435897435894)",
          "dash": "solid",
          "shape": "linear",
          "width": 1.3
         },
         "mode": "lines",
         "name": "058",
         "text": "",
         "x": [
          181592,
          60150,
          241742
         ],
         "y": [
          580068,
          709766,
          1289834
         ],
         "type": "scatter"
        },
        {
         "line": {
          "color": "rgba(55, 128, 191, 0.5897435897435894)",
          "dash": "solid",
          "shape": "linear",
          "width": 1.3
         },
         "mode": "lines",
         "name": "059",
         "text": "",
         "x": [
          181592,
          60150,
          241742
         ],
         "y": [
          1225298,
          1710384,
          2935682
         ],
         "type": "scatter"
        },
        {
         "line": {
          "color": "rgba(50, 171, 96, 0.5897435897435894)",
          "dash": "solid",
          "shape": "linear",
          "width": 1.3
         },
         "mode": "lines",
         "name": "060",
         "text": "",
         "x": [
          181592,
          60150,
          241742
         ],
         "y": [
          167330,
          287852,
          455182
         ],
         "type": "scatter"
        },
        {
         "line": {
          "color": "rgba(128, 0, 128, 0.5897435897435894)",
          "dash": "solid",
          "shape": "linear",
          "width": 1.3
         },
         "mode": "lines",
         "name": "061",
         "text": "",
         "x": [
          181592,
          60150,
          241742
         ],
         "y": [
          180402,
          106270,
          286672
         ],
         "type": "scatter"
        },
        {
         "line": {
          "color": "rgba(128, 0, 128, 0.5213675213675211)",
          "dash": "solid",
          "shape": "linear",
          "width": 1.3
         },
         "mode": "lines",
         "name": "062",
         "text": "",
         "x": [
          181592,
          60150,
          241742
         ],
         "y": [
          17236,
          27092,
          44328
         ],
         "type": "scatter"
        },
        {
         "line": {
          "color": "rgba(219, 64, 82, 0.5213675213675211)",
          "dash": "solid",
          "shape": "linear",
          "width": 1.3
         },
         "mode": "lines",
         "name": "062-067",
         "text": "",
         "x": [
          181592,
          60150,
          241742
         ],
         "y": [
          1740144,
          1231470,
          2971614
         ],
         "type": "scatter"
        },
        {
         "line": {
          "color": "rgba(0, 128, 128, 0.5213675213675211)",
          "dash": "solid",
          "shape": "linear",
          "width": 1.3
         },
         "mode": "lines",
         "name": "063",
         "text": "",
         "x": [
          181592,
          60150,
          241742
         ],
         "y": [
          324266,
          302242,
          626508
         ],
         "type": "scatter"
        },
        {
         "line": {
          "color": "rgba(255, 255, 51, 0.5213675213675211)",
          "dash": "solid",
          "shape": "linear",
          "width": 1.3
         },
         "mode": "lines",
         "name": "064",
         "text": "",
         "x": [
          181592,
          60150,
          241742
         ],
         "y": [
          794698,
          260448,
          1055146
         ],
         "type": "scatter"
        },
        {
         "line": {
          "color": "rgba(128, 128, 0, 0.5213675213675211)",
          "dash": "solid",
          "shape": "linear",
          "width": 1.3
         },
         "mode": "lines",
         "name": "065",
         "text": "",
         "x": [
          181592,
          60150,
          241742
         ],
         "y": [
          28864,
          53332,
          82196
         ],
         "type": "scatter"
        },
        {
         "line": {
          "color": "rgba(251, 128, 114, 0.5213675213675211)",
          "dash": "solid",
          "shape": "linear",
          "width": 1.3
         },
         "mode": "lines",
         "name": "066",
         "text": "",
         "x": [
          181592,
          60150,
          241742
         ],
         "y": [
          83006,
          82808,
          165814
         ],
         "type": "scatter"
        },
        {
         "line": {
          "color": "rgba(128, 177, 211, 0.5213675213675211)",
          "dash": "solid",
          "shape": "linear",
          "width": 1.3
         },
         "mode": "lines",
         "name": "067",
         "text": "",
         "x": [
          181592,
          60150,
          241742
         ],
         "y": [
          492074,
          505548,
          997622
         ],
         "type": "scatter"
        },
        {
         "line": {
          "color": "rgba(255, 153, 51, 0.5213675213675211)",
          "dash": "solid",
          "shape": "linear",
          "width": 1.3
         },
         "mode": "lines",
         "name": "068",
         "text": "",
         "x": [
          181592,
          60150,
          241742
         ],
         "y": [
          40854,
          27148,
          68002
         ],
         "type": "scatter"
        },
        {
         "line": {
          "color": "rgba(55, 128, 191, 0.5213675213675211)",
          "dash": "solid",
          "shape": "linear",
          "width": 1.3
         },
         "mode": "lines",
         "name": "068-072",
         "text": "",
         "x": [
          181592,
          60150,
          241742
         ],
         "y": [
          824918,
          648194,
          1473112
         ],
         "type": "scatter"
        },
        {
         "line": {
          "color": "rgba(50, 171, 96, 0.5213675213675211)",
          "dash": "solid",
          "shape": "linear",
          "width": 1.3
         },
         "mode": "lines",
         "name": "069",
         "text": "",
         "x": [
          181592,
          60150,
          241742
         ],
         "y": [
          7326,
          8844,
          16170
         ],
         "type": "scatter"
        },
        {
         "line": {
          "color": "rgba(50, 171, 96, 0.45299145299145277)",
          "dash": "solid",
          "shape": "linear",
          "width": 1.3
         },
         "mode": "lines",
         "name": "070",
         "text": "",
         "x": [
          181592,
          60150,
          241742
         ],
         "y": [
          75134,
          92902,
          168036
         ],
         "type": "scatter"
        },
        {
         "line": {
          "color": "rgba(128, 0, 128, 0.45299145299145277)",
          "dash": "solid",
          "shape": "linear",
          "width": 1.3
         },
         "mode": "lines",
         "name": "071",
         "text": "",
         "x": [
          181592,
          60150,
          241742
         ],
         "y": [
          358026,
          149474,
          507500
         ],
         "type": "scatter"
        },
        {
         "line": {
          "color": "rgba(219, 64, 82, 0.45299145299145277)",
          "dash": "solid",
          "shape": "linear",
          "width": 1.3
         },
         "mode": "lines",
         "name": "072",
         "text": "",
         "x": [
          181592,
          60150,
          241742
         ],
         "y": [
          343578,
          369826,
          713404
         ],
         "type": "scatter"
        },
        {
         "line": {
          "color": "rgba(0, 128, 128, 0.45299145299145277)",
          "dash": "solid",
          "shape": "linear",
          "width": 1.3
         },
         "mode": "lines",
         "name": "073",
         "text": "",
         "x": [
          181592,
          60150,
          241742
         ],
         "y": [
          21038,
          44790,
          65828
         ],
         "type": "scatter"
        },
        {
         "line": {
          "color": "rgba(255, 255, 51, 0.45299145299145277)",
          "dash": "solid",
          "shape": "linear",
          "width": 1.3
         },
         "mode": "lines",
         "name": "074",
         "text": "",
         "x": [
          181592,
          60150,
          241742
         ],
         "y": [
          6100,
          18452,
          24552
         ],
         "type": "scatter"
        },
        {
         "line": {
          "color": "rgba(128, 128, 0, 0.45299145299145277)",
          "dash": "solid",
          "shape": "linear",
          "width": 1.3
         },
         "mode": "lines",
         "name": "074-076",
         "text": "",
         "x": [
          181592,
          60150,
          241742
         ],
         "y": [
          71628,
          160496,
          232124
         ],
         "type": "scatter"
        },
        {
         "line": {
          "color": "rgba(251, 128, 114, 0.45299145299145277)",
          "dash": "solid",
          "shape": "linear",
          "width": 1.3
         },
         "mode": "lines",
         "name": "075",
         "text": "",
         "x": [
          181592,
          60150,
          241742
         ],
         "y": [
          41874,
          105292,
          147166
         ],
         "type": "scatter"
        },
        {
         "line": {
          "color": "rgba(128, 177, 211, 0.45299145299145277)",
          "dash": "solid",
          "shape": "linear",
          "width": 1.3
         },
         "mode": "lines",
         "name": "076",
         "text": "",
         "x": [
          181592,
          60150,
          241742
         ],
         "y": [
          23654,
          36752,
          60406
         ],
         "type": "scatter"
        },
        {
         "line": {
          "color": "rgba(255, 153, 51, 0.45299145299145277)",
          "dash": "solid",
          "shape": "linear",
          "width": 1.3
         },
         "mode": "lines",
         "name": "077",
         "text": "",
         "x": [
          181592,
          60150,
          241742
         ],
         "y": [
          235266,
          248110,
          483376
         ],
         "type": "scatter"
        },
        {
         "line": {
          "color": "rgba(55, 128, 191, 0.45299145299145277)",
          "dash": "solid",
          "shape": "linear",
          "width": 1.3
         },
         "mode": "lines",
         "name": "077-080",
         "text": "",
         "x": [
          181592,
          60150,
          241742
         ],
         "y": [
          321852,
          347720,
          669572
         ],
         "type": "scatter"
        },
        {
         "line": {
          "color": "rgba(55, 128, 191, 0.3846153846153844)",
          "dash": "solid",
          "shape": "linear",
          "width": 1.3
         },
         "mode": "lines",
         "name": "078",
         "text": "",
         "x": [
          181592,
          60150,
          241742
         ],
         "y": [
          23126,
          0,
          23126
         ],
         "type": "scatter"
        },
        {
         "line": {
          "color": "rgba(50, 171, 96, 0.3846153846153844)",
          "dash": "solid",
          "shape": "linear",
          "width": 1.3
         },
         "mode": "lines",
         "name": "079",
         "text": "",
         "x": [
          181592,
          60150,
          241742
         ],
         "y": [
          2,
          3668,
          3670
         ],
         "type": "scatter"
        },
        {
         "line": {
          "color": "rgba(128, 0, 128, 0.3846153846153844)",
          "dash": "solid",
          "shape": "linear",
          "width": 1.3
         },
         "mode": "lines",
         "name": "080",
         "text": "",
         "x": [
          181592,
          60150,
          241742
         ],
         "y": [
          63458,
          95942,
          159400
         ],
         "type": "scatter"
        },
        {
         "line": {
          "color": "rgba(219, 64, 82, 0.3846153846153844)",
          "dash": "solid",
          "shape": "linear",
          "width": 1.3
         },
         "mode": "lines",
         "name": "081",
         "text": "",
         "x": [
          181592,
          60150,
          241742
         ],
         "y": [
          0,
          1508,
          1508
         ],
         "type": "scatter"
        },
        {
         "line": {
          "color": "rgba(0, 128, 128, 0.3846153846153844)",
          "dash": "solid",
          "shape": "linear",
          "width": 1.3
         },
         "mode": "lines",
         "name": "082",
         "text": "",
         "x": [
          181592,
          60150,
          241742
         ],
         "y": [
          53902,
          39638,
          93540
         ],
         "type": "scatter"
        },
        {
         "line": {
          "color": "rgba(255, 255, 51, 0.3846153846153844)",
          "dash": "solid",
          "shape": "linear",
          "width": 1.3
         },
         "mode": "lines",
         "name": "083",
         "text": "",
         "x": [
          181592,
          60150,
          241742
         ],
         "y": [
          6240,
          5920,
          12160
         ],
         "type": "scatter"
        },
        {
         "line": {
          "color": "rgba(128, 128, 0, 0.3846153846153844)",
          "dash": "solid",
          "shape": "linear",
          "width": 1.3
         },
         "mode": "lines",
         "name": "083-085",
         "text": "",
         "x": [
          181592,
          60150,
          241742
         ],
         "y": [
          51426,
          44694,
          96120
         ],
         "type": "scatter"
        },
        {
         "line": {
          "color": "rgba(251, 128, 114, 0.3846153846153844)",
          "dash": "solid",
          "shape": "linear",
          "width": 1.3
         },
         "mode": "lines",
         "name": "084",
         "text": "",
         "x": [
          181592,
          60150,
          241742
         ],
         "y": [
          22610,
          18376,
          40986
         ],
         "type": "scatter"
        },
        {
         "line": {
          "color": "rgba(128, 177, 211, 0.3846153846153844)",
          "dash": "solid",
          "shape": "linear",
          "width": 1.3
         },
         "mode": "lines",
         "name": "085",
         "text": "",
         "x": [
          181592,
          60150,
          241742
         ],
         "y": [
          22576,
          20398,
          42974
         ],
         "type": "scatter"
        },
        {
         "line": {
          "color": "rgba(255, 153, 51, 0.3846153846153844)",
          "dash": "solid",
          "shape": "linear",
          "width": 1.3
         },
         "mode": "lines",
         "name": "086",
         "text": "",
         "x": [
          181592,
          60150,
          241742
         ],
         "y": [
          217372,
          203782,
          421154
         ],
         "type": "scatter"
        },
        {
         "line": {
          "color": "rgba(255, 153, 51, 0.31623931623931584)",
          "dash": "solid",
          "shape": "linear",
          "width": 1.3
         },
         "mode": "lines",
         "name": "086-089",
         "text": "",
         "x": [
          181592,
          60150,
          241742
         ],
         "y": [
          390752,
          472906,
          863658
         ],
         "type": "scatter"
        },
        {
         "line": {
          "color": "rgba(55, 128, 191, 0.31623931623931584)",
          "dash": "solid",
          "shape": "linear",
          "width": 1.3
         },
         "mode": "lines",
         "name": "087",
         "text": "",
         "x": [
          181592,
          60150,
          241742
         ],
         "y": [
          71296,
          174092,
          245388
         ],
         "type": "scatter"
        },
        {
         "line": {
          "color": "rgba(50, 171, 96, 0.31623931623931584)",
          "dash": "solid",
          "shape": "linear",
          "width": 1.3
         },
         "mode": "lines",
         "name": "088",
         "text": "",
         "x": [
          181592,
          60150,
          241742
         ],
         "y": [
          3992,
          2450,
          6442
         ],
         "type": "scatter"
        },
        {
         "line": {
          "color": "rgba(128, 0, 128, 0.31623931623931584)",
          "dash": "solid",
          "shape": "linear",
          "width": 1.3
         },
         "mode": "lines",
         "name": "089",
         "text": "",
         "x": [
          181592,
          60150,
          241742
         ],
         "y": [
          98092,
          92582,
          190674
         ],
         "type": "scatter"
        },
        {
         "line": {
          "color": "rgba(219, 64, 82, 0.31623931623931584)",
          "dash": "solid",
          "shape": "linear",
          "width": 1.3
         },
         "mode": "lines",
         "name": "090",
         "text": "",
         "x": [
          181592,
          60150,
          241742
         ],
         "y": [
          288040,
          88988,
          377028
         ],
         "type": "scatter"
        },
        {
         "line": {
          "color": "rgba(0, 128, 128, 0.31623931623931584)",
          "dash": "solid",
          "shape": "linear",
          "width": 1.3
         },
         "mode": "lines",
         "name": "090-102",
         "text": "",
         "x": [
          181592,
          60150,
          241742
         ],
         "y": [
          882468,
          375844,
          1258312
         ],
         "type": "scatter"
        },
        {
         "line": {
          "color": "rgba(255, 255, 51, 0.31623931623931584)",
          "dash": "solid",
          "shape": "linear",
          "width": 1.3
         },
         "mode": "lines",
         "name": "091",
         "text": "",
         "x": [
          181592,
          60150,
          241742
         ],
         "y": [
          19322,
          4182,
          23504
         ],
         "type": "scatter"
        },
        {
         "line": {
          "color": "rgba(128, 128, 0, 0.31623931623931584)",
          "dash": "solid",
          "shape": "linear",
          "width": 1.3
         },
         "mode": "lines",
         "name": "092",
         "text": "",
         "x": [
          181592,
          60150,
          241742
         ],
         "y": [
          66664,
          53078,
          119742
         ],
         "type": "scatter"
        },
        {
         "line": {
          "color": "rgba(251, 128, 114, 0.31623931623931584)",
          "dash": "solid",
          "shape": "linear",
          "width": 1.3
         },
         "mode": "lines",
         "name": "093",
         "text": "",
         "x": [
          181592,
          60150,
          241742
         ],
         "y": [
          83108,
          51050,
          134158
         ],
         "type": "scatter"
        },
        {
         "line": {
          "color": "rgba(128, 177, 211, 0.31623931623931584)",
          "dash": "solid",
          "shape": "linear",
          "width": 1.3
         },
         "mode": "lines",
         "name": "094",
         "text": "",
         "x": [
          181592,
          60150,
          241742
         ],
         "y": [
          10350,
          6978,
          17328
         ],
         "type": "scatter"
        },
        {
         "line": {
          "color": "rgba(128, 177, 211, 0.24786324786324748)",
          "dash": "solid",
          "shape": "linear",
          "width": 1.3
         },
         "mode": "lines",
         "name": "095",
         "text": "",
         "x": [
          181592,
          60150,
          241742
         ],
         "y": [
          33694,
          8680,
          42374
         ],
         "type": "scatter"
        },
        {
         "line": {
          "color": "rgba(255, 153, 51, 0.24786324786324748)",
          "dash": "solid",
          "shape": "linear",
          "width": 1.3
         },
         "mode": "lines",
         "name": "096",
         "text": "",
         "x": [
          181592,
          60150,
          241742
         ],
         "y": [
          10804,
          5370,
          16174
         ],
         "type": "scatter"
        },
        {
         "line": {
          "color": "rgba(55, 128, 191, 0.24786324786324748)",
          "dash": "solid",
          "shape": "linear",
          "width": 1.3
         },
         "mode": "lines",
         "name": "097",
         "text": "",
         "x": [
          181592,
          60150,
          241742
         ],
         "y": [
          143376,
          70878,
          214254
         ],
         "type": "scatter"
        },
        {
         "line": {
          "color": "rgba(50, 171, 96, 0.24786324786324748)",
          "dash": "solid",
          "shape": "linear",
          "width": 1.3
         },
         "mode": "lines",
         "name": "099",
         "text": "",
         "x": [
          181592,
          60150,
          241742
         ],
         "y": [
          20420,
          8040,
          28460
         ],
         "type": "scatter"
        },
        {
         "line": {
          "color": "rgba(128, 0, 128, 0.24786324786324748)",
          "dash": "solid",
          "shape": "linear",
          "width": 1.3
         },
         "mode": "lines",
         "name": "100",
         "text": "",
         "x": [
          181592,
          60150,
          241742
         ],
         "y": [
          8170,
          3420,
          11590
         ],
         "type": "scatter"
        },
        {
         "line": {
          "color": "rgba(219, 64, 82, 0.24786324786324748)",
          "dash": "solid",
          "shape": "linear",
          "width": 1.3
         },
         "mode": "lines",
         "name": "101",
         "text": "",
         "x": [
          181592,
          60150,
          241742
         ],
         "y": [
          14920,
          14192,
          29112
         ],
         "type": "scatter"
        },
        {
         "line": {
          "color": "rgba(0, 128, 128, 0.24786324786324748)",
          "dash": "solid",
          "shape": "linear",
          "width": 1.3
         },
         "mode": "lines",
         "name": "102",
         "text": "",
         "x": [
          181592,
          60150,
          241742
         ],
         "y": [
          2008,
          838,
          2846
         ],
         "type": "scatter"
        }
       ],
       "layout": {
        "legend": {
         "bgcolor": "#F5F6F9",
         "font": {
          "color": "#4D5663"
         }
        },
        "paper_bgcolor": "#F5F6F9",
        "plot_bgcolor": "#F5F6F9",
        "template": {
         "data": {
          "barpolar": [
           {
            "marker": {
             "line": {
              "color": "#E5ECF6",
              "width": 0.5
             },
             "pattern": {
              "fillmode": "overlay",
              "size": 10,
              "solidity": 0.2
             }
            },
            "type": "barpolar"
           }
          ],
          "bar": [
           {
            "error_x": {
             "color": "#2a3f5f"
            },
            "error_y": {
             "color": "#2a3f5f"
            },
            "marker": {
             "line": {
              "color": "#E5ECF6",
              "width": 0.5
             },
             "pattern": {
              "fillmode": "overlay",
              "size": 10,
              "solidity": 0.2
             }
            },
            "type": "bar"
           }
          ],
          "carpet": [
           {
            "aaxis": {
             "endlinecolor": "#2a3f5f",
             "gridcolor": "white",
             "linecolor": "white",
             "minorgridcolor": "white",
             "startlinecolor": "#2a3f5f"
            },
            "baxis": {
             "endlinecolor": "#2a3f5f",
             "gridcolor": "white",
             "linecolor": "white",
             "minorgridcolor": "white",
             "startlinecolor": "#2a3f5f"
            },
            "type": "carpet"
           }
          ],
          "choropleth": [
           {
            "colorbar": {
             "outlinewidth": 0,
             "ticks": ""
            },
            "type": "choropleth"
           }
          ],
          "contourcarpet": [
           {
            "colorbar": {
             "outlinewidth": 0,
             "ticks": ""
            },
            "type": "contourcarpet"
           }
          ],
          "contour": [
           {
            "colorbar": {
             "outlinewidth": 0,
             "ticks": ""
            },
            "colorscale": [
             [
              0,
              "#0d0887"
             ],
             [
              0.1111111111111111,
              "#46039f"
             ],
             [
              0.2222222222222222,
              "#7201a8"
             ],
             [
              0.3333333333333333,
              "#9c179e"
             ],
             [
              0.4444444444444444,
              "#bd3786"
             ],
             [
              0.5555555555555556,
              "#d8576b"
             ],
             [
              0.6666666666666666,
              "#ed7953"
             ],
             [
              0.7777777777777778,
              "#fb9f3a"
             ],
             [
              0.8888888888888888,
              "#fdca26"
             ],
             [
              1,
              "#f0f921"
             ]
            ],
            "type": "contour"
           }
          ],
          "heatmapgl": [
           {
            "colorbar": {
             "outlinewidth": 0,
             "ticks": ""
            },
            "colorscale": [
             [
              0,
              "#0d0887"
             ],
             [
              0.1111111111111111,
              "#46039f"
             ],
             [
              0.2222222222222222,
              "#7201a8"
             ],
             [
              0.3333333333333333,
              "#9c179e"
             ],
             [
              0.4444444444444444,
              "#bd3786"
             ],
             [
              0.5555555555555556,
              "#d8576b"
             ],
             [
              0.6666666666666666,
              "#ed7953"
             ],
             [
              0.7777777777777778,
              "#fb9f3a"
             ],
             [
              0.8888888888888888,
              "#fdca26"
             ],
             [
              1,
              "#f0f921"
             ]
            ],
            "type": "heatmapgl"
           }
          ],
          "heatmap": [
           {
            "colorbar": {
             "outlinewidth": 0,
             "ticks": ""
            },
            "colorscale": [
             [
              0,
              "#0d0887"
             ],
             [
              0.1111111111111111,
              "#46039f"
             ],
             [
              0.2222222222222222,
              "#7201a8"
             ],
             [
              0.3333333333333333,
              "#9c179e"
             ],
             [
              0.4444444444444444,
              "#bd3786"
             ],
             [
              0.5555555555555556,
              "#d8576b"
             ],
             [
              0.6666666666666666,
              "#ed7953"
             ],
             [
              0.7777777777777778,
              "#fb9f3a"
             ],
             [
              0.8888888888888888,
              "#fdca26"
             ],
             [
              1,
              "#f0f921"
             ]
            ],
            "type": "heatmap"
           }
          ],
          "histogram2dcontour": [
           {
            "colorbar": {
             "outlinewidth": 0,
             "ticks": ""
            },
            "colorscale": [
             [
              0,
              "#0d0887"
             ],
             [
              0.1111111111111111,
              "#46039f"
             ],
             [
              0.2222222222222222,
              "#7201a8"
             ],
             [
              0.3333333333333333,
              "#9c179e"
             ],
             [
              0.4444444444444444,
              "#bd3786"
             ],
             [
              0.5555555555555556,
              "#d8576b"
             ],
             [
              0.6666666666666666,
              "#ed7953"
             ],
             [
              0.7777777777777778,
              "#fb9f3a"
             ],
             [
              0.8888888888888888,
              "#fdca26"
             ],
             [
              1,
              "#f0f921"
             ]
            ],
            "type": "histogram2dcontour"
           }
          ],
          "histogram2d": [
           {
            "colorbar": {
             "outlinewidth": 0,
             "ticks": ""
            },
            "colorscale": [
             [
              0,
              "#0d0887"
             ],
             [
              0.1111111111111111,
              "#46039f"
             ],
             [
              0.2222222222222222,
              "#7201a8"
             ],
             [
              0.3333333333333333,
              "#9c179e"
             ],
             [
              0.4444444444444444,
              "#bd3786"
             ],
             [
              0.5555555555555556,
              "#d8576b"
             ],
             [
              0.6666666666666666,
              "#ed7953"
             ],
             [
              0.7777777777777778,
              "#fb9f3a"
             ],
             [
              0.8888888888888888,
              "#fdca26"
             ],
             [
              1,
              "#f0f921"
             ]
            ],
            "type": "histogram2d"
           }
          ],
          "histogram": [
           {
            "marker": {
             "pattern": {
              "fillmode": "overlay",
              "size": 10,
              "solidity": 0.2
             }
            },
            "type": "histogram"
           }
          ],
          "mesh3d": [
           {
            "colorbar": {
             "outlinewidth": 0,
             "ticks": ""
            },
            "type": "mesh3d"
           }
          ],
          "parcoords": [
           {
            "line": {
             "colorbar": {
              "outlinewidth": 0,
              "ticks": ""
             }
            },
            "type": "parcoords"
           }
          ],
          "pie": [
           {
            "automargin": true,
            "type": "pie"
           }
          ],
          "scatter3d": [
           {
            "line": {
             "colorbar": {
              "outlinewidth": 0,
              "ticks": ""
             }
            },
            "marker": {
             "colorbar": {
              "outlinewidth": 0,
              "ticks": ""
             }
            },
            "type": "scatter3d"
           }
          ],
          "scattercarpet": [
           {
            "marker": {
             "colorbar": {
              "outlinewidth": 0,
              "ticks": ""
             }
            },
            "type": "scattercarpet"
           }
          ],
          "scattergeo": [
           {
            "marker": {
             "colorbar": {
              "outlinewidth": 0,
              "ticks": ""
             }
            },
            "type": "scattergeo"
           }
          ],
          "scattergl": [
           {
            "marker": {
             "colorbar": {
              "outlinewidth": 0,
              "ticks": ""
             }
            },
            "type": "scattergl"
           }
          ],
          "scattermapbox": [
           {
            "marker": {
             "colorbar": {
              "outlinewidth": 0,
              "ticks": ""
             }
            },
            "type": "scattermapbox"
           }
          ],
          "scatterpolargl": [
           {
            "marker": {
             "colorbar": {
              "outlinewidth": 0,
              "ticks": ""
             }
            },
            "type": "scatterpolargl"
           }
          ],
          "scatterpolar": [
           {
            "marker": {
             "colorbar": {
              "outlinewidth": 0,
              "ticks": ""
             }
            },
            "type": "scatterpolar"
           }
          ],
          "scatter": [
           {
            "marker": {
             "colorbar": {
              "outlinewidth": 0,
              "ticks": ""
             }
            },
            "type": "scatter"
           }
          ],
          "scatterternary": [
           {
            "marker": {
             "colorbar": {
              "outlinewidth": 0,
              "ticks": ""
             }
            },
            "type": "scatterternary"
           }
          ],
          "surface": [
           {
            "colorbar": {
             "outlinewidth": 0,
             "ticks": ""
            },
            "colorscale": [
             [
              0,
              "#0d0887"
             ],
             [
              0.1111111111111111,
              "#46039f"
             ],
             [
              0.2222222222222222,
              "#7201a8"
             ],
             [
              0.3333333333333333,
              "#9c179e"
             ],
             [
              0.4444444444444444,
              "#bd3786"
             ],
             [
              0.5555555555555556,
              "#d8576b"
             ],
             [
              0.6666666666666666,
              "#ed7953"
             ],
             [
              0.7777777777777778,
              "#fb9f3a"
             ],
             [
              0.8888888888888888,
              "#fdca26"
             ],
             [
              1,
              "#f0f921"
             ]
            ],
            "type": "surface"
           }
          ],
          "table": [
           {
            "cells": {
             "fill": {
              "color": "#EBF0F8"
             },
             "line": {
              "color": "white"
             }
            },
            "header": {
             "fill": {
              "color": "#C8D4E3"
             },
             "line": {
              "color": "white"
             }
            },
            "type": "table"
           }
          ]
         },
         "layout": {
          "annotationdefaults": {
           "arrowcolor": "#2a3f5f",
           "arrowhead": 0,
           "arrowwidth": 1
          },
          "autotypenumbers": "strict",
          "coloraxis": {
           "colorbar": {
            "outlinewidth": 0,
            "ticks": ""
           }
          },
          "colorscale": {
           "diverging": [
            [
             0,
             "#8e0152"
            ],
            [
             0.1,
             "#c51b7d"
            ],
            [
             0.2,
             "#de77ae"
            ],
            [
             0.3,
             "#f1b6da"
            ],
            [
             0.4,
             "#fde0ef"
            ],
            [
             0.5,
             "#f7f7f7"
            ],
            [
             0.6,
             "#e6f5d0"
            ],
            [
             0.7,
             "#b8e186"
            ],
            [
             0.8,
             "#7fbc41"
            ],
            [
             0.9,
             "#4d9221"
            ],
            [
             1,
             "#276419"
            ]
           ],
           "sequential": [
            [
             0,
             "#0d0887"
            ],
            [
             0.1111111111111111,
             "#46039f"
            ],
            [
             0.2222222222222222,
             "#7201a8"
            ],
            [
             0.3333333333333333,
             "#9c179e"
            ],
            [
             0.4444444444444444,
             "#bd3786"
            ],
            [
             0.5555555555555556,
             "#d8576b"
            ],
            [
             0.6666666666666666,
             "#ed7953"
            ],
            [
             0.7777777777777778,
             "#fb9f3a"
            ],
            [
             0.8888888888888888,
             "#fdca26"
            ],
            [
             1,
             "#f0f921"
            ]
           ],
           "sequentialminus": [
            [
             0,
             "#0d0887"
            ],
            [
             0.1111111111111111,
             "#46039f"
            ],
            [
             0.2222222222222222,
             "#7201a8"
            ],
            [
             0.3333333333333333,
             "#9c179e"
            ],
            [
             0.4444444444444444,
             "#bd3786"
            ],
            [
             0.5555555555555556,
             "#d8576b"
            ],
            [
             0.6666666666666666,
             "#ed7953"
            ],
            [
             0.7777777777777778,
             "#fb9f3a"
            ],
            [
             0.8888888888888888,
             "#fdca26"
            ],
            [
             1,
             "#f0f921"
            ]
           ]
          },
          "colorway": [
           "#636efa",
           "#EF553B",
           "#00cc96",
           "#ab63fa",
           "#FFA15A",
           "#19d3f3",
           "#FF6692",
           "#B6E880",
           "#FF97FF",
           "#FECB52"
          ],
          "font": {
           "color": "#2a3f5f"
          },
          "geo": {
           "bgcolor": "white",
           "lakecolor": "white",
           "landcolor": "#E5ECF6",
           "showlakes": true,
           "showland": true,
           "subunitcolor": "white"
          },
          "hoverlabel": {
           "align": "left"
          },
          "hovermode": "closest",
          "mapbox": {
           "style": "light"
          },
          "paper_bgcolor": "white",
          "plot_bgcolor": "#E5ECF6",
          "polar": {
           "angularaxis": {
            "gridcolor": "white",
            "linecolor": "white",
            "ticks": ""
           },
           "bgcolor": "#E5ECF6",
           "radialaxis": {
            "gridcolor": "white",
            "linecolor": "white",
            "ticks": ""
           }
          },
          "scene": {
           "xaxis": {
            "backgroundcolor": "#E5ECF6",
            "gridcolor": "white",
            "gridwidth": 2,
            "linecolor": "white",
            "showbackground": true,
            "ticks": "",
            "zerolinecolor": "white"
           },
           "yaxis": {
            "backgroundcolor": "#E5ECF6",
            "gridcolor": "white",
            "gridwidth": 2,
            "linecolor": "white",
            "showbackground": true,
            "ticks": "",
            "zerolinecolor": "white"
           },
           "zaxis": {
            "backgroundcolor": "#E5ECF6",
            "gridcolor": "white",
            "gridwidth": 2,
            "linecolor": "white",
            "showbackground": true,
            "ticks": "",
            "zerolinecolor": "white"
           }
          },
          "shapedefaults": {
           "line": {
            "color": "#2a3f5f"
           }
          },
          "ternary": {
           "aaxis": {
            "gridcolor": "white",
            "linecolor": "white",
            "ticks": ""
           },
           "baxis": {
            "gridcolor": "white",
            "linecolor": "white",
            "ticks": ""
           },
           "bgcolor": "#E5ECF6",
           "caxis": {
            "gridcolor": "white",
            "linecolor": "white",
            "ticks": ""
           }
          },
          "title": {
           "x": 0.05
          },
          "xaxis": {
           "automargin": true,
           "gridcolor": "white",
           "linecolor": "white",
           "ticks": "",
           "title": {
            "standoff": 15
           },
           "zerolinecolor": "white",
           "zerolinewidth": 2
          },
          "yaxis": {
           "automargin": true,
           "gridcolor": "white",
           "linecolor": "white",
           "ticks": "",
           "title": {
            "standoff": 15
           },
           "zerolinecolor": "white",
           "zerolinewidth": 2
          }
         }
        },
        "title": {
         "font": {
          "color": "#4D5663"
         },
         "text": "VIZ TITLE"
        },
        "xaxis": {
         "gridcolor": "#E1E5ED",
         "showgrid": true,
         "tickfont": {
          "color": "#4D5663"
         },
         "title": {
          "font": {
           "color": "#4D5663"
          },
          "text": "AXIS TITLE"
         },
         "zerolinecolor": "#E1E5ED"
        },
        "yaxis": {
         "gridcolor": "#E1E5ED",
         "showgrid": true,
         "tickfont": {
          "color": "#4D5663"
         },
         "title": {
          "font": {
           "color": "#4D5663"
          },
          "text": "AXIS TITLE"
         },
         "zerolinecolor": "#E1E5ED"
        }
       },
       "config": {
        "showLink": true,
        "linkText": "Export to plot.ly",
        "plotlyServerURL": "https://plot.ly"
       }
      },
      "text/html": [
       "<div>                            <div id=\"07e60565-756c-41ba-a0bc-b034db9a2b7c\" class=\"plotly-graph-div\" style=\"height:525px; width:100%;\"></div>            <script type=\"text/javascript\">                require([\"plotly\"], function(Plotly) {                    window.PLOTLYENV=window.PLOTLYENV || {};\n",
       "                    window.PLOTLYENV.BASE_URL='https://plot.ly';                                    if (document.getElementById(\"07e60565-756c-41ba-a0bc-b034db9a2b7c\")) {                    Plotly.newPlot(                        \"07e60565-756c-41ba-a0bc-b034db9a2b7c\",                        [{\"line\":{\"color\":\"rgba(255, 153, 51, 1.0)\",\"dash\":\"solid\",\"shape\":\"linear\",\"width\":1.3},\"mode\":\"lines\",\"name\":\"Sexo\",\"text\":\"\",\"x\":[181592,60150,241742],\"y\":[\"Hombres\",\"Mujeres\",\"Total\"],\"type\":\"scatter\"},{\"line\":{\"color\":\"rgba(55, 128, 191, 1.0)\",\"dash\":\"solid\",\"shape\":\"linear\",\"width\":1.3},\"mode\":\"lines\",\"name\":\"001\",\"text\":\"\",\"x\":[181592,60150,241742],\"y\":[13310,20734,34044],\"type\":\"scatter\"},{\"line\":{\"color\":\"rgba(50, 171, 96, 1.0)\",\"dash\":\"solid\",\"shape\":\"linear\",\"width\":1.3},\"mode\":\"lines\",\"name\":\"001-008\",\"text\":\"\",\"x\":[181592,60150,241742],\"y\":[288068,204418,492486],\"type\":\"scatter\"},{\"line\":{\"color\":\"rgba(128, 0, 128, 1.0)\",\"dash\":\"solid\",\"shape\":\"linear\",\"width\":1.3},\"mode\":\"lines\",\"name\":\"001-102\",\"text\":\"\",\"x\":[181592,60150,241742],\"y\":[14528688,13298528,27827216],\"type\":\"scatter\"},{\"line\":{\"color\":\"rgba(219, 64, 82, 1.0)\",\"dash\":\"solid\",\"shape\":\"linear\",\"width\":1.3},\"mode\":\"lines\",\"name\":\"002\",\"text\":\"\",\"x\":[181592,60150,241742],\"y\":[37942,15510,53452],\"type\":\"scatter\"},{\"line\":{\"color\":\"rgba(0, 128, 128, 1.0)\",\"dash\":\"solid\",\"shape\":\"linear\",\"width\":1.3},\"mode\":\"lines\",\"name\":\"003\",\"text\":\"\",\"x\":[181592,60150,241742],\"y\":[3860,4110,7970],\"type\":\"scatter\"},{\"line\":{\"color\":\"rgba(255, 255, 51, 1.0)\",\"dash\":\"solid\",\"shape\":\"linear\",\"width\":1.3},\"mode\":\"lines\",\"name\":\"004\",\"text\":\"\",\"x\":[181592,60150,241742],\"y\":[89660,100022,189682],\"type\":\"scatter\"},{\"line\":{\"color\":\"rgba(128, 128, 0, 1.0)\",\"dash\":\"solid\",\"shape\":\"linear\",\"width\":1.3},\"mode\":\"lines\",\"name\":\"005\",\"text\":\"\",\"x\":[181592,60150,241742],\"y\":[24062,21674,45736],\"type\":\"scatter\"},{\"line\":{\"color\":\"rgba(251, 128, 114, 1.0)\",\"dash\":\"solid\",\"shape\":\"linear\",\"width\":1.3},\"mode\":\"lines\",\"name\":\"006\",\"text\":\"\",\"x\":[181592,60150,241742],\"y\":[92868,21704,114572],\"type\":\"scatter\"},{\"line\":{\"color\":\"rgba(128, 177, 211, 1.0)\",\"dash\":\"solid\",\"shape\":\"linear\",\"width\":1.3},\"mode\":\"lines\",\"name\":\"007\",\"text\":\"\",\"x\":[181592,60150,241742],\"y\":[2546,596,3142],\"type\":\"scatter\"},{\"line\":{\"color\":\"rgba(128, 177, 211, 0.9316239316239316)\",\"dash\":\"solid\",\"shape\":\"linear\",\"width\":1.3},\"mode\":\"lines\",\"name\":\"008\",\"text\":\"\",\"x\":[181592,60150,241742],\"y\":[23820,20068,43888],\"type\":\"scatter\"},{\"line\":{\"color\":\"rgba(255, 153, 51, 0.9316239316239316)\",\"dash\":\"solid\",\"shape\":\"linear\",\"width\":1.3},\"mode\":\"lines\",\"name\":\"009\",\"text\":\"\",\"x\":[181592,60150,241742],\"y\":[128122,30116,158238],\"type\":\"scatter\"},{\"line\":{\"color\":\"rgba(55, 128, 191, 0.9316239316239316)\",\"dash\":\"solid\",\"shape\":\"linear\",\"width\":1.3},\"mode\":\"lines\",\"name\":\"009-041\",\"text\":\"\",\"x\":[181592,60150,241742],\"y\":[4371186,2747678,7118864],\"type\":\"scatter\"},{\"line\":{\"color\":\"rgba(50, 171, 96, 0.9316239316239316)\",\"dash\":\"solid\",\"shape\":\"linear\",\"width\":1.3},\"mode\":\"lines\",\"name\":\"010\",\"text\":\"\",\"x\":[181592,60150,241742],\"y\":[115918,20340,136258],\"type\":\"scatter\"},{\"line\":{\"color\":\"rgba(128, 0, 128, 0.9316239316239316)\",\"dash\":\"solid\",\"shape\":\"linear\",\"width\":1.3},\"mode\":\"lines\",\"name\":\"011\",\"text\":\"\",\"x\":[181592,60150,241742],\"y\":[295366,193986,489352],\"type\":\"scatter\"},{\"line\":{\"color\":\"rgba(219, 64, 82, 0.9316239316239316)\",\"dash\":\"solid\",\"shape\":\"linear\",\"width\":1.3},\"mode\":\"lines\",\"name\":\"012\",\"text\":\"\",\"x\":[181592,60150,241742],\"y\":[344882,280252,625134],\"type\":\"scatter\"},{\"line\":{\"color\":\"rgba(0, 128, 128, 0.9316239316239316)\",\"dash\":\"solid\",\"shape\":\"linear\",\"width\":1.3},\"mode\":\"lines\",\"name\":\"013\",\"text\":\"\",\"x\":[181592,60150,241742],\"y\":[132644,90928,223572],\"type\":\"scatter\"},{\"line\":{\"color\":\"rgba(255, 255, 51, 0.9316239316239316)\",\"dash\":\"solid\",\"shape\":\"linear\",\"width\":1.3},\"mode\":\"lines\",\"name\":\"014\",\"text\":\"\",\"x\":[181592,60150,241742],\"y\":[217596,126478,344074],\"type\":\"scatter\"},{\"line\":{\"color\":\"rgba(128, 128, 0, 0.9316239316239316)\",\"dash\":\"solid\",\"shape\":\"linear\",\"width\":1.3},\"mode\":\"lines\",\"name\":\"015\",\"text\":\"\",\"x\":[181592,60150,241742],\"y\":[169294,150246,319540],\"type\":\"scatter\"},{\"line\":{\"color\":\"rgba(251, 128, 114, 0.9316239316239316)\",\"dash\":\"solid\",\"shape\":\"linear\",\"width\":1.3},\"mode\":\"lines\",\"name\":\"016\",\"text\":\"\",\"x\":[181592,60150,241742],\"y\":[83444,116646,200090],\"type\":\"scatter\"},{\"line\":{\"color\":\"rgba(251, 128, 114, 0.8632478632478631)\",\"dash\":\"solid\",\"shape\":\"linear\",\"width\":1.3},\"mode\":\"lines\",\"name\":\"017\",\"text\":\"\",\"x\":[181592,60150,241742],\"y\":[127094,5330,132424],\"type\":\"scatter\"},{\"line\":{\"color\":\"rgba(128, 177, 211, 0.8632478632478631)\",\"dash\":\"solid\",\"shape\":\"linear\",\"width\":1.3},\"mode\":\"lines\",\"name\":\"018\",\"text\":\"\",\"x\":[181592,60150,241742],\"y\":[1131650,180534,1312184],\"type\":\"scatter\"},{\"line\":{\"color\":\"rgba(255, 153, 51, 0.8632478632478631)\",\"dash\":\"solid\",\"shape\":\"linear\",\"width\":1.3},\"mode\":\"lines\",\"name\":\"019\",\"text\":\"\",\"x\":[181592,60150,241742],\"y\":[24270,10384,34654],\"type\":\"scatter\"},{\"line\":{\"color\":\"rgba(55, 128, 191, 0.8632478632478631)\",\"dash\":\"solid\",\"shape\":\"linear\",\"width\":1.3},\"mode\":\"lines\",\"name\":\"020\",\"text\":\"\",\"x\":[181592,60150,241742],\"y\":[18154,12114,30268],\"type\":\"scatter\"},{\"line\":{\"color\":\"rgba(50, 171, 96, 0.8632478632478631)\",\"dash\":\"solid\",\"shape\":\"linear\",\"width\":1.3},\"mode\":\"lines\",\"name\":\"021\",\"text\":\"\",\"x\":[181592,60150,241742],\"y\":[28330,23258,51588],\"type\":\"scatter\"},{\"line\":{\"color\":\"rgba(128, 0, 128, 0.8632478632478631)\",\"dash\":\"solid\",\"shape\":\"linear\",\"width\":1.3},\"mode\":\"lines\",\"name\":\"022\",\"text\":\"\",\"x\":[181592,60150,241742],\"y\":[44718,35044,79762],\"type\":\"scatter\"},{\"line\":{\"color\":\"rgba(219, 64, 82, 0.8632478632478631)\",\"dash\":\"solid\",\"shape\":\"linear\",\"width\":1.3},\"mode\":\"lines\",\"name\":\"023\",\"text\":\"\",\"x\":[181592,60150,241742],\"y\":[4766,434002,438768],\"type\":\"scatter\"},{\"line\":{\"color\":\"rgba(0, 128, 128, 0.8632478632478631)\",\"dash\":\"solid\",\"shape\":\"linear\",\"width\":1.3},\"mode\":\"lines\",\"name\":\"024\",\"text\":\"\",\"x\":[181592,60150,241742],\"y\":[0,41724,41724],\"type\":\"scatter\"},{\"line\":{\"color\":\"rgba(255, 255, 51, 0.8632478632478631)\",\"dash\":\"solid\",\"shape\":\"linear\",\"width\":1.3},\"mode\":\"lines\",\"name\":\"025\",\"text\":\"\",\"x\":[181592,60150,241742],\"y\":[0,109052,109052],\"type\":\"scatter\"},{\"line\":{\"color\":\"rgba(128, 128, 0, 0.8632478632478631)\",\"dash\":\"solid\",\"shape\":\"linear\",\"width\":1.3},\"mode\":\"lines\",\"name\":\"026\",\"text\":\"\",\"x\":[181592,60150,241742],\"y\":[0,115158,115158],\"type\":\"scatter\"},{\"line\":{\"color\":\"rgba(128, 128, 0, 0.7948717948717947)\",\"dash\":\"solid\",\"shape\":\"linear\",\"width\":1.3},\"mode\":\"lines\",\"name\":\"027\",\"text\":\"\",\"x\":[181592,60150,241742],\"y\":[0,36182,36182],\"type\":\"scatter\"},{\"line\":{\"color\":\"rgba(251, 128, 114, 0.7948717948717947)\",\"dash\":\"solid\",\"shape\":\"linear\",\"width\":1.3},\"mode\":\"lines\",\"name\":\"028\",\"text\":\"\",\"x\":[181592,60150,241742],\"y\":[390814,0,390814],\"type\":\"scatter\"},{\"line\":{\"color\":\"rgba(128, 177, 211, 0.7948717948717947)\",\"dash\":\"solid\",\"shape\":\"linear\",\"width\":1.3},\"mode\":\"lines\",\"name\":\"029\",\"text\":\"\",\"x\":[181592,60150,241742],\"y\":[11946,0,11946],\"type\":\"scatter\"},{\"line\":{\"color\":\"rgba(255, 153, 51, 0.7948717948717947)\",\"dash\":\"solid\",\"shape\":\"linear\",\"width\":1.3},\"mode\":\"lines\",\"name\":\"030\",\"text\":\"\",\"x\":[181592,60150,241742],\"y\":[73644,38928,112572],\"type\":\"scatter\"},{\"line\":{\"color\":\"rgba(55, 128, 191, 0.7948717948717947)\",\"dash\":\"solid\",\"shape\":\"linear\",\"width\":1.3},\"mode\":\"lines\",\"name\":\"031\",\"text\":\"\",\"x\":[181592,60150,241742],\"y\":[242794,54000,296794],\"type\":\"scatter\"},{\"line\":{\"color\":\"rgba(50, 171, 96, 0.7948717948717947)\",\"dash\":\"solid\",\"shape\":\"linear\",\"width\":1.3},\"mode\":\"lines\",\"name\":\"032\",\"text\":\"\",\"x\":[181592,60150,241742],\"y\":[20622,6058,26680],\"type\":\"scatter\"},{\"line\":{\"color\":\"rgba(128, 0, 128, 0.7948717948717947)\",\"dash\":\"solid\",\"shape\":\"linear\",\"width\":1.3},\"mode\":\"lines\",\"name\":\"033\",\"text\":\"\",\"x\":[181592,60150,241742],\"y\":[95612,73886,169498],\"type\":\"scatter\"},{\"line\":{\"color\":\"rgba(219, 64, 82, 0.7948717948717947)\",\"dash\":\"solid\",\"shape\":\"linear\",\"width\":1.3},\"mode\":\"lines\",\"name\":\"034\",\"text\":\"\",\"x\":[181592,60150,241742],\"y\":[17800,22778,40578],\"type\":\"scatter\"},{\"line\":{\"color\":\"rgba(0, 128, 128, 0.7948717948717947)\",\"dash\":\"solid\",\"shape\":\"linear\",\"width\":1.3},\"mode\":\"lines\",\"name\":\"035\",\"text\":\"\",\"x\":[181592,60150,241742],\"y\":[255726,204300,460026],\"type\":\"scatter\"},{\"line\":{\"color\":\"rgba(255, 255, 51, 0.7948717948717947)\",\"dash\":\"solid\",\"shape\":\"linear\",\"width\":1.3},\"mode\":\"lines\",\"name\":\"036\",\"text\":\"\",\"x\":[181592,60150,241742],\"y\":[150698,133622,284320],\"type\":\"scatter\"},{\"line\":{\"color\":\"rgba(255, 255, 51, 0.7264957264957264)\",\"dash\":\"solid\",\"shape\":\"linear\",\"width\":1.3},\"mode\":\"lines\",\"name\":\"037\",\"text\":\"\",\"x\":[181592,60150,241742],\"y\":[121072,95442,216514],\"type\":\"scatter\"},{\"line\":{\"color\":\"rgba(128, 128, 0, 0.7264957264957264)\",\"dash\":\"solid\",\"shape\":\"linear\",\"width\":1.3},\"mode\":\"lines\",\"name\":\"038\",\"text\":\"\",\"x\":[181592,60150,241742],\"y\":[194,162,356],\"type\":\"scatter\"},{\"line\":{\"color\":\"rgba(251, 128, 114, 0.7264957264957264)\",\"dash\":\"solid\",\"shape\":\"linear\",\"width\":1.3},\"mode\":\"lines\",\"name\":\"039\",\"text\":\"\",\"x\":[181592,60150,241742],\"y\":[12208,15578,27786],\"type\":\"scatter\"},{\"line\":{\"color\":\"rgba(128, 177, 211, 0.7264957264957264)\",\"dash\":\"solid\",\"shape\":\"linear\",\"width\":1.3},\"mode\":\"lines\",\"name\":\"040\",\"text\":\"\",\"x\":[181592,60150,241742],\"y\":[24326,18126,42452],\"type\":\"scatter\"},{\"line\":{\"color\":\"rgba(255, 153, 51, 0.7264957264957264)\",\"dash\":\"solid\",\"shape\":\"linear\",\"width\":1.3},\"mode\":\"lines\",\"name\":\"041\",\"text\":\"\",\"x\":[181592,60150,241742],\"y\":[87482,73024,160506],\"type\":\"scatter\"},{\"line\":{\"color\":\"rgba(55, 128, 191, 0.7264957264957264)\",\"dash\":\"solid\",\"shape\":\"linear\",\"width\":1.3},\"mode\":\"lines\",\"name\":\"042\",\"text\":\"\",\"x\":[181592,60150,241742],\"y\":[39838,51750,91588],\"type\":\"scatter\"},{\"line\":{\"color\":\"rgba(50, 171, 96, 0.7264957264957264)\",\"dash\":\"solid\",\"shape\":\"linear\",\"width\":1.3},\"mode\":\"lines\",\"name\":\"042-043\",\"text\":\"\",\"x\":[181592,60150,241742],\"y\":[43712,54856,98568],\"type\":\"scatter\"},{\"line\":{\"color\":\"rgba(128, 0, 128, 0.7264957264957264)\",\"dash\":\"solid\",\"shape\":\"linear\",\"width\":1.3},\"mode\":\"lines\",\"name\":\"043\",\"text\":\"\",\"x\":[181592,60150,241742],\"y\":[3874,3106,6980],\"type\":\"scatter\"},{\"line\":{\"color\":\"rgba(219, 64, 82, 0.7264957264957264)\",\"dash\":\"solid\",\"shape\":\"linear\",\"width\":1.3},\"mode\":\"lines\",\"name\":\"044\",\"text\":\"\",\"x\":[181592,60150,241742],\"y\":[276522,442908,719430],\"type\":\"scatter\"},{\"line\":{\"color\":\"rgba(0, 128, 128, 0.7264957264957264)\",\"dash\":\"solid\",\"shape\":\"linear\",\"width\":1.3},\"mode\":\"lines\",\"name\":\"044-045\",\"text\":\"\",\"x\":[181592,60150,241742],\"y\":[334554,532526,867080],\"type\":\"scatter\"},{\"line\":{\"color\":\"rgba(0, 128, 128, 0.658119658119658)\",\"dash\":\"solid\",\"shape\":\"linear\",\"width\":1.3},\"mode\":\"lines\",\"name\":\"045\",\"text\":\"\",\"x\":[181592,60150,241742],\"y\":[58032,89618,147650],\"type\":\"scatter\"},{\"line\":{\"color\":\"rgba(255, 255, 51, 0.658119658119658)\",\"dash\":\"solid\",\"shape\":\"linear\",\"width\":1.3},\"mode\":\"lines\",\"name\":\"046\",\"text\":\"\",\"x\":[181592,60150,241742],\"y\":[246894,509748,756642],\"type\":\"scatter\"},{\"line\":{\"color\":\"rgba(128, 128, 0, 0.658119658119658)\",\"dash\":\"solid\",\"shape\":\"linear\",\"width\":1.3},\"mode\":\"lines\",\"name\":\"046-049\",\"text\":\"\",\"x\":[181592,60150,241742],\"y\":[281190,524546,805736],\"type\":\"scatter\"},{\"line\":{\"color\":\"rgba(251, 128, 114, 0.658119658119658)\",\"dash\":\"solid\",\"shape\":\"linear\",\"width\":1.3},\"mode\":\"lines\",\"name\":\"047\",\"text\":\"\",\"x\":[181592,60150,241742],\"y\":[20198,2634,22832],\"type\":\"scatter\"},{\"line\":{\"color\":\"rgba(128, 177, 211, 0.658119658119658)\",\"dash\":\"solid\",\"shape\":\"linear\",\"width\":1.3},\"mode\":\"lines\",\"name\":\"048\",\"text\":\"\",\"x\":[181592,60150,241742],\"y\":[3970,694,4664],\"type\":\"scatter\"},{\"line\":{\"color\":\"rgba(255, 153, 51, 0.658119658119658)\",\"dash\":\"solid\",\"shape\":\"linear\",\"width\":1.3},\"mode\":\"lines\",\"name\":\"049\",\"text\":\"\",\"x\":[181592,60150,241742],\"y\":[10128,11470,21598],\"type\":\"scatter\"},{\"line\":{\"color\":\"rgba(55, 128, 191, 0.658119658119658)\",\"dash\":\"solid\",\"shape\":\"linear\",\"width\":1.3},\"mode\":\"lines\",\"name\":\"050\",\"text\":\"\",\"x\":[181592,60150,241742],\"y\":[6750,5876,12626],\"type\":\"scatter\"},{\"line\":{\"color\":\"rgba(50, 171, 96, 0.658119658119658)\",\"dash\":\"solid\",\"shape\":\"linear\",\"width\":1.3},\"mode\":\"lines\",\"name\":\"050-052\",\"text\":\"\",\"x\":[181592,60150,241742],\"y\":[378152,537968,916120],\"type\":\"scatter\"},{\"line\":{\"color\":\"rgba(128, 0, 128, 0.658119658119658)\",\"dash\":\"solid\",\"shape\":\"linear\",\"width\":1.3},\"mode\":\"lines\",\"name\":\"051\",\"text\":\"\",\"x\":[181592,60150,241742],\"y\":[142602,321406,464008],\"type\":\"scatter\"},{\"line\":{\"color\":\"rgba(219, 64, 82, 0.658119658119658)\",\"dash\":\"solid\",\"shape\":\"linear\",\"width\":1.3},\"mode\":\"lines\",\"name\":\"052\",\"text\":\"\",\"x\":[181592,60150,241742],\"y\":[228800,210686,439486],\"type\":\"scatter\"},{\"line\":{\"color\":\"rgba(219, 64, 82, 0.5897435897435894)\",\"dash\":\"solid\",\"shape\":\"linear\",\"width\":1.3},\"mode\":\"lines\",\"name\":\"053\",\"text\":\"\",\"x\":[181592,60150,241742],\"y\":[38334,93012,131346],\"type\":\"scatter\"},{\"line\":{\"color\":\"rgba(0, 128, 128, 0.5897435897435894)\",\"dash\":\"solid\",\"shape\":\"linear\",\"width\":1.3},\"mode\":\"lines\",\"name\":\"053-061\",\"text\":\"\",\"x\":[181592,60150,241742],\"y\":[4473698,5329276,9802974],\"type\":\"scatter\"},{\"line\":{\"color\":\"rgba(255, 255, 51, 0.5897435897435894)\",\"dash\":\"solid\",\"shape\":\"linear\",\"width\":1.3},\"mode\":\"lines\",\"name\":\"054\",\"text\":\"\",\"x\":[181592,60150,241742],\"y\":[151162,306694,457856],\"type\":\"scatter\"},{\"line\":{\"color\":\"rgba(128, 128, 0, 0.5897435897435894)\",\"dash\":\"solid\",\"shape\":\"linear\",\"width\":1.3},\"mode\":\"lines\",\"name\":\"055\",\"text\":\"\",\"x\":[181592,60150,241742],\"y\":[1046398,663926,1710324],\"type\":\"scatter\"},{\"line\":{\"color\":\"rgba(251, 128, 114, 0.5897435897435894)\",\"dash\":\"solid\",\"shape\":\"linear\",\"width\":1.3},\"mode\":\"lines\",\"name\":\"056\",\"text\":\"\",\"x\":[181592,60150,241742],\"y\":[537074,482318,1019392],\"type\":\"scatter\"},{\"line\":{\"color\":\"rgba(128, 177, 211, 0.5897435897435894)\",\"dash\":\"solid\",\"shape\":\"linear\",\"width\":1.3},\"mode\":\"lines\",\"name\":\"057\",\"text\":\"\",\"x\":[181592,60150,241742],\"y\":[547632,969054,1516686],\"type\":\"scatter\"},{\"line\":{\"color\":\"rgba(255, 153, 51, 0.5897435897435894)\",\"dash\":\"solid\",\"shape\":\"linear\",\"width\":1.3},\"mode\":\"lines\",\"name\":\"058\",\"text\":\"\",\"x\":[181592,60150,241742],\"y\":[580068,709766,1289834],\"type\":\"scatter\"},{\"line\":{\"color\":\"rgba(55, 128, 191, 0.5897435897435894)\",\"dash\":\"solid\",\"shape\":\"linear\",\"width\":1.3},\"mode\":\"lines\",\"name\":\"059\",\"text\":\"\",\"x\":[181592,60150,241742],\"y\":[1225298,1710384,2935682],\"type\":\"scatter\"},{\"line\":{\"color\":\"rgba(50, 171, 96, 0.5897435897435894)\",\"dash\":\"solid\",\"shape\":\"linear\",\"width\":1.3},\"mode\":\"lines\",\"name\":\"060\",\"text\":\"\",\"x\":[181592,60150,241742],\"y\":[167330,287852,455182],\"type\":\"scatter\"},{\"line\":{\"color\":\"rgba(128, 0, 128, 0.5897435897435894)\",\"dash\":\"solid\",\"shape\":\"linear\",\"width\":1.3},\"mode\":\"lines\",\"name\":\"061\",\"text\":\"\",\"x\":[181592,60150,241742],\"y\":[180402,106270,286672],\"type\":\"scatter\"},{\"line\":{\"color\":\"rgba(128, 0, 128, 0.5213675213675211)\",\"dash\":\"solid\",\"shape\":\"linear\",\"width\":1.3},\"mode\":\"lines\",\"name\":\"062\",\"text\":\"\",\"x\":[181592,60150,241742],\"y\":[17236,27092,44328],\"type\":\"scatter\"},{\"line\":{\"color\":\"rgba(219, 64, 82, 0.5213675213675211)\",\"dash\":\"solid\",\"shape\":\"linear\",\"width\":1.3},\"mode\":\"lines\",\"name\":\"062-067\",\"text\":\"\",\"x\":[181592,60150,241742],\"y\":[1740144,1231470,2971614],\"type\":\"scatter\"},{\"line\":{\"color\":\"rgba(0, 128, 128, 0.5213675213675211)\",\"dash\":\"solid\",\"shape\":\"linear\",\"width\":1.3},\"mode\":\"lines\",\"name\":\"063\",\"text\":\"\",\"x\":[181592,60150,241742],\"y\":[324266,302242,626508],\"type\":\"scatter\"},{\"line\":{\"color\":\"rgba(255, 255, 51, 0.5213675213675211)\",\"dash\":\"solid\",\"shape\":\"linear\",\"width\":1.3},\"mode\":\"lines\",\"name\":\"064\",\"text\":\"\",\"x\":[181592,60150,241742],\"y\":[794698,260448,1055146],\"type\":\"scatter\"},{\"line\":{\"color\":\"rgba(128, 128, 0, 0.5213675213675211)\",\"dash\":\"solid\",\"shape\":\"linear\",\"width\":1.3},\"mode\":\"lines\",\"name\":\"065\",\"text\":\"\",\"x\":[181592,60150,241742],\"y\":[28864,53332,82196],\"type\":\"scatter\"},{\"line\":{\"color\":\"rgba(251, 128, 114, 0.5213675213675211)\",\"dash\":\"solid\",\"shape\":\"linear\",\"width\":1.3},\"mode\":\"lines\",\"name\":\"066\",\"text\":\"\",\"x\":[181592,60150,241742],\"y\":[83006,82808,165814],\"type\":\"scatter\"},{\"line\":{\"color\":\"rgba(128, 177, 211, 0.5213675213675211)\",\"dash\":\"solid\",\"shape\":\"linear\",\"width\":1.3},\"mode\":\"lines\",\"name\":\"067\",\"text\":\"\",\"x\":[181592,60150,241742],\"y\":[492074,505548,997622],\"type\":\"scatter\"},{\"line\":{\"color\":\"rgba(255, 153, 51, 0.5213675213675211)\",\"dash\":\"solid\",\"shape\":\"linear\",\"width\":1.3},\"mode\":\"lines\",\"name\":\"068\",\"text\":\"\",\"x\":[181592,60150,241742],\"y\":[40854,27148,68002],\"type\":\"scatter\"},{\"line\":{\"color\":\"rgba(55, 128, 191, 0.5213675213675211)\",\"dash\":\"solid\",\"shape\":\"linear\",\"width\":1.3},\"mode\":\"lines\",\"name\":\"068-072\",\"text\":\"\",\"x\":[181592,60150,241742],\"y\":[824918,648194,1473112],\"type\":\"scatter\"},{\"line\":{\"color\":\"rgba(50, 171, 96, 0.5213675213675211)\",\"dash\":\"solid\",\"shape\":\"linear\",\"width\":1.3},\"mode\":\"lines\",\"name\":\"069\",\"text\":\"\",\"x\":[181592,60150,241742],\"y\":[7326,8844,16170],\"type\":\"scatter\"},{\"line\":{\"color\":\"rgba(50, 171, 96, 0.45299145299145277)\",\"dash\":\"solid\",\"shape\":\"linear\",\"width\":1.3},\"mode\":\"lines\",\"name\":\"070\",\"text\":\"\",\"x\":[181592,60150,241742],\"y\":[75134,92902,168036],\"type\":\"scatter\"},{\"line\":{\"color\":\"rgba(128, 0, 128, 0.45299145299145277)\",\"dash\":\"solid\",\"shape\":\"linear\",\"width\":1.3},\"mode\":\"lines\",\"name\":\"071\",\"text\":\"\",\"x\":[181592,60150,241742],\"y\":[358026,149474,507500],\"type\":\"scatter\"},{\"line\":{\"color\":\"rgba(219, 64, 82, 0.45299145299145277)\",\"dash\":\"solid\",\"shape\":\"linear\",\"width\":1.3},\"mode\":\"lines\",\"name\":\"072\",\"text\":\"\",\"x\":[181592,60150,241742],\"y\":[343578,369826,713404],\"type\":\"scatter\"},{\"line\":{\"color\":\"rgba(0, 128, 128, 0.45299145299145277)\",\"dash\":\"solid\",\"shape\":\"linear\",\"width\":1.3},\"mode\":\"lines\",\"name\":\"073\",\"text\":\"\",\"x\":[181592,60150,241742],\"y\":[21038,44790,65828],\"type\":\"scatter\"},{\"line\":{\"color\":\"rgba(255, 255, 51, 0.45299145299145277)\",\"dash\":\"solid\",\"shape\":\"linear\",\"width\":1.3},\"mode\":\"lines\",\"name\":\"074\",\"text\":\"\",\"x\":[181592,60150,241742],\"y\":[6100,18452,24552],\"type\":\"scatter\"},{\"line\":{\"color\":\"rgba(128, 128, 0, 0.45299145299145277)\",\"dash\":\"solid\",\"shape\":\"linear\",\"width\":1.3},\"mode\":\"lines\",\"name\":\"074-076\",\"text\":\"\",\"x\":[181592,60150,241742],\"y\":[71628,160496,232124],\"type\":\"scatter\"},{\"line\":{\"color\":\"rgba(251, 128, 114, 0.45299145299145277)\",\"dash\":\"solid\",\"shape\":\"linear\",\"width\":1.3},\"mode\":\"lines\",\"name\":\"075\",\"text\":\"\",\"x\":[181592,60150,241742],\"y\":[41874,105292,147166],\"type\":\"scatter\"},{\"line\":{\"color\":\"rgba(128, 177, 211, 0.45299145299145277)\",\"dash\":\"solid\",\"shape\":\"linear\",\"width\":1.3},\"mode\":\"lines\",\"name\":\"076\",\"text\":\"\",\"x\":[181592,60150,241742],\"y\":[23654,36752,60406],\"type\":\"scatter\"},{\"line\":{\"color\":\"rgba(255, 153, 51, 0.45299145299145277)\",\"dash\":\"solid\",\"shape\":\"linear\",\"width\":1.3},\"mode\":\"lines\",\"name\":\"077\",\"text\":\"\",\"x\":[181592,60150,241742],\"y\":[235266,248110,483376],\"type\":\"scatter\"},{\"line\":{\"color\":\"rgba(55, 128, 191, 0.45299145299145277)\",\"dash\":\"solid\",\"shape\":\"linear\",\"width\":1.3},\"mode\":\"lines\",\"name\":\"077-080\",\"text\":\"\",\"x\":[181592,60150,241742],\"y\":[321852,347720,669572],\"type\":\"scatter\"},{\"line\":{\"color\":\"rgba(55, 128, 191, 0.3846153846153844)\",\"dash\":\"solid\",\"shape\":\"linear\",\"width\":1.3},\"mode\":\"lines\",\"name\":\"078\",\"text\":\"\",\"x\":[181592,60150,241742],\"y\":[23126,0,23126],\"type\":\"scatter\"},{\"line\":{\"color\":\"rgba(50, 171, 96, 0.3846153846153844)\",\"dash\":\"solid\",\"shape\":\"linear\",\"width\":1.3},\"mode\":\"lines\",\"name\":\"079\",\"text\":\"\",\"x\":[181592,60150,241742],\"y\":[2,3668,3670],\"type\":\"scatter\"},{\"line\":{\"color\":\"rgba(128, 0, 128, 0.3846153846153844)\",\"dash\":\"solid\",\"shape\":\"linear\",\"width\":1.3},\"mode\":\"lines\",\"name\":\"080\",\"text\":\"\",\"x\":[181592,60150,241742],\"y\":[63458,95942,159400],\"type\":\"scatter\"},{\"line\":{\"color\":\"rgba(219, 64, 82, 0.3846153846153844)\",\"dash\":\"solid\",\"shape\":\"linear\",\"width\":1.3},\"mode\":\"lines\",\"name\":\"081\",\"text\":\"\",\"x\":[181592,60150,241742],\"y\":[0,1508,1508],\"type\":\"scatter\"},{\"line\":{\"color\":\"rgba(0, 128, 128, 0.3846153846153844)\",\"dash\":\"solid\",\"shape\":\"linear\",\"width\":1.3},\"mode\":\"lines\",\"name\":\"082\",\"text\":\"\",\"x\":[181592,60150,241742],\"y\":[53902,39638,93540],\"type\":\"scatter\"},{\"line\":{\"color\":\"rgba(255, 255, 51, 0.3846153846153844)\",\"dash\":\"solid\",\"shape\":\"linear\",\"width\":1.3},\"mode\":\"lines\",\"name\":\"083\",\"text\":\"\",\"x\":[181592,60150,241742],\"y\":[6240,5920,12160],\"type\":\"scatter\"},{\"line\":{\"color\":\"rgba(128, 128, 0, 0.3846153846153844)\",\"dash\":\"solid\",\"shape\":\"linear\",\"width\":1.3},\"mode\":\"lines\",\"name\":\"083-085\",\"text\":\"\",\"x\":[181592,60150,241742],\"y\":[51426,44694,96120],\"type\":\"scatter\"},{\"line\":{\"color\":\"rgba(251, 128, 114, 0.3846153846153844)\",\"dash\":\"solid\",\"shape\":\"linear\",\"width\":1.3},\"mode\":\"lines\",\"name\":\"084\",\"text\":\"\",\"x\":[181592,60150,241742],\"y\":[22610,18376,40986],\"type\":\"scatter\"},{\"line\":{\"color\":\"rgba(128, 177, 211, 0.3846153846153844)\",\"dash\":\"solid\",\"shape\":\"linear\",\"width\":1.3},\"mode\":\"lines\",\"name\":\"085\",\"text\":\"\",\"x\":[181592,60150,241742],\"y\":[22576,20398,42974],\"type\":\"scatter\"},{\"line\":{\"color\":\"rgba(255, 153, 51, 0.3846153846153844)\",\"dash\":\"solid\",\"shape\":\"linear\",\"width\":1.3},\"mode\":\"lines\",\"name\":\"086\",\"text\":\"\",\"x\":[181592,60150,241742],\"y\":[217372,203782,421154],\"type\":\"scatter\"},{\"line\":{\"color\":\"rgba(255, 153, 51, 0.31623931623931584)\",\"dash\":\"solid\",\"shape\":\"linear\",\"width\":1.3},\"mode\":\"lines\",\"name\":\"086-089\",\"text\":\"\",\"x\":[181592,60150,241742],\"y\":[390752,472906,863658],\"type\":\"scatter\"},{\"line\":{\"color\":\"rgba(55, 128, 191, 0.31623931623931584)\",\"dash\":\"solid\",\"shape\":\"linear\",\"width\":1.3},\"mode\":\"lines\",\"name\":\"087\",\"text\":\"\",\"x\":[181592,60150,241742],\"y\":[71296,174092,245388],\"type\":\"scatter\"},{\"line\":{\"color\":\"rgba(50, 171, 96, 0.31623931623931584)\",\"dash\":\"solid\",\"shape\":\"linear\",\"width\":1.3},\"mode\":\"lines\",\"name\":\"088\",\"text\":\"\",\"x\":[181592,60150,241742],\"y\":[3992,2450,6442],\"type\":\"scatter\"},{\"line\":{\"color\":\"rgba(128, 0, 128, 0.31623931623931584)\",\"dash\":\"solid\",\"shape\":\"linear\",\"width\":1.3},\"mode\":\"lines\",\"name\":\"089\",\"text\":\"\",\"x\":[181592,60150,241742],\"y\":[98092,92582,190674],\"type\":\"scatter\"},{\"line\":{\"color\":\"rgba(219, 64, 82, 0.31623931623931584)\",\"dash\":\"solid\",\"shape\":\"linear\",\"width\":1.3},\"mode\":\"lines\",\"name\":\"090\",\"text\":\"\",\"x\":[181592,60150,241742],\"y\":[288040,88988,377028],\"type\":\"scatter\"},{\"line\":{\"color\":\"rgba(0, 128, 128, 0.31623931623931584)\",\"dash\":\"solid\",\"shape\":\"linear\",\"width\":1.3},\"mode\":\"lines\",\"name\":\"090-102\",\"text\":\"\",\"x\":[181592,60150,241742],\"y\":[882468,375844,1258312],\"type\":\"scatter\"},{\"line\":{\"color\":\"rgba(255, 255, 51, 0.31623931623931584)\",\"dash\":\"solid\",\"shape\":\"linear\",\"width\":1.3},\"mode\":\"lines\",\"name\":\"091\",\"text\":\"\",\"x\":[181592,60150,241742],\"y\":[19322,4182,23504],\"type\":\"scatter\"},{\"line\":{\"color\":\"rgba(128, 128, 0, 0.31623931623931584)\",\"dash\":\"solid\",\"shape\":\"linear\",\"width\":1.3},\"mode\":\"lines\",\"name\":\"092\",\"text\":\"\",\"x\":[181592,60150,241742],\"y\":[66664,53078,119742],\"type\":\"scatter\"},{\"line\":{\"color\":\"rgba(251, 128, 114, 0.31623931623931584)\",\"dash\":\"solid\",\"shape\":\"linear\",\"width\":1.3},\"mode\":\"lines\",\"name\":\"093\",\"text\":\"\",\"x\":[181592,60150,241742],\"y\":[83108,51050,134158],\"type\":\"scatter\"},{\"line\":{\"color\":\"rgba(128, 177, 211, 0.31623931623931584)\",\"dash\":\"solid\",\"shape\":\"linear\",\"width\":1.3},\"mode\":\"lines\",\"name\":\"094\",\"text\":\"\",\"x\":[181592,60150,241742],\"y\":[10350,6978,17328],\"type\":\"scatter\"},{\"line\":{\"color\":\"rgba(128, 177, 211, 0.24786324786324748)\",\"dash\":\"solid\",\"shape\":\"linear\",\"width\":1.3},\"mode\":\"lines\",\"name\":\"095\",\"text\":\"\",\"x\":[181592,60150,241742],\"y\":[33694,8680,42374],\"type\":\"scatter\"},{\"line\":{\"color\":\"rgba(255, 153, 51, 0.24786324786324748)\",\"dash\":\"solid\",\"shape\":\"linear\",\"width\":1.3},\"mode\":\"lines\",\"name\":\"096\",\"text\":\"\",\"x\":[181592,60150,241742],\"y\":[10804,5370,16174],\"type\":\"scatter\"},{\"line\":{\"color\":\"rgba(55, 128, 191, 0.24786324786324748)\",\"dash\":\"solid\",\"shape\":\"linear\",\"width\":1.3},\"mode\":\"lines\",\"name\":\"097\",\"text\":\"\",\"x\":[181592,60150,241742],\"y\":[143376,70878,214254],\"type\":\"scatter\"},{\"line\":{\"color\":\"rgba(50, 171, 96, 0.24786324786324748)\",\"dash\":\"solid\",\"shape\":\"linear\",\"width\":1.3},\"mode\":\"lines\",\"name\":\"099\",\"text\":\"\",\"x\":[181592,60150,241742],\"y\":[20420,8040,28460],\"type\":\"scatter\"},{\"line\":{\"color\":\"rgba(128, 0, 128, 0.24786324786324748)\",\"dash\":\"solid\",\"shape\":\"linear\",\"width\":1.3},\"mode\":\"lines\",\"name\":\"100\",\"text\":\"\",\"x\":[181592,60150,241742],\"y\":[8170,3420,11590],\"type\":\"scatter\"},{\"line\":{\"color\":\"rgba(219, 64, 82, 0.24786324786324748)\",\"dash\":\"solid\",\"shape\":\"linear\",\"width\":1.3},\"mode\":\"lines\",\"name\":\"101\",\"text\":\"\",\"x\":[181592,60150,241742],\"y\":[14920,14192,29112],\"type\":\"scatter\"},{\"line\":{\"color\":\"rgba(0, 128, 128, 0.24786324786324748)\",\"dash\":\"solid\",\"shape\":\"linear\",\"width\":1.3},\"mode\":\"lines\",\"name\":\"102\",\"text\":\"\",\"x\":[181592,60150,241742],\"y\":[2008,838,2846],\"type\":\"scatter\"}],                        {\"legend\":{\"bgcolor\":\"#F5F6F9\",\"font\":{\"color\":\"#4D5663\"}},\"paper_bgcolor\":\"#F5F6F9\",\"plot_bgcolor\":\"#F5F6F9\",\"template\":{\"data\":{\"barpolar\":[{\"marker\":{\"line\":{\"color\":\"#E5ECF6\",\"width\":0.5},\"pattern\":{\"fillmode\":\"overlay\",\"size\":10,\"solidity\":0.2}},\"type\":\"barpolar\"}],\"bar\":[{\"error_x\":{\"color\":\"#2a3f5f\"},\"error_y\":{\"color\":\"#2a3f5f\"},\"marker\":{\"line\":{\"color\":\"#E5ECF6\",\"width\":0.5},\"pattern\":{\"fillmode\":\"overlay\",\"size\":10,\"solidity\":0.2}},\"type\":\"bar\"}],\"carpet\":[{\"aaxis\":{\"endlinecolor\":\"#2a3f5f\",\"gridcolor\":\"white\",\"linecolor\":\"white\",\"minorgridcolor\":\"white\",\"startlinecolor\":\"#2a3f5f\"},\"baxis\":{\"endlinecolor\":\"#2a3f5f\",\"gridcolor\":\"white\",\"linecolor\":\"white\",\"minorgridcolor\":\"white\",\"startlinecolor\":\"#2a3f5f\"},\"type\":\"carpet\"}],\"choropleth\":[{\"colorbar\":{\"outlinewidth\":0,\"ticks\":\"\"},\"type\":\"choropleth\"}],\"contourcarpet\":[{\"colorbar\":{\"outlinewidth\":0,\"ticks\":\"\"},\"type\":\"contourcarpet\"}],\"contour\":[{\"colorbar\":{\"outlinewidth\":0,\"ticks\":\"\"},\"colorscale\":[[0.0,\"#0d0887\"],[0.1111111111111111,\"#46039f\"],[0.2222222222222222,\"#7201a8\"],[0.3333333333333333,\"#9c179e\"],[0.4444444444444444,\"#bd3786\"],[0.5555555555555556,\"#d8576b\"],[0.6666666666666666,\"#ed7953\"],[0.7777777777777778,\"#fb9f3a\"],[0.8888888888888888,\"#fdca26\"],[1.0,\"#f0f921\"]],\"type\":\"contour\"}],\"heatmapgl\":[{\"colorbar\":{\"outlinewidth\":0,\"ticks\":\"\"},\"colorscale\":[[0.0,\"#0d0887\"],[0.1111111111111111,\"#46039f\"],[0.2222222222222222,\"#7201a8\"],[0.3333333333333333,\"#9c179e\"],[0.4444444444444444,\"#bd3786\"],[0.5555555555555556,\"#d8576b\"],[0.6666666666666666,\"#ed7953\"],[0.7777777777777778,\"#fb9f3a\"],[0.8888888888888888,\"#fdca26\"],[1.0,\"#f0f921\"]],\"type\":\"heatmapgl\"}],\"heatmap\":[{\"colorbar\":{\"outlinewidth\":0,\"ticks\":\"\"},\"colorscale\":[[0.0,\"#0d0887\"],[0.1111111111111111,\"#46039f\"],[0.2222222222222222,\"#7201a8\"],[0.3333333333333333,\"#9c179e\"],[0.4444444444444444,\"#bd3786\"],[0.5555555555555556,\"#d8576b\"],[0.6666666666666666,\"#ed7953\"],[0.7777777777777778,\"#fb9f3a\"],[0.8888888888888888,\"#fdca26\"],[1.0,\"#f0f921\"]],\"type\":\"heatmap\"}],\"histogram2dcontour\":[{\"colorbar\":{\"outlinewidth\":0,\"ticks\":\"\"},\"colorscale\":[[0.0,\"#0d0887\"],[0.1111111111111111,\"#46039f\"],[0.2222222222222222,\"#7201a8\"],[0.3333333333333333,\"#9c179e\"],[0.4444444444444444,\"#bd3786\"],[0.5555555555555556,\"#d8576b\"],[0.6666666666666666,\"#ed7953\"],[0.7777777777777778,\"#fb9f3a\"],[0.8888888888888888,\"#fdca26\"],[1.0,\"#f0f921\"]],\"type\":\"histogram2dcontour\"}],\"histogram2d\":[{\"colorbar\":{\"outlinewidth\":0,\"ticks\":\"\"},\"colorscale\":[[0.0,\"#0d0887\"],[0.1111111111111111,\"#46039f\"],[0.2222222222222222,\"#7201a8\"],[0.3333333333333333,\"#9c179e\"],[0.4444444444444444,\"#bd3786\"],[0.5555555555555556,\"#d8576b\"],[0.6666666666666666,\"#ed7953\"],[0.7777777777777778,\"#fb9f3a\"],[0.8888888888888888,\"#fdca26\"],[1.0,\"#f0f921\"]],\"type\":\"histogram2d\"}],\"histogram\":[{\"marker\":{\"pattern\":{\"fillmode\":\"overlay\",\"size\":10,\"solidity\":0.2}},\"type\":\"histogram\"}],\"mesh3d\":[{\"colorbar\":{\"outlinewidth\":0,\"ticks\":\"\"},\"type\":\"mesh3d\"}],\"parcoords\":[{\"line\":{\"colorbar\":{\"outlinewidth\":0,\"ticks\":\"\"}},\"type\":\"parcoords\"}],\"pie\":[{\"automargin\":true,\"type\":\"pie\"}],\"scatter3d\":[{\"line\":{\"colorbar\":{\"outlinewidth\":0,\"ticks\":\"\"}},\"marker\":{\"colorbar\":{\"outlinewidth\":0,\"ticks\":\"\"}},\"type\":\"scatter3d\"}],\"scattercarpet\":[{\"marker\":{\"colorbar\":{\"outlinewidth\":0,\"ticks\":\"\"}},\"type\":\"scattercarpet\"}],\"scattergeo\":[{\"marker\":{\"colorbar\":{\"outlinewidth\":0,\"ticks\":\"\"}},\"type\":\"scattergeo\"}],\"scattergl\":[{\"marker\":{\"colorbar\":{\"outlinewidth\":0,\"ticks\":\"\"}},\"type\":\"scattergl\"}],\"scattermapbox\":[{\"marker\":{\"colorbar\":{\"outlinewidth\":0,\"ticks\":\"\"}},\"type\":\"scattermapbox\"}],\"scatterpolargl\":[{\"marker\":{\"colorbar\":{\"outlinewidth\":0,\"ticks\":\"\"}},\"type\":\"scatterpolargl\"}],\"scatterpolar\":[{\"marker\":{\"colorbar\":{\"outlinewidth\":0,\"ticks\":\"\"}},\"type\":\"scatterpolar\"}],\"scatter\":[{\"marker\":{\"colorbar\":{\"outlinewidth\":0,\"ticks\":\"\"}},\"type\":\"scatter\"}],\"scatterternary\":[{\"marker\":{\"colorbar\":{\"outlinewidth\":0,\"ticks\":\"\"}},\"type\":\"scatterternary\"}],\"surface\":[{\"colorbar\":{\"outlinewidth\":0,\"ticks\":\"\"},\"colorscale\":[[0.0,\"#0d0887\"],[0.1111111111111111,\"#46039f\"],[0.2222222222222222,\"#7201a8\"],[0.3333333333333333,\"#9c179e\"],[0.4444444444444444,\"#bd3786\"],[0.5555555555555556,\"#d8576b\"],[0.6666666666666666,\"#ed7953\"],[0.7777777777777778,\"#fb9f3a\"],[0.8888888888888888,\"#fdca26\"],[1.0,\"#f0f921\"]],\"type\":\"surface\"}],\"table\":[{\"cells\":{\"fill\":{\"color\":\"#EBF0F8\"},\"line\":{\"color\":\"white\"}},\"header\":{\"fill\":{\"color\":\"#C8D4E3\"},\"line\":{\"color\":\"white\"}},\"type\":\"table\"}]},\"layout\":{\"annotationdefaults\":{\"arrowcolor\":\"#2a3f5f\",\"arrowhead\":0,\"arrowwidth\":1},\"autotypenumbers\":\"strict\",\"coloraxis\":{\"colorbar\":{\"outlinewidth\":0,\"ticks\":\"\"}},\"colorscale\":{\"diverging\":[[0,\"#8e0152\"],[0.1,\"#c51b7d\"],[0.2,\"#de77ae\"],[0.3,\"#f1b6da\"],[0.4,\"#fde0ef\"],[0.5,\"#f7f7f7\"],[0.6,\"#e6f5d0\"],[0.7,\"#b8e186\"],[0.8,\"#7fbc41\"],[0.9,\"#4d9221\"],[1,\"#276419\"]],\"sequential\":[[0.0,\"#0d0887\"],[0.1111111111111111,\"#46039f\"],[0.2222222222222222,\"#7201a8\"],[0.3333333333333333,\"#9c179e\"],[0.4444444444444444,\"#bd3786\"],[0.5555555555555556,\"#d8576b\"],[0.6666666666666666,\"#ed7953\"],[0.7777777777777778,\"#fb9f3a\"],[0.8888888888888888,\"#fdca26\"],[1.0,\"#f0f921\"]],\"sequentialminus\":[[0.0,\"#0d0887\"],[0.1111111111111111,\"#46039f\"],[0.2222222222222222,\"#7201a8\"],[0.3333333333333333,\"#9c179e\"],[0.4444444444444444,\"#bd3786\"],[0.5555555555555556,\"#d8576b\"],[0.6666666666666666,\"#ed7953\"],[0.7777777777777778,\"#fb9f3a\"],[0.8888888888888888,\"#fdca26\"],[1.0,\"#f0f921\"]]},\"colorway\":[\"#636efa\",\"#EF553B\",\"#00cc96\",\"#ab63fa\",\"#FFA15A\",\"#19d3f3\",\"#FF6692\",\"#B6E880\",\"#FF97FF\",\"#FECB52\"],\"font\":{\"color\":\"#2a3f5f\"},\"geo\":{\"bgcolor\":\"white\",\"lakecolor\":\"white\",\"landcolor\":\"#E5ECF6\",\"showlakes\":true,\"showland\":true,\"subunitcolor\":\"white\"},\"hoverlabel\":{\"align\":\"left\"},\"hovermode\":\"closest\",\"mapbox\":{\"style\":\"light\"},\"paper_bgcolor\":\"white\",\"plot_bgcolor\":\"#E5ECF6\",\"polar\":{\"angularaxis\":{\"gridcolor\":\"white\",\"linecolor\":\"white\",\"ticks\":\"\"},\"bgcolor\":\"#E5ECF6\",\"radialaxis\":{\"gridcolor\":\"white\",\"linecolor\":\"white\",\"ticks\":\"\"}},\"scene\":{\"xaxis\":{\"backgroundcolor\":\"#E5ECF6\",\"gridcolor\":\"white\",\"gridwidth\":2,\"linecolor\":\"white\",\"showbackground\":true,\"ticks\":\"\",\"zerolinecolor\":\"white\"},\"yaxis\":{\"backgroundcolor\":\"#E5ECF6\",\"gridcolor\":\"white\",\"gridwidth\":2,\"linecolor\":\"white\",\"showbackground\":true,\"ticks\":\"\",\"zerolinecolor\":\"white\"},\"zaxis\":{\"backgroundcolor\":\"#E5ECF6\",\"gridcolor\":\"white\",\"gridwidth\":2,\"linecolor\":\"white\",\"showbackground\":true,\"ticks\":\"\",\"zerolinecolor\":\"white\"}},\"shapedefaults\":{\"line\":{\"color\":\"#2a3f5f\"}},\"ternary\":{\"aaxis\":{\"gridcolor\":\"white\",\"linecolor\":\"white\",\"ticks\":\"\"},\"baxis\":{\"gridcolor\":\"white\",\"linecolor\":\"white\",\"ticks\":\"\"},\"bgcolor\":\"#E5ECF6\",\"caxis\":{\"gridcolor\":\"white\",\"linecolor\":\"white\",\"ticks\":\"\"}},\"title\":{\"x\":0.05},\"xaxis\":{\"automargin\":true,\"gridcolor\":\"white\",\"linecolor\":\"white\",\"ticks\":\"\",\"title\":{\"standoff\":15},\"zerolinecolor\":\"white\",\"zerolinewidth\":2},\"yaxis\":{\"automargin\":true,\"gridcolor\":\"white\",\"linecolor\":\"white\",\"ticks\":\"\",\"title\":{\"standoff\":15},\"zerolinecolor\":\"white\",\"zerolinewidth\":2}}},\"title\":{\"font\":{\"color\":\"#4D5663\"},\"text\":\"VIZ TITLE\"},\"xaxis\":{\"gridcolor\":\"#E1E5ED\",\"showgrid\":true,\"tickfont\":{\"color\":\"#4D5663\"},\"title\":{\"font\":{\"color\":\"#4D5663\"},\"text\":\"AXIS TITLE\"},\"zerolinecolor\":\"#E1E5ED\"},\"yaxis\":{\"gridcolor\":\"#E1E5ED\",\"showgrid\":true,\"tickfont\":{\"color\":\"#4D5663\"},\"title\":{\"font\":{\"color\":\"#4D5663\"},\"text\":\"AXIS TITLE\"},\"zerolinecolor\":\"#E1E5ED\"}},                        {\"showLink\": true, \"linkText\": \"Export to plot.ly\", \"plotlyServerURL\": \"https://plot.ly\", \"responsive\": true}                    ).then(function(){\n",
       "                            \n",
       "var gd = document.getElementById('07e60565-756c-41ba-a0bc-b034db9a2b7c');\n",
       "var x = new MutationObserver(function (mutations, observer) {{\n",
       "        var display = window.getComputedStyle(gd).display;\n",
       "        if (!display || display === 'none') {{\n",
       "            console.log([gd, 'removed!']);\n",
       "            Plotly.purge(gd);\n",
       "            observer.disconnect();\n",
       "        }}\n",
       "}});\n",
       "\n",
       "// Listen for the removal of the full notebook cells\n",
       "var notebookContainer = gd.closest('#notebook-container');\n",
       "if (notebookContainer) {{\n",
       "    x.observe(notebookContainer, {childList: true});\n",
       "}}\n",
       "\n",
       "// Listen for the clearing of the current output cell\n",
       "var outputEl = gd.closest('.output');\n",
       "if (outputEl) {{\n",
       "    x.observe(outputEl, {childList: true});\n",
       "}}\n",
       "\n",
       "                        })                };                });            </script>        </div>"
      ]
     },
     "metadata": {}
    }
   ],
   "metadata": {}
  },
  {
   "cell_type": "code",
   "execution_count": 54,
   "source": [
    "# Cufflinks scatter plot\n",
    "\n",
    "dataset_sexo.iplot(x='Sexo', \n",
    "                      y='098', \n",
    "                      xTitle='AXIS TITLE', \n",
    "                      yTitle='AXIS TITLE',\n",
    "                      title='VIZ TITLE')\n"
   ],
   "outputs": [
    {
     "output_type": "display_data",
     "data": {
      "application/vnd.plotly.v1+json": {
       "data": [
        {
         "line": {
          "color": "rgba(255, 153, 51, 1.0)",
          "dash": "solid",
          "shape": "linear",
          "width": 1.3
         },
         "mode": "lines",
         "name": "098",
         "text": "",
         "x": [
          "Hombres",
          "Mujeres",
          "Total"
         ],
         "y": [
          181592,
          60150,
          241742
         ],
         "type": "scatter"
        }
       ],
       "layout": {
        "legend": {
         "bgcolor": "#F5F6F9",
         "font": {
          "color": "#4D5663"
         }
        },
        "paper_bgcolor": "#F5F6F9",
        "plot_bgcolor": "#F5F6F9",
        "template": {
         "data": {
          "barpolar": [
           {
            "marker": {
             "line": {
              "color": "#E5ECF6",
              "width": 0.5
             },
             "pattern": {
              "fillmode": "overlay",
              "size": 10,
              "solidity": 0.2
             }
            },
            "type": "barpolar"
           }
          ],
          "bar": [
           {
            "error_x": {
             "color": "#2a3f5f"
            },
            "error_y": {
             "color": "#2a3f5f"
            },
            "marker": {
             "line": {
              "color": "#E5ECF6",
              "width": 0.5
             },
             "pattern": {
              "fillmode": "overlay",
              "size": 10,
              "solidity": 0.2
             }
            },
            "type": "bar"
           }
          ],
          "carpet": [
           {
            "aaxis": {
             "endlinecolor": "#2a3f5f",
             "gridcolor": "white",
             "linecolor": "white",
             "minorgridcolor": "white",
             "startlinecolor": "#2a3f5f"
            },
            "baxis": {
             "endlinecolor": "#2a3f5f",
             "gridcolor": "white",
             "linecolor": "white",
             "minorgridcolor": "white",
             "startlinecolor": "#2a3f5f"
            },
            "type": "carpet"
           }
          ],
          "choropleth": [
           {
            "colorbar": {
             "outlinewidth": 0,
             "ticks": ""
            },
            "type": "choropleth"
           }
          ],
          "contourcarpet": [
           {
            "colorbar": {
             "outlinewidth": 0,
             "ticks": ""
            },
            "type": "contourcarpet"
           }
          ],
          "contour": [
           {
            "colorbar": {
             "outlinewidth": 0,
             "ticks": ""
            },
            "colorscale": [
             [
              0,
              "#0d0887"
             ],
             [
              0.1111111111111111,
              "#46039f"
             ],
             [
              0.2222222222222222,
              "#7201a8"
             ],
             [
              0.3333333333333333,
              "#9c179e"
             ],
             [
              0.4444444444444444,
              "#bd3786"
             ],
             [
              0.5555555555555556,
              "#d8576b"
             ],
             [
              0.6666666666666666,
              "#ed7953"
             ],
             [
              0.7777777777777778,
              "#fb9f3a"
             ],
             [
              0.8888888888888888,
              "#fdca26"
             ],
             [
              1,
              "#f0f921"
             ]
            ],
            "type": "contour"
           }
          ],
          "heatmapgl": [
           {
            "colorbar": {
             "outlinewidth": 0,
             "ticks": ""
            },
            "colorscale": [
             [
              0,
              "#0d0887"
             ],
             [
              0.1111111111111111,
              "#46039f"
             ],
             [
              0.2222222222222222,
              "#7201a8"
             ],
             [
              0.3333333333333333,
              "#9c179e"
             ],
             [
              0.4444444444444444,
              "#bd3786"
             ],
             [
              0.5555555555555556,
              "#d8576b"
             ],
             [
              0.6666666666666666,
              "#ed7953"
             ],
             [
              0.7777777777777778,
              "#fb9f3a"
             ],
             [
              0.8888888888888888,
              "#fdca26"
             ],
             [
              1,
              "#f0f921"
             ]
            ],
            "type": "heatmapgl"
           }
          ],
          "heatmap": [
           {
            "colorbar": {
             "outlinewidth": 0,
             "ticks": ""
            },
            "colorscale": [
             [
              0,
              "#0d0887"
             ],
             [
              0.1111111111111111,
              "#46039f"
             ],
             [
              0.2222222222222222,
              "#7201a8"
             ],
             [
              0.3333333333333333,
              "#9c179e"
             ],
             [
              0.4444444444444444,
              "#bd3786"
             ],
             [
              0.5555555555555556,
              "#d8576b"
             ],
             [
              0.6666666666666666,
              "#ed7953"
             ],
             [
              0.7777777777777778,
              "#fb9f3a"
             ],
             [
              0.8888888888888888,
              "#fdca26"
             ],
             [
              1,
              "#f0f921"
             ]
            ],
            "type": "heatmap"
           }
          ],
          "histogram2dcontour": [
           {
            "colorbar": {
             "outlinewidth": 0,
             "ticks": ""
            },
            "colorscale": [
             [
              0,
              "#0d0887"
             ],
             [
              0.1111111111111111,
              "#46039f"
             ],
             [
              0.2222222222222222,
              "#7201a8"
             ],
             [
              0.3333333333333333,
              "#9c179e"
             ],
             [
              0.4444444444444444,
              "#bd3786"
             ],
             [
              0.5555555555555556,
              "#d8576b"
             ],
             [
              0.6666666666666666,
              "#ed7953"
             ],
             [
              0.7777777777777778,
              "#fb9f3a"
             ],
             [
              0.8888888888888888,
              "#fdca26"
             ],
             [
              1,
              "#f0f921"
             ]
            ],
            "type": "histogram2dcontour"
           }
          ],
          "histogram2d": [
           {
            "colorbar": {
             "outlinewidth": 0,
             "ticks": ""
            },
            "colorscale": [
             [
              0,
              "#0d0887"
             ],
             [
              0.1111111111111111,
              "#46039f"
             ],
             [
              0.2222222222222222,
              "#7201a8"
             ],
             [
              0.3333333333333333,
              "#9c179e"
             ],
             [
              0.4444444444444444,
              "#bd3786"
             ],
             [
              0.5555555555555556,
              "#d8576b"
             ],
             [
              0.6666666666666666,
              "#ed7953"
             ],
             [
              0.7777777777777778,
              "#fb9f3a"
             ],
             [
              0.8888888888888888,
              "#fdca26"
             ],
             [
              1,
              "#f0f921"
             ]
            ],
            "type": "histogram2d"
           }
          ],
          "histogram": [
           {
            "marker": {
             "pattern": {
              "fillmode": "overlay",
              "size": 10,
              "solidity": 0.2
             }
            },
            "type": "histogram"
           }
          ],
          "mesh3d": [
           {
            "colorbar": {
             "outlinewidth": 0,
             "ticks": ""
            },
            "type": "mesh3d"
           }
          ],
          "parcoords": [
           {
            "line": {
             "colorbar": {
              "outlinewidth": 0,
              "ticks": ""
             }
            },
            "type": "parcoords"
           }
          ],
          "pie": [
           {
            "automargin": true,
            "type": "pie"
           }
          ],
          "scatter3d": [
           {
            "line": {
             "colorbar": {
              "outlinewidth": 0,
              "ticks": ""
             }
            },
            "marker": {
             "colorbar": {
              "outlinewidth": 0,
              "ticks": ""
             }
            },
            "type": "scatter3d"
           }
          ],
          "scattercarpet": [
           {
            "marker": {
             "colorbar": {
              "outlinewidth": 0,
              "ticks": ""
             }
            },
            "type": "scattercarpet"
           }
          ],
          "scattergeo": [
           {
            "marker": {
             "colorbar": {
              "outlinewidth": 0,
              "ticks": ""
             }
            },
            "type": "scattergeo"
           }
          ],
          "scattergl": [
           {
            "marker": {
             "colorbar": {
              "outlinewidth": 0,
              "ticks": ""
             }
            },
            "type": "scattergl"
           }
          ],
          "scattermapbox": [
           {
            "marker": {
             "colorbar": {
              "outlinewidth": 0,
              "ticks": ""
             }
            },
            "type": "scattermapbox"
           }
          ],
          "scatterpolargl": [
           {
            "marker": {
             "colorbar": {
              "outlinewidth": 0,
              "ticks": ""
             }
            },
            "type": "scatterpolargl"
           }
          ],
          "scatterpolar": [
           {
            "marker": {
             "colorbar": {
              "outlinewidth": 0,
              "ticks": ""
             }
            },
            "type": "scatterpolar"
           }
          ],
          "scatter": [
           {
            "marker": {
             "colorbar": {
              "outlinewidth": 0,
              "ticks": ""
             }
            },
            "type": "scatter"
           }
          ],
          "scatterternary": [
           {
            "marker": {
             "colorbar": {
              "outlinewidth": 0,
              "ticks": ""
             }
            },
            "type": "scatterternary"
           }
          ],
          "surface": [
           {
            "colorbar": {
             "outlinewidth": 0,
             "ticks": ""
            },
            "colorscale": [
             [
              0,
              "#0d0887"
             ],
             [
              0.1111111111111111,
              "#46039f"
             ],
             [
              0.2222222222222222,
              "#7201a8"
             ],
             [
              0.3333333333333333,
              "#9c179e"
             ],
             [
              0.4444444444444444,
              "#bd3786"
             ],
             [
              0.5555555555555556,
              "#d8576b"
             ],
             [
              0.6666666666666666,
              "#ed7953"
             ],
             [
              0.7777777777777778,
              "#fb9f3a"
             ],
             [
              0.8888888888888888,
              "#fdca26"
             ],
             [
              1,
              "#f0f921"
             ]
            ],
            "type": "surface"
           }
          ],
          "table": [
           {
            "cells": {
             "fill": {
              "color": "#EBF0F8"
             },
             "line": {
              "color": "white"
             }
            },
            "header": {
             "fill": {
              "color": "#C8D4E3"
             },
             "line": {
              "color": "white"
             }
            },
            "type": "table"
           }
          ]
         },
         "layout": {
          "annotationdefaults": {
           "arrowcolor": "#2a3f5f",
           "arrowhead": 0,
           "arrowwidth": 1
          },
          "autotypenumbers": "strict",
          "coloraxis": {
           "colorbar": {
            "outlinewidth": 0,
            "ticks": ""
           }
          },
          "colorscale": {
           "diverging": [
            [
             0,
             "#8e0152"
            ],
            [
             0.1,
             "#c51b7d"
            ],
            [
             0.2,
             "#de77ae"
            ],
            [
             0.3,
             "#f1b6da"
            ],
            [
             0.4,
             "#fde0ef"
            ],
            [
             0.5,
             "#f7f7f7"
            ],
            [
             0.6,
             "#e6f5d0"
            ],
            [
             0.7,
             "#b8e186"
            ],
            [
             0.8,
             "#7fbc41"
            ],
            [
             0.9,
             "#4d9221"
            ],
            [
             1,
             "#276419"
            ]
           ],
           "sequential": [
            [
             0,
             "#0d0887"
            ],
            [
             0.1111111111111111,
             "#46039f"
            ],
            [
             0.2222222222222222,
             "#7201a8"
            ],
            [
             0.3333333333333333,
             "#9c179e"
            ],
            [
             0.4444444444444444,
             "#bd3786"
            ],
            [
             0.5555555555555556,
             "#d8576b"
            ],
            [
             0.6666666666666666,
             "#ed7953"
            ],
            [
             0.7777777777777778,
             "#fb9f3a"
            ],
            [
             0.8888888888888888,
             "#fdca26"
            ],
            [
             1,
             "#f0f921"
            ]
           ],
           "sequentialminus": [
            [
             0,
             "#0d0887"
            ],
            [
             0.1111111111111111,
             "#46039f"
            ],
            [
             0.2222222222222222,
             "#7201a8"
            ],
            [
             0.3333333333333333,
             "#9c179e"
            ],
            [
             0.4444444444444444,
             "#bd3786"
            ],
            [
             0.5555555555555556,
             "#d8576b"
            ],
            [
             0.6666666666666666,
             "#ed7953"
            ],
            [
             0.7777777777777778,
             "#fb9f3a"
            ],
            [
             0.8888888888888888,
             "#fdca26"
            ],
            [
             1,
             "#f0f921"
            ]
           ]
          },
          "colorway": [
           "#636efa",
           "#EF553B",
           "#00cc96",
           "#ab63fa",
           "#FFA15A",
           "#19d3f3",
           "#FF6692",
           "#B6E880",
           "#FF97FF",
           "#FECB52"
          ],
          "font": {
           "color": "#2a3f5f"
          },
          "geo": {
           "bgcolor": "white",
           "lakecolor": "white",
           "landcolor": "#E5ECF6",
           "showlakes": true,
           "showland": true,
           "subunitcolor": "white"
          },
          "hoverlabel": {
           "align": "left"
          },
          "hovermode": "closest",
          "mapbox": {
           "style": "light"
          },
          "paper_bgcolor": "white",
          "plot_bgcolor": "#E5ECF6",
          "polar": {
           "angularaxis": {
            "gridcolor": "white",
            "linecolor": "white",
            "ticks": ""
           },
           "bgcolor": "#E5ECF6",
           "radialaxis": {
            "gridcolor": "white",
            "linecolor": "white",
            "ticks": ""
           }
          },
          "scene": {
           "xaxis": {
            "backgroundcolor": "#E5ECF6",
            "gridcolor": "white",
            "gridwidth": 2,
            "linecolor": "white",
            "showbackground": true,
            "ticks": "",
            "zerolinecolor": "white"
           },
           "yaxis": {
            "backgroundcolor": "#E5ECF6",
            "gridcolor": "white",
            "gridwidth": 2,
            "linecolor": "white",
            "showbackground": true,
            "ticks": "",
            "zerolinecolor": "white"
           },
           "zaxis": {
            "backgroundcolor": "#E5ECF6",
            "gridcolor": "white",
            "gridwidth": 2,
            "linecolor": "white",
            "showbackground": true,
            "ticks": "",
            "zerolinecolor": "white"
           }
          },
          "shapedefaults": {
           "line": {
            "color": "#2a3f5f"
           }
          },
          "ternary": {
           "aaxis": {
            "gridcolor": "white",
            "linecolor": "white",
            "ticks": ""
           },
           "baxis": {
            "gridcolor": "white",
            "linecolor": "white",
            "ticks": ""
           },
           "bgcolor": "#E5ECF6",
           "caxis": {
            "gridcolor": "white",
            "linecolor": "white",
            "ticks": ""
           }
          },
          "title": {
           "x": 0.05
          },
          "xaxis": {
           "automargin": true,
           "gridcolor": "white",
           "linecolor": "white",
           "ticks": "",
           "title": {
            "standoff": 15
           },
           "zerolinecolor": "white",
           "zerolinewidth": 2
          },
          "yaxis": {
           "automargin": true,
           "gridcolor": "white",
           "linecolor": "white",
           "ticks": "",
           "title": {
            "standoff": 15
           },
           "zerolinecolor": "white",
           "zerolinewidth": 2
          }
         }
        },
        "title": {
         "font": {
          "color": "#4D5663"
         },
         "text": "VIZ TITLE"
        },
        "xaxis": {
         "gridcolor": "#E1E5ED",
         "showgrid": true,
         "tickfont": {
          "color": "#4D5663"
         },
         "title": {
          "font": {
           "color": "#4D5663"
          },
          "text": "AXIS TITLE"
         },
         "zerolinecolor": "#E1E5ED"
        },
        "yaxis": {
         "gridcolor": "#E1E5ED",
         "showgrid": true,
         "tickfont": {
          "color": "#4D5663"
         },
         "title": {
          "font": {
           "color": "#4D5663"
          },
          "text": "AXIS TITLE"
         },
         "zerolinecolor": "#E1E5ED"
        }
       },
       "config": {
        "showLink": true,
        "linkText": "Export to plot.ly",
        "plotlyServerURL": "https://plot.ly"
       }
      },
      "text/html": [
       "<div>                            <div id=\"1c764d27-9dcd-42d0-b81e-11519e24ed7a\" class=\"plotly-graph-div\" style=\"height:525px; width:100%;\"></div>            <script type=\"text/javascript\">                require([\"plotly\"], function(Plotly) {                    window.PLOTLYENV=window.PLOTLYENV || {};\n",
       "                    window.PLOTLYENV.BASE_URL='https://plot.ly';                                    if (document.getElementById(\"1c764d27-9dcd-42d0-b81e-11519e24ed7a\")) {                    Plotly.newPlot(                        \"1c764d27-9dcd-42d0-b81e-11519e24ed7a\",                        [{\"line\":{\"color\":\"rgba(255, 153, 51, 1.0)\",\"dash\":\"solid\",\"shape\":\"linear\",\"width\":1.3},\"mode\":\"lines\",\"name\":\"098\",\"text\":\"\",\"x\":[\"Hombres\",\"Mujeres\",\"Total\"],\"y\":[181592,60150,241742],\"type\":\"scatter\"}],                        {\"legend\":{\"bgcolor\":\"#F5F6F9\",\"font\":{\"color\":\"#4D5663\"}},\"paper_bgcolor\":\"#F5F6F9\",\"plot_bgcolor\":\"#F5F6F9\",\"template\":{\"data\":{\"barpolar\":[{\"marker\":{\"line\":{\"color\":\"#E5ECF6\",\"width\":0.5},\"pattern\":{\"fillmode\":\"overlay\",\"size\":10,\"solidity\":0.2}},\"type\":\"barpolar\"}],\"bar\":[{\"error_x\":{\"color\":\"#2a3f5f\"},\"error_y\":{\"color\":\"#2a3f5f\"},\"marker\":{\"line\":{\"color\":\"#E5ECF6\",\"width\":0.5},\"pattern\":{\"fillmode\":\"overlay\",\"size\":10,\"solidity\":0.2}},\"type\":\"bar\"}],\"carpet\":[{\"aaxis\":{\"endlinecolor\":\"#2a3f5f\",\"gridcolor\":\"white\",\"linecolor\":\"white\",\"minorgridcolor\":\"white\",\"startlinecolor\":\"#2a3f5f\"},\"baxis\":{\"endlinecolor\":\"#2a3f5f\",\"gridcolor\":\"white\",\"linecolor\":\"white\",\"minorgridcolor\":\"white\",\"startlinecolor\":\"#2a3f5f\"},\"type\":\"carpet\"}],\"choropleth\":[{\"colorbar\":{\"outlinewidth\":0,\"ticks\":\"\"},\"type\":\"choropleth\"}],\"contourcarpet\":[{\"colorbar\":{\"outlinewidth\":0,\"ticks\":\"\"},\"type\":\"contourcarpet\"}],\"contour\":[{\"colorbar\":{\"outlinewidth\":0,\"ticks\":\"\"},\"colorscale\":[[0.0,\"#0d0887\"],[0.1111111111111111,\"#46039f\"],[0.2222222222222222,\"#7201a8\"],[0.3333333333333333,\"#9c179e\"],[0.4444444444444444,\"#bd3786\"],[0.5555555555555556,\"#d8576b\"],[0.6666666666666666,\"#ed7953\"],[0.7777777777777778,\"#fb9f3a\"],[0.8888888888888888,\"#fdca26\"],[1.0,\"#f0f921\"]],\"type\":\"contour\"}],\"heatmapgl\":[{\"colorbar\":{\"outlinewidth\":0,\"ticks\":\"\"},\"colorscale\":[[0.0,\"#0d0887\"],[0.1111111111111111,\"#46039f\"],[0.2222222222222222,\"#7201a8\"],[0.3333333333333333,\"#9c179e\"],[0.4444444444444444,\"#bd3786\"],[0.5555555555555556,\"#d8576b\"],[0.6666666666666666,\"#ed7953\"],[0.7777777777777778,\"#fb9f3a\"],[0.8888888888888888,\"#fdca26\"],[1.0,\"#f0f921\"]],\"type\":\"heatmapgl\"}],\"heatmap\":[{\"colorbar\":{\"outlinewidth\":0,\"ticks\":\"\"},\"colorscale\":[[0.0,\"#0d0887\"],[0.1111111111111111,\"#46039f\"],[0.2222222222222222,\"#7201a8\"],[0.3333333333333333,\"#9c179e\"],[0.4444444444444444,\"#bd3786\"],[0.5555555555555556,\"#d8576b\"],[0.6666666666666666,\"#ed7953\"],[0.7777777777777778,\"#fb9f3a\"],[0.8888888888888888,\"#fdca26\"],[1.0,\"#f0f921\"]],\"type\":\"heatmap\"}],\"histogram2dcontour\":[{\"colorbar\":{\"outlinewidth\":0,\"ticks\":\"\"},\"colorscale\":[[0.0,\"#0d0887\"],[0.1111111111111111,\"#46039f\"],[0.2222222222222222,\"#7201a8\"],[0.3333333333333333,\"#9c179e\"],[0.4444444444444444,\"#bd3786\"],[0.5555555555555556,\"#d8576b\"],[0.6666666666666666,\"#ed7953\"],[0.7777777777777778,\"#fb9f3a\"],[0.8888888888888888,\"#fdca26\"],[1.0,\"#f0f921\"]],\"type\":\"histogram2dcontour\"}],\"histogram2d\":[{\"colorbar\":{\"outlinewidth\":0,\"ticks\":\"\"},\"colorscale\":[[0.0,\"#0d0887\"],[0.1111111111111111,\"#46039f\"],[0.2222222222222222,\"#7201a8\"],[0.3333333333333333,\"#9c179e\"],[0.4444444444444444,\"#bd3786\"],[0.5555555555555556,\"#d8576b\"],[0.6666666666666666,\"#ed7953\"],[0.7777777777777778,\"#fb9f3a\"],[0.8888888888888888,\"#fdca26\"],[1.0,\"#f0f921\"]],\"type\":\"histogram2d\"}],\"histogram\":[{\"marker\":{\"pattern\":{\"fillmode\":\"overlay\",\"size\":10,\"solidity\":0.2}},\"type\":\"histogram\"}],\"mesh3d\":[{\"colorbar\":{\"outlinewidth\":0,\"ticks\":\"\"},\"type\":\"mesh3d\"}],\"parcoords\":[{\"line\":{\"colorbar\":{\"outlinewidth\":0,\"ticks\":\"\"}},\"type\":\"parcoords\"}],\"pie\":[{\"automargin\":true,\"type\":\"pie\"}],\"scatter3d\":[{\"line\":{\"colorbar\":{\"outlinewidth\":0,\"ticks\":\"\"}},\"marker\":{\"colorbar\":{\"outlinewidth\":0,\"ticks\":\"\"}},\"type\":\"scatter3d\"}],\"scattercarpet\":[{\"marker\":{\"colorbar\":{\"outlinewidth\":0,\"ticks\":\"\"}},\"type\":\"scattercarpet\"}],\"scattergeo\":[{\"marker\":{\"colorbar\":{\"outlinewidth\":0,\"ticks\":\"\"}},\"type\":\"scattergeo\"}],\"scattergl\":[{\"marker\":{\"colorbar\":{\"outlinewidth\":0,\"ticks\":\"\"}},\"type\":\"scattergl\"}],\"scattermapbox\":[{\"marker\":{\"colorbar\":{\"outlinewidth\":0,\"ticks\":\"\"}},\"type\":\"scattermapbox\"}],\"scatterpolargl\":[{\"marker\":{\"colorbar\":{\"outlinewidth\":0,\"ticks\":\"\"}},\"type\":\"scatterpolargl\"}],\"scatterpolar\":[{\"marker\":{\"colorbar\":{\"outlinewidth\":0,\"ticks\":\"\"}},\"type\":\"scatterpolar\"}],\"scatter\":[{\"marker\":{\"colorbar\":{\"outlinewidth\":0,\"ticks\":\"\"}},\"type\":\"scatter\"}],\"scatterternary\":[{\"marker\":{\"colorbar\":{\"outlinewidth\":0,\"ticks\":\"\"}},\"type\":\"scatterternary\"}],\"surface\":[{\"colorbar\":{\"outlinewidth\":0,\"ticks\":\"\"},\"colorscale\":[[0.0,\"#0d0887\"],[0.1111111111111111,\"#46039f\"],[0.2222222222222222,\"#7201a8\"],[0.3333333333333333,\"#9c179e\"],[0.4444444444444444,\"#bd3786\"],[0.5555555555555556,\"#d8576b\"],[0.6666666666666666,\"#ed7953\"],[0.7777777777777778,\"#fb9f3a\"],[0.8888888888888888,\"#fdca26\"],[1.0,\"#f0f921\"]],\"type\":\"surface\"}],\"table\":[{\"cells\":{\"fill\":{\"color\":\"#EBF0F8\"},\"line\":{\"color\":\"white\"}},\"header\":{\"fill\":{\"color\":\"#C8D4E3\"},\"line\":{\"color\":\"white\"}},\"type\":\"table\"}]},\"layout\":{\"annotationdefaults\":{\"arrowcolor\":\"#2a3f5f\",\"arrowhead\":0,\"arrowwidth\":1},\"autotypenumbers\":\"strict\",\"coloraxis\":{\"colorbar\":{\"outlinewidth\":0,\"ticks\":\"\"}},\"colorscale\":{\"diverging\":[[0,\"#8e0152\"],[0.1,\"#c51b7d\"],[0.2,\"#de77ae\"],[0.3,\"#f1b6da\"],[0.4,\"#fde0ef\"],[0.5,\"#f7f7f7\"],[0.6,\"#e6f5d0\"],[0.7,\"#b8e186\"],[0.8,\"#7fbc41\"],[0.9,\"#4d9221\"],[1,\"#276419\"]],\"sequential\":[[0.0,\"#0d0887\"],[0.1111111111111111,\"#46039f\"],[0.2222222222222222,\"#7201a8\"],[0.3333333333333333,\"#9c179e\"],[0.4444444444444444,\"#bd3786\"],[0.5555555555555556,\"#d8576b\"],[0.6666666666666666,\"#ed7953\"],[0.7777777777777778,\"#fb9f3a\"],[0.8888888888888888,\"#fdca26\"],[1.0,\"#f0f921\"]],\"sequentialminus\":[[0.0,\"#0d0887\"],[0.1111111111111111,\"#46039f\"],[0.2222222222222222,\"#7201a8\"],[0.3333333333333333,\"#9c179e\"],[0.4444444444444444,\"#bd3786\"],[0.5555555555555556,\"#d8576b\"],[0.6666666666666666,\"#ed7953\"],[0.7777777777777778,\"#fb9f3a\"],[0.8888888888888888,\"#fdca26\"],[1.0,\"#f0f921\"]]},\"colorway\":[\"#636efa\",\"#EF553B\",\"#00cc96\",\"#ab63fa\",\"#FFA15A\",\"#19d3f3\",\"#FF6692\",\"#B6E880\",\"#FF97FF\",\"#FECB52\"],\"font\":{\"color\":\"#2a3f5f\"},\"geo\":{\"bgcolor\":\"white\",\"lakecolor\":\"white\",\"landcolor\":\"#E5ECF6\",\"showlakes\":true,\"showland\":true,\"subunitcolor\":\"white\"},\"hoverlabel\":{\"align\":\"left\"},\"hovermode\":\"closest\",\"mapbox\":{\"style\":\"light\"},\"paper_bgcolor\":\"white\",\"plot_bgcolor\":\"#E5ECF6\",\"polar\":{\"angularaxis\":{\"gridcolor\":\"white\",\"linecolor\":\"white\",\"ticks\":\"\"},\"bgcolor\":\"#E5ECF6\",\"radialaxis\":{\"gridcolor\":\"white\",\"linecolor\":\"white\",\"ticks\":\"\"}},\"scene\":{\"xaxis\":{\"backgroundcolor\":\"#E5ECF6\",\"gridcolor\":\"white\",\"gridwidth\":2,\"linecolor\":\"white\",\"showbackground\":true,\"ticks\":\"\",\"zerolinecolor\":\"white\"},\"yaxis\":{\"backgroundcolor\":\"#E5ECF6\",\"gridcolor\":\"white\",\"gridwidth\":2,\"linecolor\":\"white\",\"showbackground\":true,\"ticks\":\"\",\"zerolinecolor\":\"white\"},\"zaxis\":{\"backgroundcolor\":\"#E5ECF6\",\"gridcolor\":\"white\",\"gridwidth\":2,\"linecolor\":\"white\",\"showbackground\":true,\"ticks\":\"\",\"zerolinecolor\":\"white\"}},\"shapedefaults\":{\"line\":{\"color\":\"#2a3f5f\"}},\"ternary\":{\"aaxis\":{\"gridcolor\":\"white\",\"linecolor\":\"white\",\"ticks\":\"\"},\"baxis\":{\"gridcolor\":\"white\",\"linecolor\":\"white\",\"ticks\":\"\"},\"bgcolor\":\"#E5ECF6\",\"caxis\":{\"gridcolor\":\"white\",\"linecolor\":\"white\",\"ticks\":\"\"}},\"title\":{\"x\":0.05},\"xaxis\":{\"automargin\":true,\"gridcolor\":\"white\",\"linecolor\":\"white\",\"ticks\":\"\",\"title\":{\"standoff\":15},\"zerolinecolor\":\"white\",\"zerolinewidth\":2},\"yaxis\":{\"automargin\":true,\"gridcolor\":\"white\",\"linecolor\":\"white\",\"ticks\":\"\",\"title\":{\"standoff\":15},\"zerolinecolor\":\"white\",\"zerolinewidth\":2}}},\"title\":{\"font\":{\"color\":\"#4D5663\"},\"text\":\"VIZ TITLE\"},\"xaxis\":{\"gridcolor\":\"#E1E5ED\",\"showgrid\":true,\"tickfont\":{\"color\":\"#4D5663\"},\"title\":{\"font\":{\"color\":\"#4D5663\"},\"text\":\"AXIS TITLE\"},\"zerolinecolor\":\"#E1E5ED\"},\"yaxis\":{\"gridcolor\":\"#E1E5ED\",\"showgrid\":true,\"tickfont\":{\"color\":\"#4D5663\"},\"title\":{\"font\":{\"color\":\"#4D5663\"},\"text\":\"AXIS TITLE\"},\"zerolinecolor\":\"#E1E5ED\"}},                        {\"showLink\": true, \"linkText\": \"Export to plot.ly\", \"plotlyServerURL\": \"https://plot.ly\", \"responsive\": true}                    ).then(function(){\n",
       "                            \n",
       "var gd = document.getElementById('1c764d27-9dcd-42d0-b81e-11519e24ed7a');\n",
       "var x = new MutationObserver(function (mutations, observer) {{\n",
       "        var display = window.getComputedStyle(gd).display;\n",
       "        if (!display || display === 'none') {{\n",
       "            console.log([gd, 'removed!']);\n",
       "            Plotly.purge(gd);\n",
       "            observer.disconnect();\n",
       "        }}\n",
       "}});\n",
       "\n",
       "// Listen for the removal of the full notebook cells\n",
       "var notebookContainer = gd.closest('#notebook-container');\n",
       "if (notebookContainer) {{\n",
       "    x.observe(notebookContainer, {childList: true});\n",
       "}}\n",
       "\n",
       "// Listen for the clearing of the current output cell\n",
       "var outputEl = gd.closest('.output');\n",
       "if (outputEl) {{\n",
       "    x.observe(outputEl, {childList: true});\n",
       "}}\n",
       "\n",
       "                        })                };                });            </script>        </div>"
      ]
     },
     "metadata": {}
    }
   ],
   "metadata": {}
  },
  {
   "cell_type": "code",
   "execution_count": 112,
   "source": [
    "\n",
    "fig = px.bar(dataset1, x=\"Sexo\", y=\"Total\", barmode=\"group\", color=\"cause_code\",\n",
    "                            category_orders={\"Sexo\": [\"Hombres\", \"Mujeres\"],\n",
    "                            \"cause_code\": [\"098\", \"048\"]})\n",
    "fig"
   ],
   "outputs": [
    {
     "output_type": "display_data",
     "data": {
      "application/vnd.plotly.v1+json": {
       "data": [
        {
         "alignmentgroup": "True",
         "hovertemplate": "cause_code=098<br>Sexo=%{x}<br>Total=%{y}<extra></extra>",
         "legendgroup": "098",
         "marker": {
          "color": "#636efa",
          "pattern": {
           "shape": ""
          }
         },
         "name": "098",
         "offsetgroup": "098",
         "orientation": "v",
         "showlegend": true,
         "textposition": "auto",
         "x": [
          "Hombres",
          "Hombres",
          "Hombres",
          "Hombres",
          "Hombres",
          "Hombres",
          "Hombres",
          "Hombres",
          "Hombres",
          "Hombres",
          "Hombres",
          "Hombres",
          "Hombres",
          "Hombres",
          "Hombres",
          "Hombres",
          "Hombres",
          "Hombres",
          "Hombres",
          "Hombres",
          "Hombres",
          "Hombres",
          "Hombres",
          "Hombres",
          "Hombres",
          "Hombres",
          "Hombres",
          "Hombres",
          "Hombres",
          "Hombres",
          "Hombres",
          "Hombres",
          "Hombres",
          "Hombres",
          "Hombres",
          "Hombres",
          "Hombres",
          "Hombres",
          "Hombres",
          "Mujeres",
          "Mujeres",
          "Mujeres",
          "Mujeres",
          "Mujeres",
          "Mujeres",
          "Mujeres",
          "Mujeres",
          "Mujeres",
          "Mujeres",
          "Mujeres",
          "Mujeres",
          "Mujeres",
          "Mujeres",
          "Mujeres",
          "Mujeres",
          "Mujeres",
          "Mujeres",
          "Mujeres",
          "Mujeres",
          "Mujeres",
          "Mujeres",
          "Mujeres",
          "Mujeres",
          "Mujeres",
          "Mujeres",
          "Mujeres",
          "Mujeres",
          "Mujeres",
          "Mujeres",
          "Mujeres",
          "Mujeres",
          "Mujeres",
          "Mujeres",
          "Mujeres",
          "Mujeres",
          "Mujeres",
          "Mujeres",
          "Mujeres"
         ],
         "xaxis": "x",
         "y": [
          2938,
          2911,
          2724,
          2718,
          2680,
          2676,
          2666,
          2662,
          2651,
          2650,
          2619,
          2574,
          2570,
          2554,
          2526,
          2512,
          2499,
          2468,
          2463,
          2451,
          2435,
          2430,
          2429,
          2410,
          2408,
          2283,
          2213,
          2150,
          2139,
          2135,
          2104,
          2032,
          2017,
          1836,
          1829,
          1593,
          1336,
          1268,
          1237,
          972,
          961,
          959,
          922,
          920,
          907,
          869,
          856,
          847,
          829,
          828,
          819,
          817,
          815,
          810,
          808,
          804,
          800,
          787,
          781,
          777,
          774,
          763,
          762,
          759,
          754,
          749,
          745,
          742,
          734,
          723,
          690,
          685,
          682,
          657,
          588,
          515,
          450,
          415
         ],
         "yaxis": "y",
         "type": "bar"
        },
        {
         "alignmentgroup": "True",
         "hovertemplate": "cause_code=048<br>Sexo=%{x}<br>Total=%{y}<extra></extra>",
         "legendgroup": "048",
         "marker": {
          "color": "#EF553B",
          "pattern": {
           "shape": ""
          }
         },
         "name": "048",
         "offsetgroup": "048",
         "orientation": "v",
         "showlegend": true,
         "textposition": "auto",
         "x": [
          "Hombres",
          "Hombres",
          "Hombres",
          "Hombres",
          "Hombres",
          "Hombres",
          "Hombres",
          "Hombres",
          "Hombres",
          "Hombres",
          "Hombres",
          "Hombres",
          "Hombres",
          "Hombres",
          "Hombres",
          "Hombres",
          "Hombres",
          "Hombres",
          "Hombres",
          "Hombres",
          "Hombres",
          "Hombres",
          "Hombres",
          "Hombres",
          "Hombres",
          "Hombres",
          "Hombres",
          "Hombres",
          "Hombres",
          "Hombres",
          "Hombres",
          "Hombres",
          "Hombres",
          "Mujeres",
          "Hombres",
          "Hombres",
          "Mujeres",
          "Mujeres",
          "Hombres",
          "Mujeres",
          "Mujeres",
          "Mujeres",
          "Mujeres",
          "Mujeres",
          "Mujeres",
          "Hombres",
          "Hombres",
          "Mujeres",
          "Mujeres",
          "Hombres",
          "Mujeres",
          "Mujeres",
          "Mujeres",
          "Mujeres",
          "Mujeres",
          "Mujeres",
          "Mujeres",
          "Mujeres",
          "Mujeres",
          "Mujeres",
          "Mujeres",
          "Mujeres",
          "Mujeres",
          "Mujeres",
          "Mujeres",
          "Mujeres",
          "Mujeres",
          "Mujeres",
          "Mujeres",
          "Mujeres",
          "Mujeres",
          "Mujeres",
          "Mujeres",
          "Mujeres",
          "Mujeres",
          "Mujeres",
          "Mujeres",
          "Mujeres"
         ],
         "xaxis": "x",
         "y": [
          162,
          141,
          110,
          104,
          78,
          75,
          72,
          71,
          71,
          69,
          65,
          63,
          57,
          56,
          55,
          52,
          52,
          48,
          43,
          43,
          40,
          39,
          38,
          37,
          33,
          31,
          31,
          30,
          26,
          25,
          24,
          23,
          22,
          22,
          21,
          20,
          20,
          19,
          18,
          17,
          17,
          17,
          16,
          16,
          15,
          15,
          13,
          13,
          12,
          12,
          12,
          11,
          10,
          10,
          9,
          9,
          8,
          7,
          7,
          7,
          6,
          6,
          6,
          6,
          6,
          5,
          5,
          5,
          5,
          4,
          4,
          3,
          2,
          2,
          2,
          2,
          2,
          2
         ],
         "yaxis": "y",
         "type": "bar"
        }
       ],
       "layout": {
        "template": {
         "data": {
          "bar": [
           {
            "error_x": {
             "color": "#2a3f5f"
            },
            "error_y": {
             "color": "#2a3f5f"
            },
            "marker": {
             "line": {
              "color": "#E5ECF6",
              "width": 0.5
             },
             "pattern": {
              "fillmode": "overlay",
              "size": 10,
              "solidity": 0.2
             }
            },
            "type": "bar"
           }
          ],
          "barpolar": [
           {
            "marker": {
             "line": {
              "color": "#E5ECF6",
              "width": 0.5
             },
             "pattern": {
              "fillmode": "overlay",
              "size": 10,
              "solidity": 0.2
             }
            },
            "type": "barpolar"
           }
          ],
          "carpet": [
           {
            "aaxis": {
             "endlinecolor": "#2a3f5f",
             "gridcolor": "white",
             "linecolor": "white",
             "minorgridcolor": "white",
             "startlinecolor": "#2a3f5f"
            },
            "baxis": {
             "endlinecolor": "#2a3f5f",
             "gridcolor": "white",
             "linecolor": "white",
             "minorgridcolor": "white",
             "startlinecolor": "#2a3f5f"
            },
            "type": "carpet"
           }
          ],
          "choropleth": [
           {
            "colorbar": {
             "outlinewidth": 0,
             "ticks": ""
            },
            "type": "choropleth"
           }
          ],
          "contour": [
           {
            "colorbar": {
             "outlinewidth": 0,
             "ticks": ""
            },
            "colorscale": [
             [
              0,
              "#0d0887"
             ],
             [
              0.1111111111111111,
              "#46039f"
             ],
             [
              0.2222222222222222,
              "#7201a8"
             ],
             [
              0.3333333333333333,
              "#9c179e"
             ],
             [
              0.4444444444444444,
              "#bd3786"
             ],
             [
              0.5555555555555556,
              "#d8576b"
             ],
             [
              0.6666666666666666,
              "#ed7953"
             ],
             [
              0.7777777777777778,
              "#fb9f3a"
             ],
             [
              0.8888888888888888,
              "#fdca26"
             ],
             [
              1,
              "#f0f921"
             ]
            ],
            "type": "contour"
           }
          ],
          "contourcarpet": [
           {
            "colorbar": {
             "outlinewidth": 0,
             "ticks": ""
            },
            "type": "contourcarpet"
           }
          ],
          "heatmap": [
           {
            "colorbar": {
             "outlinewidth": 0,
             "ticks": ""
            },
            "colorscale": [
             [
              0,
              "#0d0887"
             ],
             [
              0.1111111111111111,
              "#46039f"
             ],
             [
              0.2222222222222222,
              "#7201a8"
             ],
             [
              0.3333333333333333,
              "#9c179e"
             ],
             [
              0.4444444444444444,
              "#bd3786"
             ],
             [
              0.5555555555555556,
              "#d8576b"
             ],
             [
              0.6666666666666666,
              "#ed7953"
             ],
             [
              0.7777777777777778,
              "#fb9f3a"
             ],
             [
              0.8888888888888888,
              "#fdca26"
             ],
             [
              1,
              "#f0f921"
             ]
            ],
            "type": "heatmap"
           }
          ],
          "heatmapgl": [
           {
            "colorbar": {
             "outlinewidth": 0,
             "ticks": ""
            },
            "colorscale": [
             [
              0,
              "#0d0887"
             ],
             [
              0.1111111111111111,
              "#46039f"
             ],
             [
              0.2222222222222222,
              "#7201a8"
             ],
             [
              0.3333333333333333,
              "#9c179e"
             ],
             [
              0.4444444444444444,
              "#bd3786"
             ],
             [
              0.5555555555555556,
              "#d8576b"
             ],
             [
              0.6666666666666666,
              "#ed7953"
             ],
             [
              0.7777777777777778,
              "#fb9f3a"
             ],
             [
              0.8888888888888888,
              "#fdca26"
             ],
             [
              1,
              "#f0f921"
             ]
            ],
            "type": "heatmapgl"
           }
          ],
          "histogram": [
           {
            "marker": {
             "pattern": {
              "fillmode": "overlay",
              "size": 10,
              "solidity": 0.2
             }
            },
            "type": "histogram"
           }
          ],
          "histogram2d": [
           {
            "colorbar": {
             "outlinewidth": 0,
             "ticks": ""
            },
            "colorscale": [
             [
              0,
              "#0d0887"
             ],
             [
              0.1111111111111111,
              "#46039f"
             ],
             [
              0.2222222222222222,
              "#7201a8"
             ],
             [
              0.3333333333333333,
              "#9c179e"
             ],
             [
              0.4444444444444444,
              "#bd3786"
             ],
             [
              0.5555555555555556,
              "#d8576b"
             ],
             [
              0.6666666666666666,
              "#ed7953"
             ],
             [
              0.7777777777777778,
              "#fb9f3a"
             ],
             [
              0.8888888888888888,
              "#fdca26"
             ],
             [
              1,
              "#f0f921"
             ]
            ],
            "type": "histogram2d"
           }
          ],
          "histogram2dcontour": [
           {
            "colorbar": {
             "outlinewidth": 0,
             "ticks": ""
            },
            "colorscale": [
             [
              0,
              "#0d0887"
             ],
             [
              0.1111111111111111,
              "#46039f"
             ],
             [
              0.2222222222222222,
              "#7201a8"
             ],
             [
              0.3333333333333333,
              "#9c179e"
             ],
             [
              0.4444444444444444,
              "#bd3786"
             ],
             [
              0.5555555555555556,
              "#d8576b"
             ],
             [
              0.6666666666666666,
              "#ed7953"
             ],
             [
              0.7777777777777778,
              "#fb9f3a"
             ],
             [
              0.8888888888888888,
              "#fdca26"
             ],
             [
              1,
              "#f0f921"
             ]
            ],
            "type": "histogram2dcontour"
           }
          ],
          "mesh3d": [
           {
            "colorbar": {
             "outlinewidth": 0,
             "ticks": ""
            },
            "type": "mesh3d"
           }
          ],
          "parcoords": [
           {
            "line": {
             "colorbar": {
              "outlinewidth": 0,
              "ticks": ""
             }
            },
            "type": "parcoords"
           }
          ],
          "pie": [
           {
            "automargin": true,
            "type": "pie"
           }
          ],
          "scatter": [
           {
            "marker": {
             "colorbar": {
              "outlinewidth": 0,
              "ticks": ""
             }
            },
            "type": "scatter"
           }
          ],
          "scatter3d": [
           {
            "line": {
             "colorbar": {
              "outlinewidth": 0,
              "ticks": ""
             }
            },
            "marker": {
             "colorbar": {
              "outlinewidth": 0,
              "ticks": ""
             }
            },
            "type": "scatter3d"
           }
          ],
          "scattercarpet": [
           {
            "marker": {
             "colorbar": {
              "outlinewidth": 0,
              "ticks": ""
             }
            },
            "type": "scattercarpet"
           }
          ],
          "scattergeo": [
           {
            "marker": {
             "colorbar": {
              "outlinewidth": 0,
              "ticks": ""
             }
            },
            "type": "scattergeo"
           }
          ],
          "scattergl": [
           {
            "marker": {
             "colorbar": {
              "outlinewidth": 0,
              "ticks": ""
             }
            },
            "type": "scattergl"
           }
          ],
          "scattermapbox": [
           {
            "marker": {
             "colorbar": {
              "outlinewidth": 0,
              "ticks": ""
             }
            },
            "type": "scattermapbox"
           }
          ],
          "scatterpolar": [
           {
            "marker": {
             "colorbar": {
              "outlinewidth": 0,
              "ticks": ""
             }
            },
            "type": "scatterpolar"
           }
          ],
          "scatterpolargl": [
           {
            "marker": {
             "colorbar": {
              "outlinewidth": 0,
              "ticks": ""
             }
            },
            "type": "scatterpolargl"
           }
          ],
          "scatterternary": [
           {
            "marker": {
             "colorbar": {
              "outlinewidth": 0,
              "ticks": ""
             }
            },
            "type": "scatterternary"
           }
          ],
          "surface": [
           {
            "colorbar": {
             "outlinewidth": 0,
             "ticks": ""
            },
            "colorscale": [
             [
              0,
              "#0d0887"
             ],
             [
              0.1111111111111111,
              "#46039f"
             ],
             [
              0.2222222222222222,
              "#7201a8"
             ],
             [
              0.3333333333333333,
              "#9c179e"
             ],
             [
              0.4444444444444444,
              "#bd3786"
             ],
             [
              0.5555555555555556,
              "#d8576b"
             ],
             [
              0.6666666666666666,
              "#ed7953"
             ],
             [
              0.7777777777777778,
              "#fb9f3a"
             ],
             [
              0.8888888888888888,
              "#fdca26"
             ],
             [
              1,
              "#f0f921"
             ]
            ],
            "type": "surface"
           }
          ],
          "table": [
           {
            "cells": {
             "fill": {
              "color": "#EBF0F8"
             },
             "line": {
              "color": "white"
             }
            },
            "header": {
             "fill": {
              "color": "#C8D4E3"
             },
             "line": {
              "color": "white"
             }
            },
            "type": "table"
           }
          ]
         },
         "layout": {
          "annotationdefaults": {
           "arrowcolor": "#2a3f5f",
           "arrowhead": 0,
           "arrowwidth": 1
          },
          "autotypenumbers": "strict",
          "coloraxis": {
           "colorbar": {
            "outlinewidth": 0,
            "ticks": ""
           }
          },
          "colorscale": {
           "diverging": [
            [
             0,
             "#8e0152"
            ],
            [
             0.1,
             "#c51b7d"
            ],
            [
             0.2,
             "#de77ae"
            ],
            [
             0.3,
             "#f1b6da"
            ],
            [
             0.4,
             "#fde0ef"
            ],
            [
             0.5,
             "#f7f7f7"
            ],
            [
             0.6,
             "#e6f5d0"
            ],
            [
             0.7,
             "#b8e186"
            ],
            [
             0.8,
             "#7fbc41"
            ],
            [
             0.9,
             "#4d9221"
            ],
            [
             1,
             "#276419"
            ]
           ],
           "sequential": [
            [
             0,
             "#0d0887"
            ],
            [
             0.1111111111111111,
             "#46039f"
            ],
            [
             0.2222222222222222,
             "#7201a8"
            ],
            [
             0.3333333333333333,
             "#9c179e"
            ],
            [
             0.4444444444444444,
             "#bd3786"
            ],
            [
             0.5555555555555556,
             "#d8576b"
            ],
            [
             0.6666666666666666,
             "#ed7953"
            ],
            [
             0.7777777777777778,
             "#fb9f3a"
            ],
            [
             0.8888888888888888,
             "#fdca26"
            ],
            [
             1,
             "#f0f921"
            ]
           ],
           "sequentialminus": [
            [
             0,
             "#0d0887"
            ],
            [
             0.1111111111111111,
             "#46039f"
            ],
            [
             0.2222222222222222,
             "#7201a8"
            ],
            [
             0.3333333333333333,
             "#9c179e"
            ],
            [
             0.4444444444444444,
             "#bd3786"
            ],
            [
             0.5555555555555556,
             "#d8576b"
            ],
            [
             0.6666666666666666,
             "#ed7953"
            ],
            [
             0.7777777777777778,
             "#fb9f3a"
            ],
            [
             0.8888888888888888,
             "#fdca26"
            ],
            [
             1,
             "#f0f921"
            ]
           ]
          },
          "colorway": [
           "#636efa",
           "#EF553B",
           "#00cc96",
           "#ab63fa",
           "#FFA15A",
           "#19d3f3",
           "#FF6692",
           "#B6E880",
           "#FF97FF",
           "#FECB52"
          ],
          "font": {
           "color": "#2a3f5f"
          },
          "geo": {
           "bgcolor": "white",
           "lakecolor": "white",
           "landcolor": "#E5ECF6",
           "showlakes": true,
           "showland": true,
           "subunitcolor": "white"
          },
          "hoverlabel": {
           "align": "left"
          },
          "hovermode": "closest",
          "mapbox": {
           "style": "light"
          },
          "paper_bgcolor": "white",
          "plot_bgcolor": "#E5ECF6",
          "polar": {
           "angularaxis": {
            "gridcolor": "white",
            "linecolor": "white",
            "ticks": ""
           },
           "bgcolor": "#E5ECF6",
           "radialaxis": {
            "gridcolor": "white",
            "linecolor": "white",
            "ticks": ""
           }
          },
          "scene": {
           "xaxis": {
            "backgroundcolor": "#E5ECF6",
            "gridcolor": "white",
            "gridwidth": 2,
            "linecolor": "white",
            "showbackground": true,
            "ticks": "",
            "zerolinecolor": "white"
           },
           "yaxis": {
            "backgroundcolor": "#E5ECF6",
            "gridcolor": "white",
            "gridwidth": 2,
            "linecolor": "white",
            "showbackground": true,
            "ticks": "",
            "zerolinecolor": "white"
           },
           "zaxis": {
            "backgroundcolor": "#E5ECF6",
            "gridcolor": "white",
            "gridwidth": 2,
            "linecolor": "white",
            "showbackground": true,
            "ticks": "",
            "zerolinecolor": "white"
           }
          },
          "shapedefaults": {
           "line": {
            "color": "#2a3f5f"
           }
          },
          "ternary": {
           "aaxis": {
            "gridcolor": "white",
            "linecolor": "white",
            "ticks": ""
           },
           "baxis": {
            "gridcolor": "white",
            "linecolor": "white",
            "ticks": ""
           },
           "bgcolor": "#E5ECF6",
           "caxis": {
            "gridcolor": "white",
            "linecolor": "white",
            "ticks": ""
           }
          },
          "title": {
           "x": 0.05
          },
          "xaxis": {
           "automargin": true,
           "gridcolor": "white",
           "linecolor": "white",
           "ticks": "",
           "title": {
            "standoff": 15
           },
           "zerolinecolor": "white",
           "zerolinewidth": 2
          },
          "yaxis": {
           "automargin": true,
           "gridcolor": "white",
           "linecolor": "white",
           "ticks": "",
           "title": {
            "standoff": 15
           },
           "zerolinecolor": "white",
           "zerolinewidth": 2
          }
         }
        },
        "xaxis": {
         "anchor": "y",
         "domain": [
          0,
          1
         ],
         "title": {
          "text": "Sexo"
         },
         "categoryorder": "array",
         "categoryarray": [
          "Hombres",
          "Mujeres"
         ]
        },
        "yaxis": {
         "anchor": "x",
         "domain": [
          0,
          1
         ],
         "title": {
          "text": "Total"
         }
        },
        "legend": {
         "title": {
          "text": "cause_code"
         },
         "tracegroupgap": 0
        },
        "margin": {
         "t": 60
        },
        "barmode": "group"
       },
       "config": {
        "plotlyServerURL": "https://plot.ly"
       }
      },
      "text/html": [
       "<div>                            <div id=\"e2f7317f-2ffe-4189-8841-cfaa4963b6a4\" class=\"plotly-graph-div\" style=\"height:525px; width:100%;\"></div>            <script type=\"text/javascript\">                require([\"plotly\"], function(Plotly) {                    window.PLOTLYENV=window.PLOTLYENV || {};                                    if (document.getElementById(\"e2f7317f-2ffe-4189-8841-cfaa4963b6a4\")) {                    Plotly.newPlot(                        \"e2f7317f-2ffe-4189-8841-cfaa4963b6a4\",                        [{\"alignmentgroup\":\"True\",\"hovertemplate\":\"cause_code=098<br>Sexo=%{x}<br>Total=%{y}<extra></extra>\",\"legendgroup\":\"098\",\"marker\":{\"color\":\"#636efa\",\"pattern\":{\"shape\":\"\"}},\"name\":\"098\",\"offsetgroup\":\"098\",\"orientation\":\"v\",\"showlegend\":true,\"textposition\":\"auto\",\"x\":[\"Hombres\",\"Hombres\",\"Hombres\",\"Hombres\",\"Hombres\",\"Hombres\",\"Hombres\",\"Hombres\",\"Hombres\",\"Hombres\",\"Hombres\",\"Hombres\",\"Hombres\",\"Hombres\",\"Hombres\",\"Hombres\",\"Hombres\",\"Hombres\",\"Hombres\",\"Hombres\",\"Hombres\",\"Hombres\",\"Hombres\",\"Hombres\",\"Hombres\",\"Hombres\",\"Hombres\",\"Hombres\",\"Hombres\",\"Hombres\",\"Hombres\",\"Hombres\",\"Hombres\",\"Hombres\",\"Hombres\",\"Hombres\",\"Hombres\",\"Hombres\",\"Hombres\",\"Mujeres\",\"Mujeres\",\"Mujeres\",\"Mujeres\",\"Mujeres\",\"Mujeres\",\"Mujeres\",\"Mujeres\",\"Mujeres\",\"Mujeres\",\"Mujeres\",\"Mujeres\",\"Mujeres\",\"Mujeres\",\"Mujeres\",\"Mujeres\",\"Mujeres\",\"Mujeres\",\"Mujeres\",\"Mujeres\",\"Mujeres\",\"Mujeres\",\"Mujeres\",\"Mujeres\",\"Mujeres\",\"Mujeres\",\"Mujeres\",\"Mujeres\",\"Mujeres\",\"Mujeres\",\"Mujeres\",\"Mujeres\",\"Mujeres\",\"Mujeres\",\"Mujeres\",\"Mujeres\",\"Mujeres\",\"Mujeres\",\"Mujeres\"],\"xaxis\":\"x\",\"y\":[2938,2911,2724,2718,2680,2676,2666,2662,2651,2650,2619,2574,2570,2554,2526,2512,2499,2468,2463,2451,2435,2430,2429,2410,2408,2283,2213,2150,2139,2135,2104,2032,2017,1836,1829,1593,1336,1268,1237,972,961,959,922,920,907,869,856,847,829,828,819,817,815,810,808,804,800,787,781,777,774,763,762,759,754,749,745,742,734,723,690,685,682,657,588,515,450,415],\"yaxis\":\"y\",\"type\":\"bar\"},{\"alignmentgroup\":\"True\",\"hovertemplate\":\"cause_code=048<br>Sexo=%{x}<br>Total=%{y}<extra></extra>\",\"legendgroup\":\"048\",\"marker\":{\"color\":\"#EF553B\",\"pattern\":{\"shape\":\"\"}},\"name\":\"048\",\"offsetgroup\":\"048\",\"orientation\":\"v\",\"showlegend\":true,\"textposition\":\"auto\",\"x\":[\"Hombres\",\"Hombres\",\"Hombres\",\"Hombres\",\"Hombres\",\"Hombres\",\"Hombres\",\"Hombres\",\"Hombres\",\"Hombres\",\"Hombres\",\"Hombres\",\"Hombres\",\"Hombres\",\"Hombres\",\"Hombres\",\"Hombres\",\"Hombres\",\"Hombres\",\"Hombres\",\"Hombres\",\"Hombres\",\"Hombres\",\"Hombres\",\"Hombres\",\"Hombres\",\"Hombres\",\"Hombres\",\"Hombres\",\"Hombres\",\"Hombres\",\"Hombres\",\"Hombres\",\"Mujeres\",\"Hombres\",\"Hombres\",\"Mujeres\",\"Mujeres\",\"Hombres\",\"Mujeres\",\"Mujeres\",\"Mujeres\",\"Mujeres\",\"Mujeres\",\"Mujeres\",\"Hombres\",\"Hombres\",\"Mujeres\",\"Mujeres\",\"Hombres\",\"Mujeres\",\"Mujeres\",\"Mujeres\",\"Mujeres\",\"Mujeres\",\"Mujeres\",\"Mujeres\",\"Mujeres\",\"Mujeres\",\"Mujeres\",\"Mujeres\",\"Mujeres\",\"Mujeres\",\"Mujeres\",\"Mujeres\",\"Mujeres\",\"Mujeres\",\"Mujeres\",\"Mujeres\",\"Mujeres\",\"Mujeres\",\"Mujeres\",\"Mujeres\",\"Mujeres\",\"Mujeres\",\"Mujeres\",\"Mujeres\",\"Mujeres\"],\"xaxis\":\"x\",\"y\":[162,141,110,104,78,75,72,71,71,69,65,63,57,56,55,52,52,48,43,43,40,39,38,37,33,31,31,30,26,25,24,23,22,22,21,20,20,19,18,17,17,17,16,16,15,15,13,13,12,12,12,11,10,10,9,9,8,7,7,7,6,6,6,6,6,5,5,5,5,4,4,3,2,2,2,2,2,2],\"yaxis\":\"y\",\"type\":\"bar\"}],                        {\"template\":{\"data\":{\"bar\":[{\"error_x\":{\"color\":\"#2a3f5f\"},\"error_y\":{\"color\":\"#2a3f5f\"},\"marker\":{\"line\":{\"color\":\"#E5ECF6\",\"width\":0.5},\"pattern\":{\"fillmode\":\"overlay\",\"size\":10,\"solidity\":0.2}},\"type\":\"bar\"}],\"barpolar\":[{\"marker\":{\"line\":{\"color\":\"#E5ECF6\",\"width\":0.5},\"pattern\":{\"fillmode\":\"overlay\",\"size\":10,\"solidity\":0.2}},\"type\":\"barpolar\"}],\"carpet\":[{\"aaxis\":{\"endlinecolor\":\"#2a3f5f\",\"gridcolor\":\"white\",\"linecolor\":\"white\",\"minorgridcolor\":\"white\",\"startlinecolor\":\"#2a3f5f\"},\"baxis\":{\"endlinecolor\":\"#2a3f5f\",\"gridcolor\":\"white\",\"linecolor\":\"white\",\"minorgridcolor\":\"white\",\"startlinecolor\":\"#2a3f5f\"},\"type\":\"carpet\"}],\"choropleth\":[{\"colorbar\":{\"outlinewidth\":0,\"ticks\":\"\"},\"type\":\"choropleth\"}],\"contour\":[{\"colorbar\":{\"outlinewidth\":0,\"ticks\":\"\"},\"colorscale\":[[0.0,\"#0d0887\"],[0.1111111111111111,\"#46039f\"],[0.2222222222222222,\"#7201a8\"],[0.3333333333333333,\"#9c179e\"],[0.4444444444444444,\"#bd3786\"],[0.5555555555555556,\"#d8576b\"],[0.6666666666666666,\"#ed7953\"],[0.7777777777777778,\"#fb9f3a\"],[0.8888888888888888,\"#fdca26\"],[1.0,\"#f0f921\"]],\"type\":\"contour\"}],\"contourcarpet\":[{\"colorbar\":{\"outlinewidth\":0,\"ticks\":\"\"},\"type\":\"contourcarpet\"}],\"heatmap\":[{\"colorbar\":{\"outlinewidth\":0,\"ticks\":\"\"},\"colorscale\":[[0.0,\"#0d0887\"],[0.1111111111111111,\"#46039f\"],[0.2222222222222222,\"#7201a8\"],[0.3333333333333333,\"#9c179e\"],[0.4444444444444444,\"#bd3786\"],[0.5555555555555556,\"#d8576b\"],[0.6666666666666666,\"#ed7953\"],[0.7777777777777778,\"#fb9f3a\"],[0.8888888888888888,\"#fdca26\"],[1.0,\"#f0f921\"]],\"type\":\"heatmap\"}],\"heatmapgl\":[{\"colorbar\":{\"outlinewidth\":0,\"ticks\":\"\"},\"colorscale\":[[0.0,\"#0d0887\"],[0.1111111111111111,\"#46039f\"],[0.2222222222222222,\"#7201a8\"],[0.3333333333333333,\"#9c179e\"],[0.4444444444444444,\"#bd3786\"],[0.5555555555555556,\"#d8576b\"],[0.6666666666666666,\"#ed7953\"],[0.7777777777777778,\"#fb9f3a\"],[0.8888888888888888,\"#fdca26\"],[1.0,\"#f0f921\"]],\"type\":\"heatmapgl\"}],\"histogram\":[{\"marker\":{\"pattern\":{\"fillmode\":\"overlay\",\"size\":10,\"solidity\":0.2}},\"type\":\"histogram\"}],\"histogram2d\":[{\"colorbar\":{\"outlinewidth\":0,\"ticks\":\"\"},\"colorscale\":[[0.0,\"#0d0887\"],[0.1111111111111111,\"#46039f\"],[0.2222222222222222,\"#7201a8\"],[0.3333333333333333,\"#9c179e\"],[0.4444444444444444,\"#bd3786\"],[0.5555555555555556,\"#d8576b\"],[0.6666666666666666,\"#ed7953\"],[0.7777777777777778,\"#fb9f3a\"],[0.8888888888888888,\"#fdca26\"],[1.0,\"#f0f921\"]],\"type\":\"histogram2d\"}],\"histogram2dcontour\":[{\"colorbar\":{\"outlinewidth\":0,\"ticks\":\"\"},\"colorscale\":[[0.0,\"#0d0887\"],[0.1111111111111111,\"#46039f\"],[0.2222222222222222,\"#7201a8\"],[0.3333333333333333,\"#9c179e\"],[0.4444444444444444,\"#bd3786\"],[0.5555555555555556,\"#d8576b\"],[0.6666666666666666,\"#ed7953\"],[0.7777777777777778,\"#fb9f3a\"],[0.8888888888888888,\"#fdca26\"],[1.0,\"#f0f921\"]],\"type\":\"histogram2dcontour\"}],\"mesh3d\":[{\"colorbar\":{\"outlinewidth\":0,\"ticks\":\"\"},\"type\":\"mesh3d\"}],\"parcoords\":[{\"line\":{\"colorbar\":{\"outlinewidth\":0,\"ticks\":\"\"}},\"type\":\"parcoords\"}],\"pie\":[{\"automargin\":true,\"type\":\"pie\"}],\"scatter\":[{\"marker\":{\"colorbar\":{\"outlinewidth\":0,\"ticks\":\"\"}},\"type\":\"scatter\"}],\"scatter3d\":[{\"line\":{\"colorbar\":{\"outlinewidth\":0,\"ticks\":\"\"}},\"marker\":{\"colorbar\":{\"outlinewidth\":0,\"ticks\":\"\"}},\"type\":\"scatter3d\"}],\"scattercarpet\":[{\"marker\":{\"colorbar\":{\"outlinewidth\":0,\"ticks\":\"\"}},\"type\":\"scattercarpet\"}],\"scattergeo\":[{\"marker\":{\"colorbar\":{\"outlinewidth\":0,\"ticks\":\"\"}},\"type\":\"scattergeo\"}],\"scattergl\":[{\"marker\":{\"colorbar\":{\"outlinewidth\":0,\"ticks\":\"\"}},\"type\":\"scattergl\"}],\"scattermapbox\":[{\"marker\":{\"colorbar\":{\"outlinewidth\":0,\"ticks\":\"\"}},\"type\":\"scattermapbox\"}],\"scatterpolar\":[{\"marker\":{\"colorbar\":{\"outlinewidth\":0,\"ticks\":\"\"}},\"type\":\"scatterpolar\"}],\"scatterpolargl\":[{\"marker\":{\"colorbar\":{\"outlinewidth\":0,\"ticks\":\"\"}},\"type\":\"scatterpolargl\"}],\"scatterternary\":[{\"marker\":{\"colorbar\":{\"outlinewidth\":0,\"ticks\":\"\"}},\"type\":\"scatterternary\"}],\"surface\":[{\"colorbar\":{\"outlinewidth\":0,\"ticks\":\"\"},\"colorscale\":[[0.0,\"#0d0887\"],[0.1111111111111111,\"#46039f\"],[0.2222222222222222,\"#7201a8\"],[0.3333333333333333,\"#9c179e\"],[0.4444444444444444,\"#bd3786\"],[0.5555555555555556,\"#d8576b\"],[0.6666666666666666,\"#ed7953\"],[0.7777777777777778,\"#fb9f3a\"],[0.8888888888888888,\"#fdca26\"],[1.0,\"#f0f921\"]],\"type\":\"surface\"}],\"table\":[{\"cells\":{\"fill\":{\"color\":\"#EBF0F8\"},\"line\":{\"color\":\"white\"}},\"header\":{\"fill\":{\"color\":\"#C8D4E3\"},\"line\":{\"color\":\"white\"}},\"type\":\"table\"}]},\"layout\":{\"annotationdefaults\":{\"arrowcolor\":\"#2a3f5f\",\"arrowhead\":0,\"arrowwidth\":1},\"autotypenumbers\":\"strict\",\"coloraxis\":{\"colorbar\":{\"outlinewidth\":0,\"ticks\":\"\"}},\"colorscale\":{\"diverging\":[[0,\"#8e0152\"],[0.1,\"#c51b7d\"],[0.2,\"#de77ae\"],[0.3,\"#f1b6da\"],[0.4,\"#fde0ef\"],[0.5,\"#f7f7f7\"],[0.6,\"#e6f5d0\"],[0.7,\"#b8e186\"],[0.8,\"#7fbc41\"],[0.9,\"#4d9221\"],[1,\"#276419\"]],\"sequential\":[[0.0,\"#0d0887\"],[0.1111111111111111,\"#46039f\"],[0.2222222222222222,\"#7201a8\"],[0.3333333333333333,\"#9c179e\"],[0.4444444444444444,\"#bd3786\"],[0.5555555555555556,\"#d8576b\"],[0.6666666666666666,\"#ed7953\"],[0.7777777777777778,\"#fb9f3a\"],[0.8888888888888888,\"#fdca26\"],[1.0,\"#f0f921\"]],\"sequentialminus\":[[0.0,\"#0d0887\"],[0.1111111111111111,\"#46039f\"],[0.2222222222222222,\"#7201a8\"],[0.3333333333333333,\"#9c179e\"],[0.4444444444444444,\"#bd3786\"],[0.5555555555555556,\"#d8576b\"],[0.6666666666666666,\"#ed7953\"],[0.7777777777777778,\"#fb9f3a\"],[0.8888888888888888,\"#fdca26\"],[1.0,\"#f0f921\"]]},\"colorway\":[\"#636efa\",\"#EF553B\",\"#00cc96\",\"#ab63fa\",\"#FFA15A\",\"#19d3f3\",\"#FF6692\",\"#B6E880\",\"#FF97FF\",\"#FECB52\"],\"font\":{\"color\":\"#2a3f5f\"},\"geo\":{\"bgcolor\":\"white\",\"lakecolor\":\"white\",\"landcolor\":\"#E5ECF6\",\"showlakes\":true,\"showland\":true,\"subunitcolor\":\"white\"},\"hoverlabel\":{\"align\":\"left\"},\"hovermode\":\"closest\",\"mapbox\":{\"style\":\"light\"},\"paper_bgcolor\":\"white\",\"plot_bgcolor\":\"#E5ECF6\",\"polar\":{\"angularaxis\":{\"gridcolor\":\"white\",\"linecolor\":\"white\",\"ticks\":\"\"},\"bgcolor\":\"#E5ECF6\",\"radialaxis\":{\"gridcolor\":\"white\",\"linecolor\":\"white\",\"ticks\":\"\"}},\"scene\":{\"xaxis\":{\"backgroundcolor\":\"#E5ECF6\",\"gridcolor\":\"white\",\"gridwidth\":2,\"linecolor\":\"white\",\"showbackground\":true,\"ticks\":\"\",\"zerolinecolor\":\"white\"},\"yaxis\":{\"backgroundcolor\":\"#E5ECF6\",\"gridcolor\":\"white\",\"gridwidth\":2,\"linecolor\":\"white\",\"showbackground\":true,\"ticks\":\"\",\"zerolinecolor\":\"white\"},\"zaxis\":{\"backgroundcolor\":\"#E5ECF6\",\"gridcolor\":\"white\",\"gridwidth\":2,\"linecolor\":\"white\",\"showbackground\":true,\"ticks\":\"\",\"zerolinecolor\":\"white\"}},\"shapedefaults\":{\"line\":{\"color\":\"#2a3f5f\"}},\"ternary\":{\"aaxis\":{\"gridcolor\":\"white\",\"linecolor\":\"white\",\"ticks\":\"\"},\"baxis\":{\"gridcolor\":\"white\",\"linecolor\":\"white\",\"ticks\":\"\"},\"bgcolor\":\"#E5ECF6\",\"caxis\":{\"gridcolor\":\"white\",\"linecolor\":\"white\",\"ticks\":\"\"}},\"title\":{\"x\":0.05},\"xaxis\":{\"automargin\":true,\"gridcolor\":\"white\",\"linecolor\":\"white\",\"ticks\":\"\",\"title\":{\"standoff\":15},\"zerolinecolor\":\"white\",\"zerolinewidth\":2},\"yaxis\":{\"automargin\":true,\"gridcolor\":\"white\",\"linecolor\":\"white\",\"ticks\":\"\",\"title\":{\"standoff\":15},\"zerolinecolor\":\"white\",\"zerolinewidth\":2}}},\"xaxis\":{\"anchor\":\"y\",\"domain\":[0.0,1.0],\"title\":{\"text\":\"Sexo\"},\"categoryorder\":\"array\",\"categoryarray\":[\"Hombres\",\"Mujeres\"]},\"yaxis\":{\"anchor\":\"x\",\"domain\":[0.0,1.0],\"title\":{\"text\":\"Total\"}},\"legend\":{\"title\":{\"text\":\"cause_code\"},\"tracegroupgap\":0},\"margin\":{\"t\":60},\"barmode\":\"group\"},                        {\"responsive\": true}                    ).then(function(){\n",
       "                            \n",
       "var gd = document.getElementById('e2f7317f-2ffe-4189-8841-cfaa4963b6a4');\n",
       "var x = new MutationObserver(function (mutations, observer) {{\n",
       "        var display = window.getComputedStyle(gd).display;\n",
       "        if (!display || display === 'none') {{\n",
       "            console.log([gd, 'removed!']);\n",
       "            Plotly.purge(gd);\n",
       "            observer.disconnect();\n",
       "        }}\n",
       "}});\n",
       "\n",
       "// Listen for the removal of the full notebook cells\n",
       "var notebookContainer = gd.closest('#notebook-container');\n",
       "if (notebookContainer) {{\n",
       "    x.observe(notebookContainer, {childList: true});\n",
       "}}\n",
       "\n",
       "// Listen for the clearing of the current output cell\n",
       "var outputEl = gd.closest('.output');\n",
       "if (outputEl) {{\n",
       "    x.observe(outputEl, {childList: true});\n",
       "}}\n",
       "\n",
       "                        })                };                });            </script>        </div>"
      ]
     },
     "metadata": {}
    }
   ],
   "metadata": {}
  },
  {
   "cell_type": "code",
   "execution_count": null,
   "source": [],
   "outputs": [],
   "metadata": {}
  }
 ],
 "metadata": {
  "kernelspec": {
   "name": "python3",
   "display_name": "Python 3.7.12 64-bit ('ironhack': conda)"
  },
  "language_info": {
   "codemirror_mode": {
    "name": "ipython",
    "version": 3
   },
   "file_extension": ".py",
   "mimetype": "text/x-python",
   "name": "python",
   "nbconvert_exporter": "python",
   "pygments_lexer": "ipython3",
   "version": "3.7.12"
  },
  "interpreter": {
   "hash": "191fdcd26a5ca84f58a127ef5d594d6ffcc31ee3b3ca4138998a92c0047be3f6"
  }
 },
 "nbformat": 4,
 "nbformat_minor": 2
}