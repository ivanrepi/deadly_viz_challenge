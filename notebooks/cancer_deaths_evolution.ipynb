{
 "cells": [
  {
   "cell_type": "markdown",
   "source": [
    "# Deadly Visualizations!!!\n",
    "\n",
    "![Image](../images/viz_types_portada.png)"
   ],
   "metadata": {}
  },
  {
   "cell_type": "markdown",
   "source": [
    "## Setup\n",
    "\n",
    "First we need to create a basic setup which includes:\n",
    "\n",
    "- Importing the libraries.\n",
    "\n",
    "- Reading the dataset file (source [Instituto Nacional de Estadística](https://www.ine.es/ss/Satellite?L=es_ES&c=Page&cid=1259942408928&p=1259942408928&pagename=ProductosYServicios%2FPYSLayout)).\n",
    "\n",
    "- Create a couple of columns and tables for the analysis.\n",
    "\n",
    "__NOTE:__ some functions were already created in order to help you go through the challenge. However, feel free to perform any code you might need."
   ],
   "metadata": {}
  },
  {
   "cell_type": "code",
   "execution_count": 2,
   "source": [
    "# some imports\n",
    "\n",
    "import sys\n",
    "sys.path.insert(0, \"../modules\")\n",
    "import pandas as pd\n",
    "import cufflinks as cf\n",
    "import plotly.express as px\n",
    "import re\n",
    "import module as mod # functions are include in module.py.\n",
    "cf.go_offline()"
   ],
   "outputs": [
    {
     "output_type": "display_data",
     "data": {
      "text/html": [
       "        <script type=\"text/javascript\">\n",
       "        window.PlotlyConfig = {MathJaxConfig: 'local'};\n",
       "        if (window.MathJax) {MathJax.Hub.Config({SVG: {font: \"STIX-Web\"}});}\n",
       "        if (typeof require !== 'undefined') {\n",
       "        require.undef(\"plotly\");\n",
       "        requirejs.config({\n",
       "            paths: {\n",
       "                'plotly': ['https://cdn.plot.ly/plotly-2.8.3.min']\n",
       "            }\n",
       "        });\n",
       "        require(['plotly'], function(Plotly) {\n",
       "            window._Plotly = Plotly;\n",
       "        });\n",
       "        }\n",
       "        </script>\n",
       "        "
      ]
     },
     "metadata": {}
    }
   ],
   "metadata": {}
  },
  {
   "cell_type": "code",
   "execution_count": 76,
   "source": [
    "# read dataset\n",
    "\n",
    "deaths = pd.read_csv('../data/7947.csv', sep=';', thousands='.')\n",
    "\n",
    "deaths.head()"
   ],
   "outputs": [
    {
     "output_type": "execute_result",
     "data": {
      "text/html": [
       "<div>\n",
       "<style scoped>\n",
       "    .dataframe tbody tr th:only-of-type {\n",
       "        vertical-align: middle;\n",
       "    }\n",
       "\n",
       "    .dataframe tbody tr th {\n",
       "        vertical-align: top;\n",
       "    }\n",
       "\n",
       "    .dataframe thead th {\n",
       "        text-align: right;\n",
       "    }\n",
       "</style>\n",
       "<table border=\"1\" class=\"dataframe\">\n",
       "  <thead>\n",
       "    <tr style=\"text-align: right;\">\n",
       "      <th></th>\n",
       "      <th>Causa de muerte</th>\n",
       "      <th>Sexo</th>\n",
       "      <th>Edad</th>\n",
       "      <th>Periodo</th>\n",
       "      <th>Total</th>\n",
       "    </tr>\n",
       "  </thead>\n",
       "  <tbody>\n",
       "    <tr>\n",
       "      <th>0</th>\n",
       "      <td>001-102  I-XXII.Todas las causas</td>\n",
       "      <td>Total</td>\n",
       "      <td>Todas las edades</td>\n",
       "      <td>2018</td>\n",
       "      <td>427721</td>\n",
       "    </tr>\n",
       "    <tr>\n",
       "      <th>1</th>\n",
       "      <td>001-102  I-XXII.Todas las causas</td>\n",
       "      <td>Total</td>\n",
       "      <td>Todas las edades</td>\n",
       "      <td>2017</td>\n",
       "      <td>424523</td>\n",
       "    </tr>\n",
       "    <tr>\n",
       "      <th>2</th>\n",
       "      <td>001-102  I-XXII.Todas las causas</td>\n",
       "      <td>Total</td>\n",
       "      <td>Todas las edades</td>\n",
       "      <td>2016</td>\n",
       "      <td>410611</td>\n",
       "    </tr>\n",
       "    <tr>\n",
       "      <th>3</th>\n",
       "      <td>001-102  I-XXII.Todas las causas</td>\n",
       "      <td>Total</td>\n",
       "      <td>Todas las edades</td>\n",
       "      <td>2015</td>\n",
       "      <td>422568</td>\n",
       "    </tr>\n",
       "    <tr>\n",
       "      <th>4</th>\n",
       "      <td>001-102  I-XXII.Todas las causas</td>\n",
       "      <td>Total</td>\n",
       "      <td>Todas las edades</td>\n",
       "      <td>2014</td>\n",
       "      <td>395830</td>\n",
       "    </tr>\n",
       "  </tbody>\n",
       "</table>\n",
       "</div>"
      ],
      "text/plain": [
       "                    Causa de muerte   Sexo              Edad  Periodo   Total\n",
       "0  001-102  I-XXII.Todas las causas  Total  Todas las edades     2018  427721\n",
       "1  001-102  I-XXII.Todas las causas  Total  Todas las edades     2017  424523\n",
       "2  001-102  I-XXII.Todas las causas  Total  Todas las edades     2016  410611\n",
       "3  001-102  I-XXII.Todas las causas  Total  Todas las edades     2015  422568\n",
       "4  001-102  I-XXII.Todas las causas  Total  Todas las edades     2014  395830"
      ]
     },
     "metadata": {},
     "execution_count": 76
    }
   ],
   "metadata": {}
  },
  {
   "cell_type": "code",
   "execution_count": 77,
   "source": [
    "# add some columns...you'll need them later\n",
    "\n",
    "deaths['cause_code'] = deaths['Causa de muerte'].apply(mod.cause_code)\n",
    "deaths['cause_group'] = deaths['Causa de muerte'].apply(mod.cause_types)\n",
    "deaths['cause_name'] = deaths['Causa de muerte'].apply(mod.cause_name)\n",
    "\n",
    "deaths.head()"
   ],
   "outputs": [
    {
     "output_type": "execute_result",
     "data": {
      "text/html": [
       "<div>\n",
       "<style scoped>\n",
       "    .dataframe tbody tr th:only-of-type {\n",
       "        vertical-align: middle;\n",
       "    }\n",
       "\n",
       "    .dataframe tbody tr th {\n",
       "        vertical-align: top;\n",
       "    }\n",
       "\n",
       "    .dataframe thead th {\n",
       "        text-align: right;\n",
       "    }\n",
       "</style>\n",
       "<table border=\"1\" class=\"dataframe\">\n",
       "  <thead>\n",
       "    <tr style=\"text-align: right;\">\n",
       "      <th></th>\n",
       "      <th>Causa de muerte</th>\n",
       "      <th>Sexo</th>\n",
       "      <th>Edad</th>\n",
       "      <th>Periodo</th>\n",
       "      <th>Total</th>\n",
       "      <th>cause_code</th>\n",
       "      <th>cause_group</th>\n",
       "      <th>cause_name</th>\n",
       "    </tr>\n",
       "  </thead>\n",
       "  <tbody>\n",
       "    <tr>\n",
       "      <th>0</th>\n",
       "      <td>001-102  I-XXII.Todas las causas</td>\n",
       "      <td>Total</td>\n",
       "      <td>Todas las edades</td>\n",
       "      <td>2018</td>\n",
       "      <td>427721</td>\n",
       "      <td>001-102</td>\n",
       "      <td>Multiple causes</td>\n",
       "      <td>I-XXII.Todas las causas</td>\n",
       "    </tr>\n",
       "    <tr>\n",
       "      <th>1</th>\n",
       "      <td>001-102  I-XXII.Todas las causas</td>\n",
       "      <td>Total</td>\n",
       "      <td>Todas las edades</td>\n",
       "      <td>2017</td>\n",
       "      <td>424523</td>\n",
       "      <td>001-102</td>\n",
       "      <td>Multiple causes</td>\n",
       "      <td>I-XXII.Todas las causas</td>\n",
       "    </tr>\n",
       "    <tr>\n",
       "      <th>2</th>\n",
       "      <td>001-102  I-XXII.Todas las causas</td>\n",
       "      <td>Total</td>\n",
       "      <td>Todas las edades</td>\n",
       "      <td>2016</td>\n",
       "      <td>410611</td>\n",
       "      <td>001-102</td>\n",
       "      <td>Multiple causes</td>\n",
       "      <td>I-XXII.Todas las causas</td>\n",
       "    </tr>\n",
       "    <tr>\n",
       "      <th>3</th>\n",
       "      <td>001-102  I-XXII.Todas las causas</td>\n",
       "      <td>Total</td>\n",
       "      <td>Todas las edades</td>\n",
       "      <td>2015</td>\n",
       "      <td>422568</td>\n",
       "      <td>001-102</td>\n",
       "      <td>Multiple causes</td>\n",
       "      <td>I-XXII.Todas las causas</td>\n",
       "    </tr>\n",
       "    <tr>\n",
       "      <th>4</th>\n",
       "      <td>001-102  I-XXII.Todas las causas</td>\n",
       "      <td>Total</td>\n",
       "      <td>Todas las edades</td>\n",
       "      <td>2014</td>\n",
       "      <td>395830</td>\n",
       "      <td>001-102</td>\n",
       "      <td>Multiple causes</td>\n",
       "      <td>I-XXII.Todas las causas</td>\n",
       "    </tr>\n",
       "  </tbody>\n",
       "</table>\n",
       "</div>"
      ],
      "text/plain": [
       "                    Causa de muerte   Sexo              Edad  Periodo   Total  \\\n",
       "0  001-102  I-XXII.Todas las causas  Total  Todas las edades     2018  427721   \n",
       "1  001-102  I-XXII.Todas las causas  Total  Todas las edades     2017  424523   \n",
       "2  001-102  I-XXII.Todas las causas  Total  Todas las edades     2016  410611   \n",
       "3  001-102  I-XXII.Todas las causas  Total  Todas las edades     2015  422568   \n",
       "4  001-102  I-XXII.Todas las causas  Total  Todas las edades     2014  395830   \n",
       "\n",
       "  cause_code      cause_group               cause_name  \n",
       "0    001-102  Multiple causes  I-XXII.Todas las causas  \n",
       "1    001-102  Multiple causes  I-XXII.Todas las causas  \n",
       "2    001-102  Multiple causes  I-XXII.Todas las causas  \n",
       "3    001-102  Multiple causes  I-XXII.Todas las causas  \n",
       "4    001-102  Multiple causes  I-XXII.Todas las causas  "
      ]
     },
     "metadata": {},
     "execution_count": 77
    }
   ],
   "metadata": {}
  },
  {
   "cell_type": "code",
   "execution_count": 94,
   "source": [
    "# lets check the categorical variables\n",
    "\n",
    "var_list = ['Sexo', 'Edad', 'Periodo', 'cause_code', 'cause_name', 'cause_group']\n",
    "categories = mod.cat_var(deaths, var_list)\n"
   ],
   "outputs": [],
   "metadata": {}
  },
  {
   "cell_type": "code",
   "execution_count": 95,
   "source": [
    "# we need also to create a causes table for the analysis\n",
    "\n",
    "causes_table = deaths[['cause_code', 'cause_name']].drop_duplicates().sort_values(by='cause_code').reset_index(drop=True)"
   ],
   "outputs": [],
   "metadata": {}
  },
  {
   "cell_type": "code",
   "execution_count": 32,
   "source": [
    "#To know the evolution of the cancers, we need causes from 09 to 41:\n",
    "\n",
    "causes_table = causes_table[causes_table[\"cause_code\"].str.contains(\"-\") == False]\n",
    "causes_table = causes_table.astype({\"cause_code\": int})\n",
    "cancer_type = causes_table[causes_table[\"cause_code\"].between(9,41,inclusive=True)]\n",
    "cancers=cancer_type['cause_name']\n"
   ],
   "outputs": [],
   "metadata": {}
  },
  {
   "cell_type": "code",
   "execution_count": 92,
   "source": [
    "#Get table of deaths filtered only by cancers\n",
    "\n",
    "df_cancer = mod.row_filter(deaths, 'Sexo', ['Hombres','Mujeres']) #Nos qudamos con hombres y mujeres, quitando el total\n",
    "df_cancer= mod.row_filter(dataset_sexo, 'Edad', ['Todas las edades']) #Nos quedamos con todas las edades.\n",
    "df_cancer = mod.row_filter(dataset_sexo, 'cause_name', cancers) \n"
   ],
   "outputs": [],
   "metadata": {}
  },
  {
   "cell_type": "code",
   "execution_count": 43,
   "source": [
    "# We only want to get the moost deadly cancer\n",
    "dataset_sexo_sorted=dataset_sexo.sort_values('Total').groupby(['Periodo','Sexo']).tail(1) #Nos quedamos con la linea con el total mas grande (la última)\n",
    "dataset_sexo_periodo=dataset_sexo_sorted.sort_values('Periodo', ascending=True) #Ordenamos la tabla por período\n",
    "dataset_sexo_periodo.to_csv('../data/cancer_deaths_evolution.csv', index=False)"
   ],
   "outputs": [],
   "metadata": {}
  },
  {
   "cell_type": "code",
   "execution_count": 88,
   "source": [
    "total_deaths_period = mod.row_filter(deaths, 'Sexo', ['Hombres','Mujeres'])\n",
    "total_deaths_period= mod.row_filter(total_deaths_period, 'Edad', ['Todas las edades'])\n",
    "total_deaths_period = total_deaths_period[total_deaths_period[\"cause_code\"].str.contains(\"-\") == False]\n",
    "total_deaths_period=total_deaths_period.groupby(['Periodo','Sexo']).sum()\n",
    "total_deaths_period.to_csv('../data/total_deaths_period.csv')"
   ],
   "outputs": [],
   "metadata": {}
  },
  {
   "cell_type": "markdown",
   "source": [
    "Result graphic in Tableau:\n",
    "\n",
    "Take into account we only have showing the more deadly cancer\n",
    "\n",
    "https://public.tableau.com/app/profile/ivan.repilado/viz/cancer_deaths_evolution/cancer_deaths_evolution?publish=yes\n",
    "\n"
   ],
   "metadata": {}
  }
 ],
 "metadata": {
  "kernelspec": {
   "name": "python3",
   "display_name": "Python 3.7.12 64-bit ('ironhack': conda)"
  },
  "language_info": {
   "codemirror_mode": {
    "name": "ipython",
    "version": 3
   },
   "file_extension": ".py",
   "mimetype": "text/x-python",
   "name": "python",
   "nbconvert_exporter": "python",
   "pygments_lexer": "ipython3",
   "version": "3.7.12"
  },
  "interpreter": {
   "hash": "191fdcd26a5ca84f58a127ef5d594d6ffcc31ee3b3ca4138998a92c0047be3f6"
  }
 },
 "nbformat": 4,
 "nbformat_minor": 2
}